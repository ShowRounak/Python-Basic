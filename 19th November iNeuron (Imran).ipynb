{
 "cells": [
  {
   "cell_type": "raw",
   "id": "60b6f0c4-87d7-464a-a919-fafe79fbb6eb",
   "metadata": {},
   "source": [
    "1. Print the first 5 positive integers in ascending order with one number \n",
    "in each line"
   ]
  },
  {
   "cell_type": "code",
   "execution_count": 1,
   "id": "862ee906",
   "metadata": {},
   "outputs": [
    {
     "name": "stdout",
     "output_type": "stream",
     "text": [
      "1\n",
      "2\n",
      "3\n",
      "4\n",
      "5\n"
     ]
    }
   ],
   "source": [
    "for i in range(1,6):\n",
    "    print(i)"
   ]
  },
  {
   "cell_type": "raw",
   "id": "a723c70f-2393-4dcc-b34c-2e045588207b",
   "metadata": {},
   "source": [
    "2. Print the following pattern\n",
    "*\n",
    "**\n",
    "***\n",
    "****\n",
    "*****\n",
    "There are no spaces between consecutive stars. There are no spaces \n",
    "at the end of each line."
   ]
  },
  {
   "cell_type": "code",
   "execution_count": 4,
   "id": "ca8d80c5",
   "metadata": {},
   "outputs": [
    {
     "name": "stdout",
     "output_type": "stream",
     "text": [
      "*\n",
      "**\n",
      "***\n",
      "****\n",
      "*****\n"
     ]
    }
   ],
   "source": [
    "for i in range(1,6):\n",
    "    print(\"*\"*i)"
   ]
  },
  {
   "cell_type": "raw",
   "id": "d9263791-a394-44ee-8ba9-4fb01759b6ac",
   "metadata": {},
   "source": [
    "3. Accept an integer as input and print its square as output."
   ]
  },
  {
   "cell_type": "code",
   "execution_count": 2,
   "id": "b1f8d166",
   "metadata": {},
   "outputs": [
    {
     "name": "stdout",
     "output_type": "stream",
     "text": [
      "5\n",
      "25\n"
     ]
    }
   ],
   "source": [
    "a = int(input())\n",
    "print(a**2)"
   ]
  },
  {
   "cell_type": "raw",
   "id": "49ca4411-ab36-4e57-8d62-3628156bc49b",
   "metadata": {},
   "source": [
    "4.Accept two integers as input and print their sum as output."
   ]
  },
  {
   "cell_type": "code",
   "execution_count": 3,
   "id": "a5ac64b1",
   "metadata": {},
   "outputs": [
    {
     "name": "stdout",
     "output_type": "stream",
     "text": [
      "10\n",
      "15\n",
      "25\n"
     ]
    }
   ],
   "source": [
    "n1 = int(input())\n",
    "n2 = int(input())\n",
    "print(n1+n2)"
   ]
  },
  {
   "cell_type": "raw",
   "id": "f303afc2-f3af-4d9d-a4d8-7c2da8f24e3c",
   "metadata": {},
   "source": [
    "5. Accept two words as input and print the two words after adding a \n",
    "space between them"
   ]
  },
  {
   "cell_type": "code",
   "execution_count": 5,
   "id": "b973b69c",
   "metadata": {},
   "outputs": [
    {
     "name": "stdout",
     "output_type": "stream",
     "text": [
      "hello\n",
      "world\n",
      "hello world\n"
     ]
    }
   ],
   "source": [
    "s1 = input()\n",
    "s2 = input()\n",
    "print(s1 + \" \"+ s2)"
   ]
  },
  {
   "cell_type": "code",
   "execution_count": 6,
   "id": "d1a1b17d",
   "metadata": {},
   "outputs": [
    {
     "name": "stdout",
     "output_type": "stream",
     "text": [
      "Rounak\n",
      "Show\n",
      "Rounak Show\n"
     ]
    }
   ],
   "source": [
    "print(input(), input())"
   ]
  },
  {
   "cell_type": "raw",
   "id": "1fdd53ab-a380-4caa-bdec-2876024a044d",
   "metadata": {},
   "source": [
    "6. Accept the registration number of a vehicle as input and print its \n",
    "state-code as output."
   ]
  },
  {
   "cell_type": "code",
   "execution_count": 8,
   "id": "a6db6156",
   "metadata": {},
   "outputs": [
    {
     "name": "stdout",
     "output_type": "stream",
     "text": [
      "WB45642135\n",
      "WB\n"
     ]
    }
   ],
   "source": [
    "vehicle_number = input()\n",
    "print(vehicle_number[0:2])"
   ]
  },
  {
   "cell_type": "raw",
   "id": "e476d0d4-2d90-4764-b4ce-91d6d67729c2",
   "metadata": {},
   "source": [
    "7.Accept a five-digit number as input and print the sum of its digits as \n",
    "output."
   ]
  },
  {
   "cell_type": "code",
   "execution_count": 14,
   "id": "cefd6447",
   "metadata": {},
   "outputs": [
    {
     "name": "stdout",
     "output_type": "stream",
     "text": [
      "12345\n",
      "15\n"
     ]
    }
   ],
   "source": [
    "n = input()\n",
    "d1 = int(n[0])\n",
    "d2 = int(n[1])\n",
    "d3 = int(n[2])\n",
    "d4 = int(n[3])\n",
    "d5 = int(n[4])\n",
    "\n",
    "dsum = d1+d2+d3+d4+d5\n",
    "print(dsum)"
   ]
  },
  {
   "cell_type": "raw",
   "id": "47ef2a83-4d51-4340-8770-9490474f43a9",
   "metadata": {},
   "source": [
    "8.Accept five words as input and print the sentence formed by these \n",
    "words after adding a space between consecutive words and a full stop \n",
    "at the end."
   ]
  },
  {
   "cell_type": "code",
   "execution_count": 16,
   "id": "a4e5c0c7",
   "metadata": {},
   "outputs": [
    {
     "name": "stdout",
     "output_type": "stream",
     "text": [
      "hello \n",
      "world\n",
      "this\n",
      "is\n",
      "sun\n",
      "hello  world this is sun. \n"
     ]
    }
   ],
   "source": [
    "s1 = input()\n",
    "s2 = input()\n",
    "s3 = input()\n",
    "s4 = input()\n",
    "s5 = input()\n",
    "print(f\"{s1} {s2} {s3} {s4} {s5}.\")"
   ]
  },
  {
   "cell_type": "raw",
   "id": "7b0fb9d7-98dc-4ab9-9548-c12f49f787a0",
   "metadata": {},
   "source": [
    "9.Accept the date in DD-MM-YYYY format as input and print the \n",
    "year as output."
   ]
  },
  {
   "cell_type": "code",
   "execution_count": 17,
   "id": "1fac498c",
   "metadata": {},
   "outputs": [
    {
     "name": "stdout",
     "output_type": "stream",
     "text": [
      "date in DD-MM-YYYY format: 19-11-2022\n",
      "2022\n"
     ]
    }
   ],
   "source": [
    "DATE = input(\"date in DD-MM-YYYY format: \")\n",
    "print(DATE[-4:])"
   ]
  },
  {
   "cell_type": "raw",
   "id": "521abc20-5c4a-4fda-a3d7-45c626ad4d1c",
   "metadata": {},
   "source": [
    "10.Accept a sequence of five single digit numbers separated by commas \n",
    "as input. Print the product of all five numbers."
   ]
  },
  {
   "cell_type": "code",
   "execution_count": 22,
   "id": "ffdb3da5",
   "metadata": {},
   "outputs": [
    {
     "name": "stdout",
     "output_type": "stream",
     "text": [
      "12345\n",
      "['1', '2', '3', '4', '5']\n",
      "120\n"
     ]
    }
   ],
   "source": [
    "seq = list(input())\n",
    "print(seq)\n",
    "tot = 1\n",
    "for i in seq:\n",
    "    tot = tot * int(i)\n",
    "print(tot)\n"
   ]
  },
  {
   "cell_type": "raw",
   "id": "482e853e-2564-4eaf-a46b-0f31d3369f58",
   "metadata": {},
   "source": [
    "11. Accept two positive integers x and y as input. Print the number of \n",
    "digits in xy"
   ]
  },
  {
   "cell_type": "code",
   "execution_count": 26,
   "id": "8ef5f4b8",
   "metadata": {},
   "outputs": [
    {
     "name": "stdout",
     "output_type": "stream",
     "text": [
      "5\n",
      "7\n",
      "78125\n",
      "5\n"
     ]
    }
   ],
   "source": [
    "x = int(input())\n",
    "y = int(input())\n",
    "print(x**y)\n",
    "print(len(str(x**y)))"
   ]
  },
  {
   "cell_type": "raw",
   "id": "af890b67-6c1f-412c-bbbe-8fc1358e0a91",
   "metadata": {},
   "source": [
    "12. Accept a string as input. If the input string is of odd length, then \n",
    "continue with it. If the input string is of even length, make the \n",
    "string of odd length as below:\n",
    "• If the last character is a period (.), then remove it \n",
    "• If the last character is not a period, then add a period (.) to the \n",
    "end of the string\n",
    "Call this string of odd length word. Select a substring made up of \n",
    "three consecutive characters from word such that there are an \n",
    "equal number of characters to the left and right of this substring. \n",
    "Print this substring as output. You can assume that all input \n",
    "strings will be in lower case and will have a length of at least four"
   ]
  },
  {
   "cell_type": "code",
   "execution_count": 36,
   "id": "f1dd8c48",
   "metadata": {},
   "outputs": [
    {
     "name": "stdout",
     "output_type": "stream",
     "text": [
      "welcome\n",
      "lco\n"
     ]
    }
   ],
   "source": [
    "s = input()\n",
    "length = len(s)\n",
    "if length%2 ==0:\n",
    "    if s[-1] == \".\":\n",
    "        s = s[:-1]\n",
    "    else:\n",
    "        s = s+\".\"\n",
    "n = int((len(s)-1)/2)\n",
    "print(s[n-1:n+2])\n"
   ]
  },
  {
   "cell_type": "code",
   "execution_count": 37,
   "id": "e42b93f1",
   "metadata": {},
   "outputs": [
    {
     "name": "stdout",
     "output_type": "stream",
     "text": [
      "hello.\n",
      "ell\n"
     ]
    }
   ],
   "source": [
    "s = input()\n",
    "length = len(s)\n",
    "if length%2 ==0:\n",
    "    if s[-1] == \".\":\n",
    "        s = s[:-1]\n",
    "    else:\n",
    "        s = s+\".\"\n",
    "n = int((len(s)-1)/2)\n",
    "print(s[n-1:n+2])"
   ]
  },
  {
   "cell_type": "raw",
   "id": "7188ddf7-aeae-43c7-add9-8a31e08a2bc9",
   "metadata": {},
   "source": [
    "13. Accept three positive integers as input and check if they form the \n",
    "sides of a right triangle. Print YES if they form one, and NO is they do \n",
    "not. The input will have three lines, with one integer on each line. \n",
    "The output should be a single line containing one of these two \n",
    "strings: YES or NO."
   ]
  },
  {
   "cell_type": "code",
   "execution_count": 41,
   "id": "313fa732",
   "metadata": {},
   "outputs": [
    {
     "name": "stdout",
     "output_type": "stream",
     "text": [
      "3\n",
      "4\n",
      "5\n",
      "YES\n"
     ]
    }
   ],
   "source": [
    "a = int(input())\n",
    "b = int(input())\n",
    "c = int(input())\n",
    "\n",
    "if (a**2 + b**2 == c**2) or (b**2 + c**2 == a**2) or (b**2 + a**2 == c**2):\n",
    "    print(\"YES\")\n",
    "else:\n",
    "    print(\"NO\")"
   ]
  },
  {
   "cell_type": "raw",
   "id": "5e16b40c-a122-4dbc-a681-bca1fe32a1dc",
   "metadata": {},
   "source": [
    "14. EvenOdd is a tech startup. Each employee at the startup is given an employee id which is a unique \n",
    "positive integer. On one warm Sunday evening, five employees of the company come together for a \n",
    "meeting and sit at a circular table:\n",
    "The employees follow a strange convention. They will continue the meeting only if the following \n",
    "condition is satisfied.\n",
    "The sum of the employee-ids of every pair of adjacent employees at the table must be an even \n",
    "number.\n",
    "They are so lazy that they won’t move around to satisfy the above condition, If the current seating \n",
    "plan doesn’t satisfy the condition, the meeting will be cancelled. You are given the employee-id of all \n",
    "five employees. Your task is to decide if the meeting happened or not.\n",
    "The input will be five lined, each containing an integer. The ith line will have the employee-id of Ei. \n",
    "The output will be a single line containing one of these two strings: YES or NO"
   ]
  },
  {
   "cell_type": "code",
   "execution_count": 51,
   "id": "a38ff5e4",
   "metadata": {},
   "outputs": [
    {
     "name": "stdout",
     "output_type": "stream",
     "text": [
      "2\n",
      "4\n",
      "6\n",
      "8\n",
      "10\n",
      "YES\n"
     ]
    }
   ],
   "source": [
    "e1 = int(input())\n",
    "e2 = int(input())\n",
    "e3 = int(input())\n",
    "e4 = int(input())\n",
    "e5 = int(input())\n",
    "\n",
    "if (e1+e2)%2 == 0 and (e2+e3)%2 == 0 and (e3+e4)%2 == 0 and (e4+e5)%2 == 0:\n",
    "    print(\"YES\")\n",
    "else:\n",
    "    print(\"No\")"
   ]
  },
  {
   "cell_type": "raw",
   "id": "1d651eb9-add5-4f2b-9a92-57303f327be3",
   "metadata": {},
   "source": [
    "15. Accept a string as input and print the vowels present in the string in \n",
    "alphabetical order. If the string doesn’t contain any vowels, then \n",
    "print the string none as output. Each vowel that appears in the input \n",
    "string – irrespective of its case should appear just once in lower case \n",
    "in the output"
   ]
  },
  {
   "cell_type": "code",
   "execution_count": 60,
   "id": "693d8616",
   "metadata": {},
   "outputs": [
    {
     "name": "stdout",
     "output_type": "stream",
     "text": [
      "xcvbnm\n",
      "none\n"
     ]
    }
   ],
   "source": [
    "s = input().lower()\n",
    "vowels = [\"a\", \"e\", \"i\", \"o\", \"u\"]\n",
    "X = []\n",
    "for vowel in vowels:\n",
    "    if vowel in s:\n",
    "        X.append(vowel)\n",
    "if len(X) == 0:\n",
    "    print(\"none\")\n",
    "else:\n",
    "    print(set(X))"
   ]
  },
  {
   "cell_type": "raw",
   "id": "f7e76b4b-b3f7-4766-a82b-5e63a879b380",
   "metadata": {},
   "source": [
    "16.You are given the date of birth of two persons, not necessarily from \n",
    "the same family. Your task is to find the younger of the two. If both \n",
    "of them share the same date of birth, then the younger of the two is \n",
    "assumed to be that person whose name comes first in alphabetical \n",
    "order.\n",
    "The input will have four lines. The first two lines correspond to the \n",
    "first person, while the last two lines correspond to the second \n",
    "person. For each person, the first line corresponds to the name and \n",
    "the second line corresponds to the date of birth in “DD-MM-YYYY” \n",
    "format. Your output should be the name of the younger of the two."
   ]
  },
  {
   "cell_type": "code",
   "execution_count": 69,
   "id": "17b47d52",
   "metadata": {},
   "outputs": [
    {
     "name": "stdout",
     "output_type": "stream",
     "text": [
      "rik\n",
      "10-12-2000\n",
      "panda\n",
      "31-05-2001\n",
      "panda is younger\n"
     ]
    }
   ],
   "source": [
    "n1 = input()\n",
    "d1 = input()\n",
    "n2 = input()\n",
    "d2 = input()\n",
    "\n",
    "if d1==d2:\n",
    "    if n1<n2:\n",
    "        print(n1)\n",
    "    else:\n",
    "        print(n2)\n",
    "elif d1[-4:] != d2[-4:]:\n",
    "    if int(d1[-4:]) < int(d2[-4:]):\n",
    "        print(n2, \"is younger\")\n",
    "    else:\n",
    "        print(n1, \"is younger\")\n",
    "elif d1[3:5] != d2[3:5]:\n",
    "    if int(d1[3:5]) < int(d2[3:5]):\n",
    "        print(n2, \"is younger\")\n",
    "    else:\n",
    "        print(n1, \"is younger\")\n",
    "else:\n",
    "    if int(d1[0:2]) < int(d2[0:2]):\n",
    "        print(n2, \"is younger\")\n",
    "    else:\n",
    "        print(n1, \"is younger\")\n"
   ]
  },
  {
   "cell_type": "raw",
   "id": "6ee8f8bd-15aa-40d8-9cef-2f7e22f6cf5d",
   "metadata": {},
   "source": [
    "17.Accept a string as input. Your task is to determine if the input string is a valid password or not. For a \n",
    "string to be a valid password, it must satisfy all the conditions given below:\n",
    "(1) It should have at least 8 and at most 32 characters\n",
    "(2) It should start with an uppercase or lowercase letter\n",
    "(3) It should not have any of these characters: / \\ = ' \"\n",
    "(4) It should not have spaces\n",
    "It could have any character that is not mentioned in the list of characters to be avoided (points 3 and \n",
    "4). Output True if the string forms a valid password and False otherwise"
   ]
  },
  {
   "cell_type": "code",
   "execution_count": 75,
   "id": "618e241d",
   "metadata": {},
   "outputs": [
    {
     "name": "stdout",
     "output_type": "stream",
     "text": [
      "python@212121212\n",
      "Good Password\n"
     ]
    }
   ],
   "source": [
    "password = input()\n",
    "\n",
    "if 8<= len(password) <=32 and password[0].isalpha() and '/' not in password and '\\\\' not in password and '=' not in password and '\\'' and '\\\"' not in password and ' ' not in password:\n",
    "    print(\"Good Password\")\n",
    "else:\n",
    "    print(\"weak password\")"
   ]
  },
  {
   "cell_type": "raw",
   "id": "a4d2f09c-6787-477e-8ed5-4ed4257469cb",
   "metadata": {},
   "source": [
    "18. Accept a positive integer n as input and print the first n positive \n",
    "integers, one number on each line."
   ]
  },
  {
   "cell_type": "code",
   "execution_count": null,
   "id": "41e1a0d7",
   "metadata": {},
   "outputs": [],
   "source": []
  },
  {
   "cell_type": "raw",
   "id": "0527265b-0110-476d-8bf6-6a724749197e",
   "metadata": {},
   "source": [
    "19.Accept a positive integer n as input, where n is greater than 1. \n",
    "Print PRIME ifnis a prime number and NOTPRIME otherwise."
   ]
  },
  {
   "cell_type": "code",
   "execution_count": 81,
   "id": "fbddcea0",
   "metadata": {},
   "outputs": [
    {
     "name": "stdout",
     "output_type": "stream",
     "text": [
      "1\n",
      "1 not a prime number\n"
     ]
    }
   ],
   "source": [
    "n = int(input())\n",
    "isprime = True\n",
    "if n == 1:\n",
    "    isprime = False\n",
    "else:\n",
    "    for i in range(2,n):\n",
    "        if n%i == 0:\n",
    "            isprime = False\n",
    "if isprime == True:\n",
    "    print(n, \"is a prime number\")\n",
    "else:\n",
    "    print(n, \"not a prime number\")\n",
    "    "
   ]
  },
  {
   "cell_type": "raw",
   "id": "8d8297d3-a658-4afd-9b7f-b2ee198faa52",
   "metadata": {},
   "source": [
    "20. Accept two strings as input and form a new string by removing all \n",
    "characters from the second string which are present in the first string. \n",
    "Print this new string as output. You can assume that all input strings \n",
    "will be in lower case."
   ]
  },
  {
   "cell_type": "code",
   "execution_count": 82,
   "id": "30272bc7",
   "metadata": {},
   "outputs": [
    {
     "name": "stdout",
     "output_type": "stream",
     "text": [
      "sam\n",
      "ramu\n",
      "ru\n"
     ]
    }
   ],
   "source": [
    "a = input()\n",
    "b = input()\n",
    "\n",
    "for c in a:\n",
    "    if c in b:\n",
    "        b = b.replace(c, \"\")\n",
    "print(b)"
   ]
  },
  {
   "cell_type": "raw",
   "id": "9d4ca698-02c3-415a-8b99-7b59c5702d8d",
   "metadata": {},
   "source": [
    "21.Accept a phone number as input. A valid phone number should satisfy \n",
    "the following constraints.\n",
    "(1) The number should start with one of these digits: 6, 7, 8, 9\n",
    "(2) The number should be exactly 10 digits long.\n",
    "(3) No digit should appear more than 7 times in the number.\n",
    "(4) No digit should appear more than 5 times in a row in the \n",
    "number.\n",
    "If the fourth condition is not very clear, then consider this example: \n",
    "the number 9888888765 is invalid because the digit 8 appears more \n",
    "than 5 times in a row. Print the string valid if the phone number is \n",
    "valid. If not, print the string invalid."
   ]
  },
  {
   "cell_type": "code",
   "execution_count": 20,
   "id": "89896ea0",
   "metadata": {},
   "outputs": [
    {
     "name": "stdout",
     "output_type": "stream",
     "text": [
      "9875561533\n",
      "Okay\n"
     ]
    }
   ],
   "source": [
    "n = input()\n",
    "isnumber = False\n",
    "\n",
    "if len(n) == 10 and int(n[0])>5:\n",
    "    for i in range(10):\n",
    "        if n.count(n[i])<7:\n",
    "            isnumber = True\n",
    "            if n[i]*5 in n:\n",
    "                isnumber = False\n",
    "else:\n",
    "    isprime = False\n",
    "            \n",
    "if isnumber == True:\n",
    "    print(\"Okay\")\n",
    "else:\n",
    "    print(\"not okay\")\n",
    "    "
   ]
  },
  {
   "cell_type": "raw",
   "id": "781b0869-d8b7-4f2f-b4cd-16d0e128fd0f",
   "metadata": {},
   "source": [
    "22. In the first line of input, accept a sequence of space-separated words. In the second line of \n",
    "input, accept a single word. If this word is not present in the sequence, print NO. If this word \n",
    "is present in the sequence, then print YES and in the next line of the output, print the number \n",
    "of times the word appears in the sequence."
   ]
  },
  {
   "cell_type": "code",
   "execution_count": 29,
   "id": "181142d2",
   "metadata": {},
   "outputs": [
    {
     "name": "stdout",
     "output_type": "stream",
     "text": [
      "i write code in ineuron and i write code in python\n",
      "code\n",
      "YES\n",
      "2\n"
     ]
    }
   ],
   "source": [
    "s = input().split(\" \")\n",
    "w = input()\n",
    "if w in s:\n",
    "    print(\"YES\")\n",
    "    print(s.count(w))\n",
    "else:\n",
    "    print(\"No\")"
   ]
  },
  {
   "cell_type": "raw",
   "id": "ea752210-2e2a-428b-937c-31251daf7ba8",
   "metadata": {},
   "source": [
    "23. Write a function named factorial that accepts an integer n as argument. It should return \n",
    "the factorial of n if n is a positive integer. It should return -1 if n is a negative integer, and it \n",
    "should return 1 if n is zero."
   ]
  },
  {
   "cell_type": "code",
   "execution_count": 3,
   "id": "f17dc7b6",
   "metadata": {},
   "outputs": [],
   "source": [
    "def factorial(n):\n",
    "    if n==0:\n",
    "        return 1\n",
    "    elif n<0:\n",
    "        return -1\n",
    "    else:\n",
    "        fac = 1\n",
    "        for i in range(1, n+1):\n",
    "            fac = fac * i\n",
    "        return fac"
   ]
  },
  {
   "cell_type": "code",
   "execution_count": 7,
   "id": "ef5ad942",
   "metadata": {},
   "outputs": [
    {
     "data": {
      "text/plain": [
       "720"
      ]
     },
     "execution_count": 7,
     "metadata": {},
     "output_type": "execute_result"
    }
   ],
   "source": [
    "factorial(6)"
   ]
  },
  {
   "cell_type": "raw",
   "id": "c757a0b6-8450-47af-9b1f-f6ce69ebc775",
   "metadata": {},
   "source": [
    "24. \n",
    "The range of a list of numbers is the difference between the maximum and minimum values in the list\n",
    "Write a function named get_range that accepts a non-empty list of real numbers as argument. It \n",
    "should return the range of the list.\n",
    "(1) Avoid using built-in function such as max and min.\n",
    "(2) You do not have to accept input from the user or print output to the console. You just have to write \n",
    "the function definition."
   ]
  },
  {
   "cell_type": "code",
   "execution_count": 39,
   "id": "ab537193",
   "metadata": {},
   "outputs": [],
   "source": [
    "def get_max(L):\n",
    "    maxi = L[0]\n",
    "    for i in L:\n",
    "        if i > maxi:\n",
    "            maxi = i\n",
    "    return maxi\n",
    "def get_min(L):\n",
    "    mini = L[0]\n",
    "    for i in L:\n",
    "        if i < mini:\n",
    "            mini = i\n",
    "    return mini\n",
    "    \n",
    "\n",
    "def get_range(L):\n",
    "    A = get_max(L)\n",
    "    B = get_min(L)\n",
    "    return A - B"
   ]
  },
  {
   "cell_type": "code",
   "execution_count": 40,
   "id": "2daf71c5",
   "metadata": {},
   "outputs": [
    {
     "data": {
      "text/plain": [
       "8"
      ]
     },
     "execution_count": 40,
     "metadata": {},
     "output_type": "execute_result"
    }
   ],
   "source": [
    "get_range([2,3,4,8,10])"
   ]
  },
  {
   "cell_type": "raw",
   "id": "8f3ba3db-9ed9-4c14-ac23-41f3225ad874",
   "metadata": {},
   "source": [
    "25. Write a function named read_file that accepts a text file named filename as argument. Within \n",
    "the function, read the file and print each line of the file on a separate line in the console. You shouldn't \n",
    "print any extra characters at the end of a line. There shouldn't be an empty line between any two \n",
    "consecutive lines.\n",
    "(1) filename is a string variable that holds the name of the file. For example, in the first test case, it \n",
    "is filename = 'public_1.txt'.\n",
    "(2) You do not have to accept input from the console. You have to write the function definition and \n",
    "print the contents of the file within the function"
   ]
  },
  {
   "cell_type": "code",
   "execution_count": 48,
   "id": "f04a461f",
   "metadata": {},
   "outputs": [],
   "source": [
    "def read_file(filename):\n",
    "    f = open(filename, \"r+\")\n",
    "    for i in f.readlines():\n",
    "        print(i.replace('\\'', \" \"))"
   ]
  },
  {
   "cell_type": "code",
   "execution_count": 49,
   "id": "bec0cebd",
   "metadata": {},
   "outputs": [
    {
     "name": "stdout",
     "output_type": "stream",
     "text": [
      "This is my code in try\n",
      "\n",
      "hello\n",
      "\n",
      "world\n",
      "\n",
      "welcome to Google\n"
     ]
    }
   ],
   "source": [
    "read_file(\"google.txt\")"
   ]
  },
  {
   "cell_type": "raw",
   "id": "b2d94805-f65b-47c2-9d18-2a8bdbe5c2dc",
   "metadata": {},
   "source": [
    "26. A simple algorithm has to be designed to find out whether a student \n",
    "belongs to the Data Science branch or not. The input will be a \n",
    "student's roll number, which is of the form BR18B0000. \n",
    "Here, BR represents the branch code, 18 represents the year of \n",
    "joining, B represents the education level and 0000 represents the \n",
    "specific identification given to the student of that batch. The branch \n",
    "code for Data Science is DS. Print True if the student belongs to \n",
    "Data Science branch and False otherwise."
   ]
  },
  {
   "cell_type": "code",
   "execution_count": 12,
   "id": "4e45c0c4",
   "metadata": {},
   "outputs": [
    {
     "name": "stdout",
     "output_type": "stream",
     "text": [
      "BR18B0000\n",
      "False\n"
     ]
    }
   ],
   "source": [
    "roll_number = input().upper()\n",
    "\n",
    "if roll_number[0] == \"D\" and roll_number[1] == \"S\":\n",
    "    print(\"TRUE\")\n",
    "else:\n",
    "    print(\"False\")"
   ]
  },
  {
   "cell_type": "raw",
   "id": "52e69e6b-ab1d-411c-8750-7a2de08bc8dd",
   "metadata": {},
   "source": [
    "27.The police are trying to track a criminal based on the evidence \n",
    "available at a crime site. Their main clue is a vehicle's damaged \n",
    "number plate. Only the string TN07 is visible. The format of the \n",
    "registration number is AA00AA00, where the first two letters are \n",
    "alphabets, next two are numbers, next two are again alphabets \n",
    "followed by two numbers at the end. A number plate is picked from a \n",
    "database of registration numbers and is given to you as input. Your \n",
    "task is to determine if this could belong to the criminal or not. \n",
    "Print True if the number plate \n",
    "contains TN07 and False otherwise."
   ]
  },
  {
   "cell_type": "code",
   "execution_count": 15,
   "id": "e5b85df8",
   "metadata": {},
   "outputs": [
    {
     "name": "stdout",
     "output_type": "stream",
     "text": [
      "TN07WS29\n",
      "TN07\n",
      "TRUE\n"
     ]
    }
   ],
   "source": [
    "number_plate = input().upper()\n",
    "print(number_plate[0:4])\n",
    "\n",
    "if number_plate[0:4] == \"TN07\":\n",
    "    print(\"TRUE\")\n",
    "else:\n",
    "    print(\"false\")\n",
    "    "
   ]
  },
  {
   "cell_type": "raw",
   "id": "11b4a079-30a1-480d-a759-2b54ab29f90f",
   "metadata": {},
   "source": [
    "28. You are given a string and two non-negative integers as input. The \n",
    "two integers specify the start and end indices of a substring in the \n",
    "given string. Create a new string by replicating the substring a \n",
    "minimum number of times so that the resulting string is longer than \n",
    "the input string. The input parameters are the string, start index of \n",
    "the substring and the end index of substring (endpoints inclusive) \n",
    "each on a different line."
   ]
  },
  {
   "cell_type": "code",
   "execution_count": 27,
   "id": "950ad8b4",
   "metadata": {},
   "outputs": [
    {
     "name": "stdout",
     "output_type": "stream",
     "text": [
      "This is the class of Data Science\n",
      "2\n",
      "8\n",
      "is is \n",
      "is is is is is is is is is is is is  \n",
      "\n",
      "33\n",
      "36\n"
     ]
    }
   ],
   "source": [
    "s = input()\n",
    "a = int(input())\n",
    "b = int(input())\n",
    "s1 = s[a:b]\n",
    "print(s1)\n",
    "s2 = \"\"\n",
    "while len(s2) <= len(s):\n",
    "    s2 = s2 + s1\n",
    "print(s2, \"\\n\")\n",
    "    \n",
    "print(len(s))\n",
    "print(len(s2))"
   ]
  },
  {
   "cell_type": "raw",
   "id": "2c2d9d8e-e84a-4ca1-8791-8033b8e650a0",
   "metadata": {},
   "source": [
    "29. A class teacher has decided to split her entire class into four groups, namely Sapphire, Peridot, Ruby, \n",
    "and Emerald for sports competitions. For dividing the students into these four groups, she has \n",
    "followed the pattern given below:\n",
    "Sapphire - 1, 5, 9, 13, 17, 21, ...\n",
    "Peridot - 2, 6, 10, 14, 18, 22, ...\n",
    "Ruby - 3, 7, 11, 15, 19, 23, ...\n",
    "Emerald - 4, 8, 12, 16, 20, 24, ...\n",
    "All the students are represented by their roll numbers. Based on the above pattern, given the roll \n",
    "number as input, print the group the student belongs to. Note that the roll number can be any \n",
    "positive integer and not necessarily less than 25."
   ]
  },
  {
   "cell_type": "code",
   "execution_count": 28,
   "id": "78273ab6",
   "metadata": {},
   "outputs": [
    {
     "name": "stdout",
     "output_type": "stream",
     "text": [
      "Enter roll number: 17\n",
      "You're in Sapphire\n"
     ]
    }
   ],
   "source": [
    "Sapphire = [1, 5, 9, 13, 17, 21]\n",
    "Peridot = [2, 6, 10, 14, 18, 22]\n",
    "Ruby = [3, 7, 11, 15, 19, 23]\n",
    "Emerald = [4, 8, 12, 16, 20, 24]\n",
    "\n",
    "n = int(input(\"Enter roll number: \"))\n",
    "if n<25:\n",
    "    if n in Sapphire:\n",
    "        print(\"You're in Sapphire\")\n",
    "    elif n in Peridot:\n",
    "        print(\"You're in Peridot\")\n",
    "    elif n in Ruby:\n",
    "        print(\"You're in Ruby\")\n",
    "    elif n in Emerald:\n",
    "        print(\"You're in Emerald\")\n",
    "        "
   ]
  },
  {
   "cell_type": "raw",
   "id": "7e18467c-5ccb-4820-bc5f-c4adc9babe2c",
   "metadata": {},
   "source": [
    "30. A data science company wants to hire data scientists from abc college. \n",
    "The company follows a certain criteria for selection: for a student to \n",
    "be selected, the number of backlogs should be at most 5 and the \n",
    "CGPA (Cumulative Grade Point Average) should be greater than 6. If \n",
    "the student does not fit the above criteria, then the student is not \n",
    "offered the job. If the student is selected, then the salary offered is \n",
    "equal to 5 times his/her CGPA (in lakhs).\n",
    "Accept the number of backlogs (integer) and the CGPA (float) of the \n",
    "student as input. Your task is to determine if the student is selected or \n",
    "not. If the student is selected, then print the package. If not, then \n",
    "print the string Not Selected."
   ]
  },
  {
   "cell_type": "code",
   "execution_count": 34,
   "id": "e946fced",
   "metadata": {},
   "outputs": [
    {
     "name": "stdout",
     "output_type": "stream",
     "text": [
      "enter your backlog: 1\n",
      "Enter the CGPA:  8.9\n",
      "You're eligible\n",
      "Your package: 44.5 lakhs\n"
     ]
    }
   ],
   "source": [
    "back = int(input(\"enter your backlog: \"))\n",
    "cgpa = float(input(\"Enter the CGPA:  \"))\n",
    "\n",
    "if back <=5 and cgpa > 6.0:\n",
    "    print(\"You're eligible\")\n",
    "print(\"Your package:\", cgpa*5, \"lakhs\")"
   ]
  },
  {
   "cell_type": "raw",
   "id": "15b2b2b3-e511-4184-af23-c42d9ee021b8",
   "metadata": {},
   "source": [
    "31. Accept a string as input and print PALINDROME if it is a \n",
    "palindrome, and NOT PALINDROME otherwise"
   ]
  },
  {
   "cell_type": "code",
   "execution_count": 38,
   "id": "28f6c67d",
   "metadata": {},
   "outputs": [
    {
     "name": "stdout",
     "output_type": "stream",
     "text": [
      "madam\n",
      "It is a palindrome\n"
     ]
    }
   ],
   "source": [
    "s = input()\n",
    "\n",
    "palin_s = s[::-1]\n",
    "\n",
    "if s == palin_s:\n",
    "    print(\"It is a palindrome\")\n",
    "else:\n",
    "    print(\"This is not a palindrome\")"
   ]
  },
  {
   "cell_type": "raw",
   "id": "92cfcd2b-ae26-4009-85b4-15e7996421ac",
   "metadata": {},
   "source": [
    "32. In a portal login website, you are asked to write a function get_password_strength to decide \n",
    "the strength of a password. The strength is decided based on the total score of the password, Use \n",
    "following conditions:\n",
    "1) If password has length greater than 7 then score increases by one point.\n",
    "2) If password has at least one upper case and one lower case alphabets score increases by one point.\n",
    "3) If password has at least one number and no consecutive numbers like 12 or 234 then score \n",
    "increases by one point.\n",
    "4) If password has at least one special character (any character other than numbers and alphabets) then \n",
    "score increases by one point.\n",
    "5) If password contains username, then it is invalid password.\n",
    "If the password has score of four points, three points, two points, or one point then print Very \n",
    "Strong, Strong, Moderate, or Weak respectively. If the password is invalid, then \n",
    "print PASSWORD SHOULD NOT CONTAIN USERNAME and If the score is zero, then print Use a \n",
    "different password.The arguments to the function are username and password which are \n",
    "already defined"
   ]
  },
  {
   "cell_type": "code",
   "execution_count": 14,
   "id": "0a10d702",
   "metadata": {},
   "outputs": [],
   "source": [
    "def get_password_strength(username, p):\n",
    "    score = 0\n",
    "    capital = 'ABCDEFGHIJKLMNOPQRSTUVWXYZ'\n",
    "    c_flag = False\n",
    "    small = 'abcdefghijklmnopqrstuvwxyz'\n",
    "    s_flag = False\n",
    "    num = '0123456789'\n",
    "    n_flag = False\n",
    "    nc_flag = True\n",
    "    \n",
    "    if username in p:\n",
    "        print(\"PASSWORD SHOULD NOT CONTAIN USERNAME\")\n",
    "        return\n",
    "    if len(p) > 7:\n",
    "        score = score + 1\n",
    "    for i in range(len(p)):\n",
    "        if p[i] in small:\n",
    "            s_flag = True\n",
    "        elif p[i] in capital:\n",
    "            c_flag = True\n",
    "        elif p[i] in num:\n",
    "            n_flag = True\n",
    "        if n_flag:\n",
    "            for x in range(len(p)-2):\n",
    "                if p[x] == p[x+1] and p[x+1] == p[x+2]:\n",
    "                    nc_flag = False\n",
    "    if c_flag and s_flag:\n",
    "        score = score + 1\n",
    "    if n_flag and nc_flag:\n",
    "        score = score + 1\n",
    "    if not p.isalnum():\n",
    "        score = score + 1\n",
    "    if score == 4:\n",
    "        print(\"very strong\")\n",
    "        return\n",
    "    if score == 3:\n",
    "        print(\"strong\")\n",
    "        return\n",
    "    if score == 2:\n",
    "        print(\"moderate\")\n",
    "        return\n",
    "    if score == 1:\n",
    "        print(\"weak\")\n",
    "        return\n",
    "    if score == 0:\n",
    "        print(\"Use a different password\")\n",
    "    \n",
    "    "
   ]
  },
  {
   "cell_type": "code",
   "execution_count": 16,
   "id": "39f45f39",
   "metadata": {},
   "outputs": [
    {
     "name": "stdout",
     "output_type": "stream",
     "text": [
      "very strong\n"
     ]
    }
   ],
   "source": [
    "get_password_strength(username=\"rounak\", p= \"A25@bb5D\")"
   ]
  },
  {
   "cell_type": "raw",
   "id": "67644faf-c8dc-439d-9c26-54b16751b2e0",
   "metadata": {},
   "source": [
    "33.decorator that logs the date and time"
   ]
  },
  {
   "cell_type": "code",
   "execution_count": 1,
   "id": "9a9f3a37",
   "metadata": {},
   "outputs": [],
   "source": [
    "import logging\n",
    "logging.basicConfig(filename = \"TEST.log\", level = logging.DEBUG, format = '%(asctime)s, %(message)s, %(levelname)s')"
   ]
  },
  {
   "cell_type": "code",
   "execution_count": 5,
   "id": "ef10298a",
   "metadata": {},
   "outputs": [],
   "source": [
    "def test(func):\n",
    "    def test1(n):\n",
    "        logging.info(\"Execution started\")\n",
    "        print(\"This is my decorator function\")\n",
    "        func(n)\n",
    "        logging.info(\"Execution Successful\")\n",
    "        return func(n)\n",
    "    return test1\n",
    "    "
   ]
  },
  {
   "cell_type": "code",
   "execution_count": 6,
   "id": "76458165",
   "metadata": {},
   "outputs": [],
   "source": [
    "@test\n",
    "def test2(n):\n",
    "    if n==0:\n",
    "        return 1\n",
    "    elif n<0:\n",
    "        return -1\n",
    "    else:\n",
    "        fac = 1\n",
    "        for i in range(1, n+1):\n",
    "            fac = fac * i\n",
    "        return fac"
   ]
  },
  {
   "cell_type": "code",
   "execution_count": 7,
   "id": "af6a5538",
   "metadata": {},
   "outputs": [
    {
     "name": "stdout",
     "output_type": "stream",
     "text": [
      "This is my decorator function\n"
     ]
    },
    {
     "data": {
      "text/plain": [
       "720"
      ]
     },
     "execution_count": 7,
     "metadata": {},
     "output_type": "execute_result"
    }
   ],
   "source": [
    "test2(6)"
   ]
  },
  {
   "cell_type": "raw",
   "id": "93474414-e8ba-439d-9f7d-0f3f4eb648b9",
   "metadata": {},
   "source": [
    "34.Program to Get Data Items From a List Appearing Odd Number of Times"
   ]
  },
  {
   "cell_type": "code",
   "execution_count": 4,
   "id": "bcd33275",
   "metadata": {},
   "outputs": [
    {
     "name": "stdout",
     "output_type": "stream",
     "text": [
      "{1, 4}\n"
     ]
    }
   ],
   "source": [
    "li = [1,1,1,2,2,3,3,4]\n",
    "s = set()\n",
    "for i in li:\n",
    "    if li.count(i)%2 != 0:\n",
    "        s.add(i)\n",
    "print(s)"
   ]
  },
  {
   "cell_type": "raw",
   "id": "70caf71f-6a2d-42a5-bb41-a83e99f3b0cb",
   "metadata": {},
   "source": [
    "35.What are decorators in Python?"
   ]
  },
  {
   "cell_type": "markdown",
   "id": "9e99b675",
   "metadata": {},
   "source": [
    "A decorator is a function which takes another function as argument. "
   ]
  },
  {
   "cell_type": "raw",
   "id": "00d3f3e6-8d1a-459c-8f05-fec2d7a72f0b",
   "metadata": {},
   "source": [
    "36. remove items from a list while iterating but without creating a different copy of a list.\n",
    "Remove numbers greater than 50\n",
    "number_list = [10, 20, 30, 40, 50, 60, 70, 80, 90, 100]\n",
    "Expected Output: [10, 20, 30, 40, 50]"
   ]
  },
  {
   "cell_type": "code",
   "execution_count": 8,
   "id": "6c46ba8f",
   "metadata": {},
   "outputs": [
    {
     "name": "stdout",
     "output_type": "stream",
     "text": [
      "[10, 20, 30, 40, 50]\n"
     ]
    }
   ],
   "source": [
    "nl[:] = [i for i in nl if i<=50]\n",
    "print(nl)"
   ]
  },
  {
   "cell_type": "raw",
   "id": "6a034cd6-9a75-4912-8286-2396360ffa28",
   "metadata": {},
   "source": [
    "37.  Display all duplicate items from a list\n",
    "sample_list = [10, 20, 60, 30, 20, 40, 30, 60, 70, 80]\n",
    "Expected Output: [20, 60, 30]"
   ]
  },
  {
   "cell_type": "code",
   "execution_count": 11,
   "id": "67e9ff7b",
   "metadata": {},
   "outputs": [
    {
     "name": "stdout",
     "output_type": "stream",
     "text": [
      "[20, 60, 30]\n"
     ]
    }
   ],
   "source": [
    "sample_list = [10, 20, 60, 30, 20, 40, 30, 60, 70, 80]\n",
    "\n",
    "output = set()\n",
    "\n",
    "for i in sample_list:\n",
    "    if sample_list.count(i) > 1:\n",
    "        output.add(i)\n",
    "print(list(output))"
   ]
  },
  {
   "cell_type": "raw",
   "id": "03607aeb-291c-41e0-bb35-101d53d1f25f",
   "metadata": {},
   "source": [
    "38. Create an outer function that will accept two strings, x and y. (x= 'Emma' and y = 'Kelly'.\n",
    "Create an inner function inside an outer function that will concatenate x and y.\n",
    "At last, an outer function will join the word 'developer' to it."
   ]
  },
  {
   "cell_type": "code",
   "execution_count": 30,
   "id": "2ab6cda9",
   "metadata": {},
   "outputs": [],
   "source": [
    "def test(x,y):\n",
    "    def test1(x,y):\n",
    "        return x+y\n",
    "    z = test1(x,y) + 'Developer'\n",
    "    return z"
   ]
  },
  {
   "cell_type": "code",
   "execution_count": 31,
   "id": "99a17ea0",
   "metadata": {},
   "outputs": [
    {
     "data": {
      "text/plain": [
       "'EmmaKellyDeveloper'"
      ]
     },
     "execution_count": 31,
     "metadata": {},
     "output_type": "execute_result"
    }
   ],
   "source": [
    "test('Emma', 'Kelly')"
   ]
  },
  {
   "cell_type": "code",
   "execution_count": null,
   "id": "8bc118d9",
   "metadata": {},
   "outputs": [],
   "source": []
  },
  {
   "cell_type": "raw",
   "id": "c3238d35-61fa-4d2a-8e92-c393399b1b5b",
   "metadata": {},
   "source": [
    "39. Modify the element of a nested list inside the following list\n",
    "Change the element 35 to 3500\n",
    "list1 = [5, [10, 15, [20, 25, [30, 35], 40], 45], 50]"
   ]
  },
  {
   "cell_type": "code",
   "execution_count": 50,
   "id": "eb6ba018",
   "metadata": {},
   "outputs": [
    {
     "name": "stdout",
     "output_type": "stream",
     "text": [
      "[5, [10, 15, [20, 25, [30, 3500], 40], 45], 50]\n"
     ]
    }
   ],
   "source": [
    "list1 = [5, [10, 15, [20, 25, [30, 35], 40], 45], 50]\n",
    "list1[1][2][2][1] = 3500\n",
    "print(list1)"
   ]
  },
  {
   "cell_type": "raw",
   "id": "0106b7da-e95f-46ba-873a-e641d7199be7",
   "metadata": {},
   "source": [
    "40.  Access the nested key increment from the following dictionary\n",
    "Access 12\n",
    "emp_dict = {\n",
    "    \"company\": {\n",
    "        \"employee\": {\n",
    "            \"name\": \"Jess\",\n",
    "            \"payable\": {\n",
    "                \"salary\": 9000,\n",
    "                \"increment\": 12\n",
    "            }\n",
    "        }\n",
    "    }\n",
    "}"
   ]
  },
  {
   "cell_type": "code",
   "execution_count": 51,
   "id": "6f1ed146",
   "metadata": {},
   "outputs": [],
   "source": [
    "emp_dict = {\n",
    "    \"company\": {\n",
    "        \"employee\": {\n",
    "            \"name\": \"Jess\",\n",
    "            \"payable\": {\n",
    "                \"salary\": 9000,\n",
    "                \"increment\": 12\n",
    "            }\n",
    "        }\n",
    "    }\n",
    "}"
   ]
  },
  {
   "cell_type": "code",
   "execution_count": 57,
   "id": "95ecc3ca",
   "metadata": {},
   "outputs": [
    {
     "data": {
      "text/plain": [
       "12"
      ]
     },
     "execution_count": 57,
     "metadata": {},
     "output_type": "execute_result"
    }
   ],
   "source": [
    "emp_dict[\"company\"][\"employee\"][\"payable\"][\"increment\"]"
   ]
  },
  {
   "cell_type": "raw",
   "id": "a36e12a4-baf9-4c0b-90e6-c16fd60b02ba",
   "metadata": {},
   "source": [
    "41. Print the sum of the current number and the previous number\n",
    "Write a program to iterate the first 10 numbers and in each iteration, print the sum of the current and previous number.\n",
    "Printing current and previous number sum in a range(10)\n",
    "Current Number 0 Previous Number  0  Sum:  0\n",
    "Current Number 1 Previous Number  0  Sum:  1\n",
    "Current Number 2 Previous Number  1  Sum:  3\n",
    "Current Number 3 Previous Number  2  Sum:  5\n",
    "Current Number 4 Previous Number  3  Sum:  7\n",
    "Current Number 5 Previous Number  4  Sum:  9\n",
    "Current Number 6 Previous Number  5  Sum:  11\n",
    "Current Number 7 Previous Number  6  Sum:  13\n",
    "Current Number 8 Previous Number  7  Sum:  15\n",
    "Current Number 9 Previous Number  8  Sum:  17"
   ]
  },
  {
   "cell_type": "code",
   "execution_count": 63,
   "id": "d5bef7d2",
   "metadata": {},
   "outputs": [
    {
     "name": "stdout",
     "output_type": "stream",
     "text": [
      "current number is 0\n",
      "previous number is 0\n",
      "sum 0\n",
      "current number is 1\n",
      "previous number is 0\n",
      "sum 1\n",
      "current number is 2\n",
      "previous number is 1\n",
      "sum 3\n",
      "current number is 3\n",
      "previous number is 2\n",
      "sum 5\n",
      "current number is 4\n",
      "previous number is 3\n",
      "sum 7\n",
      "current number is 5\n",
      "previous number is 4\n",
      "sum 9\n",
      "current number is 6\n",
      "previous number is 5\n",
      "sum 11\n",
      "current number is 7\n",
      "previous number is 6\n",
      "sum 13\n",
      "current number is 8\n",
      "previous number is 7\n",
      "sum 15\n",
      "current number is 9\n",
      "previous number is 8\n",
      "sum 17\n"
     ]
    }
   ],
   "source": [
    "a = 0\n",
    "for i in range(10):\n",
    "    print(\"current number is\", i)\n",
    "    print(\"previous number is\", a)\n",
    "    s,a = i+a, i\n",
    "    \n",
    "    print(\"sum\", s)"
   ]
  },
  {
   "cell_type": "raw",
   "id": "04f5ef21-9056-4a31-bc4d-b5641a6bc80d",
   "metadata": {},
   "source": [
    "42. Print characters from a string that are present at an even index number\n",
    "Write a program to accept a string from the user and display characters that are present at an even index number.\n",
    "\n",
    "For example, str = \"ineuron\" so you should display ‘i’, ‘e’, ‘r’, ‘n’."
   ]
  },
  {
   "cell_type": "code",
   "execution_count": 64,
   "id": "f53f5652",
   "metadata": {},
   "outputs": [
    {
     "name": "stdout",
     "output_type": "stream",
     "text": [
      "i\n",
      "e\n",
      "r\n",
      "n\n"
     ]
    }
   ],
   "source": [
    "ss = \"ineuron\"\n",
    "for i in range(len(ss)):\n",
    "    if i%2 ==0:\n",
    "        print(ss[i])"
   ]
  },
  {
   "cell_type": "raw",
   "id": "19f5f95f-8e4e-48c8-8639-247f8f058efa",
   "metadata": {},
   "source": [
    "43. Print multiplication table form 1 to 10\n",
    "1  2 3 4 5 6 7 8 9 10 \t\t\n",
    "2  4 6 8 10 12 14 16 18 20 \t\t\n",
    "3  6 9 12 15 18 21 24 27 30 \t\t\n",
    "4  8 12 16 20 24 28 32 36 40 \t\t\n",
    "5  10 15 20 25 30 35 40 45 50 \t\t\n",
    "6  12 18 24 30 36 42 48 54 60 \t\t\n",
    "7  14 21 28 35 42 49 56 63 70 \t\t\n",
    "8  16 24 32 40 48 56 64 72 80 \t\t\n",
    "9  18 27 36 45 54 63 72 81 90 \t\t\n",
    "10 20 30 40 50 60 70 80 90 100 "
   ]
  },
  {
   "cell_type": "code",
   "execution_count": 65,
   "id": "8563594e",
   "metadata": {},
   "outputs": [
    {
     "name": "stdout",
     "output_type": "stream",
     "text": [
      "1 X 1 = 1\n",
      "1 X 2 = 2\n",
      "1 X 3 = 3\n",
      "1 X 4 = 4\n",
      "1 X 5 = 5\n",
      "1 X 6 = 6\n",
      "1 X 7 = 7\n",
      "1 X 8 = 8\n",
      "1 X 9 = 9\n",
      "1 X 10 = 10\n",
      "2 X 1 = 2\n",
      "2 X 2 = 4\n",
      "2 X 3 = 6\n",
      "2 X 4 = 8\n",
      "2 X 5 = 10\n",
      "2 X 6 = 12\n",
      "2 X 7 = 14\n",
      "2 X 8 = 16\n",
      "2 X 9 = 18\n",
      "2 X 10 = 20\n",
      "3 X 1 = 3\n",
      "3 X 2 = 6\n",
      "3 X 3 = 9\n",
      "3 X 4 = 12\n",
      "3 X 5 = 15\n",
      "3 X 6 = 18\n",
      "3 X 7 = 21\n",
      "3 X 8 = 24\n",
      "3 X 9 = 27\n",
      "3 X 10 = 30\n",
      "4 X 1 = 4\n",
      "4 X 2 = 8\n",
      "4 X 3 = 12\n",
      "4 X 4 = 16\n",
      "4 X 5 = 20\n",
      "4 X 6 = 24\n",
      "4 X 7 = 28\n",
      "4 X 8 = 32\n",
      "4 X 9 = 36\n",
      "4 X 10 = 40\n",
      "5 X 1 = 5\n",
      "5 X 2 = 10\n",
      "5 X 3 = 15\n",
      "5 X 4 = 20\n",
      "5 X 5 = 25\n",
      "5 X 6 = 30\n",
      "5 X 7 = 35\n",
      "5 X 8 = 40\n",
      "5 X 9 = 45\n",
      "5 X 10 = 50\n",
      "6 X 1 = 6\n",
      "6 X 2 = 12\n",
      "6 X 3 = 18\n",
      "6 X 4 = 24\n",
      "6 X 5 = 30\n",
      "6 X 6 = 36\n",
      "6 X 7 = 42\n",
      "6 X 8 = 48\n",
      "6 X 9 = 54\n",
      "6 X 10 = 60\n",
      "7 X 1 = 7\n",
      "7 X 2 = 14\n",
      "7 X 3 = 21\n",
      "7 X 4 = 28\n",
      "7 X 5 = 35\n",
      "7 X 6 = 42\n",
      "7 X 7 = 49\n",
      "7 X 8 = 56\n",
      "7 X 9 = 63\n",
      "7 X 10 = 70\n",
      "8 X 1 = 8\n",
      "8 X 2 = 16\n",
      "8 X 3 = 24\n",
      "8 X 4 = 32\n",
      "8 X 5 = 40\n",
      "8 X 6 = 48\n",
      "8 X 7 = 56\n",
      "8 X 8 = 64\n",
      "8 X 9 = 72\n",
      "8 X 10 = 80\n",
      "9 X 1 = 9\n",
      "9 X 2 = 18\n",
      "9 X 3 = 27\n",
      "9 X 4 = 36\n",
      "9 X 5 = 45\n",
      "9 X 6 = 54\n",
      "9 X 7 = 63\n",
      "9 X 8 = 72\n",
      "9 X 9 = 81\n",
      "9 X 10 = 90\n",
      "10 X 1 = 10\n",
      "10 X 2 = 20\n",
      "10 X 3 = 30\n",
      "10 X 4 = 40\n",
      "10 X 5 = 50\n",
      "10 X 6 = 60\n",
      "10 X 7 = 70\n",
      "10 X 8 = 80\n",
      "10 X 9 = 90\n",
      "10 X 10 = 100\n"
     ]
    }
   ],
   "source": [
    "for i in range(1,11):\n",
    "    for j in range(1,11):\n",
    "        print(i, \"X\", j, \"=\", i*j)"
   ]
  },
  {
   "cell_type": "raw",
   "id": "07f9b814-fc05-4a97-8a50-b762ab2522e6",
   "metadata": {},
   "source": [
    "44. Remove duplicates from a list and create a tuple and find the minimum and maximum number\n",
    "sample_list = [87, 45, 41, 65, 94, 41, 99, 94]\n",
    "Expected Outcome:\n",
    "unique items [87, 45, 41, 65, 99]\n",
    "tuple (87, 45, 41, 65, 99)\n",
    "min: 41\n",
    "max: 99"
   ]
  },
  {
   "cell_type": "code",
   "execution_count": 77,
   "id": "7b2c4bef",
   "metadata": {},
   "outputs": [
    {
     "name": "stdout",
     "output_type": "stream",
     "text": [
      "(65, 99, 41, 45, 87, 94)\n",
      "99\n",
      "41\n"
     ]
    }
   ],
   "source": [
    "sample_list = [87, 45, 41, 65, 94, 41, 99, 94]\n",
    "output = set(sample_list)\n",
    "unique_items = tuple(output)\n",
    "\n",
    "print(unique_items)\n",
    "print(max(unique_items))\n",
    "print(min(unique_items))"
   ]
  },
  {
   "cell_type": "raw",
   "id": "f4d4b1a2-7c19-43c4-922c-837b6c40f5fb",
   "metadata": {},
   "source": [
    "45. Write a Python program to create a lambda function that adds 15 to a given number passed in as an argument,\n",
    "also create a lambda function\n",
    "that multiplies argument x with argument y and print the result."
   ]
  },
  {
   "cell_type": "code",
   "execution_count": 79,
   "id": "dbc0fb39",
   "metadata": {},
   "outputs": [
    {
     "data": {
      "text/plain": [
       "30"
      ]
     },
     "execution_count": 79,
     "metadata": {},
     "output_type": "execute_result"
    }
   ],
   "source": [
    "x  = lambda a: a+15\n",
    "x(15)"
   ]
  },
  {
   "cell_type": "code",
   "execution_count": 80,
   "id": "10ae6d46",
   "metadata": {},
   "outputs": [
    {
     "data": {
      "text/plain": [
       "30"
      ]
     },
     "execution_count": 80,
     "metadata": {},
     "output_type": "execute_result"
    }
   ],
   "source": [
    "A = lambda x,y: x*y\n",
    "A(5,6)"
   ]
  },
  {
   "cell_type": "raw",
   "id": "58df2f9a-6310-4e59-a5fe-6658ff7898e1",
   "metadata": {},
   "source": [
    "46. Write a Python program to sort a list of tuples using Lambda."
   ]
  },
  {
   "cell_type": "code",
   "execution_count": 85,
   "id": "42957d45",
   "metadata": {},
   "outputs": [],
   "source": [
    "L = [(1,2,3), (11,22,33), (6,7,8)]\n",
    "sorting = lambda l: l.sort()"
   ]
  },
  {
   "cell_type": "code",
   "execution_count": 86,
   "id": "32419f49",
   "metadata": {},
   "outputs": [],
   "source": [
    "sorting(L)"
   ]
  },
  {
   "cell_type": "code",
   "execution_count": 89,
   "id": "97f54857",
   "metadata": {},
   "outputs": [
    {
     "data": {
      "text/plain": [
       "[(1, 2, 3), (6, 7, 8), (11, 22, 33)]"
      ]
     },
     "execution_count": 89,
     "metadata": {},
     "output_type": "execute_result"
    }
   ],
   "source": [
    "L"
   ]
  },
  {
   "cell_type": "raw",
   "id": "745bbb70-f71c-4042-a99a-f42bccef267e",
   "metadata": {},
   "source": [
    "47. Write a Python program to extract year, month, date and time using Lambda."
   ]
  },
  {
   "cell_type": "code",
   "execution_count": null,
   "id": "3d951593",
   "metadata": {},
   "outputs": [],
   "source": []
  },
  {
   "cell_type": "raw",
   "id": "afcf0f97-d39b-4554-a14f-411096bd515e",
   "metadata": {},
   "source": [
    "48. Write a Python program to count the even, odd numbers in a given array of integers using Lambda."
   ]
  },
  {
   "cell_type": "code",
   "execution_count": 94,
   "id": "d231b68a",
   "metadata": {},
   "outputs": [
    {
     "data": {
      "text/plain": [
       "(4, 5)"
      ]
     },
     "execution_count": 94,
     "metadata": {},
     "output_type": "execute_result"
    }
   ],
   "source": [
    "l = [1,2,3,4,5,6,7,8,9]\n",
    "\n",
    "def dsd(l):\n",
    "    e = 0\n",
    "    o = 0\n",
    "    for i in l:\n",
    "        if i%2 ==0:\n",
    "            e = e+1\n",
    "        elif i%2 !=0:\n",
    "            o = o+1\n",
    "    return e,o\n",
    "dsd(l)              \n",
    "\n",
    "X = lambda a: for i in a if i%2 ==0 "
   ]
  },
  {
   "cell_type": "raw",
   "id": "dbd65ee9-2f83-4286-a7b3-52f398ab8527",
   "metadata": {},
   "source": [
    "49. Write a Python program to convert all the characters in uppercase and lowercase and eliminate duplicate letters from a given sequence.\n",
    "Use map() function."
   ]
  },
  {
   "cell_type": "code",
   "execution_count": 116,
   "id": "c4e8220c",
   "metadata": {},
   "outputs": [
    {
     "name": "stdout",
     "output_type": "stream",
     "text": [
      "{('E', 'e'), ('C', 'c'), ('V', 'v'), ('D', 'd'), ('B', 'b'), ('A', 'a')}\n"
     ]
    }
   ],
   "source": [
    "s = ['a', 'b', 'c', 'd', 'e', 'd','a', 'v']\n",
    "\n",
    "def test10(x):\n",
    "    return x.upper(), x.lower()\n",
    "\n",
    "output = map(test10, s)\n",
    "print(set(output))"
   ]
  },
  {
   "cell_type": "raw",
   "id": "78c63beb-b43b-48ad-bb20-31f403af2f10",
   "metadata": {},
   "source": [
    "50.  Write a Python program to square the elements of a list using map() function."
   ]
  },
  {
   "cell_type": "code",
   "execution_count": 119,
   "id": "fe5a42f3",
   "metadata": {},
   "outputs": [
    {
     "data": {
      "text/plain": [
       "[100, 121, 144, 169, 196, 225]"
      ]
     },
     "execution_count": 119,
     "metadata": {},
     "output_type": "execute_result"
    }
   ],
   "source": [
    "l = [10,11,12,13,14,15]\n",
    "\n",
    "list(map(lambda x: x**2, l))"
   ]
  },
  {
   "cell_type": "code",
   "execution_count": null,
   "id": "fe20b13b",
   "metadata": {},
   "outputs": [],
   "source": []
  }
 ],
 "metadata": {
  "kernelspec": {
   "display_name": "Python 3 (ipykernel)",
   "language": "python",
   "name": "python3"
  },
  "language_info": {
   "codemirror_mode": {
    "name": "ipython",
    "version": 3
   },
   "file_extension": ".py",
   "mimetype": "text/x-python",
   "name": "python",
   "nbconvert_exporter": "python",
   "pygments_lexer": "ipython3",
   "version": "3.9.13"
  }
 },
 "nbformat": 4,
 "nbformat_minor": 5
}
