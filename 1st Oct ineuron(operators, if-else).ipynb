{
 "cells": [
  {
   "cell_type": "markdown",
   "id": "8d34c14e",
   "metadata": {},
   "source": [
    "## 0. Glimpse of Conditional Statements\n",
    "## 1. Operators\n",
    "## 2. String Methods"
   ]
  },
  {
   "cell_type": "markdown",
   "id": "53d644bb",
   "metadata": {},
   "source": [
    "### Logical Operators"
   ]
  },
  {
   "cell_type": "markdown",
   "id": "d114f3ed",
   "metadata": {},
   "source": [
    "Keywords | Meaning\n",
    "- | -\n",
    "not | unary negation\n",
    "and | conditional AND\n",
    "or | conditional OR"
   ]
  },
  {
   "cell_type": "code",
   "execution_count": 1,
   "id": "e60187d2",
   "metadata": {},
   "outputs": [
    {
     "name": "stdout",
     "output_type": "stream",
     "text": [
      "True\n"
     ]
    }
   ],
   "source": [
    "Start = True\n",
    "print(Start)"
   ]
  },
  {
   "cell_type": "code",
   "execution_count": 2,
   "id": "68baadab",
   "metadata": {},
   "outputs": [
    {
     "name": "stdout",
     "output_type": "stream",
     "text": [
      "False\n"
     ]
    }
   ],
   "source": [
    "Start = True\n",
    "print(not Start)"
   ]
  },
  {
   "cell_type": "code",
   "execution_count": 3,
   "id": "8929e71e",
   "metadata": {},
   "outputs": [
    {
     "name": "stdout",
     "output_type": "stream",
     "text": [
      "Let's Concentrate\n"
     ]
    }
   ],
   "source": [
    "class_started = True\n",
    "\n",
    "if class_started:\n",
    "    print(\"Let's Concentrate\")"
   ]
  },
  {
   "cell_type": "code",
   "execution_count": 4,
   "id": "55cb9b00",
   "metadata": {},
   "outputs": [
    {
     "name": "stdout",
     "output_type": "stream",
     "text": [
      "Let's revise\n"
     ]
    }
   ],
   "source": [
    "class_started = False\n",
    "\n",
    "if class_started:\n",
    "    print(\"Let's Concentrate\")\n",
    "else:\n",
    "    print(\"Let's revise\")"
   ]
  },
  {
   "cell_type": "code",
   "execution_count": 5,
   "id": "b3ccb14b",
   "metadata": {},
   "outputs": [
    {
     "name": "stdout",
     "output_type": "stream",
     "text": [
      "Let's Concentrate\n"
     ]
    }
   ],
   "source": [
    "class_started = False\n",
    "\n",
    "if not class_started:\n",
    "    print(\"Let's Concentrate\")\n",
    "else:\n",
    "    print(\"Let's revise\")"
   ]
  },
  {
   "cell_type": "code",
   "execution_count": 6,
   "id": "0cce328e",
   "metadata": {},
   "outputs": [
    {
     "name": "stdout",
     "output_type": "stream",
     "text": [
      "Let's revise\n"
     ]
    }
   ],
   "source": [
    "class_started = True\n",
    "\n",
    "if not class_started:\n",
    "    print(\"Let's Concentrate\")\n",
    "else:\n",
    "    print(\"Let's revise\")"
   ]
  },
  {
   "cell_type": "code",
   "execution_count": 12,
   "id": "12a45447",
   "metadata": {},
   "outputs": [
    {
     "name": "stdout",
     "output_type": "stream",
     "text": [
      "Hey friend, is class started? [True/False]False\n",
      "Let's Concentrate\n"
     ]
    }
   ],
   "source": [
    "class_started = bool(input(\"Hey friend, is class started? [True/False]\"))\n",
    "\n",
    "if class_started:\n",
    "    print(\"Let's Concentrate\")\n",
    "else:\n",
    "    print(\"Let's revise\")"
   ]
  },
  {
   "cell_type": "markdown",
   "id": "272f5384",
   "metadata": {},
   "source": [
    "### and - Conditional AND"
   ]
  },
  {
   "cell_type": "code",
   "execution_count": 13,
   "id": "f0dad4b1",
   "metadata": {},
   "outputs": [
    {
     "name": "stdout",
     "output_type": "stream",
     "text": [
      "It's a bad dish\n",
      " because vegetable present: False\n",
      " because salt present: False\n"
     ]
    }
   ],
   "source": [
    "vegetable_present = False\n",
    "salt_present = False\n",
    "\n",
    "if vegetable_present and salt_present:\n",
    "    print(\"It's a good dish.\")\n",
    "else:\n",
    "    print(\"It's a bad dish\")\n",
    "    print(f\" because vegetable present: {vegetable_present}\")\n",
    "    print(f\" because salt present: {salt_present}\")\n",
    "    "
   ]
  },
  {
   "cell_type": "code",
   "execution_count": 14,
   "id": "d6b104d3",
   "metadata": {},
   "outputs": [
    {
     "name": "stdout",
     "output_type": "stream",
     "text": [
      "It's a bad dish\n",
      " because vegetable present: False\n",
      " because salt present: True\n"
     ]
    }
   ],
   "source": [
    "vegetable_present = False\n",
    "salt_present = True\n",
    "\n",
    "if vegetable_present and salt_present:\n",
    "    print(\"It's a good dish.\")\n",
    "else:\n",
    "    print(\"It's a bad dish\")\n",
    "    print(f\" because vegetable present: {vegetable_present}\")\n",
    "    print(f\" because salt present: {salt_present}\")"
   ]
  },
  {
   "cell_type": "code",
   "execution_count": 15,
   "id": "214be45e",
   "metadata": {},
   "outputs": [
    {
     "name": "stdout",
     "output_type": "stream",
     "text": [
      "It's a bad dish\n",
      " because vegetable present: True\n",
      " because salt present: False\n"
     ]
    }
   ],
   "source": [
    "vegetable_present = True\n",
    "salt_present = False\n",
    "\n",
    "if vegetable_present and salt_present:\n",
    "    print(\"It's a good dish.\")\n",
    "else:\n",
    "    print(\"It's a bad dish\")\n",
    "    print(f\" because vegetable present: {vegetable_present}\")\n",
    "    print(f\" because salt present: {salt_present}\")"
   ]
  },
  {
   "cell_type": "code",
   "execution_count": 16,
   "id": "a63f50bf",
   "metadata": {},
   "outputs": [
    {
     "name": "stdout",
     "output_type": "stream",
     "text": [
      "It's a good dish.\n"
     ]
    }
   ],
   "source": [
    "vegetable_present = True\n",
    "salt_present = True\n",
    "\n",
    "if vegetable_present and salt_present:\n",
    "    print(\"It's a good dish.\")\n",
    "else:\n",
    "    print(\"It's a bad dish\")\n",
    "    print(f\" because vegetable present: {vegetable_present}\")\n",
    "    print(f\" because salt present: {salt_present}\")"
   ]
  },
  {
   "cell_type": "markdown",
   "id": "c159b0fb",
   "metadata": {},
   "source": [
    "### or - Conditional OR"
   ]
  },
  {
   "cell_type": "code",
   "execution_count": 17,
   "id": "72dc16a0",
   "metadata": {},
   "outputs": [
    {
     "name": "stdout",
     "output_type": "stream",
     "text": [
      "I cannot travel 100Kms\n"
     ]
    }
   ],
   "source": [
    "car_available = False\n",
    "bike_available = False\n",
    "if car_available or bike_available:\n",
    "    print(\"I can travel 100Kms\")\n",
    "else:\n",
    "    print(\"I cannot travel 100Kms\")\n",
    "    "
   ]
  },
  {
   "cell_type": "code",
   "execution_count": 18,
   "id": "bcaabbba",
   "metadata": {},
   "outputs": [
    {
     "name": "stdout",
     "output_type": "stream",
     "text": [
      "I can travel 100Kms\n"
     ]
    }
   ],
   "source": [
    "car_available = True\n",
    "bike_available = False\n",
    "if car_available or bike_available:\n",
    "    print(\"I can travel 100Kms\")\n",
    "else:\n",
    "    print(\"I cannot travel 100Kms\")\n",
    "    "
   ]
  },
  {
   "cell_type": "code",
   "execution_count": 19,
   "id": "aba43e6c",
   "metadata": {},
   "outputs": [
    {
     "name": "stdout",
     "output_type": "stream",
     "text": [
      "I can travel 100Kms\n"
     ]
    }
   ],
   "source": [
    "car_available = False\n",
    "bike_available = True\n",
    "if car_available or bike_available:\n",
    "    print(\"I can travel 100Kms\")\n",
    "else:\n",
    "    print(\"I cannot travel 100Kms\")"
   ]
  },
  {
   "cell_type": "code",
   "execution_count": 20,
   "id": "32c6dcd2",
   "metadata": {},
   "outputs": [
    {
     "name": "stdout",
     "output_type": "stream",
     "text": [
      "I can travel 100Kms\n"
     ]
    }
   ],
   "source": [
    "car_available = True\n",
    "bike_available = True\n",
    "if car_available or bike_available:\n",
    "    print(\"I can travel 100Kms\")\n",
    "else:\n",
    "    print(\"I cannot travel 100Kms\")"
   ]
  },
  {
   "cell_type": "markdown",
   "id": "703b1c45",
   "metadata": {},
   "source": [
    "## Conclusion  \n",
    "### use and operator when you want all the conditions to be true\n",
    "### use or operator when you want any one condition to be true"
   ]
  },
  {
   "cell_type": "markdown",
   "id": "ed1ed461",
   "metadata": {},
   "source": [
    "### Example:\n",
    "\n",
    "attendece | assignment | eligible_for_exam\n",
    "- | - | - \n",
    ">=75% | >=70% | True"
   ]
  },
  {
   "cell_type": "code",
   "execution_count": 22,
   "id": "6f262309",
   "metadata": {},
   "outputs": [
    {
     "name": "stdout",
     "output_type": "stream",
     "text": [
      "You're not eligible\n"
     ]
    }
   ],
   "source": [
    "attendance = 70\n",
    "assignment = 40\n",
    "\n",
    "if attendance >=75 and assignment >=70:\n",
    "    print(\"You're eligible\")\n",
    "else:\n",
    "    print(\"You're not eligible\")"
   ]
  },
  {
   "cell_type": "code",
   "execution_count": 23,
   "id": "852ab6c0",
   "metadata": {},
   "outputs": [
    {
     "name": "stdout",
     "output_type": "stream",
     "text": [
      "You're not eligible\n"
     ]
    }
   ],
   "source": [
    "attendance = 90\n",
    "assignment = 40\n",
    "\n",
    "if attendance >=75 and assignment >=70:\n",
    "    print(\"You're eligible\")\n",
    "else:\n",
    "    print(\"You're not eligible\")"
   ]
  },
  {
   "cell_type": "code",
   "execution_count": 24,
   "id": "9ab5aa07",
   "metadata": {},
   "outputs": [
    {
     "name": "stdout",
     "output_type": "stream",
     "text": [
      "You're eligible\n"
     ]
    }
   ],
   "source": [
    "attendance = 80\n",
    "assignment = 90\n",
    "\n",
    "if attendance >=75 and assignment >=70:\n",
    "    print(\"You're eligible\")\n",
    "else:\n",
    "    print(\"You're not eligible\")"
   ]
  },
  {
   "cell_type": "markdown",
   "id": "21479dc8",
   "metadata": {},
   "source": [
    "### Example:\n",
    "\n",
    "credit_card | debit_card | purchase_book_from_amazon\n",
    "- | - | - \n",
    "True | True | True\n",
    "True | False | True\n",
    "False | False | False"
   ]
  },
  {
   "cell_type": "code",
   "execution_count": 25,
   "id": "6380ee51",
   "metadata": {},
   "outputs": [
    {
     "name": "stdout",
     "output_type": "stream",
     "text": [
      "Ask your Dad for a credit or debit card\n"
     ]
    }
   ],
   "source": [
    "own_credit_card = False\n",
    "own_debit_card = False\n",
    "\n",
    "if own_credit_card or own_debit_card:\n",
    "    print(\"Proceed further for payment\")\n",
    "else:\n",
    "    print(\"Ask your Dad for a credit or debit card\")"
   ]
  },
  {
   "cell_type": "code",
   "execution_count": 26,
   "id": "ccdc5757",
   "metadata": {},
   "outputs": [
    {
     "name": "stdout",
     "output_type": "stream",
     "text": [
      "Proceed further for payment\n"
     ]
    }
   ],
   "source": [
    "own_credit_card = True\n",
    "own_debit_card = False\n",
    "\n",
    "if own_credit_card or own_debit_card:\n",
    "    print(\"Proceed further for payment\")\n",
    "else:\n",
    "    print(\"Ask your Dad for a credit or debit card\")"
   ]
  },
  {
   "cell_type": "code",
   "execution_count": 27,
   "id": "e859993d",
   "metadata": {},
   "outputs": [
    {
     "name": "stdout",
     "output_type": "stream",
     "text": [
      "Proceed further for payment\n"
     ]
    }
   ],
   "source": [
    "own_credit_card = False\n",
    "own_debit_card = False\n",
    "own_UPI = True\n",
    "\n",
    "if own_credit_card or own_debit_card or own_UPI:\n",
    "    print(\"Proceed further for payment\")\n",
    "else:\n",
    "    print(\"Ask your Dad for a credit or debit card\")"
   ]
  },
  {
   "cell_type": "markdown",
   "id": "e77bab5d",
   "metadata": {},
   "source": [
    "#### Complex Conditional"
   ]
  },
  {
   "cell_type": "markdown",
   "id": "ec4bd9b0",
   "metadata": {},
   "source": [
    "attendece | assignment | Sports_player | eligible_for_exam\n",
    "- | - | - | - \n",
    ">=75% | >=70% | True | True"
   ]
  },
  {
   "cell_type": "code",
   "execution_count": 32,
   "id": "748e8cae",
   "metadata": {},
   "outputs": [
    {
     "name": "stdout",
     "output_type": "stream",
     "text": [
      "You're eligible and get grace marks of 10\n"
     ]
    }
   ],
   "source": [
    "attendance = 90\n",
    "assignment = 80\n",
    "sports_player = True\n",
    "\n",
    "if attendance >=75 and assignment >=70:\n",
    "    if sports_player:\n",
    "        print(\"You're eligible and get grace marks of 10\")\n",
    "    else:\n",
    "        print(\"You're eligible but you don't get grace marks\")\n",
    "else:\n",
    "    print(\"You're not eligible\")"
   ]
  },
  {
   "cell_type": "code",
   "execution_count": 33,
   "id": "5ccd74a3",
   "metadata": {},
   "outputs": [
    {
     "name": "stdout",
     "output_type": "stream",
     "text": [
      "You're eligible but you don't get grace marks\n"
     ]
    }
   ],
   "source": [
    "attendance = 90\n",
    "assignment = 80\n",
    "sports_player = False\n",
    "\n",
    "if attendance >=75 and assignment >=70:\n",
    "    if sports_player:\n",
    "        print(\"You're eligible and get grace marks of 10\")\n",
    "    else:\n",
    "        print(\"You're eligible but you don't get grace marks\")\n",
    "else:\n",
    "    print(\"You're not eligible\")"
   ]
  },
  {
   "cell_type": "markdown",
   "id": "524e4c13",
   "metadata": {},
   "source": [
    "## Equality Operators"
   ]
  },
  {
   "cell_type": "markdown",
   "id": "92b07922",
   "metadata": {},
   "source": [
    "operator | uses | meaning\n",
    "- | - | -\n",
    "is | a is b  | return True if a and b points to the same object\n",
    "is not | a is not b | returns True if a and b do not point to the same object\n",
    "== | a==b | a is equal to b\n",
    "!= | a | a is not equal to b"
   ]
  },
  {
   "cell_type": "code",
   "execution_count": 34,
   "id": "ce61afec",
   "metadata": {},
   "outputs": [
    {
     "name": "stdout",
     "output_type": "stream",
     "text": [
      "A and B are same\n"
     ]
    }
   ],
   "source": [
    "A = 1\n",
    "B = 1\n",
    "if A is B:\n",
    "    print(\"A and B are same\")\n",
    "else:\n",
    "    print(\"A and B are not same\")"
   ]
  },
  {
   "cell_type": "code",
   "execution_count": 35,
   "id": "e2f08253",
   "metadata": {},
   "outputs": [
    {
     "name": "stdout",
     "output_type": "stream",
     "text": [
      "A and B are not same\n"
     ]
    }
   ],
   "source": [
    "A = 1\n",
    "B = 2\n",
    "if A is B:\n",
    "    print(\"A and B are same\")\n",
    "else:\n",
    "    print(\"A and B are not same\")"
   ]
  },
  {
   "cell_type": "code",
   "execution_count": 36,
   "id": "494c2155",
   "metadata": {},
   "outputs": [
    {
     "name": "stdout",
     "output_type": "stream",
     "text": [
      "A and B are not same\n"
     ]
    }
   ],
   "source": [
    "A = 1\n",
    "B = 2\n",
    "if A is not B:\n",
    "    print(\"A and B are not same\")\n",
    "else:\n",
    "    print(\"A and B are same same\")"
   ]
  },
  {
   "cell_type": "code",
   "execution_count": 37,
   "id": "ab33b432",
   "metadata": {},
   "outputs": [
    {
     "name": "stdout",
     "output_type": "stream",
     "text": [
      "A and B are same same\n"
     ]
    }
   ],
   "source": [
    "A = 1\n",
    "B = 1\n",
    "if A is not B:\n",
    "    print(\"A and B are not same\")\n",
    "else:\n",
    "    print(\"A and B are same same\")"
   ]
  },
  {
   "cell_type": "code",
   "execution_count": 38,
   "id": "80445958",
   "metadata": {},
   "outputs": [
    {
     "name": "stdout",
     "output_type": "stream",
     "text": [
      "A and B are  same\n"
     ]
    }
   ],
   "source": [
    "A = 1\n",
    "B = 1\n",
    "if A == B:\n",
    "    print(\"A and B are  same\")\n",
    "else:\n",
    "    print(\"A and B are not same\")"
   ]
  },
  {
   "cell_type": "code",
   "execution_count": 39,
   "id": "42bd9f6e",
   "metadata": {},
   "outputs": [
    {
     "name": "stdout",
     "output_type": "stream",
     "text": [
      "A and B are  same\n"
     ]
    }
   ],
   "source": [
    "A = 1\n",
    "B = 1\n",
    "if A != B:\n",
    "    print(\"A and B are not same\")\n",
    "else:\n",
    "    print(\"A and B are  same\")"
   ]
  },
  {
   "cell_type": "code",
   "execution_count": 41,
   "id": "af16ae47",
   "metadata": {},
   "outputs": [
    {
     "name": "stdout",
     "output_type": "stream",
     "text": [
      "A and B are not same\n"
     ]
    }
   ],
   "source": [
    "A = 1\n",
    "B = 5\n",
    "if A != B:\n",
    "    print(\"A and B are not same\")\n",
    "else:\n",
    "    print(\"A and B are  same\")"
   ]
  },
  {
   "cell_type": "code",
   "execution_count": 43,
   "id": "1d45383f",
   "metadata": {},
   "outputs": [
    {
     "data": {
      "text/plain": [
       "True"
      ]
     },
     "execution_count": 43,
     "metadata": {},
     "output_type": "execute_result"
    }
   ],
   "source": [
    "x = \"Sunny\"\n",
    "y = \"Sunny\"\n",
    "x is y"
   ]
  },
  {
   "cell_type": "code",
   "execution_count": 44,
   "id": "e6fa936c",
   "metadata": {},
   "outputs": [
    {
     "data": {
      "text/plain": [
       "False"
      ]
     },
     "execution_count": 44,
     "metadata": {},
     "output_type": "execute_result"
    }
   ],
   "source": [
    "xx = [\"Rounak\", \"Sunny\", \"Krish\"]\n",
    "yy = [\"Rounak\", \"Sunny\", \"Krish\"]\n",
    "xx is yy"
   ]
  },
  {
   "cell_type": "markdown",
   "id": "52b00cd6",
   "metadata": {},
   "source": [
    "Python assign same lists to different memory location"
   ]
  },
  {
   "cell_type": "code",
   "execution_count": 45,
   "id": "71ebea93",
   "metadata": {},
   "outputs": [
    {
     "data": {
      "text/plain": [
       "1007531006272"
      ]
     },
     "execution_count": 45,
     "metadata": {},
     "output_type": "execute_result"
    }
   ],
   "source": [
    "id(xx)"
   ]
  },
  {
   "cell_type": "code",
   "execution_count": 47,
   "id": "7bda8d8a",
   "metadata": {},
   "outputs": [
    {
     "data": {
      "text/plain": [
       "1007550019648"
      ]
     },
     "execution_count": 47,
     "metadata": {},
     "output_type": "execute_result"
    }
   ],
   "source": [
    "id(yy)"
   ]
  },
  {
   "cell_type": "code",
   "execution_count": 48,
   "id": "fad60421",
   "metadata": {},
   "outputs": [
    {
     "name": "stdout",
     "output_type": "stream",
     "text": [
      "Enter a value: 1\n",
      "Enter a value: 2\n"
     ]
    },
    {
     "data": {
      "text/plain": [
       "False"
      ]
     },
     "execution_count": 48,
     "metadata": {},
     "output_type": "execute_result"
    }
   ],
   "source": [
    "num1 = int(input(\"Enter a value: \"))\n",
    "num2 = int(input(\"Enter a value: \"))\n",
    "num1 is num2"
   ]
  },
  {
   "cell_type": "code",
   "execution_count": 49,
   "id": "c02a640e",
   "metadata": {},
   "outputs": [
    {
     "name": "stdout",
     "output_type": "stream",
     "text": [
      "enter the name: Rounak\n",
      "Lives in Howrah\n"
     ]
    }
   ],
   "source": [
    "name = input(\"enter the name: \")\n",
    "if name == \"Rounak\":\n",
    "    print(\"Lives in Howrah\")\n",
    "else:\n",
    "    print(\"Not lives in Howrah\")"
   ]
  },
  {
   "cell_type": "markdown",
   "id": "2281ddb7",
   "metadata": {},
   "source": [
    "## Comparison Operator"
   ]
  },
  {
   "cell_type": "code",
   "execution_count": 50,
   "id": "750ba54e",
   "metadata": {},
   "outputs": [
    {
     "name": "stdout",
     "output_type": "stream",
     "text": [
      "Enter a number: 2\n",
      "Enter a number: 3\n",
      "3 is greater than 2\n"
     ]
    }
   ],
   "source": [
    "n1 = int(input(\"Enter a number: \"))\n",
    "n2 = int(input(\"Enter a number: \"))\n",
    "\n",
    "if n1>n2:\n",
    "    print(f\"{n1} is greater than {n2}\")\n",
    "else:\n",
    "    print(f\"{n2} is greater than {n1}\")\n",
    "            "
   ]
  },
  {
   "cell_type": "code",
   "execution_count": 51,
   "id": "3c9994ea",
   "metadata": {},
   "outputs": [
    {
     "name": "stdout",
     "output_type": "stream",
     "text": [
      "Since you've scored 40 you are passed\n"
     ]
    }
   ],
   "source": [
    "your_score = 40\n",
    "pass_marks = 33.33\n",
    "\n",
    "if your_score >= pass_marks:\n",
    "    print(f\"Since you've scored {your_score} you are passed\")\n",
    "else:\n",
    "    print(print(f\"Since you've scored {your_score} you so not qualify\"))"
   ]
  },
  {
   "cell_type": "code",
   "execution_count": 53,
   "id": "a9d426da",
   "metadata": {},
   "outputs": [
    {
     "name": "stdout",
     "output_type": "stream",
     "text": [
      "Since you've scored 89 you are passed\n",
      "You'll get scholarship\n"
     ]
    }
   ],
   "source": [
    "your_score = 89\n",
    "pass_marks = 33.33\n",
    "distinction_marks = 75\n",
    "\n",
    "if your_score >= pass_marks:\n",
    "    print(f\"Since you've scored {your_score} you are passed\")\n",
    "    if your_score > distinction_marks:\n",
    "        print(\"You'll get scholarship\")\n",
    "else:\n",
    "    print(print(f\"Since you've scored {your_score} you so not qualify\"))"
   ]
  },
  {
   "cell_type": "code",
   "execution_count": null,
   "id": "72ef2535",
   "metadata": {},
   "outputs": [],
   "source": []
  }
 ],
 "metadata": {
  "kernelspec": {
   "display_name": "Python 3 (ipykernel)",
   "language": "python",
   "name": "python3"
  },
  "language_info": {
   "codemirror_mode": {
    "name": "ipython",
    "version": 3
   },
   "file_extension": ".py",
   "mimetype": "text/x-python",
   "name": "python",
   "nbconvert_exporter": "python",
   "pygments_lexer": "ipython3",
   "version": "3.9.13"
  }
 },
 "nbformat": 4,
 "nbformat_minor": 5
}
