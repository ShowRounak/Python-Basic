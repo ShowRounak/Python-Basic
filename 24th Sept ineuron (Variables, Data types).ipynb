{
 "cells": [
  {
   "cell_type": "code",
   "execution_count": 1,
   "id": "ae1be544",
   "metadata": {},
   "outputs": [
    {
     "name": "stdout",
     "output_type": "stream",
     "text": [
      "Hello World\n"
     ]
    }
   ],
   "source": [
    "print(\"Hello World\")"
   ]
  },
  {
   "cell_type": "markdown",
   "id": "3ac8ade1",
   "metadata": {},
   "source": [
    "## Write Multiline Code\n"
   ]
  },
  {
   "cell_type": "code",
   "execution_count": 2,
   "id": "708db958",
   "metadata": {},
   "outputs": [
    {
     "name": "stdout",
     "output_type": "stream",
     "text": [
      " TVZion is an android video streaming platform that offers free streaming of films and series. It includes a big library of HD films, TV shows, and other video content, etc. In contrast, the app offers a tonne of useful functions and is quite simple to use.\n",
      "\n"
     ]
    }
   ],
   "source": [
    "print(\"\"\" TVZion is an android video streaming platform that offers free streaming of films and series. It includes a big library of HD films, TV shows, and other video content, etc. In contrast, the app offers a tonne of useful functions and is quite simple to use.\n",
    "\"\"\")"
   ]
  },
  {
   "cell_type": "code",
   "execution_count": 3,
   "id": "9a11f2ed",
   "metadata": {},
   "outputs": [
    {
     "ename": "SyntaxError",
     "evalue": "invalid syntax (Temp/ipykernel_1496/3537112213.py, line 1)",
     "output_type": "error",
     "traceback": [
      "\u001b[1;36m  File \u001b[1;32m\"C:\\Users\\RABIND~1\\AppData\\Local\\Temp/ipykernel_1496/3537112213.py\"\u001b[1;36m, line \u001b[1;32m1\u001b[0m\n\u001b[1;33m    print(\"my name is \"rik\" \")\u001b[0m\n\u001b[1;37m                       ^\u001b[0m\n\u001b[1;31mSyntaxError\u001b[0m\u001b[1;31m:\u001b[0m invalid syntax\n"
     ]
    }
   ],
   "source": [
    "print(\"my name is \"rik\" \")"
   ]
  },
  {
   "cell_type": "code",
   "execution_count": 4,
   "id": "1a93712d",
   "metadata": {},
   "outputs": [
    {
     "name": "stdout",
     "output_type": "stream",
     "text": [
      " my name is \"Rik\"\n"
     ]
    }
   ],
   "source": [
    "print(' my name is \"Rik\"')"
   ]
  },
  {
   "cell_type": "code",
   "execution_count": 6,
   "id": "40858cba",
   "metadata": {},
   "outputs": [
    {
     "name": "stdout",
     "output_type": "stream",
     "text": [
      " my name is \"rik\" \n"
     ]
    }
   ],
   "source": [
    "print(\"\"\" my name is \"rik\" \"\"\")"
   ]
  },
  {
   "cell_type": "code",
   "execution_count": 7,
   "id": "041fa9e6",
   "metadata": {},
   "outputs": [
    {
     "data": {
      "text/plain": [
       "2500"
      ]
     },
     "execution_count": 7,
     "metadata": {},
     "output_type": "execute_result"
    }
   ],
   "source": [
    "50**2 #square of a number"
   ]
  },
  {
   "cell_type": "code",
   "execution_count": 8,
   "id": "f03e1378",
   "metadata": {},
   "outputs": [
    {
     "data": {
      "text/plain": [
       "1"
      ]
     },
     "execution_count": 8,
     "metadata": {},
     "output_type": "execute_result"
    }
   ],
   "source": [
    "123%2 #modulo operator which gives remainder of a calculation"
   ]
  },
  {
   "cell_type": "code",
   "execution_count": 9,
   "id": "e990f94c",
   "metadata": {},
   "outputs": [
    {
     "name": "stdout",
     "output_type": "stream",
     "text": [
      "Result\n"
     ]
    }
   ],
   "source": [
    "111*121\n",
    "print(\"Result\")"
   ]
  },
  {
   "cell_type": "code",
   "execution_count": 10,
   "id": "7d93b679",
   "metadata": {},
   "outputs": [
    {
     "name": "stdout",
     "output_type": "stream",
     "text": [
      "13431\n",
      "Result\n"
     ]
    }
   ],
   "source": [
    "print(111*121)\n",
    "print(\"Result\")"
   ]
  },
  {
   "cell_type": "code",
   "execution_count": 11,
   "id": "54e3e25f",
   "metadata": {},
   "outputs": [
    {
     "name": "stdout",
     "output_type": "stream",
     "text": [
      "111*121\n",
      "Result\n"
     ]
    }
   ],
   "source": [
    "print(\"111*121\")\n",
    "print(\"Result\")"
   ]
  },
  {
   "cell_type": "markdown",
   "id": "e5f3bb71",
   "metadata": {},
   "source": [
    "# Variables in Python"
   ]
  },
  {
   "cell_type": "code",
   "execution_count": 13,
   "id": "10a926db",
   "metadata": {},
   "outputs": [],
   "source": [
    "x = 10"
   ]
  },
  {
   "cell_type": "code",
   "execution_count": 14,
   "id": "4365a846",
   "metadata": {},
   "outputs": [
    {
     "name": "stdout",
     "output_type": "stream",
     "text": [
      "10\n"
     ]
    }
   ],
   "source": [
    "print(x)"
   ]
  },
  {
   "cell_type": "code",
   "execution_count": 15,
   "id": "8f011b4d",
   "metadata": {},
   "outputs": [],
   "source": [
    "y = 20"
   ]
  },
  {
   "cell_type": "code",
   "execution_count": 16,
   "id": "4d713bf5",
   "metadata": {},
   "outputs": [
    {
     "name": "stdout",
     "output_type": "stream",
     "text": [
      "20\n"
     ]
    }
   ],
   "source": [
    "print(y)"
   ]
  },
  {
   "cell_type": "code",
   "execution_count": 17,
   "id": "5b8be6a9",
   "metadata": {},
   "outputs": [
    {
     "name": "stdout",
     "output_type": "stream",
     "text": [
      "30\n"
     ]
    }
   ],
   "source": [
    "print(x + y)"
   ]
  },
  {
   "cell_type": "markdown",
   "id": "4de56a59",
   "metadata": {},
   "source": [
    "# 1. Variable name starts with alphabets\n",
    "# 2. Variable names should not contain special characters such as > % # * $ ^ ()\n",
    "# 3. Variable names can contains numbers but you can't start with numbers\n",
    "# 4. It's recommended to start the variable name with small letters"
   ]
  },
  {
   "cell_type": "code",
   "execution_count": 20,
   "id": "c3103f41",
   "metadata": {},
   "outputs": [],
   "source": [
    "ten10 = 10"
   ]
  },
  {
   "cell_type": "code",
   "execution_count": 21,
   "id": "27a3059f",
   "metadata": {},
   "outputs": [],
   "source": [
    "_num = 10 #hidden variable"
   ]
  },
  {
   "cell_type": "code",
   "execution_count": 22,
   "id": "ac16e49f",
   "metadata": {},
   "outputs": [
    {
     "ename": "SyntaxError",
     "evalue": "invalid syntax (Temp/ipykernel_1496/3011706180.py, line 1)",
     "output_type": "error",
     "traceback": [
      "\u001b[1;36m  File \u001b[1;32m\"C:\\Users\\RABIND~1\\AppData\\Local\\Temp/ipykernel_1496/3011706180.py\"\u001b[1;36m, line \u001b[1;32m1\u001b[0m\n\u001b[1;33m    10ten = 10\u001b[0m\n\u001b[1;37m      ^\u001b[0m\n\u001b[1;31mSyntaxError\u001b[0m\u001b[1;31m:\u001b[0m invalid syntax\n"
     ]
    }
   ],
   "source": [
    "10ten = 10"
   ]
  },
  {
   "cell_type": "code",
   "execution_count": 23,
   "id": "45a7640f",
   "metadata": {},
   "outputs": [
    {
     "ename": "SyntaxError",
     "evalue": "cannot assign to operator (Temp/ipykernel_1496/3270502291.py, line 1)",
     "output_type": "error",
     "traceback": [
      "\u001b[1;36m  File \u001b[1;32m\"C:\\Users\\RABIND~1\\AppData\\Local\\Temp/ipykernel_1496/3270502291.py\"\u001b[1;36m, line \u001b[1;32m1\u001b[0m\n\u001b[1;33m    ten*numb= 10\u001b[0m\n\u001b[1;37m    ^\u001b[0m\n\u001b[1;31mSyntaxError\u001b[0m\u001b[1;31m:\u001b[0m cannot assign to operator\n"
     ]
    }
   ],
   "source": [
    "ten*numb= 10"
   ]
  },
  {
   "cell_type": "code",
   "execution_count": 24,
   "id": "1c484cbd",
   "metadata": {},
   "outputs": [
    {
     "ename": "SyntaxError",
     "evalue": "invalid syntax (Temp/ipykernel_1496/2262126045.py, line 1)",
     "output_type": "error",
     "traceback": [
      "\u001b[1;36m  File \u001b[1;32m\"C:\\Users\\RABIND~1\\AppData\\Local\\Temp/ipykernel_1496/2262126045.py\"\u001b[1;36m, line \u001b[1;32m1\u001b[0m\n\u001b[1;33m    ten number = 10\u001b[0m\n\u001b[1;37m        ^\u001b[0m\n\u001b[1;31mSyntaxError\u001b[0m\u001b[1;31m:\u001b[0m invalid syntax\n"
     ]
    }
   ],
   "source": [
    "ten number = 10"
   ]
  },
  {
   "cell_type": "code",
   "execution_count": 26,
   "id": "34a16b23",
   "metadata": {},
   "outputs": [],
   "source": [
    "ten_num = 10"
   ]
  },
  {
   "cell_type": "code",
   "execution_count": 27,
   "id": "9fa34ba4",
   "metadata": {},
   "outputs": [],
   "source": [
    "_ = 11 #Dummy variable"
   ]
  },
  {
   "cell_type": "markdown",
   "id": "059d21b2",
   "metadata": {},
   "source": [
    "## Dynamic typing"
   ]
  },
  {
   "cell_type": "code",
   "execution_count": 28,
   "id": "086b03e0",
   "metadata": {},
   "outputs": [
    {
     "name": "stdout",
     "output_type": "stream",
     "text": [
      "<class 'int'>\n",
      "<class 'float'>\n"
     ]
    }
   ],
   "source": [
    "a = 22\n",
    "print(type(a))\n",
    "a = 22.5\n",
    "print(type(a))"
   ]
  },
  {
   "cell_type": "code",
   "execution_count": 34,
   "id": "3c94dbfc",
   "metadata": {},
   "outputs": [
    {
     "ename": "TypeError",
     "evalue": "can only concatenate str (not \"int\") to str",
     "output_type": "error",
     "traceback": [
      "\u001b[1;31m---------------------------------------------------------------------------\u001b[0m",
      "\u001b[1;31mTypeError\u001b[0m                                 Traceback (most recent call last)",
      "\u001b[1;32mC:\\Users\\RABIND~1\\AppData\\Local\\Temp/ipykernel_1496/2938252991.py\u001b[0m in \u001b[0;36m<module>\u001b[1;34m\u001b[0m\n\u001b[0;32m      1\u001b[0m \u001b[0mlang\u001b[0m \u001b[1;33m=\u001b[0m \u001b[1;36m2\u001b[0m\u001b[1;33m\u001b[0m\u001b[1;33m\u001b[0m\u001b[0m\n\u001b[1;32m----> 2\u001b[1;33m \u001b[0mprint\u001b[0m\u001b[1;33m(\u001b[0m\u001b[1;34m\"it is \"\u001b[0m \u001b[1;33m+\u001b[0m \u001b[0mlang\u001b[0m \u001b[1;33m+\u001b[0m \u001b[1;34m\" in number\"\u001b[0m\u001b[1;33m)\u001b[0m\u001b[1;33m\u001b[0m\u001b[1;33m\u001b[0m\u001b[0m\n\u001b[0m",
      "\u001b[1;31mTypeError\u001b[0m: can only concatenate str (not \"int\") to str"
     ]
    }
   ],
   "source": [
    "lang = 2\n",
    "print(\"it is \" + lang + \" in number\")"
   ]
  },
  {
   "cell_type": "code",
   "execution_count": null,
   "id": "c59e1c86",
   "metadata": {},
   "outputs": [],
   "source": []
  }
 ],
 "metadata": {
  "kernelspec": {
   "display_name": "Python 3 (ipykernel)",
   "language": "python",
   "name": "python3"
  },
  "language_info": {
   "codemirror_mode": {
    "name": "ipython",
    "version": 3
   },
   "file_extension": ".py",
   "mimetype": "text/x-python",
   "name": "python",
   "nbconvert_exporter": "python",
   "pygments_lexer": "ipython3",
   "version": "3.9.13"
  }
 },
 "nbformat": 4,
 "nbformat_minor": 5
}
