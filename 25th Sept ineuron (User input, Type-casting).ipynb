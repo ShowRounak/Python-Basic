{
 "cells": [
  {
   "cell_type": "markdown",
   "id": "fae1c4ba",
   "metadata": {},
   "source": [
    "# AGENDA\n",
    "## 1. Variable Case Sensitivity\n",
    "## 2. Reserved Words in Python\n",
    "## 3. Multi assignment of Variables\n",
    "## 4. How to take user input?\n",
    "## 5. What is type-casting or type-conversion\n",
    "## 6. Memory block\n",
    "## 7. Operators (logical, equality, comparison, arithmatic, bitwise, operators for set theory)\n",
    "## 8. String methods"
   ]
  },
  {
   "cell_type": "markdown",
   "id": "75526cbd",
   "metadata": {},
   "source": [
    "### Variable Case Sensitivity"
   ]
  },
  {
   "cell_type": "code",
   "execution_count": 1,
   "id": "7ee1fae9",
   "metadata": {},
   "outputs": [],
   "source": [
    "TEN= 10\n",
    "ten = 20\n",
    "# TEN and ten both are different in terms of lowercase and uppercase letters"
   ]
  },
  {
   "cell_type": "code",
   "execution_count": 2,
   "id": "33e740d7",
   "metadata": {},
   "outputs": [
    {
     "ename": "NameError",
     "evalue": "name 'Ten' is not defined",
     "output_type": "error",
     "traceback": [
      "\u001b[1;31m---------------------------------------------------------------------------\u001b[0m",
      "\u001b[1;31mNameError\u001b[0m                                 Traceback (most recent call last)",
      "\u001b[1;32mC:\\Users\\RABIND~1\\AppData\\Local\\Temp/ipykernel_6992/2448699138.py\u001b[0m in \u001b[0;36m<module>\u001b[1;34m\u001b[0m\n\u001b[1;32m----> 1\u001b[1;33m \u001b[0mprint\u001b[0m\u001b[1;33m(\u001b[0m\u001b[0mTen\u001b[0m\u001b[1;33m)\u001b[0m\u001b[1;33m\u001b[0m\u001b[1;33m\u001b[0m\u001b[0m\n\u001b[0m",
      "\u001b[1;31mNameError\u001b[0m: name 'Ten' is not defined"
     ]
    }
   ],
   "source": [
    "print(Ten)"
   ]
  },
  {
   "cell_type": "code",
   "execution_count": 3,
   "id": "5d13f53c",
   "metadata": {},
   "outputs": [
    {
     "data": {
      "text/plain": [
       "10"
      ]
     },
     "execution_count": 3,
     "metadata": {},
     "output_type": "execute_result"
    }
   ],
   "source": [
    "TEN"
   ]
  },
  {
   "cell_type": "markdown",
   "id": "b877cfde",
   "metadata": {},
   "source": [
    "### Reserved words in Python"
   ]
  },
  {
   "cell_type": "code",
   "execution_count": 4,
   "id": "3a3cc0c2",
   "metadata": {},
   "outputs": [
    {
     "name": "stdout",
     "output_type": "stream",
     "text": [
      "Hi\n"
     ]
    }
   ],
   "source": [
    "print(\"Hi\")"
   ]
  },
  {
   "cell_type": "code",
   "execution_count": 7,
   "id": "ad2748d1",
   "metadata": {},
   "outputs": [
    {
     "data": {
      "text/plain": [
       "str"
      ]
     },
     "execution_count": 7,
     "metadata": {},
     "output_type": "execute_result"
    }
   ],
   "source": [
    "print = \"Ji\" # use as a variable\n",
    "type(print)"
   ]
  },
  {
   "cell_type": "code",
   "execution_count": 6,
   "id": "69863e56",
   "metadata": {},
   "outputs": [
    {
     "ename": "TypeError",
     "evalue": "'str' object is not callable",
     "output_type": "error",
     "traceback": [
      "\u001b[1;31m---------------------------------------------------------------------------\u001b[0m",
      "\u001b[1;31mTypeError\u001b[0m                                 Traceback (most recent call last)",
      "\u001b[1;32mC:\\Users\\RABIND~1\\AppData\\Local\\Temp/ipykernel_6992/315542987.py\u001b[0m in \u001b[0;36m<module>\u001b[1;34m\u001b[0m\n\u001b[1;32m----> 1\u001b[1;33m \u001b[0mprint\u001b[0m\u001b[1;33m(\u001b[0m\u001b[1;34m\"Hi\"\u001b[0m\u001b[1;33m)\u001b[0m\u001b[1;33m\u001b[0m\u001b[1;33m\u001b[0m\u001b[0m\n\u001b[0m",
      "\u001b[1;31mTypeError\u001b[0m: 'str' object is not callable"
     ]
    }
   ],
   "source": [
    "print(\"Hi\")"
   ]
  },
  {
   "cell_type": "code",
   "execution_count": 8,
   "id": "bdb5cec6",
   "metadata": {},
   "outputs": [],
   "source": [
    "## We should not use reserved words as variable names\n",
    "## Also python does not restrict users to use reserved keywords as variable names"
   ]
  },
  {
   "cell_type": "code",
   "execution_count": 9,
   "id": "2afcb06a",
   "metadata": {},
   "outputs": [],
   "source": [
    "## in this case we have to restart our kernal"
   ]
  },
  {
   "cell_type": "code",
   "execution_count": 10,
   "id": "0a56bd0c",
   "metadata": {},
   "outputs": [],
   "source": [
    "## or we can use del keyword\n"
   ]
  },
  {
   "cell_type": "code",
   "execution_count": 13,
   "id": "c266a475",
   "metadata": {},
   "outputs": [
    {
     "data": {
      "text/plain": [
       "int"
      ]
     },
     "execution_count": 13,
     "metadata": {},
     "output_type": "execute_result"
    }
   ],
   "source": [
    "print = 112\n",
    "type(print)"
   ]
  },
  {
   "cell_type": "code",
   "execution_count": 14,
   "id": "0cd7d44f",
   "metadata": {},
   "outputs": [
    {
     "ename": "TypeError",
     "evalue": "'int' object is not callable",
     "output_type": "error",
     "traceback": [
      "\u001b[1;31m---------------------------------------------------------------------------\u001b[0m",
      "\u001b[1;31mTypeError\u001b[0m                                 Traceback (most recent call last)",
      "\u001b[1;32mC:\\Users\\RABIND~1\\AppData\\Local\\Temp/ipykernel_6992/1408371229.py\u001b[0m in \u001b[0;36m<module>\u001b[1;34m\u001b[0m\n\u001b[1;32m----> 1\u001b[1;33m \u001b[0mprint\u001b[0m\u001b[1;33m(\u001b[0m\u001b[1;34m\"Hi there\"\u001b[0m\u001b[1;33m)\u001b[0m\u001b[1;33m\u001b[0m\u001b[1;33m\u001b[0m\u001b[0m\n\u001b[0m",
      "\u001b[1;31mTypeError\u001b[0m: 'int' object is not callable"
     ]
    }
   ],
   "source": [
    "print(\"Hi there\")"
   ]
  },
  {
   "cell_type": "code",
   "execution_count": 15,
   "id": "f5b06c65",
   "metadata": {},
   "outputs": [],
   "source": [
    "del print #delete the print variable"
   ]
  },
  {
   "cell_type": "code",
   "execution_count": 16,
   "id": "a1a0da28",
   "metadata": {},
   "outputs": [],
   "source": [
    "# list of reserved keywords in python are given in the spreadsheet"
   ]
  },
  {
   "cell_type": "markdown",
   "id": "0718e40a",
   "metadata": {},
   "source": [
    "## Multi assignment of Variables"
   ]
  },
  {
   "cell_type": "code",
   "execution_count": 22,
   "id": "28f311b1",
   "metadata": {},
   "outputs": [],
   "source": [
    "a, b, c, yes = 10 ,20.22 , \"Rik\" , True"
   ]
  },
  {
   "cell_type": "code",
   "execution_count": 18,
   "id": "7ff4894c",
   "metadata": {},
   "outputs": [
    {
     "data": {
      "text/plain": [
       "int"
      ]
     },
     "execution_count": 18,
     "metadata": {},
     "output_type": "execute_result"
    }
   ],
   "source": [
    "type(a)"
   ]
  },
  {
   "cell_type": "code",
   "execution_count": 19,
   "id": "bafee9d2",
   "metadata": {},
   "outputs": [
    {
     "data": {
      "text/plain": [
       "str"
      ]
     },
     "execution_count": 19,
     "metadata": {},
     "output_type": "execute_result"
    }
   ],
   "source": [
    "type(c)"
   ]
  },
  {
   "cell_type": "code",
   "execution_count": 21,
   "id": "042add68",
   "metadata": {},
   "outputs": [
    {
     "data": {
      "text/plain": [
       "bool"
      ]
     },
     "execution_count": 21,
     "metadata": {},
     "output_type": "execute_result"
    }
   ],
   "source": [
    "type(yes)"
   ]
  },
  {
   "cell_type": "code",
   "execution_count": 23,
   "id": "bcd60733",
   "metadata": {},
   "outputs": [
    {
     "data": {
      "text/plain": [
       "float"
      ]
     },
     "execution_count": 23,
     "metadata": {},
     "output_type": "execute_result"
    }
   ],
   "source": [
    "type(b)"
   ]
  },
  {
   "cell_type": "code",
   "execution_count": 24,
   "id": "7d9e57be",
   "metadata": {},
   "outputs": [
    {
     "ename": "TypeError",
     "evalue": "cannot unpack non-iterable int object",
     "output_type": "error",
     "traceback": [
      "\u001b[1;31m---------------------------------------------------------------------------\u001b[0m",
      "\u001b[1;31mTypeError\u001b[0m                                 Traceback (most recent call last)",
      "\u001b[1;32mC:\\Users\\RABIND~1\\AppData\\Local\\Temp/ipykernel_6992/1098354292.py\u001b[0m in \u001b[0;36m<module>\u001b[1;34m\u001b[0m\n\u001b[1;32m----> 1\u001b[1;33m \u001b[0mt\u001b[0m\u001b[1;33m,\u001b[0m \u001b[0my\u001b[0m\u001b[1;33m,\u001b[0m \u001b[0mff\u001b[0m \u001b[1;33m=\u001b[0m \u001b[1;36m10\u001b[0m\u001b[1;33m\u001b[0m\u001b[1;33m\u001b[0m\u001b[0m\n\u001b[0m",
      "\u001b[1;31mTypeError\u001b[0m: cannot unpack non-iterable int object"
     ]
    }
   ],
   "source": [
    "t, y, ff = 10"
   ]
  },
  {
   "cell_type": "code",
   "execution_count": 25,
   "id": "e50d3582",
   "metadata": {},
   "outputs": [
    {
     "ename": "TypeError",
     "evalue": "type.__new__() argument 1 must be str, not int",
     "output_type": "error",
     "traceback": [
      "\u001b[1;31m---------------------------------------------------------------------------\u001b[0m",
      "\u001b[1;31mTypeError\u001b[0m                                 Traceback (most recent call last)",
      "\u001b[1;32mC:\\Users\\RABIND~1\\AppData\\Local\\Temp/ipykernel_6992/303203518.py\u001b[0m in \u001b[0;36m<module>\u001b[1;34m\u001b[0m\n\u001b[1;32m----> 1\u001b[1;33m \u001b[0mtype\u001b[0m\u001b[1;33m(\u001b[0m\u001b[0ma\u001b[0m\u001b[1;33m,\u001b[0m\u001b[0mb\u001b[0m\u001b[1;33m,\u001b[0m\u001b[0mc\u001b[0m\u001b[1;33m)\u001b[0m\u001b[1;33m\u001b[0m\u001b[1;33m\u001b[0m\u001b[0m\n\u001b[0m",
      "\u001b[1;31mTypeError\u001b[0m: type.__new__() argument 1 must be str, not int"
     ]
    }
   ],
   "source": [
    "type(a,b,c)"
   ]
  },
  {
   "cell_type": "code",
   "execution_count": 27,
   "id": "fb929977",
   "metadata": {},
   "outputs": [
    {
     "data": {
      "text/plain": [
       "bool"
      ]
     },
     "execution_count": 27,
     "metadata": {},
     "output_type": "execute_result"
    }
   ],
   "source": [
    "type(a)\n",
    "type(b)\n",
    "type(c)\n",
    "type(yes)"
   ]
  },
  {
   "cell_type": "code",
   "execution_count": 29,
   "id": "c7a51afb",
   "metadata": {},
   "outputs": [
    {
     "name": "stdout",
     "output_type": "stream",
     "text": [
      "<class 'int'>\n",
      "<class 'float'>\n",
      "<class 'str'>\n",
      "<class 'bool'>\n"
     ]
    }
   ],
   "source": [
    "print(type(a))\n",
    "print(type(b))\n",
    "print(type(c))\n",
    "print(type(yes))"
   ]
  },
  {
   "cell_type": "code",
   "execution_count": 30,
   "id": "1ed18b36",
   "metadata": {},
   "outputs": [],
   "source": [
    "x=y=z=10"
   ]
  },
  {
   "cell_type": "code",
   "execution_count": 31,
   "id": "659a7c0f",
   "metadata": {},
   "outputs": [
    {
     "data": {
      "text/plain": [
       "(10, 10, 10)"
      ]
     },
     "execution_count": 31,
     "metadata": {},
     "output_type": "execute_result"
    }
   ],
   "source": [
    "x,y,z"
   ]
  },
  {
   "cell_type": "code",
   "execution_count": 70,
   "id": "7bc9b16b",
   "metadata": {},
   "outputs": [],
   "source": [
    "fname, surname = \"rounak\", \"show\""
   ]
  },
  {
   "cell_type": "code",
   "execution_count": 71,
   "id": "d0349a89",
   "metadata": {},
   "outputs": [
    {
     "name": "stdout",
     "output_type": "stream",
     "text": [
      " rounak.show@gmail.com\n"
     ]
    }
   ],
   "source": [
    "print(f\" {fname}.{surname}@gmail.com\")"
   ]
  },
  {
   "cell_type": "markdown",
   "id": "02574d08",
   "metadata": {},
   "source": [
    "## How to take user input?"
   ]
  },
  {
   "cell_type": "code",
   "execution_count": 34,
   "id": "ab9b99be",
   "metadata": {},
   "outputs": [
    {
     "name": "stdout",
     "output_type": "stream",
     "text": [
      "Enter your Name: Rounak\n",
      " You have entered: Rounak\n"
     ]
    }
   ],
   "source": [
    "name = input(\"Enter your Name: \")\n",
    "print(f\" You have entered: {name}\")"
   ]
  },
  {
   "cell_type": "code",
   "execution_count": 35,
   "id": "098309b9",
   "metadata": {},
   "outputs": [
    {
     "name": "stdout",
     "output_type": "stream",
     "text": [
      "Enter your value of A: 10\n",
      "Enter your value of B: 25\n",
      " Sum of A and B is: 1025\n"
     ]
    }
   ],
   "source": [
    "A = input(\"Enter your value of A: \")\n",
    "B = input(\"Enter your value of B: \")\n",
    "print(f\" Sum of A and B is: {A + B}\")"
   ]
  },
  {
   "cell_type": "code",
   "execution_count": 36,
   "id": "44024104",
   "metadata": {},
   "outputs": [
    {
     "name": "stdout",
     "output_type": "stream",
     "text": [
      "Enter your value of A: 10\n",
      "Enter your value of B: 10\n",
      "<class 'str'> <class 'str'>\n"
     ]
    }
   ],
   "source": [
    "A = input(\"Enter your value of A: \")\n",
    "B = input(\"Enter your value of B: \")\n",
    "print(type(A), type(B))"
   ]
  },
  {
   "cell_type": "markdown",
   "id": "4bab4e5b",
   "metadata": {},
   "source": [
    "## Type casting | Type Conversion"
   ]
  },
  {
   "cell_type": "code",
   "execution_count": 37,
   "id": "0b99face",
   "metadata": {},
   "outputs": [
    {
     "name": "stdout",
     "output_type": "stream",
     "text": [
      "Enter your value of A: 11\n",
      "Enter your value of B: 22\n",
      "<class 'int'> <class 'int'>\n",
      " Sum of A and B is: 33\n"
     ]
    }
   ],
   "source": [
    "A = int(input(\"Enter your value of A: \"))\n",
    "B = int(input(\"Enter your value of B: \"))\n",
    "print(type(A), type(B))\n",
    "print(f\" Sum of A and B is: {A + B}\")"
   ]
  },
  {
   "cell_type": "code",
   "execution_count": 90,
   "id": "6e52a94f",
   "metadata": {},
   "outputs": [
    {
     "name": "stdout",
     "output_type": "stream",
     "text": [
      "Enter your value of A: 12.2\n"
     ]
    },
    {
     "ename": "ValueError",
     "evalue": "invalid literal for int() with base 10: '12.2'",
     "output_type": "error",
     "traceback": [
      "\u001b[1;31m---------------------------------------------------------------------------\u001b[0m",
      "\u001b[1;31mValueError\u001b[0m                                Traceback (most recent call last)",
      "\u001b[1;32mC:\\Users\\RABIND~1\\AppData\\Local\\Temp/ipykernel_6992/3542713586.py\u001b[0m in \u001b[0;36m<module>\u001b[1;34m\u001b[0m\n\u001b[1;32m----> 1\u001b[1;33m \u001b[0mA\u001b[0m \u001b[1;33m=\u001b[0m \u001b[0mint\u001b[0m\u001b[1;33m(\u001b[0m\u001b[0minput\u001b[0m\u001b[1;33m(\u001b[0m\u001b[1;34m\"Enter your value of A: \"\u001b[0m\u001b[1;33m)\u001b[0m\u001b[1;33m)\u001b[0m\u001b[1;33m\u001b[0m\u001b[1;33m\u001b[0m\u001b[0m\n\u001b[0m\u001b[0;32m      2\u001b[0m \u001b[0mB\u001b[0m \u001b[1;33m=\u001b[0m \u001b[0mint\u001b[0m\u001b[1;33m(\u001b[0m\u001b[0minput\u001b[0m\u001b[1;33m(\u001b[0m\u001b[1;34m\"Enter your value of B: \"\u001b[0m\u001b[1;33m)\u001b[0m\u001b[1;33m)\u001b[0m\u001b[1;33m\u001b[0m\u001b[1;33m\u001b[0m\u001b[0m\n\u001b[0;32m      3\u001b[0m \u001b[0mprint\u001b[0m\u001b[1;33m(\u001b[0m\u001b[1;34mf\" Sum of A and B is: {A + B}\"\u001b[0m\u001b[1;33m)\u001b[0m\u001b[1;33m\u001b[0m\u001b[1;33m\u001b[0m\u001b[0m\n",
      "\u001b[1;31mValueError\u001b[0m: invalid literal for int() with base 10: '12.2'"
     ]
    }
   ],
   "source": [
    "A = int(input(\"Enter your value of A: \"))\n",
    "B = int(input(\"Enter your value of B: \"))\n",
    "print(f\" Sum of A and B is: {A + B}\")"
   ]
  },
  {
   "cell_type": "code",
   "execution_count": 40,
   "id": "c3d9a70d",
   "metadata": {},
   "outputs": [
    {
     "name": "stdout",
     "output_type": "stream",
     "text": [
      "Enter your value of A: 12.2\n",
      "Enter your value of B: 33.3\n",
      " Sum of A and B is: 45.5\n"
     ]
    }
   ],
   "source": [
    "A = float(input(\"Enter your value of A: \"))\n",
    "B = float(input(\"Enter your value of B: \"))\n",
    "print(f\" Sum of A and B is: {A + B}\")"
   ]
  },
  {
   "cell_type": "code",
   "execution_count": 41,
   "id": "7ce27cc5",
   "metadata": {},
   "outputs": [
    {
     "name": "stdout",
     "output_type": "stream",
     "text": [
      "Enter your value of A: 12\n",
      "Enter your value of B: 25\n",
      " Sum of A and B is: 37.0\n"
     ]
    }
   ],
   "source": [
    "A = float(input(\"Enter your value of A: \"))\n",
    "B = float(input(\"Enter your value of B: \"))\n",
    "print(f\" Sum of A and B is: {A + B}\")"
   ]
  },
  {
   "cell_type": "code",
   "execution_count": 73,
   "id": "d4a9b14e",
   "metadata": {},
   "outputs": [
    {
     "name": "stdout",
     "output_type": "stream",
     "text": [
      "<class 'str'>, 50\n",
      "<class 'int'>, 50\n"
     ]
    }
   ],
   "source": [
    "## String to integer\n",
    "ww= \"50\"\n",
    "print(f\"{type(ww)}, {ww}\")\n",
    "ww = int(ww)\n",
    "print(f\"{type(ww)}, {ww}\")\n"
   ]
  },
  {
   "cell_type": "code",
   "execution_count": 59,
   "id": "aa3bcebe",
   "metadata": {},
   "outputs": [
    {
     "name": "stdout",
     "output_type": "stream",
     "text": [
      "<class 'float'>\n",
      "<class 'int'>\n"
     ]
    }
   ],
   "source": [
    "## float to interger\n",
    "ww= 50.22 #entering float\n",
    "print(type(ww))\n",
    "ww = int(ww) # trying to convert it into interger\n",
    "print(type(ww))"
   ]
  },
  {
   "cell_type": "code",
   "execution_count": 60,
   "id": "bd0a433d",
   "metadata": {},
   "outputs": [
    {
     "name": "stdout",
     "output_type": "stream",
     "text": [
      "<class 'str'>, 50.22\n"
     ]
    },
    {
     "ename": "ValueError",
     "evalue": "invalid literal for int() with base 10: '50.22'",
     "output_type": "error",
     "traceback": [
      "\u001b[1;31m---------------------------------------------------------------------------\u001b[0m",
      "\u001b[1;31mValueError\u001b[0m                                Traceback (most recent call last)",
      "\u001b[1;32mC:\\Users\\RABIND~1\\AppData\\Local\\Temp/ipykernel_6992/700393170.py\u001b[0m in \u001b[0;36m<module>\u001b[1;34m\u001b[0m\n\u001b[0;32m      2\u001b[0m \u001b[0mww\u001b[0m\u001b[1;33m=\u001b[0m \u001b[1;34m\"50.22\"\u001b[0m \u001b[1;31m#entering float\u001b[0m\u001b[1;33m\u001b[0m\u001b[1;33m\u001b[0m\u001b[0m\n\u001b[0;32m      3\u001b[0m \u001b[0mprint\u001b[0m\u001b[1;33m(\u001b[0m\u001b[1;34mf\"{type(ww)}, {ww}\"\u001b[0m\u001b[1;33m)\u001b[0m\u001b[1;33m\u001b[0m\u001b[1;33m\u001b[0m\u001b[0m\n\u001b[1;32m----> 4\u001b[1;33m \u001b[0mww\u001b[0m \u001b[1;33m=\u001b[0m \u001b[0mint\u001b[0m\u001b[1;33m(\u001b[0m\u001b[0mww\u001b[0m\u001b[1;33m)\u001b[0m \u001b[1;31m# trying to convert it into interger\u001b[0m\u001b[1;33m\u001b[0m\u001b[1;33m\u001b[0m\u001b[0m\n\u001b[0m\u001b[0;32m      5\u001b[0m \u001b[0mprint\u001b[0m\u001b[1;33m(\u001b[0m\u001b[1;34mf\"{type(ww)}, {ww}\"\u001b[0m\u001b[1;33m)\u001b[0m\u001b[1;33m\u001b[0m\u001b[1;33m\u001b[0m\u001b[0m\n",
      "\u001b[1;31mValueError\u001b[0m: invalid literal for int() with base 10: '50.22'"
     ]
    }
   ],
   "source": [
    "## string to float\n",
    "ww= \"50.22\" #entering float\n",
    "print(f\"{type(ww)}, {ww}\")\n",
    "ww = int(ww) # trying to convert it into interger\n",
    "print(f\"{type(ww)}, {ww}\")"
   ]
  },
  {
   "cell_type": "code",
   "execution_count": 55,
   "id": "ca49890a",
   "metadata": {},
   "outputs": [
    {
     "name": "stdout",
     "output_type": "stream",
     "text": [
      "<class 'int'>, 10\n",
      "<class 'bool'>, True\n"
     ]
    }
   ],
   "source": [
    "## integer to boolean\n",
    "x = 10\n",
    "print(f\"{type(x)}, {x}\")\n",
    "x = bool(x)\n",
    "print(f\"{type(x)}, {x}\")"
   ]
  },
  {
   "cell_type": "code",
   "execution_count": 56,
   "id": "e39d6eeb",
   "metadata": {},
   "outputs": [
    {
     "name": "stdout",
     "output_type": "stream",
     "text": [
      "<class 'int'>, 0\n",
      "<class 'bool'>, False\n"
     ]
    }
   ],
   "source": [
    "## integer to boolean\n",
    "x = 0\n",
    "print(f\"{type(x)}, {x}\")\n",
    "x = bool(x)\n",
    "print(f\"{type(x)}, {x}\")"
   ]
  },
  {
   "cell_type": "code",
   "execution_count": 57,
   "id": "79961817",
   "metadata": {},
   "outputs": [
    {
     "name": "stdout",
     "output_type": "stream",
     "text": [
      "<class 'int'>, -5\n",
      "<class 'bool'>, True\n"
     ]
    }
   ],
   "source": [
    "## integer to boolean\n",
    "x = -5\n",
    "print(f\"{type(x)}, {x}\")\n",
    "x = bool(x)\n",
    "print(f\"{type(x)}, {x}\")"
   ]
  },
  {
   "cell_type": "code",
   "execution_count": 58,
   "id": "5220a7bf",
   "metadata": {},
   "outputs": [
    {
     "name": "stdout",
     "output_type": "stream",
     "text": [
      "<class 'str'>, Rounak\n",
      "<class 'bool'>, True\n"
     ]
    }
   ],
   "source": [
    "## string to boolean\n",
    "x = \"Rounak\"\n",
    "print(f\"{type(x)}, {x}\")\n",
    "x = bool(x)\n",
    "print(f\"{type(x)}, {x}\")"
   ]
  },
  {
   "cell_type": "code",
   "execution_count": 61,
   "id": "ae7e190a",
   "metadata": {},
   "outputs": [
    {
     "name": "stdout",
     "output_type": "stream",
     "text": [
      "<class 'str'>, False\n",
      "<class 'bool'>, True\n"
     ]
    }
   ],
   "source": [
    "## string to boolean\n",
    "x = \"False\"\n",
    "print(f\"{type(x)}, {x}\")\n",
    "x = bool(x)\n",
    "print(f\"{type(x)}, {x}\")"
   ]
  },
  {
   "cell_type": "code",
   "execution_count": 65,
   "id": "c208d403",
   "metadata": {},
   "outputs": [
    {
     "name": "stdout",
     "output_type": "stream",
     "text": [
      "<class 'bool'>, False\n",
      "<class 'bool'>, False\n"
     ]
    }
   ],
   "source": [
    "## boolean to boolean\n",
    "x = False\n",
    "print(f\"{type(x)}, {x}\")\n",
    "x = bool(x)\n",
    "print(f\"{type(x)}, {x}\")"
   ]
  },
  {
   "cell_type": "code",
   "execution_count": 63,
   "id": "9e1857af",
   "metadata": {},
   "outputs": [
    {
     "name": "stdout",
     "output_type": "stream",
     "text": [
      "<class 'str'>, \n",
      "<class 'bool'>, False\n"
     ]
    }
   ],
   "source": [
    "## empty string to boolean\n",
    "x = \"\"\n",
    "print(f\"{type(x)}, {x}\")\n",
    "x = bool(x)\n",
    "print(f\"{type(x)}, {x}\")"
   ]
  },
  {
   "cell_type": "code",
   "execution_count": 66,
   "id": "f6507883",
   "metadata": {},
   "outputs": [
    {
     "name": "stdout",
     "output_type": "stream",
     "text": [
      "<class 'str'>, \n"
     ]
    },
    {
     "ename": "ValueError",
     "evalue": "invalid literal for int() with base 10: ''",
     "output_type": "error",
     "traceback": [
      "\u001b[1;31m---------------------------------------------------------------------------\u001b[0m",
      "\u001b[1;31mValueError\u001b[0m                                Traceback (most recent call last)",
      "\u001b[1;32mC:\\Users\\RABIND~1\\AppData\\Local\\Temp/ipykernel_6992/909962635.py\u001b[0m in \u001b[0;36m<module>\u001b[1;34m\u001b[0m\n\u001b[0;32m      2\u001b[0m \u001b[0mx\u001b[0m \u001b[1;33m=\u001b[0m \u001b[1;34m\"\"\u001b[0m\u001b[1;33m\u001b[0m\u001b[1;33m\u001b[0m\u001b[0m\n\u001b[0;32m      3\u001b[0m \u001b[0mprint\u001b[0m\u001b[1;33m(\u001b[0m\u001b[1;34mf\"{type(x)}, {x}\"\u001b[0m\u001b[1;33m)\u001b[0m\u001b[1;33m\u001b[0m\u001b[1;33m\u001b[0m\u001b[0m\n\u001b[1;32m----> 4\u001b[1;33m \u001b[0mx\u001b[0m \u001b[1;33m=\u001b[0m \u001b[0mint\u001b[0m\u001b[1;33m(\u001b[0m\u001b[0mx\u001b[0m\u001b[1;33m)\u001b[0m\u001b[1;33m\u001b[0m\u001b[1;33m\u001b[0m\u001b[0m\n\u001b[0m\u001b[0;32m      5\u001b[0m \u001b[0mprint\u001b[0m\u001b[1;33m(\u001b[0m\u001b[1;34mf\"{type(x)}, {x}\"\u001b[0m\u001b[1;33m)\u001b[0m\u001b[1;33m\u001b[0m\u001b[1;33m\u001b[0m\u001b[0m\n",
      "\u001b[1;31mValueError\u001b[0m: invalid literal for int() with base 10: ''"
     ]
    }
   ],
   "source": [
    "## empty string to integer\n",
    "x = \"\"\n",
    "print(f\"{type(x)}, {x}\")\n",
    "x = int(x)\n",
    "print(f\"{type(x)}, {x}\")"
   ]
  },
  {
   "cell_type": "code",
   "execution_count": 69,
   "id": "a1eb43f4",
   "metadata": {},
   "outputs": [
    {
     "name": "stdout",
     "output_type": "stream",
     "text": [
      "<class 'float'>, 5.2\n",
      "<class 'int'>, 5\n"
     ]
    }
   ],
   "source": [
    "# float to integer\n",
    "numb = 5.2\n",
    "print(f\"{type(numb)}, {numb}\")\n",
    "numb = int(numb)\n",
    "print(f\"{type(numb)}, {numb}\")"
   ]
  },
  {
   "cell_type": "code",
   "execution_count": 75,
   "id": "1ea04bd2",
   "metadata": {},
   "outputs": [
    {
     "name": "stdout",
     "output_type": "stream",
     "text": [
      "Name: rik\n",
      "I was born in: 2000\n",
      " my age is 22\n"
     ]
    }
   ],
   "source": [
    "#calculate age\n",
    "name = input(\"Name: \")\n",
    "year_of_birth= int(input(\"I was born in: \"))\n",
    "age = 2022 - year_of_birth\n",
    "print(f\" my age is {age}\")"
   ]
  },
  {
   "cell_type": "code",
   "execution_count": 76,
   "id": "0e0b6751",
   "metadata": {},
   "outputs": [
    {
     "name": "stdout",
     "output_type": "stream",
     "text": [
      "Name: Rounak\n",
      "I was born in: 2000\n",
      "What's the current year? 2025\n",
      " my age is 25\n"
     ]
    }
   ],
   "source": [
    "name = input(\"Name: \")\n",
    "year_of_birth= int(input(\"I was born in: \"))\n",
    "current_year = int(input(\"What's the current year? \"))\n",
    "age = current_year - year_of_birth\n",
    "print(f\" my age is {age}\")"
   ]
  },
  {
   "cell_type": "markdown",
   "id": "e5cca2c6",
   "metadata": {},
   "source": [
    "## Memory block"
   ]
  },
  {
   "cell_type": "code",
   "execution_count": 77,
   "id": "02c92dec",
   "metadata": {},
   "outputs": [],
   "source": [
    "a = 22\n",
    "b = 66\n",
    "c= 22"
   ]
  },
  {
   "cell_type": "code",
   "execution_count": 78,
   "id": "95c8720b",
   "metadata": {},
   "outputs": [
    {
     "data": {
      "text/plain": [
       "140713350537632"
      ]
     },
     "execution_count": 78,
     "metadata": {},
     "output_type": "execute_result"
    }
   ],
   "source": [
    "id(a) #memory address"
   ]
  },
  {
   "cell_type": "code",
   "execution_count": 79,
   "id": "9c2219cd",
   "metadata": {},
   "outputs": [
    {
     "data": {
      "text/plain": [
       "140713350539040"
      ]
     },
     "execution_count": 79,
     "metadata": {},
     "output_type": "execute_result"
    }
   ],
   "source": [
    "id(b)"
   ]
  },
  {
   "cell_type": "code",
   "execution_count": 80,
   "id": "103a7d5c",
   "metadata": {},
   "outputs": [
    {
     "data": {
      "text/plain": [
       "140713350537632"
      ]
     },
     "execution_count": 80,
     "metadata": {},
     "output_type": "execute_result"
    }
   ],
   "source": [
    "id(c)"
   ]
  },
  {
   "cell_type": "code",
   "execution_count": 81,
   "id": "aa8fee10",
   "metadata": {},
   "outputs": [],
   "source": [
    "c = 22 + b"
   ]
  },
  {
   "cell_type": "code",
   "execution_count": 82,
   "id": "387de5ad",
   "metadata": {},
   "outputs": [
    {
     "data": {
      "text/plain": [
       "140713350539744"
      ]
     },
     "execution_count": 82,
     "metadata": {},
     "output_type": "execute_result"
    }
   ],
   "source": [
    "id(c)"
   ]
  },
  {
   "cell_type": "code",
   "execution_count": 83,
   "id": "508250a1",
   "metadata": {},
   "outputs": [
    {
     "data": {
      "text/plain": [
       "140713350537632"
      ]
     },
     "execution_count": 83,
     "metadata": {},
     "output_type": "execute_result"
    }
   ],
   "source": [
    "id(a)"
   ]
  },
  {
   "cell_type": "code",
   "execution_count": 84,
   "id": "04cbe9a5",
   "metadata": {},
   "outputs": [
    {
     "data": {
      "text/plain": [
       "140713350539136"
      ]
     },
     "execution_count": 84,
     "metadata": {},
     "output_type": "execute_result"
    }
   ],
   "source": [
    "a = 69\n",
    "id(a)"
   ]
  },
  {
   "cell_type": "code",
   "execution_count": 85,
   "id": "bf6d45a0",
   "metadata": {},
   "outputs": [],
   "source": [
    "## Memory is assigned to the value of vaiable passed \n",
    "## not the varible name"
   ]
  },
  {
   "cell_type": "code",
   "execution_count": 86,
   "id": "3291652b",
   "metadata": {},
   "outputs": [
    {
     "name": "stdout",
     "output_type": "stream",
     "text": [
      "688083282416 140713350538720 688083282416\n"
     ]
    }
   ],
   "source": [
    "xx= \"Rik\"\n",
    "zz = 56\n",
    "tt = \"Rik\"\n",
    "print(id(xx), id(zz), id(tt))"
   ]
  },
  {
   "cell_type": "markdown",
   "id": "13512601",
   "metadata": {},
   "source": [
    "## ASSIGNMENTS:- \n",
    "### Send the mail before 0000 hrs IST tonight\n",
    "### Special Cases respond atleast before 1200 hrs tomorrow i.e Monday\n",
    "### To: query@ineuron.ai\n",
    "### CC: sunny@ineuron.ai, riishav@ineuron.ai , boktiar@ineuron.ai\n",
    "### Subject: [Bootcamp 2.0 | Assignment No. 01]\n",
    "\n",
    "### 1. find out all the types of error that we have encountered and why? Include examples. \n",
    "### 2. Take input A and B and print their sum, multilication, division, and aquare values. \n",
    "### 3. How many reserve keywords are there in python and why we should not use them as a variable name.\n",
    "### 4. Create email ids with the user inputs in the following formats :- lastname.firstname@gmail.com\n",
    "### 5. Try to prit the following line:- \n",
    " #### Hi I'm Sunny\n",
    " #### My address is 22/3\n",
    " #### I earn 20dollars daily\n",
    " \n",
    "### 6. Take user input(name, address, DOB, etc.) to fill up college form and create their email ids. \n",
    "### 7. Convert the following :- \"22.4\" into 22, \"22\" into complex no. "
   ]
  },
  {
   "cell_type": "code",
   "execution_count": 89,
   "id": "aff52030",
   "metadata": {},
   "outputs": [
    {
     "name": "stdout",
     "output_type": "stream",
     "text": [
      "<class 'complex'>\n"
     ]
    }
   ],
   "source": [
    "cmp = 22+3j\n",
    "print(type(cmp))"
   ]
  },
  {
   "cell_type": "code",
   "execution_count": 1,
   "id": "09c4efd7",
   "metadata": {},
   "outputs": [
    {
     "name": "stdout",
     "output_type": "stream",
     "text": [
      "yes? yes\n"
     ]
    },
    {
     "data": {
      "text/plain": [
       "True"
      ]
     },
     "execution_count": 1,
     "metadata": {},
     "output_type": "execute_result"
    }
   ],
   "source": [
    "i_have_a_doubt = input(\"yes? \")\n",
    "bool(i_have_a_doubt)"
   ]
  },
  {
   "cell_type": "code",
   "execution_count": 4,
   "id": "1491841e",
   "metadata": {},
   "outputs": [
    {
     "name": "stdout",
     "output_type": "stream",
     "text": [
      "yes? ddd\n"
     ]
    },
    {
     "data": {
      "text/plain": [
       "True"
      ]
     },
     "execution_count": 4,
     "metadata": {},
     "output_type": "execute_result"
    }
   ],
   "source": [
    "i_have_a_doubt = input(\"yes? \")\n",
    "bool(i_have_a_doubt)"
   ]
  },
  {
   "cell_type": "code",
   "execution_count": 5,
   "id": "8df5c889",
   "metadata": {},
   "outputs": [
    {
     "name": "stdout",
     "output_type": "stream",
     "text": [
      "yes? yes\n"
     ]
    },
    {
     "data": {
      "text/plain": [
       "True"
      ]
     },
     "execution_count": 5,
     "metadata": {},
     "output_type": "execute_result"
    }
   ],
   "source": [
    "i_have_a_doubt = input(\"yes? \")\n",
    "bool(i_have_a_doubt)"
   ]
  },
  {
   "cell_type": "code",
   "execution_count": 4,
   "id": "c1677d02",
   "metadata": {},
   "outputs": [
    {
     "name": "stdout",
     "output_type": "stream",
     "text": [
      "Hey friend, is class started?: [0-False/1-True]0\n",
      "<class 'str'>\n"
     ]
    },
    {
     "data": {
      "text/plain": [
       "True"
      ]
     },
     "execution_count": 4,
     "metadata": {},
     "output_type": "execute_result"
    }
   ],
   "source": [
    "n = input(\"Hey friend, is class started?: [0-False/1-True]\")\n",
    "print(type(n))\n",
    "n = bool(n)\n",
    "n"
   ]
  },
  {
   "cell_type": "code",
   "execution_count": 5,
   "id": "8d6e1dd4",
   "metadata": {},
   "outputs": [
    {
     "name": "stdout",
     "output_type": "stream",
     "text": [
      "False\n"
     ]
    }
   ],
   "source": [
    "a = 6\n",
    "b = 10\n",
    "print( not ( not a == 10 or not b == 10))"
   ]
  },
  {
   "cell_type": "code",
   "execution_count": 6,
   "id": "1719cfbe",
   "metadata": {},
   "outputs": [
    {
     "data": {
      "text/plain": [
       "5.0"
      ]
     },
     "execution_count": 6,
     "metadata": {},
     "output_type": "execute_result"
    }
   ],
   "source": [
    "10/2"
   ]
  },
  {
   "cell_type": "code",
   "execution_count": 8,
   "id": "7214439a",
   "metadata": {},
   "outputs": [
    {
     "name": "stdout",
     "output_type": "stream",
     "text": [
      "False\n"
     ]
    },
    {
     "data": {
      "text/plain": [
       "True"
      ]
     },
     "execution_count": 8,
     "metadata": {},
     "output_type": "execute_result"
    }
   ],
   "source": [
    "A = 5.0\n",
    "B = 10/2\n",
    "print(A is B)\n",
    "A==B"
   ]
  },
  {
   "cell_type": "code",
   "execution_count": 9,
   "id": "2b911476",
   "metadata": {},
   "outputs": [
    {
     "name": "stdout",
     "output_type": "stream",
     "text": [
      "False\n"
     ]
    }
   ],
   "source": [
    "A = 5.0\n",
    "B = int(10/2)\n",
    "print(A is B)"
   ]
  },
  {
   "cell_type": "code",
   "execution_count": 10,
   "id": "bb4a4079",
   "metadata": {},
   "outputs": [
    {
     "name": "stdout",
     "output_type": "stream",
     "text": [
      "False\n"
     ]
    }
   ],
   "source": [
    "A = 5.0\n",
    "B = float(10/2)\n",
    "print(A is B)"
   ]
  },
  {
   "cell_type": "code",
   "execution_count": null,
   "id": "6592d127",
   "metadata": {},
   "outputs": [],
   "source": []
  }
 ],
 "metadata": {
  "kernelspec": {
   "display_name": "Python 3 (ipykernel)",
   "language": "python",
   "name": "python3"
  },
  "language_info": {
   "codemirror_mode": {
    "name": "ipython",
    "version": 3
   },
   "file_extension": ".py",
   "mimetype": "text/x-python",
   "name": "python",
   "nbconvert_exporter": "python",
   "pygments_lexer": "ipython3",
   "version": "3.9.13"
  }
 },
 "nbformat": 4,
 "nbformat_minor": 5
}
