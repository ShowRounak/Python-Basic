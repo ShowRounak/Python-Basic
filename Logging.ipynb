{
 "cells": [
  {
   "cell_type": "code",
   "execution_count": 1,
   "id": "41df23c6",
   "metadata": {},
   "outputs": [
    {
     "name": "stdout",
     "output_type": "stream",
     "text": [
      "HELLO WORLD\n"
     ]
    }
   ],
   "source": [
    "print(\"HELLO WORLD\")"
   ]
  },
  {
   "cell_type": "markdown",
   "id": "35a09bdc",
   "metadata": {},
   "source": [
    "#### In production, we don't use print function. Instead we use a logging module"
   ]
  },
  {
   "cell_type": "markdown",
   "id": "21d62182",
   "metadata": {},
   "source": [
    "#### logging will give us the flexibility to understand what's the problem with any code."
   ]
  },
  {
   "cell_type": "markdown",
   "id": "811f8939",
   "metadata": {},
   "source": [
    "#### Logging is a way by which you will be able to keep track of your error, warnings, info, debug, each and everything."
   ]
  },
  {
   "cell_type": "code",
   "execution_count": 2,
   "id": "dc71b94f",
   "metadata": {},
   "outputs": [],
   "source": [
    "#create a logging file"
   ]
  },
  {
   "cell_type": "code",
   "execution_count": 1,
   "id": "aacfe142",
   "metadata": {},
   "outputs": [],
   "source": [
    "import logging"
   ]
  },
  {
   "cell_type": "code",
   "execution_count": 4,
   "id": "65f95f5b",
   "metadata": {},
   "outputs": [],
   "source": [
    "logging.basicConfig(filename = \"test.log\")"
   ]
  },
  {
   "cell_type": "markdown",
   "id": "e79b0a36",
   "metadata": {},
   "source": [
    "### There are different types of log\n",
    "\n",
    "DEBUG\n",
    "\n",
    "INFO\n",
    "\n",
    "WARNING\n",
    "\n",
    "ERROR\n",
    "\n",
    "CRITICAL"
   ]
  },
  {
   "cell_type": "code",
   "execution_count": 5,
   "id": "9e728f55",
   "metadata": {},
   "outputs": [],
   "source": [
    "logging.info(\"This is my info log\")\n",
    "logging.warning(\"This is my warning\")\n",
    "logging.error(\"This is my error\")"
   ]
  },
  {
   "cell_type": "code",
   "execution_count": 6,
   "id": "243d74ad",
   "metadata": {},
   "outputs": [],
   "source": [
    "# close the logging file\n",
    "\n",
    "logging.shutdown()"
   ]
  },
  {
   "cell_type": "markdown",
   "id": "d8682c1c",
   "metadata": {},
   "source": [
    "in general, the log file does not show info log"
   ]
  },
  {
   "cell_type": "markdown",
   "id": "474d5364",
   "metadata": {},
   "source": [
    "to show info log, we have to write code in this way."
   ]
  },
  {
   "cell_type": "code",
   "execution_count": 7,
   "id": "5da0fb4b",
   "metadata": {},
   "outputs": [],
   "source": [
    "logging.basicConfig(filename = \"test.log\", level = logging.INFO)"
   ]
  },
  {
   "cell_type": "code",
   "execution_count": 8,
   "id": "259150a9",
   "metadata": {},
   "outputs": [],
   "source": [
    "logging.shutdown()"
   ]
  },
  {
   "cell_type": "code",
   "execution_count": 3,
   "id": "80c0fe58",
   "metadata": {},
   "outputs": [],
   "source": [
    "import logging\n",
    "logging.basicConfig(filename = \"test2.log\", level = logging.DEBUG, format = '%(asctime)s %(levelname)s %(message)s')\n",
    "# format = (time, message) At what time a specific message is generated"
   ]
  },
  {
   "cell_type": "code",
   "execution_count": 4,
   "id": "66fe159f",
   "metadata": {},
   "outputs": [],
   "source": [
    "logging.warning(\"this is my warning log\")\n",
    "logging.info(\"THis is info log\")\n",
    "logging.debug(\"this is debug log\")\n",
    "logging.error(\"This is my error log\")"
   ]
  },
  {
   "cell_type": "markdown",
   "id": "20004622",
   "metadata": {},
   "source": [
    "#### Priority wise logging is:\n",
    "ERROR\n",
    "\n",
    "WARNING\n",
    "\n",
    "INFO\n",
    "\n",
    "DEBUG\n"
   ]
  },
  {
   "cell_type": "code",
   "execution_count": 1,
   "id": "fec7c39e",
   "metadata": {},
   "outputs": [],
   "source": [
    "import logging\n",
    "logging.basicConfig(filename = \"test3.log\", level = logging.DEBUG, format = '%(asctime)s %(levelname)s %(message)s')"
   ]
  },
  {
   "cell_type": "code",
   "execution_count": 5,
   "id": "b5fb6d3b",
   "metadata": {},
   "outputs": [],
   "source": [
    "def divzero(a,b):\n",
    "    logging.info(\"this is my start of code and I am trying to enter %s and %s\", a,b) # %s is placeholder\n",
    "    try:\n",
    "        c = a/b\n",
    "        logging.info(\"Executed successfully\")\n",
    "    except Exception as e:\n",
    "        logging.error(\"Error has happend\")\n",
    "        logging.exception(\"Exception occured:\" + str(e))\n",
    "    else:\n",
    "        return c"
   ]
  },
  {
   "cell_type": "code",
   "execution_count": 6,
   "id": "537d5d8e",
   "metadata": {},
   "outputs": [
    {
     "data": {
      "text/plain": [
       "2.0"
      ]
     },
     "execution_count": 6,
     "metadata": {},
     "output_type": "execute_result"
    }
   ],
   "source": [
    "divzero(10,5)"
   ]
  },
  {
   "cell_type": "code",
   "execution_count": 7,
   "id": "eacc23ea",
   "metadata": {},
   "outputs": [],
   "source": [
    "divzero(10,0)"
   ]
  },
  {
   "cell_type": "code",
   "execution_count": null,
   "id": "9338fd55",
   "metadata": {},
   "outputs": [],
   "source": []
  }
 ],
 "metadata": {
  "kernelspec": {
   "display_name": "Python 3 (ipykernel)",
   "language": "python",
   "name": "python3"
  },
  "language_info": {
   "codemirror_mode": {
    "name": "ipython",
    "version": 3
   },
   "file_extension": ".py",
   "mimetype": "text/x-python",
   "name": "python",
   "nbconvert_exporter": "python",
   "pygments_lexer": "ipython3",
   "version": "3.9.13"
  }
 },
 "nbformat": 4,
 "nbformat_minor": 5
}
