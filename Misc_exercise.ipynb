{
 "cells": [
  {
   "cell_type": "code",
   "execution_count": 3,
   "id": "2d166fef",
   "metadata": {},
   "outputs": [
    {
     "name": "stdout",
     "output_type": "stream",
     "text": [
      "Enter two digit number: 55\n",
      "Your result is  10\n"
     ]
    }
   ],
   "source": [
    "number= input(\"Enter two digit number: \")\n",
    "n1= int(number[0])\n",
    "n2= int(number[1])\n",
    "sum= n1+n2\n",
    "print(\"Your result is \", sum)"
   ]
  },
  {
   "cell_type": "code",
   "execution_count": 7,
   "id": "fabd61e0",
   "metadata": {},
   "outputs": [
    {
     "name": "stdout",
     "output_type": "stream",
     "text": [
      "Enter your age: 50\n",
      "You have only 14600 days, 2080 weeks and 480 months left!\n"
     ]
    }
   ],
   "source": [
    "your_age= int(input(\"Enter your age: \"))\n",
    "remaining_years= 90- your_age\n",
    "days= remaining_years * 365\n",
    "months= remaining_years * 12\n",
    "weeks= remaining_years * 52\n",
    "print(f\"You have only {days} days, {weeks} weeks and {months} months left!\")\n"
   ]
  },
  {
   "cell_type": "code",
   "execution_count": 10,
   "id": "7e1328b8",
   "metadata": {},
   "outputs": [
    {
     "name": "stdout",
     "output_type": "stream",
     "text": [
      "What's your total bill: 4439\n",
      "How many people to split the bill: 4\n",
      "Each one have to pay 1242.92\n"
     ]
    }
   ],
   "source": [
    "total_bill= float(input(\"What's your total bill: \"))\n",
    "poeple= float(input(\"How many people to split the bill: \"))\n",
    "tip= total_bill*12 / 100\n",
    "new_bill= total_bill + tip\n",
    "split_bill= round(new_bill / poeple,2)\n",
    "print(f\"Each one have to pay {split_bill}\")\n"
   ]
  },
  {
   "cell_type": "code",
   "execution_count": 2,
   "id": "31e2451d",
   "metadata": {},
   "outputs": [
    {
     "name": "stdout",
     "output_type": "stream",
     "text": [
      "enter number: 33\n",
      "33 is an odd number!\n"
     ]
    }
   ],
   "source": [
    "num= int(input(\"enter number: \"))\n",
    "if num%2==0:\n",
    "    print(f\"{num} is an even number!\")\n",
    "else:\n",
    "    print(f\"{num} is an odd number!\")"
   ]
  },
  {
   "cell_type": "code",
   "execution_count": null,
   "id": "7956aae6",
   "metadata": {},
   "outputs": [],
   "source": [
    "print(\"Welcome to BMI Calculator\")\n",
    "height= float(input(\"enter your height in meter: \"))\n",
    "weight= float(input(\"enter your weight in KG: \"))\n",
    "bmi= round(weight/ (height**2))\n",
    "if bmi<18.5:\n",
    "   print(f\"your BMI is {bmi} and you are underweight \")\n",
    "elif bmi<25:\n",
    "    print(f\"your BMI is {bmi} and you have normal weight\")\n",
    "elif bmi<30:\n",
    "    print(f\"your BMI is {bmi} and you have overweight\")\n",
    "elif bmi<35:\n",
    "    print(f\"your BMI is {bmi} and you have obese.\")\n",
    "else:\n",
    "    print(f\"your BMI is {bmi} and you are clinicaly obese\")\n"
   ]
  },
  {
   "cell_type": "code",
   "execution_count": null,
   "id": "14a8e793",
   "metadata": {},
   "outputs": [],
   "source": [
    "print(\"Welcome to BMI Calculator\")\n",
    "height= float(input(\"enter your height in meter: \"))\n",
    "weight= float(input(\"enter your weight in KG: \"))\n",
    "bmi= round(weight/ (height**2))\n",
    "if bmi<18.5:\n",
    "   print(f\"your BMI is {bmi} and you are underweight \")\n",
    "elif bmi<25:\n",
    "    print(f\"your BMI is {bmi} and you have normal weight\")\n",
    "elif bmi<30:\n",
    "    print(f\"your BMI is {bmi} and you have overweight\")\n",
    "elif bmi<35:\n",
    "    print(f\"your BMI is {bmi} and you have obese.\")\n",
    "else:\n",
    "    print(f\"your BMI is {bmi} and you are clinicaly obese\")"
   ]
  },
  {
   "cell_type": "code",
   "execution_count": 1,
   "id": "79dc4117",
   "metadata": {},
   "outputs": [
    {
     "name": "stdout",
     "output_type": "stream",
     "text": [
      "what size pizza do you want, S, M, L : L\n",
      "Do you want toppings, Y or N: Y\n",
      "Do you want cheese, Y or N: Y\n",
      "your total bill is 35\n"
     ]
    }
   ],
   "source": [
    "size= input(\"what size pizza do you want, S, M, L : \")\n",
    "topping= input(\"Do you want toppings, Y or N: \")\n",
    "cheese= input(\"Do you want cheese, Y or N: \")\n",
    "bill=0\n",
    "if size==\"S\":\n",
    "    bill+=15\n",
    "elif size==\"M\":\n",
    "    bill+=20\n",
    "elif size==\"L\":\n",
    "    bill+=25\n",
    "    \n",
    "if topping==\"Y\":\n",
    "    bill+=5\n",
    "    \n",
    "if cheese==\"Y\":\n",
    "    bill+=5\n",
    "print(f\"your total bill is {bill}\")"
   ]
  },
  {
   "cell_type": "code",
   "execution_count": 1,
   "id": "907e6dcc",
   "metadata": {},
   "outputs": [
    {
     "name": "stdout",
     "output_type": "stream",
     "text": [
      "Enter your name: rik\n",
      "Enter other name: Angela\n",
      "rikangela\n"
     ]
    }
   ],
   "source": [
    "name_one= input(\"Enter your name: \").lower()\n",
    "name_two= input(\"Enter other name: \").lower()\n",
    "name= name_one + name_two\n",
    "print(name)"
   ]
  },
  {
   "cell_type": "code",
   "execution_count": 10,
   "id": "cffa916a",
   "metadata": {},
   "outputs": [
    {
     "name": "stdout",
     "output_type": "stream",
     "text": [
      "Enter your name: Kanye West\n",
      "Enter other name: Kim Kardashian\n",
      "your love score is 42 and you're alright together\n"
     ]
    }
   ],
   "source": [
    "print(\"Welcome to the Love Calculator\")\n",
    "name_one= input(\"Enter your name: \").lower()\n",
    "name_two= input(\"Enter other name: \").lower()\n",
    "name= name_one + name_two\n",
    "t = name.count(\"t\")\n",
    "r = name.count(\"r\")\n",
    "u= name.count(\"u\")\n",
    "e = name.count(\"e\")\n",
    "l = name.count(\"l\")\n",
    "o = name.count(\"o\")\n",
    "v= name.count(\"v\")\n",
    "lhs= t+r+u+e\n",
    "rhs= l+o+v+e\n",
    "total= str(lhs)+ str(rhs)\n",
    "love_score= int(total)\n",
    "if love_score<10 and love_score>90:\n",
    "    print(f\"your love score is {love_score} and you go together like coke and mentos.\")\n",
    "elif love_score>=40 and love_score<=50:\n",
    "    print(f\"your love score is {love_score} and you're alright together\")\n",
    "else:\n",
    "    print(f\" Your love score is {love_score}\")\n"
   ]
  },
  {
   "cell_type": "code",
   "execution_count": 1,
   "id": "841b53f2",
   "metadata": {},
   "outputs": [],
   "source": [
    "import random"
   ]
  },
  {
   "cell_type": "code",
   "execution_count": 8,
   "id": "aa1642aa",
   "metadata": {},
   "outputs": [
    {
     "name": "stdout",
     "output_type": "stream",
     "text": [
      "4.038593600871271\n"
     ]
    }
   ],
   "source": [
    "random_float= random.random()\n",
    "rand=random_float*5\n",
    "print(rand)"
   ]
  },
  {
   "cell_type": "code",
   "execution_count": 17,
   "id": "d88ff2f8",
   "metadata": {},
   "outputs": [
    {
     "name": "stdout",
     "output_type": "stream",
     "text": [
      "It is tail\n"
     ]
    }
   ],
   "source": [
    "choices= [0,1]\n",
    "random_number= random.choice(choices)\n",
    "if random_number==0:\n",
    "    print(\"It's Head\")\n",
    "else:\n",
    "    print(\"It is tail\")"
   ]
  },
  {
   "cell_type": "code",
   "execution_count": 19,
   "id": "f42ebe6e",
   "metadata": {},
   "outputs": [
    {
     "name": "stdout",
     "output_type": "stream",
     "text": [
      "Enter the names separated by comma: rudra, rik, nandi, tapa\n",
      "nandi, pay the bill\n"
     ]
    }
   ],
   "source": [
    "names= input(\"Enter the names separated by comma: \")\n",
    "name= names.split()\n",
    "random_name= random.choice(name)\n",
    "print(f\"{random_name} pay the bill\")"
   ]
  },
  {
   "cell_type": "code",
   "execution_count": 20,
   "id": "32b8706f",
   "metadata": {},
   "outputs": [
    {
     "name": "stdout",
     "output_type": "stream",
     "text": [
      "['Strawberries', 'Nectarines', 'Apples', 'Grapes', 'Peaches', 'Cherries', 'Melons', 'Lemons']\n"
     ]
    }
   ],
   "source": [
    "fruits = [\"Strawberries\", \"Nectarines\", \"Apples\", \"Grapes\", \"Peaches\", \"Cherries\", \"Pears\"]\n",
    "fruits[-1] = \"Melons\"\n",
    "fruits.append(\"Lemons\")\n",
    "print(fruits)"
   ]
  },
  {
   "cell_type": "code",
   "execution_count": 21,
   "id": "1af29e4f",
   "metadata": {},
   "outputs": [
    {
     "name": "stdout",
     "output_type": "stream",
     "text": [
      "Kale\n"
     ]
    }
   ],
   "source": [
    "fruits = [\"Strawberries\", \"Nectarines\", \"Apples\", \"Grapes\", \"Peaches\", \"Cherries\", \"Pears\"]\n",
    "vegetables = [\"Spinach\", \"Kale\", \"Tomatoes\", \"Celery\", \"Potatoes\"]\n",
    " \n",
    "dirty_dozen = [fruits, vegetables]\n",
    " \n",
    "print(dirty_dozen[1][1])"
   ]
  },
  {
   "cell_type": "code",
   "execution_count": 41,
   "id": "17bbe717",
   "metadata": {},
   "outputs": [
    {
     "name": "stdout",
     "output_type": "stream",
     "text": [
      "Welcome to the Treasure Map!\n",
      "['👊', '👊', '👊']\n",
      "['👊', '👊', '👊']\n",
      "['👊', '👊', '👊']\n",
      "\n",
      "enter your number: 31\n",
      "['👊', '👊', 'x']\n",
      "['👊', '👊', '👊']\n",
      "['👊', '👊', '👊']\n",
      "\n"
     ]
    }
   ],
   "source": [
    "print(\"Welcome to the Treasure Map!\")\n",
    "row1= [\"👊\", \"👊\", \"👊\"]\n",
    "row2= [\"👊\", \"👊\", \"👊\"]\n",
    "row3= [\"👊\", \"👊\", \"👊\"]\n",
    "map= [row1, row2, row3]\n",
    "print(f\"{row1}\\n{row2}\\n{row3}\\n\")\n",
    "position= input(\"enter your number: \")\n",
    "vertical= int(position[0])\n",
    "horizontal= int(position[1])\n",
    "map[horizontal-1][vertical-1]= \"x\"\n",
    "print(f\"{row1}\\n{row2}\\n{row3}\\n\")"
   ]
  },
  {
   "cell_type": "code",
   "execution_count": 6,
   "id": "c63bd944",
   "metadata": {},
   "outputs": [
    {
     "name": "stdout",
     "output_type": "stream",
     "text": [
      "enter the numbers separated by space 114 120 150 280\n",
      "['114', '120', '150', '280']\n",
      "664\n",
      "166.0\n"
     ]
    }
   ],
   "source": [
    "numbers= input(\"enter the numbers separated by space \")\n",
    "list= numbers.split()\n",
    "sum= 0\n",
    "count=0\n",
    "for i in list:\n",
    "    sum+=int(i)\n",
    "    count+=1\n",
    "print(list)\n",
    "print(sum)\n",
    "avg= round(sum/count)\n",
    "print(avg)"
   ]
  },
  {
   "cell_type": "code",
   "execution_count": null,
   "id": "336cadca",
   "metadata": {},
   "outputs": [],
   "source": [
    "numbers= input(\"enter the numbers separated by space \")\n",
    "list= numbers.split()\n",
    "max= 0\n",
    "for number in numbers:\n",
    "    if number>max:\n",
    "        max=number\n",
    "print(f\"Highest score is {max}\")"
   ]
  },
  {
   "cell_type": "code",
   "execution_count": 2,
   "id": "2e1dfc3c",
   "metadata": {},
   "outputs": [
    {
     "name": "stdout",
     "output_type": "stream",
     "text": [
      "2550\n"
     ]
    }
   ],
   "source": [
    "sum=0\n",
    "for i in range(1,101):\n",
    "    if i%2==0:\n",
    "        sum+=i\n",
    "print(sum)"
   ]
  },
  {
   "cell_type": "code",
   "execution_count": 1,
   "id": "9c5fedcc",
   "metadata": {},
   "outputs": [],
   "source": [
    "import random"
   ]
  },
  {
   "cell_type": "code",
   "execution_count": 10,
   "id": "e08fee6c",
   "metadata": {},
   "outputs": [
    {
     "name": "stdout",
     "output_type": "stream",
     "text": [
      "Welcome to the PyPassword Generator!\n",
      "How many letters would you like in your password?\n",
      "8\n",
      "How many symbols would you like?\n",
      "3\n",
      "How many numbers would you like?\n",
      "5\n",
      "Your Password is 94t2PD5C6#Qb+v!B\n"
     ]
    }
   ],
   "source": [
    "letters = ['a', 'b', 'c', 'd', 'e', 'f', 'g', 'h', 'i', 'j', 'k', 'l', 'm', 'n', 'o', 'p', 'q', 'r', 's', 't', 'u', 'v', 'w', 'x', 'y', 'z', 'A', 'B', 'C', 'D', 'E', 'F', 'G', 'H', 'I', 'J', 'K', 'L', 'M', 'N', 'O', 'P', 'Q', 'R', 'S', 'T', 'U', 'V', 'W', 'X', 'Y', 'Z']\n",
    "numbers = ['0', '1', '2', '3', '4', '5', '6', '7', '8', '9']\n",
    "symbols = ['!', '#', '$', '%', '&', '(', ')', '*', '+']\n",
    "\n",
    "print(\"Welcome to the PyPassword Generator!\")\n",
    "nr_letters= int(input(\"How many letters would you like in your password?\\n\")) \n",
    "nr_symbols = int(input(f\"How many symbols would you like?\\n\"))\n",
    "nr_numbers = int(input(f\"How many numbers would you like?\\n\"))\n",
    "random_letters= random.choices(letters, k=nr_letters)\n",
    "random_numbers= random.choices(numbers, k=nr_numbers)\n",
    "random_symbols= random.choices(symbols, k=nr_symbols)\n",
    "# print(random_letters)\n",
    "# print(random_symbols)\n",
    "# print(random_numbers)\n",
    "empty_list= []\n",
    "for letter in random_letters:\n",
    "    empty_list.append(letter)\n",
    "for number in random_numbers:\n",
    "    empty_list.append(number)\n",
    "for symbol in random_symbols:\n",
    "    empty_list.append(symbol)\n",
    "random.shuffle(empty_list)\n",
    "\n",
    "password=\"\"\n",
    "for element in empty_list:\n",
    "    password+=element\n",
    "print(f\"Your Password is {password}\")"
   ]
  },
  {
   "cell_type": "code",
   "execution_count": 3,
   "id": "ed201d09",
   "metadata": {},
   "outputs": [
    {
     "name": "stdout",
     "output_type": "stream",
     "text": [
      "Type 'encode' to encrypt, type 'decode' to decrypt:\n",
      "encode\n",
      "Type your message:\n",
      "hello\n",
      "Type the shift number:\n",
      "5\n",
      "Your encrypted text is mjqqt\n"
     ]
    }
   ],
   "source": [
    "alphabet = ['a', 'b', 'c', 'd', 'e', 'f', 'g', 'h', 'i', 'j', 'k', 'l', 'm', 'n', 'o', 'p', 'q', 'r', 's', 't', 'u', 'v', 'w', 'x', 'y', 'z']\n",
    "direction = input(\"Type 'encode' to encrypt, type 'decode' to decrypt:\\n\").lower()\n",
    "text = input(\"Type your message:\\n\").lower()\n",
    "shift = int(input(\"Type the shift number:\\n\"))\n",
    "\n",
    "def encrypt(plain_text, shift_amount):\n",
    "    cipher_text=\"\"\n",
    "    for letter in plain_text:\n",
    "        position= alphabet.index(letter)\n",
    "        new_position= position+shift_amount\n",
    "        new_letters= alphabet[new_position]\n",
    "        cipher_text+=new_letters\n",
    "    print(f\"Your encrypted text is {cipher_text}\")\n",
    "    \n",
    "encrypt(plain_text= text, shift_amount= shift)\n",
    "        \n",
    "    \n",
    "\n",
    "\n",
    "\n",
    "\n",
    "\n",
    "\n"
   ]
  },
  {
   "cell_type": "code",
   "execution_count": null,
   "id": "1788fb5f",
   "metadata": {},
   "outputs": [],
   "source": []
  }
 ],
 "metadata": {
  "kernelspec": {
   "display_name": "Python 3 (ipykernel)",
   "language": "python",
   "name": "python3"
  },
  "language_info": {
   "codemirror_mode": {
    "name": "ipython",
    "version": 3
   },
   "file_extension": ".py",
   "mimetype": "text/x-python",
   "name": "python",
   "nbconvert_exporter": "python",
   "pygments_lexer": "ipython3",
   "version": "3.8.12"
  }
 },
 "nbformat": 4,
 "nbformat_minor": 5
}
