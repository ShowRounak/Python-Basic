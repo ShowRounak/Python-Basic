{
 "cells": [
  {
   "cell_type": "code",
   "execution_count": 1,
   "id": "b9340130",
   "metadata": {},
   "outputs": [],
   "source": [
    "class car:\n",
    "    pass"
   ]
  },
  {
   "cell_type": "code",
   "execution_count": 6,
   "id": "a929d0a9",
   "metadata": {},
   "outputs": [],
   "source": [
    "class car:\n",
    "    def __init__(self, brand_name, fueltype, body_type):\n",
    "        self.brand_name = brand_name\n",
    "        self.fueltype = fueltype\n",
    "        self.body_type = body_type\n",
    "    \n",
    "    def desc_car(self):\n",
    "        print(self.brand_name, self.fueltype, self.body_type)\n",
    "        "
   ]
  },
  {
   "cell_type": "code",
   "execution_count": 7,
   "id": "7f59fc43",
   "metadata": {},
   "outputs": [
    {
     "ename": "TypeError",
     "evalue": "__init__() missing 3 required positional arguments: 'brand_name', 'fueltype', and 'body_type'",
     "output_type": "error",
     "traceback": [
      "\u001b[1;31m---------------------------------------------------------------------------\u001b[0m",
      "\u001b[1;31mTypeError\u001b[0m                                 Traceback (most recent call last)",
      "Input \u001b[1;32mIn [7]\u001b[0m, in \u001b[0;36m<cell line: 1>\u001b[1;34m()\u001b[0m\n\u001b[1;32m----> 1\u001b[0m innova \u001b[38;5;241m=\u001b[39m \u001b[43mcar\u001b[49m\u001b[43m(\u001b[49m\u001b[43m)\u001b[49m\n",
      "\u001b[1;31mTypeError\u001b[0m: __init__() missing 3 required positional arguments: 'brand_name', 'fueltype', and 'body_type'"
     ]
    }
   ],
   "source": [
    "innova = car()"
   ]
  },
  {
   "cell_type": "markdown",
   "id": "fc3de55a",
   "metadata": {},
   "source": [
    "\\_\\_init\\_\\_ is a constructor. A constructor is a entity or a in-built function which allows a class to take an input. It helps to pass data to a class.\n",
    "\n",
    "This is responsible to provide data to a particular class.\n",
    "\n",
    "self behaves like a pointer. It is not a reserved keyword. We can use any name, word instead of writng self.\n",
    "\n",
    "Self is a very fast varible created in a function inside a class."
   ]
  },
  {
   "cell_type": "code",
   "execution_count": 8,
   "id": "c6962132",
   "metadata": {},
   "outputs": [],
   "source": [
    "innova = car(\"toyota\", \"petrol\", \"suv\")"
   ]
  },
  {
   "cell_type": "code",
   "execution_count": 9,
   "id": "4f792ba4",
   "metadata": {},
   "outputs": [
    {
     "name": "stdout",
     "output_type": "stream",
     "text": [
      "toyota petrol suv\n"
     ]
    }
   ],
   "source": [
    "innova.desc_car()"
   ]
  },
  {
   "cell_type": "code",
   "execution_count": 11,
   "id": "dc75b237",
   "metadata": {},
   "outputs": [
    {
     "data": {
      "text/plain": [
       "'toyota'"
      ]
     },
     "execution_count": 11,
     "metadata": {},
     "output_type": "execute_result"
    }
   ],
   "source": [
    "innova.brand_name"
   ]
  },
  {
   "cell_type": "code",
   "execution_count": 12,
   "id": "a57f1c21",
   "metadata": {},
   "outputs": [],
   "source": [
    "nexon = car(\"tata\", \"petrol\", \"mini suv\")"
   ]
  },
  {
   "cell_type": "code",
   "execution_count": 13,
   "id": "0e07a66b",
   "metadata": {},
   "outputs": [
    {
     "name": "stdout",
     "output_type": "stream",
     "text": [
      "tata petrol mini suv\n"
     ]
    }
   ],
   "source": [
    "nexon.desc_car()"
   ]
  },
  {
   "cell_type": "code",
   "execution_count": 14,
   "id": "66138def",
   "metadata": {},
   "outputs": [],
   "source": [
    "fortuner = car(\"toyota\", \"diesel\", \"suv\")"
   ]
  },
  {
   "cell_type": "code",
   "execution_count": 16,
   "id": "6b57709a",
   "metadata": {},
   "outputs": [
    {
     "data": {
      "text/plain": [
       "'diesel'"
      ]
     },
     "execution_count": 16,
     "metadata": {},
     "output_type": "execute_result"
    }
   ],
   "source": [
    "fortuner.fueltype"
   ]
  },
  {
   "cell_type": "code",
   "execution_count": 19,
   "id": "c1ea4194",
   "metadata": {},
   "outputs": [
    {
     "name": "stdout",
     "output_type": "stream",
     "text": [
      "<class '__main__.car'>\n"
     ]
    }
   ],
   "source": [
    "print(type(innova))"
   ]
  },
  {
   "cell_type": "code",
   "execution_count": 20,
   "id": "16816125",
   "metadata": {},
   "outputs": [
    {
     "name": "stdout",
     "output_type": "stream",
     "text": [
      "<class 'int'>\n"
     ]
    }
   ],
   "source": [
    "a = 10\n",
    "print(type(a))"
   ]
  },
  {
   "cell_type": "markdown",
   "id": "2c8dd5c0",
   "metadata": {},
   "source": [
    "--------------------------------\n"
   ]
  },
  {
   "cell_type": "markdown",
   "id": "1cd37dcb",
   "metadata": {},
   "source": [
    "-----------------------------------------------\n"
   ]
  },
  {
   "cell_type": "code",
   "execution_count": 11,
   "id": "1714d07c",
   "metadata": {},
   "outputs": [],
   "source": [
    "class car:\n",
    "    #try to pass data usig __init__ method\n",
    "    def __init__(self, body_type, engine, fuel_type):\n",
    "        self.body_type1 = body_type\n",
    "        self.engine = engine\n",
    "        self.fuel_type = fuel_type\n",
    "    #method inside a class   \n",
    "    def test(self):\n",
    "        print(\"This is my first method in my car class\")\n",
    "        \n",
    "    "
   ]
  },
  {
   "cell_type": "code",
   "execution_count": 6,
   "id": "0da3f848",
   "metadata": {},
   "outputs": [
    {
     "ename": "TypeError",
     "evalue": "__init__() missing 3 required positional arguments: 'body_type', 'engine', and 'fuel_type'",
     "output_type": "error",
     "traceback": [
      "\u001b[1;31m---------------------------------------------------------------------------\u001b[0m",
      "\u001b[1;31mTypeError\u001b[0m                                 Traceback (most recent call last)",
      "Input \u001b[1;32mIn [6]\u001b[0m, in \u001b[0;36m<cell line: 1>\u001b[1;34m()\u001b[0m\n\u001b[1;32m----> 1\u001b[0m fortunar \u001b[38;5;241m=\u001b[39m \u001b[43mcar\u001b[49m\u001b[43m(\u001b[49m\u001b[43m)\u001b[49m\n",
      "\u001b[1;31mTypeError\u001b[0m: __init__() missing 3 required positional arguments: 'body_type', 'engine', and 'fuel_type'"
     ]
    }
   ],
   "source": [
    "fortunar = car()"
   ]
  },
  {
   "cell_type": "code",
   "execution_count": null,
   "id": "296bbd23",
   "metadata": {},
   "outputs": [],
   "source": []
  },
  {
   "cell_type": "code",
   "execution_count": null,
   "id": "34d49f1b",
   "metadata": {},
   "outputs": [],
   "source": []
  },
  {
   "cell_type": "code",
   "execution_count": null,
   "id": "ed9abae7",
   "metadata": {},
   "outputs": [],
   "source": []
  },
  {
   "cell_type": "code",
   "execution_count": null,
   "id": "368a1005",
   "metadata": {},
   "outputs": [],
   "source": []
  },
  {
   "cell_type": "code",
   "execution_count": 12,
   "id": "60ee3c89",
   "metadata": {},
   "outputs": [],
   "source": [
    "fortunar = car(\"suv\", \"bs4\", \"petrol\")"
   ]
  },
  {
   "cell_type": "code",
   "execution_count": 13,
   "id": "7bef6405",
   "metadata": {},
   "outputs": [],
   "source": [
    "nexon = car(\"suv\", \"xy4\", \"petrol\")"
   ]
  },
  {
   "cell_type": "code",
   "execution_count": 16,
   "id": "81e9ba32",
   "metadata": {},
   "outputs": [
    {
     "ename": "AttributeError",
     "evalue": "'car' object has no attribute 'body_type'",
     "output_type": "error",
     "traceback": [
      "\u001b[1;31m---------------------------------------------------------------------------\u001b[0m",
      "\u001b[1;31mAttributeError\u001b[0m                            Traceback (most recent call last)",
      "Input \u001b[1;32mIn [16]\u001b[0m, in \u001b[0;36m<cell line: 1>\u001b[1;34m()\u001b[0m\n\u001b[1;32m----> 1\u001b[0m \u001b[43mnexon\u001b[49m\u001b[38;5;241;43m.\u001b[39;49m\u001b[43mbody_type\u001b[49m\n",
      "\u001b[1;31mAttributeError\u001b[0m: 'car' object has no attribute 'body_type'"
     ]
    }
   ],
   "source": [
    "nexon.body_type"
   ]
  },
  {
   "cell_type": "code",
   "execution_count": 17,
   "id": "d79c0644",
   "metadata": {},
   "outputs": [
    {
     "data": {
      "text/plain": [
       "'suv'"
      ]
     },
     "execution_count": 17,
     "metadata": {},
     "output_type": "execute_result"
    }
   ],
   "source": [
    "nexon.body_type1"
   ]
  },
  {
   "cell_type": "code",
   "execution_count": 18,
   "id": "f77c9b75",
   "metadata": {},
   "outputs": [
    {
     "data": {
      "text/plain": [
       "<bound method car.test of <__main__.car object at 0x000001926536CFA0>>"
      ]
     },
     "execution_count": 18,
     "metadata": {},
     "output_type": "execute_result"
    }
   ],
   "source": [
    "nexon.test"
   ]
  },
  {
   "cell_type": "code",
   "execution_count": 19,
   "id": "fd3665f8",
   "metadata": {},
   "outputs": [
    {
     "name": "stdout",
     "output_type": "stream",
     "text": [
      "This is my first method in my car class\n"
     ]
    }
   ],
   "source": [
    "nexon.test()"
   ]
  },
  {
   "cell_type": "markdown",
   "id": "cb4e6e0a",
   "metadata": {},
   "source": [
    "###  A very first argument that you're trying to provide in a class-varibale or class-method, is treated as a pointer. It need not be \"self\". It could be any word or name or letter. \"self\" is not a reserved keyword."
   ]
  },
  {
   "cell_type": "markdown",
   "id": "6bbbeb17",
   "metadata": {},
   "source": [
    "-----\n"
   ]
  },
  {
   "cell_type": "markdown",
   "id": "900827fb",
   "metadata": {},
   "source": [
    "### If I don't want to pass any kind of data/value to my class, then I can avoid adding \\_\\_init\\_\\_ inside my class."
   ]
  },
  {
   "cell_type": "code",
   "execution_count": 30,
   "id": "05cc6500",
   "metadata": {},
   "outputs": [],
   "source": [
    "class car:\n",
    "    def test(self): # Again, self is a pointer here.\n",
    "        print(\"This is my first method in my car class\")\n",
    "        "
   ]
  },
  {
   "cell_type": "code",
   "execution_count": 31,
   "id": "81e76ab0",
   "metadata": {},
   "outputs": [],
   "source": [
    "uber = car()"
   ]
  },
  {
   "cell_type": "code",
   "execution_count": 32,
   "id": "fe9922fd",
   "metadata": {},
   "outputs": [
    {
     "name": "stdout",
     "output_type": "stream",
     "text": [
      "This is my first method in my car class\n"
     ]
    }
   ],
   "source": [
    "uber.test()"
   ]
  },
  {
   "cell_type": "code",
   "execution_count": 37,
   "id": "51212bd0",
   "metadata": {},
   "outputs": [
    {
     "name": "stdout",
     "output_type": "stream",
     "text": [
      "<class '__main__.car'>\n"
     ]
    }
   ],
   "source": [
    "print(type(uber))"
   ]
  },
  {
   "cell_type": "markdown",
   "id": "24c0822f",
   "metadata": {},
   "source": [
    "\\_\\_main\\_\\_ is a superclass. Whenever, you create a new class, it is associated with this \\_\\_main\\_\\_ superclass."
   ]
  },
  {
   "cell_type": "code",
   "execution_count": 33,
   "id": "3f6ed06d",
   "metadata": {},
   "outputs": [],
   "source": [
    "class car:\n",
    "    def test(self, b, c):\n",
    "        print(\"This is my first method in my car class\")\n",
    "        "
   ]
  },
  {
   "cell_type": "code",
   "execution_count": 34,
   "id": "7dccd577",
   "metadata": {},
   "outputs": [],
   "source": [
    "ola = car()"
   ]
  },
  {
   "cell_type": "code",
   "execution_count": 35,
   "id": "48f6eb7a",
   "metadata": {},
   "outputs": [
    {
     "name": "stdout",
     "output_type": "stream",
     "text": [
      "This is my first method in my car class\n"
     ]
    }
   ],
   "source": [
    "ola.test(\"rik\", \"show\")"
   ]
  },
  {
   "cell_type": "code",
   "execution_count": 36,
   "id": "418707a9",
   "metadata": {},
   "outputs": [
    {
     "ename": "TypeError",
     "evalue": "test() takes 3 positional arguments but 4 were given",
     "output_type": "error",
     "traceback": [
      "\u001b[1;31m---------------------------------------------------------------------------\u001b[0m",
      "\u001b[1;31mTypeError\u001b[0m                                 Traceback (most recent call last)",
      "Input \u001b[1;32mIn [36]\u001b[0m, in \u001b[0;36m<cell line: 1>\u001b[1;34m()\u001b[0m\n\u001b[1;32m----> 1\u001b[0m \u001b[43mola\u001b[49m\u001b[38;5;241;43m.\u001b[39;49m\u001b[43mtest\u001b[49m\u001b[43m(\u001b[49m\u001b[38;5;124;43m\"\u001b[39;49m\u001b[38;5;124;43mrik\u001b[39;49m\u001b[38;5;124;43m\"\u001b[39;49m\u001b[43m,\u001b[49m\u001b[43m \u001b[49m\u001b[38;5;124;43m\"\u001b[39;49m\u001b[38;5;124;43mshow\u001b[39;49m\u001b[38;5;124;43m\"\u001b[39;49m\u001b[43m,\u001b[49m\u001b[43m \u001b[49m\u001b[38;5;124;43m\"\u001b[39;49m\u001b[38;5;124;43mhello\u001b[39;49m\u001b[38;5;124;43m\"\u001b[39;49m\u001b[43m)\u001b[49m\n",
      "\u001b[1;31mTypeError\u001b[0m: test() takes 3 positional arguments but 4 were given"
     ]
    }
   ],
   "source": [
    "ola.test(\"rik\", \"show\", \"hello\")"
   ]
  },
  {
   "cell_type": "markdown",
   "id": "b015bf31",
   "metadata": {},
   "source": [
    "--------"
   ]
  },
  {
   "cell_type": "markdown",
   "id": "2e8b9a8c",
   "metadata": {},
   "source": [
    "---------------------------------"
   ]
  },
  {
   "cell_type": "code",
   "execution_count": 42,
   "id": "7317388d",
   "metadata": {},
   "outputs": [],
   "source": [
    "class list_parser:\n",
    "    \n",
    "    def parcer(self, a):\n",
    "        if type(a) == list:\n",
    "            for i in a:\n",
    "                print(i)\n",
    "    \n",
    "    def reverser_list(self, a):\n",
    "        if type(a) == list:\n",
    "            return a[::-1]"
   ]
  },
  {
   "cell_type": "code",
   "execution_count": 43,
   "id": "3f2d7982",
   "metadata": {},
   "outputs": [],
   "source": [
    "c = list_parser()"
   ]
  },
  {
   "cell_type": "code",
   "execution_count": 44,
   "id": "a9e34883",
   "metadata": {},
   "outputs": [
    {
     "name": "stdout",
     "output_type": "stream",
     "text": [
      "1\n",
      "2\n",
      "3\n",
      "4\n",
      "5\n"
     ]
    }
   ],
   "source": [
    "c.parcer([1,2,3,4,5])"
   ]
  },
  {
   "cell_type": "code",
   "execution_count": 45,
   "id": "01c0894e",
   "metadata": {},
   "outputs": [
    {
     "data": {
      "text/plain": [
       "[8, 56, 4, 3, 12]"
      ]
     },
     "execution_count": 45,
     "metadata": {},
     "output_type": "execute_result"
    }
   ],
   "source": [
    "c.reverser_list([12,3,4,56,8])"
   ]
  },
  {
   "cell_type": "code",
   "execution_count": 57,
   "id": "b472a7e4",
   "metadata": {},
   "outputs": [],
   "source": [
    "class list_parser:\n",
    "    def __init__(self, a):\n",
    "        self.a = a\n",
    "    \n",
    "    def parcer(self):\n",
    "        if type(self.a) == list:\n",
    "            for i in self.a:\n",
    "                print(i)\n",
    "    \n",
    "    def reverser_list(self):\n",
    "        if type(self.a) == list:\n",
    "            return self.a[::-1]"
   ]
  },
  {
   "cell_type": "code",
   "execution_count": 58,
   "id": "16877e68",
   "metadata": {},
   "outputs": [],
   "source": [
    "c = list_parser([1,2,3,4,5,6,7,8,9,10])"
   ]
  },
  {
   "cell_type": "code",
   "execution_count": 59,
   "id": "29d7d59e",
   "metadata": {},
   "outputs": [
    {
     "name": "stdout",
     "output_type": "stream",
     "text": [
      "1\n",
      "2\n",
      "3\n",
      "4\n",
      "5\n",
      "6\n",
      "7\n",
      "8\n",
      "9\n",
      "10\n"
     ]
    }
   ],
   "source": [
    "c.parcer()"
   ]
  },
  {
   "cell_type": "code",
   "execution_count": 60,
   "id": "4366bfee",
   "metadata": {},
   "outputs": [
    {
     "data": {
      "text/plain": [
       "[10, 9, 8, 7, 6, 5, 4, 3, 2, 1]"
      ]
     },
     "execution_count": 60,
     "metadata": {},
     "output_type": "execute_result"
    }
   ],
   "source": [
    "c.reverser_list()"
   ]
  },
  {
   "cell_type": "code",
   "execution_count": 61,
   "id": "fa85730b",
   "metadata": {},
   "outputs": [
    {
     "data": {
      "text/plain": [
       "[1, 2, 3, 4, 5, 6, 7, 8, 9, 10]"
      ]
     },
     "execution_count": 61,
     "metadata": {},
     "output_type": "execute_result"
    }
   ],
   "source": [
    "c.a"
   ]
  },
  {
   "cell_type": "markdown",
   "id": "2a68e9fa",
   "metadata": {},
   "source": [
    "----------------------------------------------------------"
   ]
  },
  {
   "cell_type": "markdown",
   "id": "73b093bb",
   "metadata": {},
   "source": [
    "- - - - - - - "
   ]
  },
  {
   "cell_type": "markdown",
   "id": "da515722",
   "metadata": {},
   "source": [
    "create a class for dictionary parsing\n",
    "\n",
    "1. write a function to give all the keys\n",
    "\n",
    "2. write a function to give all the values\n",
    "\n",
    "3. write a function to throw an exception in case of input is not dictionary\n",
    "\n",
    "4. Write a function for take user input and then parse a key and value out of dictionary\n",
    "\n",
    "5. write a function to insert new key value pair into dictionary"
   ]
  },
  {
   "cell_type": "code",
   "execution_count": 115,
   "id": "2022d892",
   "metadata": {},
   "outputs": [],
   "source": [
    "class dictionary_parsing:\n",
    "    \n",
    "    def __init__(self, d):\n",
    "        self.d = d\n",
    "        \n",
    "    #ans1\n",
    "    def getkeys(self):\n",
    "        if self.ifdict():\n",
    "            return list(self.d.keys())\n",
    "        \n",
    "    #ans2\n",
    "    def getvalues(self):\n",
    "        if self.ifdict():\n",
    "            return list(self.d.values())\n",
    "    \n",
    "    #ans3    \n",
    "    def ifdict(self):\n",
    "        if type(self.d) == dict:\n",
    "            return True\n",
    "        else:\n",
    "            raise Exception(self.d, \"Not a dictionary\")\n",
    "            \n",
    "            \n",
    "            \n",
    "    #ans4\n",
    "    def userinput(self):\n",
    "        self.d = eval(input())\n",
    "        print(self.d, type(self.d))\n",
    "        print(self.getkeys())\n",
    "        print(self.getvalues())\n",
    "        \n",
    "        \n",
    "    #ans5\n",
    "    def insertion(self, k, v):\n",
    "        self.d[k] = v\n",
    "        print(self.d)\n",
    "        "
   ]
  },
  {
   "cell_type": "code",
   "execution_count": 116,
   "id": "03a655a0",
   "metadata": {},
   "outputs": [],
   "source": [
    "a = dictionary_parsing([1,2,3,4])"
   ]
  },
  {
   "cell_type": "code",
   "execution_count": 117,
   "id": "db67c51f",
   "metadata": {},
   "outputs": [
    {
     "ename": "Exception",
     "evalue": "([1, 2, 3, 4], 'Not a dictionary')",
     "output_type": "error",
     "traceback": [
      "\u001b[1;31m---------------------------------------------------------------------------\u001b[0m",
      "\u001b[1;31mException\u001b[0m                                 Traceback (most recent call last)",
      "Input \u001b[1;32mIn [117]\u001b[0m, in \u001b[0;36m<cell line: 1>\u001b[1;34m()\u001b[0m\n\u001b[1;32m----> 1\u001b[0m \u001b[43ma\u001b[49m\u001b[38;5;241;43m.\u001b[39;49m\u001b[43mgetkeys\u001b[49m\u001b[43m(\u001b[49m\u001b[43m)\u001b[49m\n",
      "Input \u001b[1;32mIn [115]\u001b[0m, in \u001b[0;36mdictionary_parsing.getkeys\u001b[1;34m(self)\u001b[0m\n\u001b[0;32m      7\u001b[0m \u001b[38;5;28;01mdef\u001b[39;00m \u001b[38;5;21mgetkeys\u001b[39m(\u001b[38;5;28mself\u001b[39m):\n\u001b[1;32m----> 8\u001b[0m     \u001b[38;5;28;01mif\u001b[39;00m \u001b[38;5;28;43mself\u001b[39;49m\u001b[38;5;241;43m.\u001b[39;49m\u001b[43mifdict\u001b[49m\u001b[43m(\u001b[49m\u001b[43m)\u001b[49m:\n\u001b[0;32m      9\u001b[0m         \u001b[38;5;28;01mreturn\u001b[39;00m \u001b[38;5;28mlist\u001b[39m(\u001b[38;5;28mself\u001b[39m\u001b[38;5;241m.\u001b[39md\u001b[38;5;241m.\u001b[39mkeys())\n",
      "Input \u001b[1;32mIn [115]\u001b[0m, in \u001b[0;36mdictionary_parsing.ifdict\u001b[1;34m(self)\u001b[0m\n\u001b[0;32m     19\u001b[0m     \u001b[38;5;28;01mreturn\u001b[39;00m \u001b[38;5;28;01mTrue\u001b[39;00m\n\u001b[0;32m     20\u001b[0m \u001b[38;5;28;01melse\u001b[39;00m:\n\u001b[1;32m---> 21\u001b[0m     \u001b[38;5;28;01mraise\u001b[39;00m \u001b[38;5;167;01mException\u001b[39;00m(\u001b[38;5;28mself\u001b[39m\u001b[38;5;241m.\u001b[39md, \u001b[38;5;124m\"\u001b[39m\u001b[38;5;124mNot a dictionary\u001b[39m\u001b[38;5;124m\"\u001b[39m)\n",
      "\u001b[1;31mException\u001b[0m: ([1, 2, 3, 4], 'Not a dictionary')"
     ]
    }
   ],
   "source": [
    "a.getkeys()"
   ]
  },
  {
   "cell_type": "code",
   "execution_count": 105,
   "id": "75c9f862",
   "metadata": {},
   "outputs": [],
   "source": [
    "b = dictionary_parsing({\"name\": \"Rounak\", \"surname\": \"Show\"})"
   ]
  },
  {
   "cell_type": "code",
   "execution_count": 106,
   "id": "9481087f",
   "metadata": {},
   "outputs": [
    {
     "data": {
      "text/plain": [
       "['name', 'surname']"
      ]
     },
     "execution_count": 106,
     "metadata": {},
     "output_type": "execute_result"
    }
   ],
   "source": [
    "b.getkeys()"
   ]
  },
  {
   "cell_type": "code",
   "execution_count": 107,
   "id": "f07a4066",
   "metadata": {},
   "outputs": [
    {
     "data": {
      "text/plain": [
       "['Rounak', 'Show']"
      ]
     },
     "execution_count": 107,
     "metadata": {},
     "output_type": "execute_result"
    }
   ],
   "source": [
    "b.getvalues()"
   ]
  },
  {
   "cell_type": "code",
   "execution_count": 108,
   "id": "e1afaabc",
   "metadata": {},
   "outputs": [
    {
     "data": {
      "text/plain": [
       "True"
      ]
     },
     "execution_count": 108,
     "metadata": {},
     "output_type": "execute_result"
    }
   ],
   "source": [
    "b.ifdict()"
   ]
  },
  {
   "cell_type": "code",
   "execution_count": 109,
   "id": "a283ed19",
   "metadata": {},
   "outputs": [
    {
     "name": "stdout",
     "output_type": "stream",
     "text": [
      "{'name': 'Rounak', 'surname': 'Show', 'mail': 'rikbale@gmail.com'}\n"
     ]
    }
   ],
   "source": [
    "b.insertion(\"mail\", \"rikbale@gmail.com\")"
   ]
  },
  {
   "cell_type": "code",
   "execution_count": 111,
   "id": "adacd163",
   "metadata": {},
   "outputs": [
    {
     "name": "stdout",
     "output_type": "stream",
     "text": [
      "{\"key1\" : \"Hello\", \"key2\": \"World\"}\n",
      "{'key1': 'Hello', 'key2': 'World'} <class 'dict'>\n",
      "['key1', 'key2']\n",
      "['Hello', 'World']\n"
     ]
    }
   ],
   "source": [
    "b.userinput()"
   ]
  },
  {
   "cell_type": "code",
   "execution_count": 118,
   "id": "97ec7341",
   "metadata": {},
   "outputs": [
    {
     "data": {
      "text/plain": [
       "<_io.TextIOWrapper name='mydictionary.py' mode='w' encoding='cp1252'>"
      ]
     },
     "execution_count": 118,
     "metadata": {},
     "output_type": "execute_result"
    }
   ],
   "source": [
    "open(\"mydictionary.py\", \"w\")"
   ]
  },
  {
   "cell_type": "code",
   "execution_count": 119,
   "id": "0926ed39",
   "metadata": {},
   "outputs": [
    {
     "name": "stdout",
     "output_type": "stream",
     "text": [
      " Volume in drive C is Windows\n",
      " Volume Serial Number is D0C1-5A67\n",
      "\n",
      " Directory of C:\\Users\\rouna\n",
      "\n",
      "18-11-2022  19:21    <DIR>          .\n",
      "22-10-2022  16:10    <DIR>          ..\n",
      "18-11-2022  19:21    <DIR>          .conda\n",
      "21-10-2022  16:03                25 .condarc\n",
      "05-11-2022  15:57    <DIR>          .continuum\n",
      "18-11-2022  19:20    <DIR>          .ipynb_checkpoints\n",
      "19-10-2022  19:43    <DIR>          .ipython\n",
      "20-10-2022  20:24    <DIR>          .jupyter\n",
      "13-11-2022  01:31    <DIR>          .matplotlib\n",
      "12-11-2022  00:02    <DIR>          .ms-ad\n",
      "11-11-2022  13:11    <DIR>          __pycache__\n",
      "12-11-2022  17:37            33,491 12th November iNeuron.ipynb\n",
      "13-11-2022  17:26            25,890 13th November iNeuron.ipynb\n",
      "01-11-2022  18:41            22,102 1st Oct ineuron(operators, if-else).ipynb\n",
      "01-11-2022  18:38            10,583 24th Sept ineuron (Variables, Data types).ipynb\n",
      "01-11-2022  18:40            34,485 25th Sept ineuron (User input, Type-casting).ipynb\n",
      "29-10-2022  17:42           215,733 29th October iNeuron.ipynb\n",
      "13-11-2022  12:03           224,326 6.3 python list ineuron.ipynb\n",
      "21-10-2022  16:27           197,746 6.4 python tuple and sets.ipynb\n",
      "29-10-2022  14:53           199,514 6.5 Dictionary.ipynb\n",
      "01-11-2022  18:43           117,731 8th Oct(String Methods).ipynb\n",
      "21-10-2022  16:03    <DIR>          anaconda3\n",
      "21-10-2022  16:27            10,768 Array.ipynb\n",
      "21-10-2022  16:27            12,652 Assignments_001_25th_Sept.ipynb\n",
      "13-11-2022  01:16            34,154 ckd-dataset-v2.csv\n",
      "19-10-2022  01:07    <DIR>          Contacts\n",
      "13-11-2022  01:41         1,697,172 coviddatasets.csv\n",
      "21-10-2022  16:27            12,661 Dictionaries & Sets.ipynb\n",
      "19-10-2022  01:09    <DIR>          Documents\n",
      "18-11-2022  12:33    <DIR>          Downloads\n",
      "10-11-2022  20:18            31,305 Exception Handling.ipynb\n",
      "19-10-2022  01:07    <DIR>          Favorites\n",
      "07-11-2022  18:23            59,637 File System.ipynb\n",
      "30-10-2022  13:28             4,375 FSDS bootcamp assignment 29th Oct.ipynb\n",
      "21-10-2022  16:27            12,833 FSDS_bootcamp_assignment_002_Oct_01.ipynb\n",
      "21-10-2022  16:27             6,765 FSDS_bootcamp_assignment_003_Oct_08.ipynb\n",
      "21-10-2022  16:27             4,177 FSDS_bootcamp_assignment_004_Oct_09.ipynb\n",
      "01-11-2022  18:51             6,660 FSDS_bootcamp_assignment_005_Oct_16.ipynb\n",
      "12-11-2022  13:09            29,641 FSDS_bootcamp_assignment_29th Oct.ipynb\n",
      "26-10-2022  14:16            30,112 Function and holiday task.ipynb\n",
      "09-11-2022  18:19                22 google.txt\n",
      "13-11-2022  16:58           277,421 imagaae.png\n",
      "07-11-2022  18:15            51,092 Iterator & Generator.ipynb\n",
      "19-10-2022  01:07    <DIR>          Links\n",
      "10-11-2022  19:52             5,663 Logging.ipynb\n",
      "21-10-2022  16:27            15,396 Misc_exercise.ipynb\n",
      "14-11-2022  19:33             9,280 Modules and packages.ipynb\n",
      "19-10-2022  01:07    <DIR>          Music\n",
      "18-11-2022  19:21                 0 mydictionary.py\n",
      "21-10-2022  16:27            17,593 Numpy Arrays.ipynb\n",
      "18-11-2022  16:16    <DIR>          OneDrive\n",
      "18-11-2022  19:20            23,284 OOPS Class - Sudhanshu Sir.ipynb\n",
      "21-10-2022  16:27            13,775 Pandas.ipynb\n",
      "21-10-2022  16:27             7,001 Python Basic Assignment 1.ipynb\n",
      "17-11-2022  21:09             5,429 Python Basic Assignment 15.ipynb\n",
      "16-11-2022  13:43            11,630 Python Basic Assignment 16.ipynb\n",
      "15-11-2022  13:10            10,180 Python Basic Assignment 17.ipynb\n",
      "21-10-2022  16:27            12,589 Python Basic Assignment 2.ipynb\n",
      "09-11-2022  17:47             7,012 Python Basic Assignment 3.ipynb\n",
      "21-10-2022  16:27            15,653 Python Basic Assignment 4.ipynb\n",
      "05-11-2022  14:54            10,460 Python Basic assignment 5.ipynb\n",
      "07-11-2022  17:17            20,909 Python Basic Assignment 6.ipynb\n",
      "01-11-2022  18:24            30,661 Python Function - part 2- Sudhanshu Sir.ipynb\n",
      "01-11-2022  18:24            16,705 Python Function - Sudhanshu Sir.ipynb\n",
      "22-10-2022  21:59            10,166 Python Program Discussion in Loops.ipynb\n",
      "19-10-2022  01:07    <DIR>          Saved Games\n",
      "19-10-2022  01:21    <DIR>          Searches\n",
      "10-11-2022  19:15               260 test.log\n",
      "05-11-2022  15:19                38 test.text\n",
      "08-11-2022  12:17                12 test.txt\n",
      "05-11-2022  15:37               133 test1.txt\n",
      "10-11-2022  19:37             1,374 test2.log\n",
      "10-11-2022  19:47             1,508 test3.log\n",
      "05-11-2022  16:16                 0 test3.txt\n",
      "05-11-2022  16:19             1,327 test5.txt\n",
      "11-11-2022  13:11               185 testmodule.py\n",
      "11-11-2022  13:09               185 testmodule.py.bak\n",
      "30-10-2022  16:31            16,812 tnt flash tv.docx\n",
      "21-10-2022  16:27             2,096 Tuples.ipynb\n",
      "13-11-2022  12:26             2,935 Untitled.ipynb\n",
      "13-11-2022  01:43            85,380 Untitled1.ipynb\n",
      "18-11-2022  19:20                72 Untitled2.ipynb\n",
      "19-10-2022  23:33    <DIR>          Videos\n",
      "              62 File(s)      3,718,776 bytes\n",
      "              21 Dir(s)  98,517,012,480 bytes free\n"
     ]
    }
   ],
   "source": [
    "ls"
   ]
  },
  {
   "cell_type": "markdown",
   "id": "0f6a9f3d",
   "metadata": {},
   "source": [
    "### ATM Class CampusX"
   ]
  },
  {
   "cell_type": "code",
   "execution_count": 2,
   "id": "ee2960c0",
   "metadata": {},
   "outputs": [],
   "source": [
    "class Atm:\n",
    "    \n",
    "    def __init__(self):\n",
    "        self.pin = ''\n",
    "        self.balance = 0\n",
    "        print(\"Welcome to ATM\")\n",
    "        self.menu()\n",
    "        \n",
    "    def menu(self):\n",
    "        user_input = input(\"\"\"\n",
    "        1. press 1 to create pin\n",
    "        2. press 2 to change pin\n",
    "        3. press 3 to check balance\n",
    "        4. press 4 to withdraw\n",
    "        press any other key to exit\n",
    "        \"\"\")\n",
    "        \n",
    "        if user_input == '1':\n",
    "            self.create_pin()\n",
    "        elif user_input == '2':\n",
    "            self.change_pin()\n",
    "        elif user_input == '3':\n",
    "            self.check_balance()\n",
    "        elif user_input == '4':\n",
    "            self.withdraw()\n",
    "        else:\n",
    "            exit()\n",
    "\n",
    "    def create_pin(self):\n",
    "        user_pin = input(\"Enter your new pin: \")\n",
    "        self.pin = user_pin\n",
    "        \n",
    "        user_balance = int(input(\"Enter your bank balance: \"))\n",
    "        self.balance = user_balance\n",
    "        \n",
    "        print(\"pin created successfully\")\n",
    "        self.menu()\n",
    "    \n",
    "    def change_pin(self):\n",
    "        old_pin = input(\"Enter your old pin: \")\n",
    "        if old_pin == self.pin:\n",
    "            new_pin = input(\"Enter your new pin: \")\n",
    "            self.pin = new_pin\n",
    "        else:\n",
    "            print(\"Sorry! Pin number does not match\")\n",
    "        self.menu()\n",
    "    \n",
    "    def check_balance(self):\n",
    "        pin_no = input(\"enter your pin: \")\n",
    "        if pin_no == self.pin:\n",
    "            print(\"Your balance is: \", self.balance)\n",
    "        else:\n",
    "            print(\"Wrong pin!\")\n",
    "        self.menu()\n",
    "    \n",
    "    def withdraw(self):\n",
    "        pin_no = input(\"enter your pin: \")\n",
    "        if pin_no == self.pin:\n",
    "            amount = int(input(\"Enter withdrawal amount: \"))\n",
    "            if amount <= self.balance:\n",
    "                self.balance = self.balance - amount\n",
    "                print(\"Your updated balance: \", self.balance)\n",
    "            else:\n",
    "                print(\"You don't have enough money!\")\n",
    "        else:\n",
    "            print(\"Wrong pin!\")\n",
    "        self.menu()  "
   ]
  },
  {
   "cell_type": "code",
   "execution_count": 2,
   "id": "d43f4c20",
   "metadata": {},
   "outputs": [
    {
     "name": "stdout",
     "output_type": "stream",
     "text": [
      "Welcome to ATM\n",
      "\n",
      "        1. press 1 to create pin\n",
      "        2. press 2 to change pin\n",
      "        3. press 3 to check balance\n",
      "        4. press 4 to withdraw\n",
      "        press any other key to exit\n",
      "        1\n",
      "Enter your new pin: 1234\n",
      "Enter your bank balance: 10000\n",
      "pin created successfully\n",
      "\n",
      "        1. press 1 to create pin\n",
      "        2. press 2 to change pin\n",
      "        3. press 3 to check balance\n",
      "        4. press 4 to withdraw\n",
      "        press any other key to exit\n",
      "        3\n",
      "enter your pin: 1234\n",
      "Your balance is:  10000\n",
      "\n",
      "        1. press 1 to create pin\n",
      "        2. press 2 to change pin\n",
      "        3. press 3 to check balance\n",
      "        4. press 4 to withdraw\n",
      "        press any other key to exit\n",
      "        4\n",
      "enter your pin: 1234\n",
      "Enter withdrawal amount: 6000\n",
      "Your updated balance:  4000\n",
      "\n",
      "        1. press 1 to create pin\n",
      "        2. press 2 to change pin\n",
      "        3. press 3 to check balance\n",
      "        4. press 4 to withdraw\n",
      "        press any other key to exit\n",
      "        2\n",
      "Enter your old pin: 1234\n",
      "Enter your new pin: 5555\n",
      "\n",
      "        1. press 1 to create pin\n",
      "        2. press 2 to change pin\n",
      "        3. press 3 to check balance\n",
      "        4. press 4 to withdraw\n",
      "        press any other key to exit\n",
      "        4\n",
      "enter your pin: 1234\n",
      "Wrong pin!\n",
      "\n",
      "        1. press 1 to create pin\n",
      "        2. press 2 to change pin\n",
      "        3. press 3 to check balance\n",
      "        4. press 4 to withdraw\n",
      "        press any other key to exit\n",
      "        4\n",
      "enter your pin: 5555\n",
      "Enter withdrawal amount: 9000\n",
      "You don't have enough money!\n",
      "\n",
      "        1. press 1 to create pin\n",
      "        2. press 2 to change pin\n",
      "        3. press 3 to check balance\n",
      "        4. press 4 to withdraw\n",
      "        press any other key to exit\n",
      "        7\n"
     ]
    }
   ],
   "source": [
    "obj = Atm()"
   ]
  },
  {
   "cell_type": "markdown",
   "id": "e46ff736",
   "metadata": {},
   "source": [
    "--------------"
   ]
  },
  {
   "cell_type": "markdown",
   "id": "48d2281e",
   "metadata": {},
   "source": [
    "## Methods vs Functions"
   ]
  },
  {
   "cell_type": "markdown",
   "id": "9d261ae5",
   "metadata": {},
   "source": [
    "While working in OOP, whenever we created functions inside the class, then we call them methods. Although, there's no doubt that they're functions, but whenever these functions are present inside a class, then we call it as methods."
   ]
  },
  {
   "cell_type": "markdown",
   "id": "b4323a26",
   "metadata": {},
   "source": [
    "And outside of class, we call functions as functions. All those independent functions which exist outside of class, are called functions."
   ]
  },
  {
   "cell_type": "code",
   "execution_count": null,
   "id": "67964c8f",
   "metadata": {},
   "outputs": [],
   "source": [
    "l = [1,2,3]\n",
    "# Identify function and method\n",
    "len(l)\n",
    "l.append(4)"
   ]
  },
  {
   "cell_type": "markdown",
   "id": "0d474390",
   "metadata": {},
   "source": [
    "len() is a function\n",
    "\n",
    "append() is a method. It is inside list class. That's why we click on tab after l.  append appears along with other methods."
   ]
  },
  {
   "cell_type": "markdown",
   "id": "9fc02975",
   "metadata": {},
   "source": [
    "## Magic Method (aka Dunder Method)"
   ]
  },
  {
   "cell_type": "markdown",
   "id": "982732a7",
   "metadata": {},
   "source": [
    "Magic methods are special methods in python that have double underscores (dunder) on both sides of the method name. "
   ]
  },
  {
   "cell_type": "markdown",
   "id": "1d3e27b3",
   "metadata": {},
   "source": [
    "For example, the \\_\\_init\\_\\_ and \\_\\_str\\_\\_ magic methods.\n",
    "\n",
    "These magic methods have extra superpower or functionalities"
   ]
  },
  {
   "cell_type": "markdown",
   "id": "728af5c3",
   "metadata": {},
   "source": [
    "## What is Constructor?"
   ]
  },
  {
   "cell_type": "markdown",
   "id": "48365734",
   "metadata": {},
   "source": [
    "A constructor is a unique method inside a class that gets called automatically when an object is created of a class.\n",
    "\n",
    "We cannot rename constructor. In python it is \\_\\_init\\_\\_\n",
    "\n",
    "The main benefit of using a constructor, is we can write configuration coding inside it. \n",
    "\n",
    "Suppose, you are making an app and you want to run some code/task as soon as user open the app; such as connect the app to internet or connect the app to database. Users don't have control with these kinds of controls. In these cases, you will write code inside a constructor. \n",
    "\n",
    "Because, then you will be assured that the code will definitely run automatically as soon as user open the app."
   ]
  },
  {
   "cell_type": "markdown",
   "id": "01cafed5",
   "metadata": {},
   "source": [
    "## What is self?"
   ]
  },
  {
   "cell_type": "markdown",
   "id": "70d0d785",
   "metadata": {},
   "source": [
    "Self is nothing but the object itself.\n",
    "\n",
    "According the Golden rule of OOP, the object can only access the methods inside a class. No method can call another method inside a class.\n",
    "\n",
    "So, self is like pointer or mediator which helps methods to connect with other methods. It is the hidden object.\n",
    "\n",
    "For proof, if we try to print the id(memory location) of self and the object, we will see that both the ids are same."
   ]
  },
  {
   "cell_type": "code",
   "execution_count": 3,
   "id": "1b2119a8",
   "metadata": {},
   "outputs": [],
   "source": [
    "class temp:\n",
    "    \n",
    "    def __init__(self):\n",
    "        print(id(self))"
   ]
  },
  {
   "cell_type": "code",
   "execution_count": 4,
   "id": "3df8fb51",
   "metadata": {},
   "outputs": [
    {
     "name": "stdout",
     "output_type": "stream",
     "text": [
      "2467435888496\n"
     ]
    }
   ],
   "source": [
    "obj = temp()"
   ]
  },
  {
   "cell_type": "code",
   "execution_count": 5,
   "id": "e334ab7d",
   "metadata": {},
   "outputs": [
    {
     "name": "stdout",
     "output_type": "stream",
     "text": [
      "2467435888496\n"
     ]
    }
   ],
   "source": [
    "print(id(obj))"
   ]
  },
  {
   "cell_type": "markdown",
   "id": "e3ed1cd5",
   "metadata": {},
   "source": [
    "## Create our own fraction class"
   ]
  },
  {
   "cell_type": "code",
   "execution_count": 15,
   "id": "72c5eb87",
   "metadata": {},
   "outputs": [],
   "source": [
    "class Fraction:\n",
    "    \n",
    "    def __init__(self, x, y):\n",
    "        self.num = x\n",
    "        self.den = y\n",
    "        \n",
    "    def __str__(self): # Whenever we want to print something, class automatically goes to the __str__ method. It's also a magic method.\n",
    "        return f'{self.num}/{self.den}'\n",
    "    \n",
    "    def __add__(self, other): #adding two objects -> self and other are two pointers of two objects. other is a naming convention just like self.\n",
    "        new_num = self.num*other.den + other.num*self.den\n",
    "        new_den = self.den*other.den\n",
    "        return f'{new_num}/{new_den}'\n",
    "    \n",
    "    def __sub__(self, other):\n",
    "        new_num = self.num*other.den - other.num*self.den\n",
    "        new_den = self.den*other.den\n",
    "        return f'{new_num}/{new_den}'\n",
    "    \n",
    "    def __mul__(self,other):\n",
    "        new_num = self.num*other.num\n",
    "        new_den = self.den*other.den\n",
    "        return f'{new_num}/{new_den}'\n",
    "    \n",
    "    def __truediv__(self,other):\n",
    "        new_num = self.num*other.den\n",
    "        new_den = self.den*other.num\n",
    "        return f'{new_num}/{new_den}'"
   ]
  },
  {
   "cell_type": "code",
   "execution_count": 16,
   "id": "4d079576",
   "metadata": {},
   "outputs": [],
   "source": [
    "fr1 = Fraction(1,2)"
   ]
  },
  {
   "cell_type": "code",
   "execution_count": 17,
   "id": "9bc19fa3",
   "metadata": {},
   "outputs": [
    {
     "name": "stdout",
     "output_type": "stream",
     "text": [
      "1/2\n"
     ]
    }
   ],
   "source": [
    "print(fr1)"
   ]
  },
  {
   "cell_type": "code",
   "execution_count": 18,
   "id": "0e077f87",
   "metadata": {},
   "outputs": [],
   "source": [
    "fr2 = Fraction(3,4)"
   ]
  },
  {
   "cell_type": "code",
   "execution_count": 19,
   "id": "45a875e8",
   "metadata": {},
   "outputs": [
    {
     "name": "stdout",
     "output_type": "stream",
     "text": [
      "3/4\n"
     ]
    }
   ],
   "source": [
    "print(fr2)"
   ]
  },
  {
   "cell_type": "code",
   "execution_count": 21,
   "id": "438eb002",
   "metadata": {},
   "outputs": [
    {
     "name": "stdout",
     "output_type": "stream",
     "text": [
      "10/8\n",
      "-2/8\n",
      "3/8\n",
      "4/6\n"
     ]
    }
   ],
   "source": [
    "print(fr1 + fr2)\n",
    "print(fr1 - fr2)\n",
    "print(fr1 * fr2)\n",
    "print(fr1 / fr2)"
   ]
  },
  {
   "cell_type": "markdown",
   "id": "0863286f",
   "metadata": {},
   "source": [
    "Reference Link:"
   ]
  },
  {
   "cell_type": "markdown",
   "id": "b5fb4acc",
   "metadata": {},
   "source": [
    "https://www.tutorialsteacher.com/python/magic-methods-in-python"
   ]
  },
  {
   "cell_type": "markdown",
   "id": "18bf0312",
   "metadata": {},
   "source": [
    "----"
   ]
  },
  {
   "cell_type": "markdown",
   "id": "908146c0",
   "metadata": {},
   "source": [
    "## Write OOP Classes to handle the following scenarios:"
   ]
  },
  {
   "cell_type": "markdown",
   "id": "612d075e",
   "metadata": {},
   "source": [
    "### -A user can create and view 2D coordinates\n",
    "\n",
    "### -Find out the distance between two coordinates\n",
    "\n",
    "### -Find out the distance of a coordinate from origin\n",
    "\n",
    "### -A user can check if a point lies on a given line\n",
    "\n",
    "### -Find the shortest distance between a given 2D point and a given line.\n",
    "\n",
    "### -Check if two lines intersect each-other or not."
   ]
  },
  {
   "cell_type": "code",
   "execution_count": 76,
   "id": "c3620f13",
   "metadata": {},
   "outputs": [],
   "source": [
    "class Point:\n",
    "    def __init__(self, x, y): #create X and Y coordinate\n",
    "        self.x = x\n",
    "        self.y = y\n",
    "        \n",
    "    def __str__(self):\n",
    "        return f\"<{self.x},{self.y}>\" #Question1 done\n",
    "    \n",
    "    #distance between two coordinate\n",
    "    \n",
    "    def euclidean_distance(self,other):\n",
    "        return ((self.x - other.x)**2 + (self.y - other.y)**2)**0.5\n",
    "    \n",
    "    #distance between coordinate and origin\n",
    "    \n",
    "    def distance_from_origin(self):\n",
    "        # return (self.x**2 + self.y**2)**0.5 alternate formula\n",
    "        return self.euclidean_distance(Point(0,0))\n",
    "    \n",
    "    #A user can check if a point lies on a given line\n",
    "#create line class    \n",
    "class Line:\n",
    "    \n",
    "    def __init__(self, A, B, C):\n",
    "        self.A = A\n",
    "        self.B = B\n",
    "        self.C = C\n",
    "        \n",
    "    def __str__(self):\n",
    "        return f\"{self.A}x + {self.B}y + {self.C} = 0\"\n",
    "    \n",
    "    # If the values of x and y of a given point satisfy the given equation, means LHS == RHS, then we can say the point is on the line.\n",
    "    def point_on_line(line, point):\n",
    "        if line.A*point.x + line.B*point.y + line.C == 0:\n",
    "            return \"Lies on the line\"\n",
    "        else:\n",
    "            return \"Does not lie on the line\"\n",
    "    #Find the shortest distance between a given 2D point and a given line.    \n",
    "    def shortest_distance(line, point):\n",
    "        return abs(line.A*point.x + line.B*point.y + line.C)/ (line.A**2 + line.B**2)**0.5\n",
    "    \n",
    "    #Check if two lines intersect each-other or not.\n",
    "    def intersect_line(self, other):\n",
    "        if self.A/other.A == self.B/other.B:\n",
    "            return \"The lines are parallel\"\n",
    "        elif self.A*self.B + other.A*other.B == 0:\n",
    "            return \"the lines are perpendicular and hence intersecting\"\n",
    "        else:\n",
    "            return \"The lines are intersecting\"\n",
    "\n",
    "    "
   ]
  },
  {
   "cell_type": "code",
   "execution_count": 53,
   "id": "6ed3e297",
   "metadata": {},
   "outputs": [
    {
     "name": "stdout",
     "output_type": "stream",
     "text": [
      "<5,4>\n"
     ]
    }
   ],
   "source": [
    "p1 = Point(5,4)\n",
    "print(p1)"
   ]
  },
  {
   "cell_type": "code",
   "execution_count": 54,
   "id": "114f82be",
   "metadata": {},
   "outputs": [
    {
     "data": {
      "text/plain": [
       "5"
      ]
     },
     "execution_count": 54,
     "metadata": {},
     "output_type": "execute_result"
    }
   ],
   "source": [
    "p1.x"
   ]
  },
  {
   "cell_type": "code",
   "execution_count": 55,
   "id": "034476dd",
   "metadata": {},
   "outputs": [
    {
     "data": {
      "text/plain": [
       "4"
      ]
     },
     "execution_count": 55,
     "metadata": {},
     "output_type": "execute_result"
    }
   ],
   "source": [
    "p1.y"
   ]
  },
  {
   "cell_type": "code",
   "execution_count": 56,
   "id": "8873283e",
   "metadata": {},
   "outputs": [
    {
     "name": "stdout",
     "output_type": "stream",
     "text": [
      "<0,0>\n"
     ]
    }
   ],
   "source": [
    "p2 = Point(0,0)\n",
    "print(p2)"
   ]
  },
  {
   "cell_type": "code",
   "execution_count": 57,
   "id": "5fde3dfc",
   "metadata": {},
   "outputs": [
    {
     "data": {
      "text/plain": [
       "6.4031242374328485"
      ]
     },
     "execution_count": 57,
     "metadata": {},
     "output_type": "execute_result"
    }
   ],
   "source": [
    "p1.euclidean_distance(p2)"
   ]
  },
  {
   "cell_type": "code",
   "execution_count": 58,
   "id": "8cb044a6",
   "metadata": {},
   "outputs": [
    {
     "data": {
      "text/plain": [
       "6.4031242374328485"
      ]
     },
     "execution_count": 58,
     "metadata": {},
     "output_type": "execute_result"
    }
   ],
   "source": [
    "p1.distance_from_origin()"
   ]
  },
  {
   "cell_type": "code",
   "execution_count": 59,
   "id": "22c1487d",
   "metadata": {},
   "outputs": [
    {
     "data": {
      "text/plain": [
       "0.0"
      ]
     },
     "execution_count": 59,
     "metadata": {},
     "output_type": "execute_result"
    }
   ],
   "source": [
    "p2.distance_from_origin()"
   ]
  },
  {
   "cell_type": "code",
   "execution_count": 60,
   "id": "de3abdee",
   "metadata": {},
   "outputs": [],
   "source": [
    "l1 = Line(3,4,5)"
   ]
  },
  {
   "cell_type": "code",
   "execution_count": 61,
   "id": "f333a07d",
   "metadata": {},
   "outputs": [
    {
     "name": "stdout",
     "output_type": "stream",
     "text": [
      "3x + 4y + 5 = 0\n"
     ]
    }
   ],
   "source": [
    "print(l1)"
   ]
  },
  {
   "cell_type": "code",
   "execution_count": 72,
   "id": "1d996a33",
   "metadata": {},
   "outputs": [
    {
     "name": "stdout",
     "output_type": "stream",
     "text": [
      "1x + 1y + -2 = 0\n",
      "<1,1>\n"
     ]
    }
   ],
   "source": [
    "l2 = Line(1,1,-2)\n",
    "p3 = Point(1,1)\n",
    "\n",
    "print(l2)\n",
    "print(p3)"
   ]
  },
  {
   "cell_type": "code",
   "execution_count": 66,
   "id": "321294d7",
   "metadata": {},
   "outputs": [
    {
     "data": {
      "text/plain": [
       "'Lies on the line'"
      ]
     },
     "execution_count": 66,
     "metadata": {},
     "output_type": "execute_result"
    }
   ],
   "source": [
    "l2.point_on_line(p3)"
   ]
  },
  {
   "cell_type": "code",
   "execution_count": 68,
   "id": "c7b7b28f",
   "metadata": {},
   "outputs": [
    {
     "data": {
      "text/plain": [
       "0.0"
      ]
     },
     "execution_count": 68,
     "metadata": {},
     "output_type": "execute_result"
    }
   ],
   "source": [
    "l2.shortest_distance(p3)"
   ]
  },
  {
   "cell_type": "code",
   "execution_count": 77,
   "id": "000c0fac",
   "metadata": {},
   "outputs": [
    {
     "name": "stdout",
     "output_type": "stream",
     "text": [
      "1x + -2y + 3 = 0\n",
      "1x + -2y + 5 = 0\n"
     ]
    }
   ],
   "source": [
    "l3 = Line(1,-2,3)\n",
    "l4 = Line(1,-2,5)\n",
    "\n",
    "print(l3)\n",
    "print(l4)"
   ]
  },
  {
   "cell_type": "code",
   "execution_count": 78,
   "id": "ed3142da",
   "metadata": {},
   "outputs": [
    {
     "data": {
      "text/plain": [
       "'The lines are parallel'"
      ]
     },
     "execution_count": 78,
     "metadata": {},
     "output_type": "execute_result"
    }
   ],
   "source": [
    "l3.intersect_line(l4)"
   ]
  },
  {
   "cell_type": "code",
   "execution_count": 79,
   "id": "994e69e7",
   "metadata": {},
   "outputs": [
    {
     "name": "stdout",
     "output_type": "stream",
     "text": [
      "1x + -1y + 3 = 0\n",
      "1x + 1y + 5 = 0\n"
     ]
    }
   ],
   "source": [
    "l5 = Line(1,-1,3)\n",
    "l6 = Line(1,1,5)\n",
    "\n",
    "print(l5)\n",
    "print(l6)"
   ]
  },
  {
   "cell_type": "code",
   "execution_count": 80,
   "id": "d54667d9",
   "metadata": {},
   "outputs": [
    {
     "data": {
      "text/plain": [
       "'the lines are perpendicular and hence intersecting'"
      ]
     },
     "execution_count": 80,
     "metadata": {},
     "output_type": "execute_result"
    }
   ],
   "source": [
    "l5.intersect_line(l6)"
   ]
  },
  {
   "cell_type": "markdown",
   "id": "05a5a749",
   "metadata": {},
   "source": [
    "----------"
   ]
  },
  {
   "cell_type": "markdown",
   "id": "b0ec5704",
   "metadata": {},
   "source": [
    "## Attributes creation from outside of the Class"
   ]
  },
  {
   "cell_type": "code",
   "execution_count": 81,
   "id": "873e44da",
   "metadata": {},
   "outputs": [],
   "source": [
    "class nation:\n",
    "    \n",
    "    def __init__(self, name, nationality):\n",
    "        self.name = name\n",
    "        self.nationality = nationality\n",
    "        \n",
    "    def national(self):\n",
    "        if self.nationality == \"india\":\n",
    "            return f\"Namaste! {self.name}\"\n",
    "        else:\n",
    "            return f\"Hello! {self.name}\""
   ]
  },
  {
   "cell_type": "code",
   "execution_count": 82,
   "id": "b54b2404",
   "metadata": {},
   "outputs": [],
   "source": [
    "p1 = nation(\"Rounak\", \"india\")"
   ]
  },
  {
   "cell_type": "code",
   "execution_count": 83,
   "id": "358c64e0",
   "metadata": {},
   "outputs": [
    {
     "data": {
      "text/plain": [
       "'Namaste! Rounak'"
      ]
     },
     "execution_count": 83,
     "metadata": {},
     "output_type": "execute_result"
    }
   ],
   "source": [
    "p1.national()"
   ]
  },
  {
   "cell_type": "code",
   "execution_count": 85,
   "id": "a6e484a8",
   "metadata": {},
   "outputs": [
    {
     "data": {
      "text/plain": [
       "'Rounak'"
      ]
     },
     "execution_count": 85,
     "metadata": {},
     "output_type": "execute_result"
    }
   ],
   "source": [
    "p1.name"
   ]
  },
  {
   "cell_type": "code",
   "execution_count": 86,
   "id": "e0a279a7",
   "metadata": {},
   "outputs": [
    {
     "ename": "AttributeError",
     "evalue": "'nation' object has no attribute 'gender'",
     "output_type": "error",
     "traceback": [
      "\u001b[1;31m---------------------------------------------------------------------------\u001b[0m",
      "\u001b[1;31mAttributeError\u001b[0m                            Traceback (most recent call last)",
      "Input \u001b[1;32mIn [86]\u001b[0m, in \u001b[0;36m<cell line: 1>\u001b[1;34m()\u001b[0m\n\u001b[1;32m----> 1\u001b[0m \u001b[43mp1\u001b[49m\u001b[38;5;241;43m.\u001b[39;49m\u001b[43mgender\u001b[49m\n",
      "\u001b[1;31mAttributeError\u001b[0m: 'nation' object has no attribute 'gender'"
     ]
    }
   ],
   "source": [
    "p1.gender"
   ]
  },
  {
   "cell_type": "code",
   "execution_count": 87,
   "id": "faea5e12",
   "metadata": {},
   "outputs": [],
   "source": [
    "# create atrributes outside of class\n",
    "\n",
    "p1.gender = \"Male\""
   ]
  },
  {
   "cell_type": "code",
   "execution_count": 88,
   "id": "9205f401",
   "metadata": {},
   "outputs": [
    {
     "data": {
      "text/plain": [
       "'Male'"
      ]
     },
     "execution_count": 88,
     "metadata": {},
     "output_type": "execute_result"
    }
   ],
   "source": [
    "p1.gender"
   ]
  },
  {
   "cell_type": "markdown",
   "id": "6af3994d",
   "metadata": {},
   "source": [
    "--------"
   ]
  },
  {
   "cell_type": "markdown",
   "id": "c733c6cd",
   "metadata": {},
   "source": [
    " ### Reference Variables"
   ]
  },
  {
   "cell_type": "markdown",
   "id": "4008292a",
   "metadata": {},
   "source": [
    "Reference variables hold the objects\n",
    "\n",
    "We can create objects without reference variable as well\n",
    "\n",
    "An object can have multiple reference variables\n",
    "\n",
    "Assigning a new reference variable to an existing object does not create a new object"
   ]
  },
  {
   "cell_type": "code",
   "execution_count": 90,
   "id": "482b4389",
   "metadata": {},
   "outputs": [],
   "source": [
    "class Person:\n",
    "    def __init__(self):\n",
    "        self.name = \"rudra\"\n",
    "        "
   ]
  },
  {
   "cell_type": "code",
   "execution_count": 92,
   "id": "501b8715",
   "metadata": {},
   "outputs": [
    {
     "data": {
      "text/plain": [
       "<__main__.Person at 0x25234171ac0>"
      ]
     },
     "execution_count": 92,
     "metadata": {},
     "output_type": "execute_result"
    }
   ],
   "source": [
    "# we can create object without any reference variable\n",
    "\n",
    "Person()"
   ]
  },
  {
   "cell_type": "code",
   "execution_count": 93,
   "id": "14916cef",
   "metadata": {},
   "outputs": [],
   "source": [
    "p = Person()"
   ]
  },
  {
   "cell_type": "code",
   "execution_count": 94,
   "id": "39a48b82",
   "metadata": {},
   "outputs": [
    {
     "data": {
      "text/plain": [
       "'rudra'"
      ]
     },
     "execution_count": 94,
     "metadata": {},
     "output_type": "execute_result"
    }
   ],
   "source": [
    "p.name"
   ]
  },
  {
   "cell_type": "code",
   "execution_count": 96,
   "id": "a21ea87b",
   "metadata": {},
   "outputs": [],
   "source": [
    "q = p"
   ]
  },
  {
   "cell_type": "code",
   "execution_count": 97,
   "id": "6d185c3c",
   "metadata": {},
   "outputs": [
    {
     "name": "stdout",
     "output_type": "stream",
     "text": [
      "rudra\n",
      "rudra\n"
     ]
    }
   ],
   "source": [
    "print(p.name)\n",
    "print(q.name)"
   ]
  },
  {
   "cell_type": "code",
   "execution_count": 98,
   "id": "d620fa93",
   "metadata": {},
   "outputs": [],
   "source": [
    "q.name = \"panda\""
   ]
  },
  {
   "cell_type": "code",
   "execution_count": 99,
   "id": "ef0929b4",
   "metadata": {},
   "outputs": [
    {
     "name": "stdout",
     "output_type": "stream",
     "text": [
      "panda\n",
      "panda\n"
     ]
    }
   ],
   "source": [
    "print(p.name)\n",
    "print(q.name)"
   ]
  },
  {
   "cell_type": "markdown",
   "id": "e38ff9f2",
   "metadata": {},
   "source": [
    "---------"
   ]
  },
  {
   "cell_type": "code",
   "execution_count": 2,
   "id": "cdfe094b",
   "metadata": {},
   "outputs": [],
   "source": [
    "class Person:\n",
    "    def __init__(self, name, gender):\n",
    "        self.name = name\n",
    "        self.gender = gender\n",
    "        \n",
    "def greet(person):\n",
    "    print(f\"Hi, my name is, {person.name}, and I am a {person.gender} \")\n",
    "    "
   ]
  },
  {
   "cell_type": "code",
   "execution_count": 3,
   "id": "2d4fd446",
   "metadata": {},
   "outputs": [
    {
     "name": "stdout",
     "output_type": "stream",
     "text": [
      "Hi, my name is, rik, and I am a male \n"
     ]
    }
   ],
   "source": [
    "p = Person(\"rik\", \"male\")\n",
    "\n",
    "greet(p)"
   ]
  },
  {
   "cell_type": "code",
   "execution_count": 6,
   "id": "21443d20",
   "metadata": {},
   "outputs": [
    {
     "name": "stdout",
     "output_type": "stream",
     "text": [
      "2813011073488\n",
      "2813011073488\n"
     ]
    }
   ],
   "source": [
    "class Person:\n",
    "    def __init__(self, name, gender):\n",
    "        self.name = name\n",
    "        self.gender = gender\n",
    "        \n",
    "# outside the class - > function\n",
    "def greet(person):\n",
    "    person. name = ' ankit'\n",
    "    return person\n",
    "\n",
    "p = Person('nitish', 'male')\n",
    "print(id(p))\n",
    "\n",
    "p1 = greet(p)\n",
    "print(id(p1))\n"
   ]
  },
  {
   "cell_type": "markdown",
   "id": "5a4d8040",
   "metadata": {},
   "source": [
    "So, objects are mutable. Because, in the above example the after changing the name of the person, the id of p and p1 is same."
   ]
  },
  {
   "cell_type": "code",
   "execution_count": null,
   "id": "4d0dd7c6",
   "metadata": {},
   "outputs": [],
   "source": []
  }
 ],
 "metadata": {
  "kernelspec": {
   "display_name": "Python 3 (ipykernel)",
   "language": "python",
   "name": "python3"
  },
  "language_info": {
   "codemirror_mode": {
    "name": "ipython",
    "version": 3
   },
   "file_extension": ".py",
   "mimetype": "text/x-python",
   "name": "python",
   "nbconvert_exporter": "python",
   "pygments_lexer": "ipython3",
   "version": "3.9.13"
  }
 },
 "nbformat": 4,
 "nbformat_minor": 5
}
