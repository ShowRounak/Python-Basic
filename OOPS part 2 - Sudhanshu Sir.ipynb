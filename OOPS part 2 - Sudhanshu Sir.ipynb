{
 "cells": [
  {
   "cell_type": "markdown",
   "id": "3ef5da4a",
   "metadata": {},
   "source": [
    "### Inheritence"
   ]
  },
  {
   "cell_type": "markdown",
   "id": "91b2f490",
   "metadata": {},
   "source": [
    "https://www.javatpoint.com/inheritance-in-python"
   ]
  },
  {
   "cell_type": "markdown",
   "id": "7307f526",
   "metadata": {},
   "source": [
    "Inheritance is an important aspect of the object-oriented paradigm. Inheritance provides code reusability to the program because we can use an existing class to create a new class instead of creating it from scratch.\n",
    "\n",
    "In inheritance, the child class acquires the properties and can access all the data members and functions defined in the parent class. A child class can also provide its specific implementation to the functions of the parent class. In this section of the tutorial, we will discuss inheritance in detail.\n",
    "\n",
    "In python, a derived class can inherit base class by just mentioning the base in the bracket after the derived class name. Consider the following syntax to inherit a base class into the derived class."
   ]
  },
  {
   "cell_type": "code",
   "execution_count": 1,
   "id": "bb3c73be",
   "metadata": {},
   "outputs": [],
   "source": [
    "class xyz:\n",
    "    def __init__(self, a,b,c):\n",
    "        self.a = a\n",
    "        self.b = b\n",
    "        self.c = c\n",
    "        \n",
    "    def test(self):\n",
    "        print(\"This is my first test method of xyz class\")\n",
    "        \n",
    "    def test1(self):\n",
    "        print(\"This is a test1 method of xyz class\")\n",
    "        \n",
    "    def test2(self):\n",
    "        print(\"this is my test2 method of xyz class\")\n",
    "        \n",
    "    "
   ]
  },
  {
   "cell_type": "code",
   "execution_count": 3,
   "id": "678b4afa",
   "metadata": {},
   "outputs": [],
   "source": [
    "p = xyz(1,2,3)"
   ]
  },
  {
   "cell_type": "code",
   "execution_count": 4,
   "id": "069ca235",
   "metadata": {},
   "outputs": [
    {
     "name": "stdout",
     "output_type": "stream",
     "text": [
      "This is my first test method of xyz class\n"
     ]
    }
   ],
   "source": [
    "p.test()"
   ]
  },
  {
   "cell_type": "code",
   "execution_count": 2,
   "id": "ff7819d1",
   "metadata": {},
   "outputs": [],
   "source": [
    "class xyz1(xyz):\n",
    "    pass\n",
    "    "
   ]
  },
  {
   "cell_type": "code",
   "execution_count": 5,
   "id": "93db2322",
   "metadata": {},
   "outputs": [
    {
     "ename": "TypeError",
     "evalue": "__init__() missing 3 required positional arguments: 'a', 'b', and 'c'",
     "output_type": "error",
     "traceback": [
      "\u001b[1;31m---------------------------------------------------------------------------\u001b[0m",
      "\u001b[1;31mTypeError\u001b[0m                                 Traceback (most recent call last)",
      "Input \u001b[1;32mIn [5]\u001b[0m, in \u001b[0;36m<cell line: 1>\u001b[1;34m()\u001b[0m\n\u001b[1;32m----> 1\u001b[0m q \u001b[38;5;241m=\u001b[39m \u001b[43mxyz1\u001b[49m\u001b[43m(\u001b[49m\u001b[43m)\u001b[49m\n",
      "\u001b[1;31mTypeError\u001b[0m: __init__() missing 3 required positional arguments: 'a', 'b', and 'c'"
     ]
    }
   ],
   "source": [
    "q = xyz1()"
   ]
  },
  {
   "cell_type": "code",
   "execution_count": 6,
   "id": "7081078d",
   "metadata": {},
   "outputs": [],
   "source": [
    "q = xyz1(3,4,5)"
   ]
  },
  {
   "cell_type": "code",
   "execution_count": 7,
   "id": "525ebf9d",
   "metadata": {},
   "outputs": [
    {
     "name": "stdout",
     "output_type": "stream",
     "text": [
      "This is a test1 method of xyz class\n"
     ]
    }
   ],
   "source": [
    "q.test1()"
   ]
  },
  {
   "cell_type": "code",
   "execution_count": 8,
   "id": "767409d3",
   "metadata": {},
   "outputs": [],
   "source": [
    "class xyz1(xyz):\n",
    "    def test(self):\n",
    "        print(\"This is test method of xyz1 class\")\n",
    "        "
   ]
  },
  {
   "cell_type": "code",
   "execution_count": 10,
   "id": "e17a5942",
   "metadata": {},
   "outputs": [],
   "source": [
    "r = xyz1(1,2,3)"
   ]
  },
  {
   "cell_type": "code",
   "execution_count": 11,
   "id": "42553017",
   "metadata": {
    "scrolled": true
   },
   "outputs": [
    {
     "name": "stdout",
     "output_type": "stream",
     "text": [
      "This is test method of xyz1 class\n"
     ]
    }
   ],
   "source": [
    "r.test()"
   ]
  },
  {
   "cell_type": "markdown",
   "id": "a08add3e",
   "metadata": {},
   "source": [
    "### Multiple inheritence"
   ]
  },
  {
   "cell_type": "code",
   "execution_count": 34,
   "id": "8c6bab03",
   "metadata": {},
   "outputs": [],
   "source": [
    "class xyz:\n",
    "    def __init__(self, a,b,c):\n",
    "        self.a = a\n",
    "        self.b = b\n",
    "        self.c = c\n",
    "        \n",
    "    def test(self):\n",
    "        print(\"This is mehtod of xyz class\")\n",
    "        \n",
    "\n",
    "class xyz1:\n",
    "    def __init__(self, p,q,r):\n",
    "        self.p = p\n",
    "        self.q = q\n",
    "        self.r = r\n",
    "        \n",
    "    def test1(self):\n",
    "        print(\"this is method of xyz1 class\")\n",
    "        \n",
    "\n",
    "class child(xyz1, xyz):\n",
    "    def __init__(self, *args, **kwargs):\n",
    "        xyz.__init__(self , *args)\n",
    "        xyz1.__init__(self , **kwargs)"
   ]
  },
  {
   "cell_type": "code",
   "execution_count": 36,
   "id": "79c13dfa",
   "metadata": {},
   "outputs": [],
   "source": [
    "a = child(8,9,7, p = 1, q = 2, r = 3)"
   ]
  },
  {
   "cell_type": "code",
   "execution_count": 37,
   "id": "2d35e62d",
   "metadata": {},
   "outputs": [
    {
     "data": {
      "text/plain": [
       "8"
      ]
     },
     "execution_count": 37,
     "metadata": {},
     "output_type": "execute_result"
    }
   ],
   "source": [
    "a.a"
   ]
  },
  {
   "cell_type": "code",
   "execution_count": 38,
   "id": "2fb63ba1",
   "metadata": {},
   "outputs": [
    {
     "data": {
      "text/plain": [
       "1"
      ]
     },
     "execution_count": 38,
     "metadata": {},
     "output_type": "execute_result"
    }
   ],
   "source": [
    "a.p"
   ]
  },
  {
   "cell_type": "code",
   "execution_count": 39,
   "id": "b8a3f69d",
   "metadata": {},
   "outputs": [
    {
     "data": {
      "text/plain": [
       "7"
      ]
     },
     "execution_count": 39,
     "metadata": {},
     "output_type": "execute_result"
    }
   ],
   "source": [
    "a.c"
   ]
  },
  {
   "cell_type": "markdown",
   "id": "c134c78d",
   "metadata": {},
   "source": [
    "### Multi-level Inheritence"
   ]
  },
  {
   "cell_type": "code",
   "execution_count": 40,
   "id": "b482133f",
   "metadata": {},
   "outputs": [],
   "source": [
    "class xyz:\n",
    "    def __init__(self, a,b,c):\n",
    "        self.a = a\n",
    "        self.b = b\n",
    "        self.c = c\n",
    "        \n",
    "    def test(self):\n",
    "        print(\"This is mehtod of xyz class\")\n",
    "        \n",
    "\n",
    "class xyz1(xyz):\n",
    "    def __init__(self, p,q,r):\n",
    "        self.p = p\n",
    "        self.q = q\n",
    "        self.r = r\n",
    "        \n",
    "    def test1(self):\n",
    "        print(\"this is method of xyz1 class\")\n",
    "        \n",
    "        \n",
    "class xyz2(xyz1):\n",
    "    def test2(self):\n",
    "        print(\"this is from from test2, class xyz2\")"
   ]
  },
  {
   "cell_type": "code",
   "execution_count": 42,
   "id": "16e81cad",
   "metadata": {},
   "outputs": [],
   "source": [
    "v = xyz2(1,23,6)"
   ]
  },
  {
   "cell_type": "code",
   "execution_count": 43,
   "id": "36e15da6",
   "metadata": {},
   "outputs": [
    {
     "name": "stdout",
     "output_type": "stream",
     "text": [
      "this is method of xyz1 class\n"
     ]
    }
   ],
   "source": [
    "v.test1()"
   ]
  },
  {
   "cell_type": "code",
   "execution_count": 1,
   "id": "d55cd5a6",
   "metadata": {},
   "outputs": [],
   "source": [
    "class Read:\n",
    "    def __init__(self, f):\n",
    "        self.f = f\n",
    "        \n",
    "    def readpdf(self):\n",
    "        a = open(self.f, \"r+\")\n",
    "        data = a.read()\n",
    "        return data\n",
    "        a.close()\n",
    "        \n",
    "    def writepdf(self):\n",
    "        s = open(self.f, \"w\")\n",
    "        s.write(input())\n",
    "        s.close()\n",
    "        \n",
    "\n",
    "class ChildRead(Read):\n",
    "    pass\n",
    "    "
   ]
  },
  {
   "cell_type": "code",
   "execution_count": 2,
   "id": "9b53cf2b",
   "metadata": {},
   "outputs": [],
   "source": [
    "x = ChildRead(\"google.txt\")"
   ]
  },
  {
   "cell_type": "code",
   "execution_count": 3,
   "id": "ea4488e8",
   "metadata": {},
   "outputs": [
    {
     "name": "stdout",
     "output_type": "stream",
     "text": [
      "Hello World, This is code in Python\n"
     ]
    }
   ],
   "source": [
    "x.writepdf()"
   ]
  },
  {
   "cell_type": "code",
   "execution_count": 4,
   "id": "e598a192",
   "metadata": {},
   "outputs": [
    {
     "data": {
      "text/plain": [
       "'Hello World, This is code in Python'"
      ]
     },
     "execution_count": 4,
     "metadata": {},
     "output_type": "execute_result"
    }
   ],
   "source": [
    "x.readpdf()"
   ]
  },
  {
   "cell_type": "markdown",
   "id": "3f319e82",
   "metadata": {},
   "source": [
    "------------"
   ]
  },
  {
   "cell_type": "markdown",
   "id": "2690ac4a",
   "metadata": {},
   "source": [
    "### Encapsulation"
   ]
  },
  {
   "cell_type": "markdown",
   "id": "7b34cf51",
   "metadata": {},
   "source": [
    "### Public, Private and Protected [notation]"
   ]
  },
  {
   "cell_type": "code",
   "execution_count": 7,
   "id": "3ed51437",
   "metadata": {},
   "outputs": [],
   "source": [
    "class test:\n",
    "    def __init__(self, a,b,c):\n",
    "        self.a = a\n",
    "        self.b= b\n",
    "        self.c = c\n",
    "class test1(test):\n",
    "    pass\n",
    "u = test(1,2,3)"
   ]
  },
  {
   "cell_type": "code",
   "execution_count": 8,
   "id": "3b13c5b3",
   "metadata": {},
   "outputs": [
    {
     "data": {
      "text/plain": [
       "1"
      ]
     },
     "execution_count": 8,
     "metadata": {},
     "output_type": "execute_result"
    }
   ],
   "source": [
    "u.a"
   ]
  },
  {
   "cell_type": "code",
   "execution_count": 9,
   "id": "ad066e26",
   "metadata": {},
   "outputs": [],
   "source": [
    "v = test1(4,5,6)"
   ]
  },
  {
   "cell_type": "code",
   "execution_count": 10,
   "id": "c30bd535",
   "metadata": {},
   "outputs": [
    {
     "data": {
      "text/plain": [
       "4"
      ]
     },
     "execution_count": 10,
     "metadata": {},
     "output_type": "execute_result"
    }
   ],
   "source": [
    "v.a"
   ]
  },
  {
   "cell_type": "code",
   "execution_count": 28,
   "id": "b7ddddf9",
   "metadata": {},
   "outputs": [],
   "source": [
    "class test:\n",
    "    def __init__(self):\n",
    "        self._a = 4 # single underscore means protected variable\n",
    "        \n",
    "        \n",
    "class test1(test):\n",
    "    def __init__(self):\n",
    "        self.__a = 7 #double underscore means private variable\n",
    "\n",
    "u = test()"
   ]
  },
  {
   "cell_type": "code",
   "execution_count": 32,
   "id": "463ba3db",
   "metadata": {},
   "outputs": [
    {
     "data": {
      "text/plain": [
       "4"
      ]
     },
     "execution_count": 32,
     "metadata": {},
     "output_type": "execute_result"
    }
   ],
   "source": [
    "u._a"
   ]
  },
  {
   "cell_type": "code",
   "execution_count": 30,
   "id": "f37d311f",
   "metadata": {},
   "outputs": [],
   "source": [
    "v = test1()"
   ]
  },
  {
   "cell_type": "code",
   "execution_count": 33,
   "id": "b6159f6d",
   "metadata": {},
   "outputs": [
    {
     "ename": "AttributeError",
     "evalue": "'test1' object has no attribute '__a'",
     "output_type": "error",
     "traceback": [
      "\u001b[1;31m---------------------------------------------------------------------------\u001b[0m",
      "\u001b[1;31mAttributeError\u001b[0m                            Traceback (most recent call last)",
      "Input \u001b[1;32mIn [33]\u001b[0m, in \u001b[0;36m<cell line: 1>\u001b[1;34m()\u001b[0m\n\u001b[1;32m----> 1\u001b[0m \u001b[43mv\u001b[49m\u001b[38;5;241;43m.\u001b[39;49m\u001b[43m__a\u001b[49m\n",
      "\u001b[1;31mAttributeError\u001b[0m: 'test1' object has no attribute '__a'"
     ]
    }
   ],
   "source": [
    "v.__a"
   ]
  },
  {
   "cell_type": "code",
   "execution_count": 44,
   "id": "6c277c09",
   "metadata": {},
   "outputs": [],
   "source": [
    "class test:\n",
    "    def __init__(self, a,b,c):\n",
    "        self._a = a # protected\n",
    "        self.__b = b #private\n",
    "        self.c = c  #public\n",
    "        \n",
    "class test1(test):\n",
    "    pass\n",
    "        \n",
    "v = test(5,6,7)"
   ]
  },
  {
   "cell_type": "code",
   "execution_count": 40,
   "id": "9e8cce3c",
   "metadata": {},
   "outputs": [
    {
     "data": {
      "text/plain": [
       "5"
      ]
     },
     "execution_count": 40,
     "metadata": {},
     "output_type": "execute_result"
    }
   ],
   "source": [
    "v._a  #access protected variable"
   ]
  },
  {
   "cell_type": "code",
   "execution_count": 41,
   "id": "f9bdd1c5",
   "metadata": {},
   "outputs": [
    {
     "ename": "AttributeError",
     "evalue": "'test' object has no attribute '__b'",
     "output_type": "error",
     "traceback": [
      "\u001b[1;31m---------------------------------------------------------------------------\u001b[0m",
      "\u001b[1;31mAttributeError\u001b[0m                            Traceback (most recent call last)",
      "Input \u001b[1;32mIn [41]\u001b[0m, in \u001b[0;36m<cell line: 1>\u001b[1;34m()\u001b[0m\n\u001b[1;32m----> 1\u001b[0m \u001b[43mv\u001b[49m\u001b[38;5;241;43m.\u001b[39;49m\u001b[43m__b\u001b[49m\n",
      "\u001b[1;31mAttributeError\u001b[0m: 'test' object has no attribute '__b'"
     ]
    }
   ],
   "source": [
    "v.__b"
   ]
  },
  {
   "cell_type": "code",
   "execution_count": 42,
   "id": "55b42218",
   "metadata": {},
   "outputs": [
    {
     "data": {
      "text/plain": [
       "6"
      ]
     },
     "execution_count": 42,
     "metadata": {},
     "output_type": "execute_result"
    }
   ],
   "source": [
    "v._test__b  #access of private variable"
   ]
  },
  {
   "cell_type": "code",
   "execution_count": 43,
   "id": "1d87752b",
   "metadata": {},
   "outputs": [
    {
     "data": {
      "text/plain": [
       "7"
      ]
     },
     "execution_count": 43,
     "metadata": {},
     "output_type": "execute_result"
    }
   ],
   "source": [
    "v.c"
   ]
  },
  {
   "cell_type": "code",
   "execution_count": 46,
   "id": "380463ef",
   "metadata": {},
   "outputs": [],
   "source": [
    "u = test1(8,9,10)"
   ]
  },
  {
   "cell_type": "code",
   "execution_count": 47,
   "id": "bff98698",
   "metadata": {},
   "outputs": [
    {
     "data": {
      "text/plain": [
       "10"
      ]
     },
     "execution_count": 47,
     "metadata": {},
     "output_type": "execute_result"
    }
   ],
   "source": [
    "u.c"
   ]
  },
  {
   "cell_type": "code",
   "execution_count": 48,
   "id": "2011b2e2",
   "metadata": {},
   "outputs": [
    {
     "data": {
      "text/plain": [
       "8"
      ]
     },
     "execution_count": 48,
     "metadata": {},
     "output_type": "execute_result"
    }
   ],
   "source": [
    "u._a"
   ]
  },
  {
   "cell_type": "code",
   "execution_count": 53,
   "id": "4f08aa90",
   "metadata": {},
   "outputs": [
    {
     "data": {
      "text/plain": [
       "9"
      ]
     },
     "execution_count": 53,
     "metadata": {},
     "output_type": "execute_result"
    }
   ],
   "source": [
    "u._test__b # you can only access private variable in your child classes with the name of parent class"
   ]
  },
  {
   "cell_type": "markdown",
   "id": "2e0651a2",
   "metadata": {},
   "source": [
    "If one does not know the parent class's name, he cannot access private variable."
   ]
  },
  {
   "cell_type": "markdown",
   "id": "f03d8568",
   "metadata": {},
   "source": [
    "### This is known as Encapsulation."
   ]
  },
  {
   "cell_type": "markdown",
   "id": "319bf604",
   "metadata": {},
   "source": [
    "#### Another Example"
   ]
  },
  {
   "cell_type": "code",
   "execution_count": 91,
   "id": "93f69f4f",
   "metadata": {},
   "outputs": [],
   "source": [
    "class bonuscal:\n",
    "    def __init__(self, empid, empidrating):\n",
    "        self.empid = empid\n",
    "        self.empidrating = empidrating\n",
    "        self._empmail = \"mail@gmail.com\"\n",
    "        self.__bonusforratingA = \"70%\"\n",
    "        self.__bonusforratingB = \"60%\"\n",
    "        self.__bonusforratingC = \"40%\"\n",
    "    \n",
    "    def bonuscalculator(self):\n",
    "        if self.empidrating == \"A\":\n",
    "            bonus = self.__bonusforratingA\n",
    "            return bonus\n",
    "        elif self.empidrating == \"B\":\n",
    "                bonus = self.__bonusforratingB\n",
    "                return bonus\n",
    "        else:\n",
    "            bonus = self.__bonusforratingC\n",
    "            return bonus\n",
    "        "
   ]
  },
  {
   "cell_type": "code",
   "execution_count": 74,
   "id": "e5b36c7d",
   "metadata": {},
   "outputs": [],
   "source": [
    "emp1 = bonuscal(101, \"A\")\n",
    "emp2 = bonuscal(102, \"B\")\n",
    "emp3 = bonuscal(103, \"C\")"
   ]
  },
  {
   "cell_type": "code",
   "execution_count": 75,
   "id": "941e0c94",
   "metadata": {},
   "outputs": [
    {
     "data": {
      "text/plain": [
       "'70%'"
      ]
     },
     "execution_count": 75,
     "metadata": {},
     "output_type": "execute_result"
    }
   ],
   "source": [
    "emp1.bonuscalculator()"
   ]
  },
  {
   "cell_type": "code",
   "execution_count": 76,
   "id": "0beaeff7",
   "metadata": {},
   "outputs": [
    {
     "data": {
      "text/plain": [
       "'60%'"
      ]
     },
     "execution_count": 76,
     "metadata": {},
     "output_type": "execute_result"
    }
   ],
   "source": [
    "emp2.bonuscalculator()"
   ]
  },
  {
   "cell_type": "code",
   "execution_count": 77,
   "id": "ff8a4ac1",
   "metadata": {},
   "outputs": [
    {
     "data": {
      "text/plain": [
       "'40%'"
      ]
     },
     "execution_count": 77,
     "metadata": {},
     "output_type": "execute_result"
    }
   ],
   "source": [
    "emp3.bonuscalculator()"
   ]
  },
  {
   "cell_type": "code",
   "execution_count": 78,
   "id": "0323da3a",
   "metadata": {},
   "outputs": [],
   "source": [
    "emp1.empid = 105"
   ]
  },
  {
   "cell_type": "code",
   "execution_count": 79,
   "id": "e0e7bf99",
   "metadata": {},
   "outputs": [
    {
     "data": {
      "text/plain": [
       "105"
      ]
     },
     "execution_count": 79,
     "metadata": {},
     "output_type": "execute_result"
    }
   ],
   "source": [
    "emp1.empid"
   ]
  },
  {
   "cell_type": "code",
   "execution_count": 80,
   "id": "d5d367bd",
   "metadata": {},
   "outputs": [],
   "source": [
    "emp1.empidrating = \"B\""
   ]
  },
  {
   "cell_type": "code",
   "execution_count": 81,
   "id": "53b211c3",
   "metadata": {},
   "outputs": [
    {
     "data": {
      "text/plain": [
       "'60%'"
      ]
     },
     "execution_count": 81,
     "metadata": {},
     "output_type": "execute_result"
    }
   ],
   "source": [
    "emp1.bonuscalculator()"
   ]
  },
  {
   "cell_type": "code",
   "execution_count": 82,
   "id": "736d3106",
   "metadata": {},
   "outputs": [],
   "source": [
    "emp1.__bonusforratingB = \"90%\""
   ]
  },
  {
   "cell_type": "code",
   "execution_count": 83,
   "id": "1d8d7cd9",
   "metadata": {},
   "outputs": [
    {
     "data": {
      "text/plain": [
       "'60%'"
      ]
     },
     "execution_count": 83,
     "metadata": {},
     "output_type": "execute_result"
    }
   ],
   "source": [
    "emp1.bonuscalculator()"
   ]
  },
  {
   "cell_type": "code",
   "execution_count": 84,
   "id": "9da26404",
   "metadata": {},
   "outputs": [
    {
     "data": {
      "text/plain": [
       "'60%'"
      ]
     },
     "execution_count": 84,
     "metadata": {},
     "output_type": "execute_result"
    }
   ],
   "source": [
    "emp2.bonuscalculator()"
   ]
  },
  {
   "cell_type": "markdown",
   "id": "3101f3be",
   "metadata": {},
   "source": [
    "If the variable is a private variable, even with your class object, you cannot modify it."
   ]
  },
  {
   "cell_type": "markdown",
   "id": "b496a2c0",
   "metadata": {},
   "source": [
    "it will not show any error in the console, but the modification won't happen."
   ]
  },
  {
   "cell_type": "code",
   "execution_count": 85,
   "id": "52a64430",
   "metadata": {},
   "outputs": [],
   "source": [
    "emp1._bonuscal__bonusforratingB = \"90%\""
   ]
  },
  {
   "cell_type": "code",
   "execution_count": 86,
   "id": "ae0df252",
   "metadata": {},
   "outputs": [
    {
     "data": {
      "text/plain": [
       "'90%'"
      ]
     },
     "execution_count": 86,
     "metadata": {},
     "output_type": "execute_result"
    }
   ],
   "source": [
    "emp1.bonuscalculator()"
   ]
  },
  {
   "cell_type": "markdown",
   "id": "2108afb7",
   "metadata": {},
   "source": [
    "You have to give the class name to do the modification."
   ]
  },
  {
   "cell_type": "markdown",
   "id": "c6ea0db8",
   "metadata": {},
   "source": [
    "Because, internally it always stores the variable with the class name."
   ]
  },
  {
   "cell_type": "code",
   "execution_count": 95,
   "id": "cf1a4b2c",
   "metadata": {},
   "outputs": [
    {
     "data": {
      "text/plain": [
       "'mail@gmail.com'"
      ]
     },
     "execution_count": 95,
     "metadata": {},
     "output_type": "execute_result"
    }
   ],
   "source": [
    "emp1._empmail #With protected variable, you don't need class name,you just have write underscore. "
   ]
  },
  {
   "cell_type": "code",
   "execution_count": 96,
   "id": "e13e535b",
   "metadata": {},
   "outputs": [],
   "source": [
    "emp1._empmail = \"rikkr@yahoo.com\""
   ]
  },
  {
   "cell_type": "code",
   "execution_count": 97,
   "id": "d1d17303",
   "metadata": {},
   "outputs": [
    {
     "data": {
      "text/plain": [
       "'rikkr@yahoo.com'"
      ]
     },
     "execution_count": 97,
     "metadata": {},
     "output_type": "execute_result"
    }
   ],
   "source": [
    "emp1._empmail"
   ]
  },
  {
   "cell_type": "markdown",
   "id": "c45cf850",
   "metadata": {},
   "source": [
    "---------"
   ]
  },
  {
   "cell_type": "code",
   "execution_count": 1,
   "id": "cb10dfb9",
   "metadata": {},
   "outputs": [],
   "source": [
    "class Person:\n",
    "    def __init__(self, name, gender):\n",
    "        self.name = name\n",
    "        self.gender = gender\n",
    "    \n",
    "p1 = Person(\"ankit\", \"male\")\n",
    "p2 = Person(\"rik\", \"male\")"
   ]
  },
  {
   "cell_type": "code",
   "execution_count": 2,
   "id": "743194e1",
   "metadata": {},
   "outputs": [
    {
     "data": {
      "text/plain": [
       "'ankit'"
      ]
     },
     "execution_count": 2,
     "metadata": {},
     "output_type": "execute_result"
    }
   ],
   "source": [
    "p1.name"
   ]
  },
  {
   "cell_type": "code",
   "execution_count": 3,
   "id": "a175c4b7",
   "metadata": {},
   "outputs": [
    {
     "data": {
      "text/plain": [
       "'rik'"
      ]
     },
     "execution_count": 3,
     "metadata": {},
     "output_type": "execute_result"
    }
   ],
   "source": [
    "p2.name"
   ]
  },
  {
   "cell_type": "markdown",
   "id": "1b4fad50",
   "metadata": {},
   "source": [
    "So, these name and gender are instance variable. \n",
    "\n",
    "The values of instance variable are different depending on different objects"
   ]
  },
  {
   "cell_type": "markdown",
   "id": "b2ae409a",
   "metadata": {},
   "source": [
    "---"
   ]
  },
  {
   "cell_type": "markdown",
   "id": "e78e8ec1",
   "metadata": {},
   "source": [
    "## getter and Setter Method in Encapsulation (Private Variable)\n"
   ]
  },
  {
   "cell_type": "code",
   "execution_count": 10,
   "id": "e469723f",
   "metadata": {},
   "outputs": [],
   "source": [
    "class Atm:\n",
    "    \n",
    "    def __init__(self):\n",
    "        self.pin = ''\n",
    "        self.__balance = 0\n",
    "        print(\"Welcome to ATM\")\n",
    "        \n",
    "    def get_balance(self):\n",
    "        return self.__balance\n",
    "    \n",
    "    def set_balance(self, new_value):\n",
    "        if type(new_value) == int:\n",
    "            self.__balance = new_value\n",
    "        else:\n",
    "            return 'Enter Int values'\n",
    "        \n",
    "    def menu(self):\n",
    "        user_input = input(\"\"\"\n",
    "        1. press 1 to create pin\n",
    "        2. press 2 to change pin\n",
    "        3. press 3 to check balance\n",
    "        4. press 4 to withdraw\n",
    "        press any other key to exit\n",
    "        \"\"\")\n",
    "        \n",
    "        if user_input == '1':\n",
    "            self.create_pin()\n",
    "        elif user_input == '2':\n",
    "            self.change_pin()\n",
    "        elif user_input == '3':\n",
    "            self.check_balance()\n",
    "        elif user_input == '4':\n",
    "            self.withdraw()\n",
    "        else:\n",
    "            exit()\n",
    "\n",
    "    def create_pin(self):\n",
    "        user_pin = input(\"Enter your new pin: \")\n",
    "        self.pin = user_pin\n",
    "        \n",
    "        user_balance = int(input(\"Enter your bank balance: \"))\n",
    "        self.__balance = user_balance\n",
    "        \n",
    "        print(\"pin created successfully\")\n",
    "        self.menu()\n",
    "    \n",
    "    def change_pin(self):\n",
    "        old_pin = input(\"Enter your old pin: \")\n",
    "        if old_pin == self.pin:\n",
    "            new_pin = input(\"Enter your new pin: \")\n",
    "            self.pin = new_pin\n",
    "        else:\n",
    "            print(\"Sorry! Pin number does not match\")\n",
    "        self.menu()\n",
    "    \n",
    "    def check_balance(self):\n",
    "        pin_no = input(\"enter your pin: \")\n",
    "        if pin_no == self.pin:\n",
    "            print(\"Your balance is: \", self.__balance)\n",
    "        else:\n",
    "            print(\"Wrong pin!\")\n",
    "        self.menu()\n",
    "    \n",
    "    def withdraw(self):\n",
    "        pin_no = input(\"enter your pin: \")\n",
    "        if pin_no == self.pin:\n",
    "            amount = int(input(\"Enter withdrawal amount: \"))\n",
    "            if amount <= self.__balance:\n",
    "                self.balance = self.__balance - amount\n",
    "                print(\"Your updated balance: \", self.__balance)\n",
    "            else:\n",
    "                print(\"You don't have enough money!\")\n",
    "        else:\n",
    "            print(\"Wrong pin!\")\n",
    "        self.menu()"
   ]
  },
  {
   "cell_type": "code",
   "execution_count": 11,
   "id": "90519113",
   "metadata": {},
   "outputs": [
    {
     "name": "stdout",
     "output_type": "stream",
     "text": [
      "Welcome to ATM\n"
     ]
    }
   ],
   "source": [
    "p = Atm()"
   ]
  },
  {
   "cell_type": "code",
   "execution_count": 12,
   "id": "4eca9020",
   "metadata": {},
   "outputs": [],
   "source": [
    "p.set_balance(5000)"
   ]
  },
  {
   "cell_type": "code",
   "execution_count": 14,
   "id": "d208af7c",
   "metadata": {},
   "outputs": [
    {
     "data": {
      "text/plain": [
       "5000"
      ]
     },
     "execution_count": 14,
     "metadata": {},
     "output_type": "execute_result"
    }
   ],
   "source": [
    "p.get_balance()"
   ]
  },
  {
   "cell_type": "code",
   "execution_count": 15,
   "id": "ecc2f16a",
   "metadata": {},
   "outputs": [
    {
     "data": {
      "text/plain": [
       "'Enter Int values'"
      ]
     },
     "execution_count": 15,
     "metadata": {},
     "output_type": "execute_result"
    }
   ],
   "source": [
    "p.set_balance(\"dsasd\")"
   ]
  },
  {
   "cell_type": "code",
   "execution_count": 16,
   "id": "1ee916e2",
   "metadata": {},
   "outputs": [],
   "source": [
    "class Person:\n",
    "    def __init__(self, name, gender):\n",
    "        self.name = name\n",
    "        self.gender = gender\n",
    "    \n",
    "p1 = Person(\"ankit\", \"male\")\n",
    "p2 = Person(\"rik\", \"male\")\n",
    "p3 = Person(\"ankita\", \"female\")"
   ]
  },
  {
   "cell_type": "code",
   "execution_count": 17,
   "id": "6fa689d3",
   "metadata": {},
   "outputs": [],
   "source": [
    "l = [p1,p2,p3]"
   ]
  },
  {
   "cell_type": "code",
   "execution_count": 18,
   "id": "028dbfa5",
   "metadata": {},
   "outputs": [
    {
     "name": "stdout",
     "output_type": "stream",
     "text": [
      "[<__main__.Person object at 0x00000177ADB85EB0>, <__main__.Person object at 0x00000177AFD23430>, <__main__.Person object at 0x00000177AFD23F10>]\n"
     ]
    }
   ],
   "source": [
    "print(l)"
   ]
  },
  {
   "cell_type": "code",
   "execution_count": 19,
   "id": "0955bc80",
   "metadata": {},
   "outputs": [
    {
     "name": "stdout",
     "output_type": "stream",
     "text": [
      "ankit male\n",
      "rik male\n",
      "ankita female\n"
     ]
    }
   ],
   "source": [
    "for i in l:\n",
    "    print(i.name, i.gender)"
   ]
  },
  {
   "cell_type": "code",
   "execution_count": 21,
   "id": "c972b772",
   "metadata": {},
   "outputs": [],
   "source": [
    "s = {p1,p2,p3}"
   ]
  },
  {
   "cell_type": "code",
   "execution_count": 22,
   "id": "fcf8b794",
   "metadata": {},
   "outputs": [
    {
     "data": {
      "text/plain": [
       "set"
      ]
     },
     "execution_count": 22,
     "metadata": {},
     "output_type": "execute_result"
    }
   ],
   "source": [
    "type(s)"
   ]
  },
  {
   "cell_type": "code",
   "execution_count": 23,
   "id": "e160fbef",
   "metadata": {},
   "outputs": [
    {
     "name": "stdout",
     "output_type": "stream",
     "text": [
      "{<__main__.Person object at 0x00000177AFD23F10>, <__main__.Person object at 0x00000177AFD23430>, <__main__.Person object at 0x00000177ADB85EB0>}\n"
     ]
    }
   ],
   "source": [
    "print(s)"
   ]
  },
  {
   "cell_type": "markdown",
   "id": "0ef66e29",
   "metadata": {},
   "source": [
    "--------"
   ]
  },
  {
   "cell_type": "markdown",
   "id": "ab69d850",
   "metadata": {},
   "source": [
    "## aggregation"
   ]
  },
  {
   "cell_type": "markdown",
   "id": "ba1ce8b4",
   "metadata": {},
   "source": [
    "When classes in a 'has a relationship'\n",
    "\n",
    "for example, Customer has address (customer and address class)\n",
    "\n",
    "resturant has menu (resturant and menu class)"
   ]
  },
  {
   "cell_type": "code",
   "execution_count": 4,
   "id": "f73e1bc8",
   "metadata": {},
   "outputs": [],
   "source": [
    "class Customer:\n",
    "    \n",
    "    def __init__(self, name, gender, address):\n",
    "        self.name = name\n",
    "        self.gender = gender\n",
    "        self.address = address\n",
    "    \n",
    "    def print_address(self):\n",
    "        return f\"{self.name} lives in {self.address.city, self.address.pincode, self.address.state}\"\n",
    "        \n",
    "    \n",
    "class Address:\n",
    "    \n",
    "    def __init__(self, city, pincode, state):\n",
    "        self.city = city\n",
    "        self.pincode = pincode\n",
    "        self.state = state\n",
    "        "
   ]
  },
  {
   "cell_type": "code",
   "execution_count": 5,
   "id": "8232f3a4",
   "metadata": {},
   "outputs": [],
   "source": [
    "add1 = Address(\"howarh\", 7111111, \"West bengal\")\n",
    "\n",
    "cust1 = Customer(\"rik\", \"male\", add1)"
   ]
  },
  {
   "cell_type": "code",
   "execution_count": 6,
   "id": "b852049e",
   "metadata": {},
   "outputs": [
    {
     "data": {
      "text/plain": [
       "\"rik lives in ('howarh', 7111111, 'West bengal')\""
      ]
     },
     "execution_count": 6,
     "metadata": {},
     "output_type": "execute_result"
    }
   ],
   "source": [
    "cust1.print_address()"
   ]
  },
  {
   "cell_type": "markdown",
   "id": "bdac1a2f",
   "metadata": {},
   "source": [
    "In the above example, the customer class owns the Address class (logically, not technically). \n",
    "\n",
    "We create an object of Address class, and then pass that object as an argument to the Customer class."
   ]
  },
  {
   "cell_type": "markdown",
   "id": "5b267f9d",
   "metadata": {},
   "source": [
    "------"
   ]
  },
  {
   "cell_type": "markdown",
   "id": "ce4983b3",
   "metadata": {},
   "source": [
    "## Inheritence"
   ]
  },
  {
   "cell_type": "code",
   "execution_count": 11,
   "id": "e9abf10d",
   "metadata": {},
   "outputs": [],
   "source": [
    "#parent class\n",
    "class User:\n",
    "    \n",
    "    def __init__(self):\n",
    "        self.name = \"rik\"\n",
    "        \n",
    "    def login(self):\n",
    "        print(\"login\")\n",
    "#child class        \n",
    "class Student(User):\n",
    "    def __init__(self):\n",
    "        self.rollno = 10\n",
    "        \n",
    "    def enroll(self):\n",
    "        print(\"Enroll course\")"
   ]
  },
  {
   "cell_type": "code",
   "execution_count": 12,
   "id": "cccf82d0",
   "metadata": {},
   "outputs": [],
   "source": [
    "u = User()\n",
    "\n",
    "s = Student()"
   ]
  },
  {
   "cell_type": "code",
   "execution_count": 13,
   "id": "2c2b2385",
   "metadata": {},
   "outputs": [
    {
     "name": "stdout",
     "output_type": "stream",
     "text": [
      "login\n"
     ]
    }
   ],
   "source": [
    "s.login()"
   ]
  },
  {
   "cell_type": "code",
   "execution_count": 14,
   "id": "c5edfca0",
   "metadata": {},
   "outputs": [
    {
     "data": {
      "text/plain": [
       "10"
      ]
     },
     "execution_count": 14,
     "metadata": {},
     "output_type": "execute_result"
    }
   ],
   "source": [
    "s.rollno"
   ]
  },
  {
   "cell_type": "code",
   "execution_count": 16,
   "id": "f7b9c97e",
   "metadata": {},
   "outputs": [
    {
     "name": "stdout",
     "output_type": "stream",
     "text": [
      "Enroll course\n"
     ]
    }
   ],
   "source": [
    "s.enroll()"
   ]
  },
  {
   "cell_type": "markdown",
   "id": "1daa06ed",
   "metadata": {},
   "source": [
    "### What gets inherited?\n",
    "\n",
    "#### Constructor\n",
    "\n",
    "#### non-private attributes\n",
    "\n",
    "#### non-private methods"
   ]
  },
  {
   "cell_type": "code",
   "execution_count": 17,
   "id": "f9afe50a",
   "metadata": {},
   "outputs": [
    {
     "name": "stdout",
     "output_type": "stream",
     "text": [
      "Inside phone consturtor\n"
     ]
    }
   ],
   "source": [
    "#constructor example\n",
    "class Phone:\n",
    "    def __init__(self, price, brand, camera):\n",
    "        print(\"Inside phone consturtor\")\n",
    "        self.price = price\n",
    "        self.brand = brand\n",
    "        self.camera = camera\n",
    "        \n",
    "    def buy(self):\n",
    "        print(\"Buying a phone\")\n",
    "        \n",
    "class Smartphone(Phone):\n",
    "    pass\n",
    "\n",
    "s = Smartphone(20000, \"Apple\", 13)"
   ]
  },
  {
   "cell_type": "code",
   "execution_count": 18,
   "id": "8af9386d",
   "metadata": {},
   "outputs": [
    {
     "data": {
      "text/plain": [
       "'Apple'"
      ]
     },
     "execution_count": 18,
     "metadata": {},
     "output_type": "execute_result"
    }
   ],
   "source": [
    "s.brand"
   ]
  },
  {
   "cell_type": "markdown",
   "id": "873f10a8",
   "metadata": {},
   "source": [
    "If child class doesnot have any constructor, then parent class's constructor is called by Python."
   ]
  },
  {
   "cell_type": "code",
   "execution_count": 20,
   "id": "3f4db2be",
   "metadata": {},
   "outputs": [
    {
     "name": "stdout",
     "output_type": "stream",
     "text": [
      "Inside smartphone construtor\n"
     ]
    }
   ],
   "source": [
    "#constructor example 2\n",
    "class Phone:\n",
    "    def __init__(self, price, brand, camera):\n",
    "        print(\"Inside phone consturtor\")\n",
    "        self.price = price\n",
    "        self.brand = brand\n",
    "        self.camera = camera\n",
    "        \n",
    "    def buy(self):\n",
    "        print(\"Buying a phone\")\n",
    "        \n",
    "class Smartphone(Phone):\n",
    "    def __init__(self, os, ram):\n",
    "        self.os = os\n",
    "        self.ram = ram\n",
    "        print(\"Inside smartphone construtor\")\n",
    "        \n",
    "s = Smartphone(\"android\", 8)"
   ]
  },
  {
   "cell_type": "markdown",
   "id": "0e60b1a4",
   "metadata": {},
   "source": [
    "If child class has its own constructor, then parent class's constructor is not called by Python. And constructor of child class will be printed."
   ]
  },
  {
   "cell_type": "code",
   "execution_count": 21,
   "id": "eebbc947",
   "metadata": {},
   "outputs": [
    {
     "data": {
      "text/plain": [
       "'android'"
      ]
     },
     "execution_count": 21,
     "metadata": {},
     "output_type": "execute_result"
    }
   ],
   "source": [
    "s.os"
   ]
  },
  {
   "cell_type": "code",
   "execution_count": 23,
   "id": "b5143f9d",
   "metadata": {},
   "outputs": [
    {
     "ename": "AttributeError",
     "evalue": "'Smartphone' object has no attribute 'brand'",
     "output_type": "error",
     "traceback": [
      "\u001b[1;31m---------------------------------------------------------------------------\u001b[0m",
      "\u001b[1;31mAttributeError\u001b[0m                            Traceback (most recent call last)",
      "Input \u001b[1;32mIn [23]\u001b[0m, in \u001b[0;36m<cell line: 1>\u001b[1;34m()\u001b[0m\n\u001b[1;32m----> 1\u001b[0m \u001b[43ms\u001b[49m\u001b[38;5;241;43m.\u001b[39;49m\u001b[43mbrand\u001b[49m\n",
      "\u001b[1;31mAttributeError\u001b[0m: 'Smartphone' object has no attribute 'brand'"
     ]
    }
   ],
   "source": [
    "s.brand #parent class constructor was not called. hence error"
   ]
  },
  {
   "cell_type": "code",
   "execution_count": 25,
   "id": "be4fe2d8",
   "metadata": {},
   "outputs": [],
   "source": [
    "#child class cannot acces provate attributes of parent class\n",
    "\n",
    "class Phone:\n",
    "    def __init__(self, price, brand, camera):\n",
    "        print(\"Inside phone consturtor\")\n",
    "        self.__price = price\n",
    "        self.brand = brand\n",
    "        self.camera = camera\n",
    "        \n",
    "    def buy(self):\n",
    "        print(\"Buying a phone\")\n",
    "        \n",
    "class Smartphone(Phone):\n",
    "    def check(self):\n",
    "        return self.__price"
   ]
  },
  {
   "cell_type": "code",
   "execution_count": 26,
   "id": "06f4e0c2",
   "metadata": {},
   "outputs": [
    {
     "name": "stdout",
     "output_type": "stream",
     "text": [
      "Inside phone consturtor\n"
     ]
    }
   ],
   "source": [
    "s = Smartphone(2000, \"apple\", 13)"
   ]
  },
  {
   "cell_type": "code",
   "execution_count": 28,
   "id": "063932d1",
   "metadata": {},
   "outputs": [
    {
     "ename": "AttributeError",
     "evalue": "'Smartphone' object has no attribute '_Smartphone__price'",
     "output_type": "error",
     "traceback": [
      "\u001b[1;31m---------------------------------------------------------------------------\u001b[0m",
      "\u001b[1;31mAttributeError\u001b[0m                            Traceback (most recent call last)",
      "Input \u001b[1;32mIn [28]\u001b[0m, in \u001b[0;36m<cell line: 1>\u001b[1;34m()\u001b[0m\n\u001b[1;32m----> 1\u001b[0m \u001b[43ms\u001b[49m\u001b[38;5;241;43m.\u001b[39;49m\u001b[43mcheck\u001b[49m\u001b[43m(\u001b[49m\u001b[43m)\u001b[49m\n",
      "Input \u001b[1;32mIn [25]\u001b[0m, in \u001b[0;36mSmartphone.check\u001b[1;34m(self)\u001b[0m\n\u001b[0;32m     14\u001b[0m \u001b[38;5;28;01mdef\u001b[39;00m \u001b[38;5;21mcheck\u001b[39m(\u001b[38;5;28mself\u001b[39m):\n\u001b[1;32m---> 15\u001b[0m     \u001b[38;5;28;01mreturn\u001b[39;00m \u001b[38;5;28;43mself\u001b[39;49m\u001b[38;5;241;43m.\u001b[39;49m\u001b[43m__price\u001b[49m\n",
      "\u001b[1;31mAttributeError\u001b[0m: 'Smartphone' object has no attribute '_Smartphone__price'"
     ]
    }
   ],
   "source": [
    "s.check()"
   ]
  },
  {
   "cell_type": "code",
   "execution_count": 29,
   "id": "780454b2",
   "metadata": {},
   "outputs": [
    {
     "name": "stdout",
     "output_type": "stream",
     "text": [
      "100\n",
      "This is in child class\n"
     ]
    }
   ],
   "source": [
    "class Parent:\n",
    "    \n",
    "    def __init__(self, num):\n",
    "        self.__num = num\n",
    "        \n",
    "    def get_num(self): #getter\n",
    "        return self.__num\n",
    "    \n",
    "class Child(Parent):\n",
    "    \n",
    "    def show(self):\n",
    "        print(\"This is in child class\")\n",
    "\n",
    "son = Child(100)\n",
    "print(son.get_num())\n",
    "son.show()"
   ]
  },
  {
   "cell_type": "code",
   "execution_count": 30,
   "id": "007317e1",
   "metadata": {},
   "outputs": [
    {
     "ename": "AttributeError",
     "evalue": "'Child' object has no attribute '_Parent__num'",
     "output_type": "error",
     "traceback": [
      "\u001b[1;31m---------------------------------------------------------------------------\u001b[0m",
      "\u001b[1;31mAttributeError\u001b[0m                            Traceback (most recent call last)",
      "Input \u001b[1;32mIn [30]\u001b[0m, in \u001b[0;36m<cell line: 21>\u001b[1;34m()\u001b[0m\n\u001b[0;32m     18\u001b[0m         \u001b[38;5;28mprint\u001b[39m(\u001b[38;5;124m\"\u001b[39m\u001b[38;5;124mThis is in child class\u001b[39m\u001b[38;5;124m\"\u001b[39m)\n\u001b[0;32m     20\u001b[0m son \u001b[38;5;241m=\u001b[39m Child(\u001b[38;5;241m100\u001b[39m,\u001b[38;5;241m10\u001b[39m)\n\u001b[1;32m---> 21\u001b[0m \u001b[38;5;28mprint\u001b[39m(\u001b[38;5;124m\"\u001b[39m\u001b[38;5;124mparent: num: \u001b[39m\u001b[38;5;124m\"\u001b[39m, \u001b[43mson\u001b[49m\u001b[38;5;241;43m.\u001b[39;49m\u001b[43mget_num\u001b[49m\u001b[43m(\u001b[49m\u001b[43m)\u001b[49m)\n\u001b[0;32m     22\u001b[0m \u001b[38;5;28mprint\u001b[39m(\u001b[38;5;124m\"\u001b[39m\u001b[38;5;124mson: val: \u001b[39m\u001b[38;5;124m\"\u001b[39m, son\u001b[38;5;241m.\u001b[39mget_val())\n",
      "Input \u001b[1;32mIn [30]\u001b[0m, in \u001b[0;36mParent.get_num\u001b[1;34m(self)\u001b[0m\n\u001b[0;32m      6\u001b[0m \u001b[38;5;28;01mdef\u001b[39;00m \u001b[38;5;21mget_num\u001b[39m(\u001b[38;5;28mself\u001b[39m): \u001b[38;5;66;03m#getter\u001b[39;00m\n\u001b[1;32m----> 7\u001b[0m     \u001b[38;5;28;01mreturn\u001b[39;00m \u001b[38;5;28;43mself\u001b[39;49m\u001b[38;5;241;43m.\u001b[39;49m\u001b[43m__num\u001b[49m\n",
      "\u001b[1;31mAttributeError\u001b[0m: 'Child' object has no attribute '_Parent__num'"
     ]
    }
   ],
   "source": [
    "class Parent:\n",
    "    \n",
    "    def __init__(self, num):\n",
    "        self.__num = num\n",
    "        \n",
    "    def get_num(self): #getter\n",
    "        return self.__num\n",
    "    \n",
    "class Child(Parent):\n",
    "    \n",
    "    def __init__(self, val, num):\n",
    "        self.__val = val\n",
    "    \n",
    "    def get_val(self):\n",
    "        return self.__val\n",
    "    \n",
    "    def show(self):\n",
    "        print(\"This is in child class\")\n",
    "\n",
    "son = Child(100,10)\n",
    "print(\"parent: num: \", son.get_num())\n",
    "print(\"son: val: \", son.get_val())"
   ]
  },
  {
   "cell_type": "markdown",
   "id": "303fa57c",
   "metadata": {},
   "source": [
    "As child class has constructor, parent constructorwas not called."
   ]
  },
  {
   "cell_type": "code",
   "execution_count": 31,
   "id": "1863d63e",
   "metadata": {},
   "outputs": [
    {
     "name": "stdout",
     "output_type": "stream",
     "text": [
      "Inside phone consturtor\n",
      "Buying a smartphone\n"
     ]
    }
   ],
   "source": [
    "# Method overriding\n",
    "\n",
    "class Phone:\n",
    "    def __init__(self, price, brand, camera):\n",
    "        print(\"Inside phone consturtor\")\n",
    "        self.__price = price\n",
    "        self.brand = brand\n",
    "        self.camera = camera\n",
    "        \n",
    "    def buy(self):\n",
    "        print(\"Buying a phone\")\n",
    "        \n",
    "class Smartphone(Phone):\n",
    "    def buy(self):\n",
    "        print(\"Buying a smartphone\")\n",
    "        \n",
    "s = Smartphone(2000, \"redmi\", 10)\n",
    "s.buy()"
   ]
  },
  {
   "cell_type": "markdown",
   "id": "9731dc6d",
   "metadata": {},
   "source": [
    "If both the parent and child class has method with a same name, then the child class method will always be executed. This is known as Method Overriding.\n",
    "\n",
    "The object should belongs to the child class in this case.\n",
    "\n",
    "If the object belongs to the parent class, then parent method will be executed."
   ]
  },
  {
   "cell_type": "markdown",
   "id": "6be631ef",
   "metadata": {},
   "source": [
    "## Super Keyword\n",
    "\n",
    "Using super() you can call the attributes and methods of parent class."
   ]
  },
  {
   "cell_type": "code",
   "execution_count": 32,
   "id": "dbcf4fac",
   "metadata": {},
   "outputs": [
    {
     "name": "stdout",
     "output_type": "stream",
     "text": [
      "Inside phone consturtor\n",
      "Buying a smartphone\n",
      "Buying a phone\n"
     ]
    }
   ],
   "source": [
    "class Phone:\n",
    "    def __init__(self, price, brand, camera):\n",
    "        print(\"Inside phone consturtor\")\n",
    "        self.__price = price\n",
    "        self.brand = brand\n",
    "        self.camera = camera\n",
    "        \n",
    "    def buy(self):\n",
    "        print(\"Buying a phone\")\n",
    "        \n",
    "class Smartphone(Phone):\n",
    "    def buy(self):\n",
    "        print(\"Buying a smartphone\")\n",
    "        #syntax to call parent's buy method\n",
    "        super().buy()\n",
    "        \n",
    "s = Smartphone(2000, \"redmi\", 10)\n",
    "s.buy()"
   ]
  },
  {
   "cell_type": "code",
   "execution_count": 33,
   "id": "014f4ce4",
   "metadata": {},
   "outputs": [
    {
     "name": "stdout",
     "output_type": "stream",
     "text": [
      "Inside phone consturtor\n",
      "Inside smartphone construtor\n"
     ]
    }
   ],
   "source": [
    "# super -> constructor\n",
    "\n",
    "class Phone:\n",
    "    def __init__(self, price, brand, camera):\n",
    "        print(\"Inside phone consturtor\")\n",
    "        self.price = price\n",
    "        self.brand = brand\n",
    "        self.camera = camera\n",
    "        \n",
    "        \n",
    "class Smartphone(Phone):\n",
    "    def __init__(self,price, brand, camera, os, ram):\n",
    "        super().__init__(price, brand, camera)\n",
    "        self.os = os\n",
    "        self.ram = ram\n",
    "        print(\"Inside smartphone construtor\")\n",
    "        \n",
    "s = Smartphone(2000, \"redmi\", 48, \"android\", 8)"
   ]
  },
  {
   "cell_type": "code",
   "execution_count": 34,
   "id": "23c8b460",
   "metadata": {},
   "outputs": [
    {
     "data": {
      "text/plain": [
       "'redmi'"
      ]
     },
     "execution_count": 34,
     "metadata": {},
     "output_type": "execute_result"
    }
   ],
   "source": [
    "s.brand"
   ]
  },
  {
   "cell_type": "code",
   "execution_count": 35,
   "id": "94c62959",
   "metadata": {},
   "outputs": [
    {
     "data": {
      "text/plain": [
       "'android'"
      ]
     },
     "execution_count": 35,
     "metadata": {},
     "output_type": "execute_result"
    }
   ],
   "source": [
    "s.os"
   ]
  },
  {
   "cell_type": "code",
   "execution_count": 36,
   "id": "4917e15f",
   "metadata": {},
   "outputs": [
    {
     "data": {
      "text/plain": [
       "8"
      ]
     },
     "execution_count": 36,
     "metadata": {},
     "output_type": "execute_result"
    }
   ],
   "source": [
    "s.ram"
   ]
  },
  {
   "cell_type": "code",
   "execution_count": 37,
   "id": "a0e447b7",
   "metadata": {},
   "outputs": [
    {
     "data": {
      "text/plain": [
       "48"
      ]
     },
     "execution_count": 37,
     "metadata": {},
     "output_type": "execute_result"
    }
   ],
   "source": [
    "s.camera"
   ]
  },
  {
   "cell_type": "code",
   "execution_count": 38,
   "id": "c77a3881",
   "metadata": {},
   "outputs": [
    {
     "name": "stdout",
     "output_type": "stream",
     "text": [
      "Inside phone consturtor\n"
     ]
    },
    {
     "ename": "RuntimeError",
     "evalue": "super(): no arguments",
     "output_type": "error",
     "traceback": [
      "\u001b[1;31m---------------------------------------------------------------------------\u001b[0m",
      "\u001b[1;31mRuntimeError\u001b[0m                              Traceback (most recent call last)",
      "Input \u001b[1;32mIn [38]\u001b[0m, in \u001b[0;36m<cell line: 18>\u001b[1;34m()\u001b[0m\n\u001b[0;32m     14\u001b[0m         \u001b[38;5;66;03m#syntax to call parent's buy method\u001b[39;00m\n\u001b[0;32m     17\u001b[0m s \u001b[38;5;241m=\u001b[39m Smartphone(\u001b[38;5;241m2000\u001b[39m, \u001b[38;5;124m\"\u001b[39m\u001b[38;5;124mredmi\u001b[39m\u001b[38;5;124m\"\u001b[39m, \u001b[38;5;241m10\u001b[39m)\n\u001b[1;32m---> 18\u001b[0m \u001b[38;5;28;43msuper\u001b[39;49m\u001b[43m(\u001b[49m\u001b[43m)\u001b[49m\u001b[38;5;241m.\u001b[39mbuy()\n",
      "\u001b[1;31mRuntimeError\u001b[0m: super(): no arguments"
     ]
    }
   ],
   "source": [
    "# super keyword outside of class\n",
    "\n",
    "class Phone:\n",
    "    def __init__(self, price, brand, camera):\n",
    "        print(\"Inside phone consturtor\")\n",
    "        self.__price = price\n",
    "        self.brand = brand\n",
    "        self.camera = camera\n",
    "        \n",
    "    def buy(self):\n",
    "        print(\"Buying a phone\")\n",
    "        \n",
    "class Smartphone(Phone):\n",
    "    def buy(self):\n",
    "        print(\"Buying a smartphone\")\n",
    "        \n",
    "        \n",
    "s = Smartphone(2000, \"redmi\", 10)\n",
    "super().buy()"
   ]
  },
  {
   "cell_type": "markdown",
   "id": "5ecfef33",
   "metadata": {},
   "source": [
    "super() is always accessible from inside of the class, not outside. "
   ]
  },
  {
   "cell_type": "code",
   "execution_count": 39,
   "id": "9eccd85d",
   "metadata": {},
   "outputs": [
    {
     "name": "stdout",
     "output_type": "stream",
     "text": [
      "Inside phone consturtor\n",
      "Buying a smartphone\n"
     ]
    },
    {
     "ename": "AttributeError",
     "evalue": "'super' object has no attribute 'brand'",
     "output_type": "error",
     "traceback": [
      "\u001b[1;31m---------------------------------------------------------------------------\u001b[0m",
      "\u001b[1;31mAttributeError\u001b[0m                            Traceback (most recent call last)",
      "Input \u001b[1;32mIn [39]\u001b[0m, in \u001b[0;36m<cell line: 19>\u001b[1;34m()\u001b[0m\n\u001b[0;32m     16\u001b[0m         \u001b[38;5;28mprint\u001b[39m(\u001b[38;5;28msuper\u001b[39m()\u001b[38;5;241m.\u001b[39mbrand)\n\u001b[0;32m     18\u001b[0m s \u001b[38;5;241m=\u001b[39m Smartphone(\u001b[38;5;241m2000\u001b[39m, \u001b[38;5;124m\"\u001b[39m\u001b[38;5;124mredmi\u001b[39m\u001b[38;5;124m\"\u001b[39m, \u001b[38;5;241m10\u001b[39m)\n\u001b[1;32m---> 19\u001b[0m \u001b[43ms\u001b[49m\u001b[38;5;241;43m.\u001b[39;49m\u001b[43mbuy\u001b[49m\u001b[43m(\u001b[49m\u001b[43m)\u001b[49m\n",
      "Input \u001b[1;32mIn [39]\u001b[0m, in \u001b[0;36mSmartphone.buy\u001b[1;34m(self)\u001b[0m\n\u001b[0;32m     14\u001b[0m \u001b[38;5;28;01mdef\u001b[39;00m \u001b[38;5;21mbuy\u001b[39m(\u001b[38;5;28mself\u001b[39m):\n\u001b[0;32m     15\u001b[0m     \u001b[38;5;28mprint\u001b[39m(\u001b[38;5;124m\"\u001b[39m\u001b[38;5;124mBuying a smartphone\u001b[39m\u001b[38;5;124m\"\u001b[39m)\n\u001b[1;32m---> 16\u001b[0m     \u001b[38;5;28mprint\u001b[39m(\u001b[38;5;28;43msuper\u001b[39;49m\u001b[43m(\u001b[49m\u001b[43m)\u001b[49m\u001b[38;5;241;43m.\u001b[39;49m\u001b[43mbrand\u001b[49m)\n",
      "\u001b[1;31mAttributeError\u001b[0m: 'super' object has no attribute 'brand'"
     ]
    }
   ],
   "source": [
    "# super to call attributes of parent class\n",
    "\n",
    "class Phone:\n",
    "    def __init__(self, price, brand, camera):\n",
    "        print(\"Inside phone consturtor\")\n",
    "        self.__price = price\n",
    "        self.brand = brand\n",
    "        self.camera = camera\n",
    "        \n",
    "    def buy(self):\n",
    "        print(\"Buying a phone\")\n",
    "        \n",
    "class Smartphone(Phone):\n",
    "    def buy(self):\n",
    "        print(\"Buying a smartphone\")\n",
    "        print(super().brand)\n",
    "        \n",
    "s = Smartphone(2000, \"redmi\", 10)\n",
    "s.buy()"
   ]
  },
  {
   "cell_type": "markdown",
   "id": "129924c4",
   "metadata": {},
   "source": [
    "We have to write code like this to call attributes"
   ]
  },
  {
   "cell_type": "code",
   "execution_count": 41,
   "id": "3811c4aa",
   "metadata": {},
   "outputs": [
    {
     "name": "stdout",
     "output_type": "stream",
     "text": [
      "Inside phone consturtor\n",
      "Inside smartphone construtor\n",
      "redmi\n"
     ]
    }
   ],
   "source": [
    "# super -> constructor\n",
    "\n",
    "class Phone:\n",
    "    def __init__(self, price, brand, camera):\n",
    "        print(\"Inside phone consturtor\")\n",
    "        self.price = price\n",
    "        self.brand = brand\n",
    "        self.camera = camera\n",
    "        \n",
    "        \n",
    "class Smartphone(Phone):\n",
    "    def __init__(self,price, brand, camera, os, ram):\n",
    "        super().__init__(price, brand, camera)\n",
    "        self.os = os\n",
    "        self.ram = ram\n",
    "        print(\"Inside smartphone construtor\")\n",
    "        \n",
    "s = Smartphone(2000, \"redmi\", 48, \"android\", 8)\n",
    "print(s.brand)"
   ]
  },
  {
   "cell_type": "markdown",
   "id": "d0ea5103",
   "metadata": {},
   "source": [
    "### Inheritance in summary\n",
    "\n",
    "• A class can inherit from another class.\n",
    "\n",
    "• Inheritance improves code reuse\n",
    "\n",
    "• Constructor, attributes, methods get inherited to the child class\n",
    "\n",
    "• The parent has no access to the child class\n",
    "\n",
    "• Private properties of parent are not accessible directly in child class\n",
    "\n",
    "• Child class can override the attributes or methods. This is called method overriding\n",
    "\n",
    "• super() is an inbuilt function which is used to invoke the parent class methods and constructor"
   ]
  },
  {
   "cell_type": "code",
   "execution_count": 43,
   "id": "b8ed156c",
   "metadata": {},
   "outputs": [
    {
     "name": "stdout",
     "output_type": "stream",
     "text": [
      "100\n",
      "200\n"
     ]
    }
   ],
   "source": [
    "class Parent:\n",
    "\n",
    "    def __init__(self,num):\n",
    "        self.__num=num\n",
    "\n",
    "    def get_num(self):\n",
    "        return self.__num\n",
    "\n",
    "class Child(Parent):\n",
    "  \n",
    "    def __init__(self,num,val):\n",
    "        super().__init__(num)\n",
    "        self.__val=val\n",
    "\n",
    "    def get_val(self):\n",
    "        return self.__val\n",
    "      \n",
    "son=Child(100,200)\n",
    "print(son.get_num())\n",
    "print(son.get_val())"
   ]
  },
  {
   "cell_type": "code",
   "execution_count": 44,
   "id": "8b12ebad",
   "metadata": {},
   "outputs": [
    {
     "name": "stdout",
     "output_type": "stream",
     "text": [
      "100\n",
      "200\n"
     ]
    }
   ],
   "source": [
    "class Parent:\n",
    "    def __init__(self):\n",
    "        self.num=100\n",
    "\n",
    "class Child(Parent):\n",
    "\n",
    "    def __init__(self):\n",
    "        super().__init__()\n",
    "        self.var=200\n",
    "        \n",
    "    def show(self):\n",
    "        print(self.num)\n",
    "        print(self.var)\n",
    "\n",
    "son=Child()\n",
    "son.show()"
   ]
  },
  {
   "cell_type": "code",
   "execution_count": 45,
   "id": "1ad9e44a",
   "metadata": {},
   "outputs": [
    {
     "name": "stdout",
     "output_type": "stream",
     "text": [
      "Child: 10\n"
     ]
    }
   ],
   "source": [
    "class Parent:\n",
    "    def __init__(self):\n",
    "        self.__num=100\n",
    "\n",
    "    def show(self):\n",
    "        print(\"Parent:\",self.__num)\n",
    "\n",
    "class Child(Parent):\n",
    "    def __init__(self):\n",
    "        super().__init__()\n",
    "        self.__var=10\n",
    "\n",
    "    def show(self):\n",
    "        print(\"Child:\",self.__var)\n",
    "\n",
    "obj=Child()\n",
    "obj.show()"
   ]
  },
  {
   "cell_type": "markdown",
   "id": "0a16cf62",
   "metadata": {},
   "source": [
    "### Types of Inheritance\n",
    "Single Inheritance (one father -> one child)\n",
    "\n",
    "Multilevel Inheritance (grandfather -> father -> child -> grand child and so on)\n",
    "\n",
    "Hierarchical Inheritance (one father -> multiple children)\n",
    "\n",
    "Multiple Inheritance (two parents -> one child)\n",
    "\n",
    "Hybrid Inheritance (joint family)"
   ]
  },
  {
   "cell_type": "code",
   "execution_count": 46,
   "id": "9e54c59f",
   "metadata": {},
   "outputs": [
    {
     "name": "stdout",
     "output_type": "stream",
     "text": [
      "Inside phone constructor\n",
      "Buying a phone\n"
     ]
    }
   ],
   "source": [
    "# single inheritance\n",
    "class Phone:\n",
    "    def __init__(self, price, brand, camera):\n",
    "        print (\"Inside phone constructor\")\n",
    "        self.__price = price\n",
    "        self.brand = brand\n",
    "        self.camera = camera\n",
    "\n",
    "    def buy(self):\n",
    "        print (\"Buying a phone\")\n",
    "\n",
    "class SmartPhone(Phone):\n",
    "    pass\n",
    "\n",
    "SmartPhone(1000,\"Apple\",\"13px\").buy()"
   ]
  },
  {
   "cell_type": "code",
   "execution_count": 47,
   "id": "4d6d8c83",
   "metadata": {},
   "outputs": [
    {
     "name": "stdout",
     "output_type": "stream",
     "text": [
      "Inside phone constructor\n",
      "Buying a phone\n",
      "Product customer review\n"
     ]
    }
   ],
   "source": [
    "# multilevel\n",
    "class Product:\n",
    "    def review(self):\n",
    "        print (\"Product customer review\")\n",
    "\n",
    "class Phone(Product):\n",
    "    def __init__(self, price, brand, camera):\n",
    "        print (\"Inside phone constructor\")\n",
    "        self.__price = price\n",
    "        self.brand = brand\n",
    "        self.camera = camera\n",
    "\n",
    "    def buy(self):\n",
    "        print (\"Buying a phone\")\n",
    "\n",
    "class SmartPhone(Phone):\n",
    "    pass\n",
    "\n",
    "s=SmartPhone(20000, \"Apple\", 12)\n",
    "\n",
    "s.buy()\n",
    "s.review()"
   ]
  },
  {
   "cell_type": "code",
   "execution_count": 49,
   "id": "935597c6",
   "metadata": {},
   "outputs": [
    {
     "name": "stdout",
     "output_type": "stream",
     "text": [
      "Inside phone constructor\n",
      "Buying a phone\n",
      "Inside phone constructor\n",
      "Buying a phone\n"
     ]
    }
   ],
   "source": [
    "# Hierarchical\n",
    "\n",
    "class Phone:\n",
    "    def __init__(self, price, brand, camera):\n",
    "        print (\"Inside phone constructor\")\n",
    "        self.__price = price\n",
    "        self.brand = brand\n",
    "        self.camera = camera\n",
    "\n",
    "    def buy(self):\n",
    "        print (\"Buying a phone\")\n",
    "\n",
    "class SmartPhone(Phone):\n",
    "    pass\n",
    "\n",
    "class FeaturePhone(Phone):\n",
    "    pass\n",
    "\n",
    "SmartPhone(1000,\"Apple\",\"13px\").buy()\n",
    "FeaturePhone(10,\"Lava\",\"1px\").buy()"
   ]
  },
  {
   "cell_type": "code",
   "execution_count": 50,
   "id": "5c3942e1",
   "metadata": {},
   "outputs": [
    {
     "name": "stdout",
     "output_type": "stream",
     "text": [
      "Inside phone constructor\n",
      "Buying a phone\n",
      "Customer review\n"
     ]
    }
   ],
   "source": [
    "# Multiple\n",
    "\n",
    "class Phone:\n",
    "    def __init__(self, price, brand, camera):\n",
    "        print (\"Inside phone constructor\")\n",
    "        self.__price = price\n",
    "        self.brand = brand\n",
    "        self.camera = camera\n",
    "\n",
    "    def buy(self):\n",
    "        print (\"Buying a phone\")\n",
    "\n",
    "class Product:\n",
    "    def review(self):\n",
    "        print (\"Customer review\")\n",
    "\n",
    "class SmartPhone(Phone, Product):\n",
    "    pass\n",
    "\n",
    "s=SmartPhone(20000, \"Apple\", 12)\n",
    "\n",
    "s.buy()\n",
    "s.review()"
   ]
  },
  {
   "cell_type": "code",
   "execution_count": 51,
   "id": "a383b25a",
   "metadata": {},
   "outputs": [
    {
     "name": "stdout",
     "output_type": "stream",
     "text": [
      "Inside phone constructor\n",
      "Buying a phone\n"
     ]
    }
   ],
   "source": [
    "# the diamond problem\n",
    "# https://stackoverflow.com/questions/56361048/what-is-the-diamond-problem-in-python-and-why-its-not-appear-in-python2\n",
    "class Phone:\n",
    "    def __init__(self, price, brand, camera):\n",
    "        print (\"Inside phone constructor\")\n",
    "        self.__price = price\n",
    "        self.brand = brand\n",
    "        self.camera = camera\n",
    "\n",
    "    def buy(self):\n",
    "        print (\"Buying a phone\")\n",
    "\n",
    "class Product:\n",
    "    def buy(self):\n",
    "        print (\"Product buy method\")\n",
    "\n",
    "# Method resolution order\n",
    "class SmartPhone(Phone,Product):\n",
    "    pass\n",
    "\n",
    "s=SmartPhone(20000, \"Apple\", 12)\n",
    "\n",
    "s.buy()"
   ]
  },
  {
   "cell_type": "raw",
   "id": "d3311421",
   "metadata": {},
   "source": [
    "In this case, child class Smartphone has two parent classes (Phone, Product). And both classes have method with the same name. In this case, if we call the method, then method of the first class will be executed.\n",
    "\n",
    "class SmartPhone(Phone,Product):\n",
    "    pass\n",
    "    \n",
    " the Phone class is written before Product class. Hence, Phone class method will be executed.\n",
    " \n",
    " It is known as Method Resolution Order (MRO)"
   ]
  },
  {
   "cell_type": "code",
   "execution_count": 52,
   "id": "8488031f",
   "metadata": {},
   "outputs": [
    {
     "name": "stdout",
     "output_type": "stream",
     "text": [
      "70\n"
     ]
    }
   ],
   "source": [
    "class A:\n",
    "\n",
    "    def m1(self):\n",
    "        return 20\n",
    "\n",
    "class B(A):\n",
    "\n",
    "    def m1(self):\n",
    "        return 30\n",
    "\n",
    "    def m2(self):\n",
    "        return 40\n",
    "\n",
    "class C(B):\n",
    "  \n",
    "    def m2(self):\n",
    "        return 20\n",
    "obj1=A()\n",
    "obj2=B()\n",
    "obj3=C()\n",
    "print(obj1.m1() + obj3.m1()+ obj3.m2())"
   ]
  },
  {
   "cell_type": "code",
   "execution_count": null,
   "id": "8f43aaad",
   "metadata": {},
   "outputs": [],
   "source": [
    "class A:\n",
    "\n",
    "    def m1(self):\n",
    "        return 20\n",
    "\n",
    "class B(A):\n",
    "\n",
    "    def m1(self):\n",
    "        val=super().m1()+30\n",
    "        return val\n",
    "\n",
    "class C(B):\n",
    "  \n",
    "    def m1(self):\n",
    "        val=self.m1()+20 #the self.m1 is calling itself\n",
    "        return val\n",
    "obj=C()\n",
    "print(obj.m1())"
   ]
  },
  {
   "cell_type": "markdown",
   "id": "210456c1",
   "metadata": {},
   "source": [
    "The upper code will create an infinite loop usuing recursion."
   ]
  },
  {
   "cell_type": "code",
   "execution_count": null,
   "id": "7b3da983",
   "metadata": {},
   "outputs": [],
   "source": []
  }
 ],
 "metadata": {
  "kernelspec": {
   "display_name": "Python 3 (ipykernel)",
   "language": "python",
   "name": "python3"
  },
  "language_info": {
   "codemirror_mode": {
    "name": "ipython",
    "version": 3
   },
   "file_extension": ".py",
   "mimetype": "text/x-python",
   "name": "python",
   "nbconvert_exporter": "python",
   "pygments_lexer": "ipython3",
   "version": "3.9.13"
  }
 },
 "nbformat": 4,
 "nbformat_minor": 5
}
