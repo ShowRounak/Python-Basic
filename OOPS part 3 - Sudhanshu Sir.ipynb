{
 "cells": [
  {
   "cell_type": "markdown",
   "id": "6de91e10",
   "metadata": {},
   "source": [
    "### Polymorphism"
   ]
  },
  {
   "cell_type": "code",
   "execution_count": 1,
   "id": "a0db971c",
   "metadata": {},
   "outputs": [],
   "source": [
    "def test(a,b):\n",
    "    return a+b"
   ]
  },
  {
   "cell_type": "code",
   "execution_count": 2,
   "id": "1e7adbe4",
   "metadata": {},
   "outputs": [
    {
     "data": {
      "text/plain": [
       "7"
      ]
     },
     "execution_count": 2,
     "metadata": {},
     "output_type": "execute_result"
    }
   ],
   "source": [
    "test(3,4)"
   ]
  },
  {
   "cell_type": "code",
   "execution_count": 3,
   "id": "a7407762",
   "metadata": {},
   "outputs": [
    {
     "data": {
      "text/plain": [
       "'rikshow'"
      ]
     },
     "execution_count": 3,
     "metadata": {},
     "output_type": "execute_result"
    }
   ],
   "source": [
    "test('rik','show')"
   ]
  },
  {
   "cell_type": "markdown",
   "id": "0d5236ee",
   "metadata": {},
   "source": [
    "function/method is going to be same, but the nature of that function/method will be different on different different situation."
   ]
  },
  {
   "cell_type": "markdown",
   "id": "ae4dcf95",
   "metadata": {},
   "source": [
    "Just like + operator. For integars it is doing addition, and for string it is doing concatanation."
   ]
  },
  {
   "cell_type": "code",
   "execution_count": 4,
   "id": "dfe304ea",
   "metadata": {},
   "outputs": [],
   "source": [
    "class insta:\n",
    "    def share_stories(self):\n",
    "        print(\"This will my share my insta stories.\")\n",
    "\n",
    "class facebook:\n",
    "    def share_stories(self):\n",
    "        print(\"This will share my FB Stories\")\n",
    "        \n"
   ]
  },
  {
   "cell_type": "code",
   "execution_count": 5,
   "id": "8ce59469",
   "metadata": {},
   "outputs": [],
   "source": [
    "def sharestories(app):\n",
    "    app.share_stories()"
   ]
  },
  {
   "cell_type": "code",
   "execution_count": 6,
   "id": "11ee9521",
   "metadata": {},
   "outputs": [],
   "source": [
    "i = insta()\n",
    "f = facebook()"
   ]
  },
  {
   "cell_type": "code",
   "execution_count": 7,
   "id": "59f3bbe7",
   "metadata": {},
   "outputs": [
    {
     "name": "stdout",
     "output_type": "stream",
     "text": [
      "This will my share my insta stories.\n"
     ]
    }
   ],
   "source": [
    "sharestories(i)"
   ]
  },
  {
   "cell_type": "code",
   "execution_count": 8,
   "id": "6f8ce705",
   "metadata": {},
   "outputs": [
    {
     "name": "stdout",
     "output_type": "stream",
     "text": [
      "This will share my FB Stories\n"
     ]
    }
   ],
   "source": [
    "sharestories(f)"
   ]
  },
  {
   "cell_type": "code",
   "execution_count": 9,
   "id": "c82d09cf",
   "metadata": {},
   "outputs": [],
   "source": [
    "class social_media:\n",
    "    def share_stories(self):\n",
    "        print(\"Share stories\")\n",
    "    def upload_pic(self):\n",
    "        print(\"This will upload pics on social media\")\n",
    "\n",
    "        \n",
    "class facebook(social_media):\n",
    "    def share_stories(self):\n",
    "        print(\"This is a function for sharing stories on FACEBOOK\")\n",
    "        \n",
    "class insta(social_media):\n",
    "    def share_stories(self):\n",
    "        print(\"this will share stories on insta\")"
   ]
  },
  {
   "cell_type": "code",
   "execution_count": 10,
   "id": "79446021",
   "metadata": {},
   "outputs": [],
   "source": [
    "f = facebook()\n",
    "i = insta()"
   ]
  },
  {
   "cell_type": "code",
   "execution_count": 11,
   "id": "def48d36",
   "metadata": {},
   "outputs": [
    {
     "name": "stdout",
     "output_type": "stream",
     "text": [
      "This is a function for sharing stories on FACEBOOK\n"
     ]
    }
   ],
   "source": [
    "f.share_stories()"
   ]
  },
  {
   "cell_type": "code",
   "execution_count": 12,
   "id": "dc40c867",
   "metadata": {},
   "outputs": [
    {
     "name": "stdout",
     "output_type": "stream",
     "text": [
      "This will upload pics on social media\n"
     ]
    }
   ],
   "source": [
    "f.upload_pic()"
   ]
  },
  {
   "cell_type": "code",
   "execution_count": 13,
   "id": "b82727be",
   "metadata": {},
   "outputs": [
    {
     "name": "stdout",
     "output_type": "stream",
     "text": [
      "this will share stories on insta\n"
     ]
    }
   ],
   "source": [
    "i.share_stories()"
   ]
  },
  {
   "cell_type": "code",
   "execution_count": 14,
   "id": "b8a2443b",
   "metadata": {},
   "outputs": [
    {
     "name": "stdout",
     "output_type": "stream",
     "text": [
      "This will upload pics on social media\n"
     ]
    }
   ],
   "source": [
    "i.upload_pic()"
   ]
  },
  {
   "cell_type": "markdown",
   "id": "97fb827f",
   "metadata": {},
   "source": [
    "----------------"
   ]
  },
  {
   "cell_type": "markdown",
   "id": "eeb6c797",
   "metadata": {},
   "source": [
    "-------"
   ]
  },
  {
   "cell_type": "markdown",
   "id": "85f5f87e",
   "metadata": {},
   "source": [
    "### How to create your own Exception Class"
   ]
  },
  {
   "cell_type": "code",
   "execution_count": 16,
   "id": "1aa31283",
   "metadata": {},
   "outputs": [],
   "source": [
    "class test(Exception):\n",
    "    def __init__(self, msg):\n",
    "        self.msg = msg"
   ]
  },
  {
   "cell_type": "code",
   "execution_count": 18,
   "id": "4d3e5254",
   "metadata": {},
   "outputs": [
    {
     "name": "stdout",
     "output_type": "stream",
     "text": [
      "THis is my own exception class\n"
     ]
    }
   ],
   "source": [
    "try:\n",
    "    raise test(\"THis is my own exception class\")\n",
    "except test as t:\n",
    "    print(t)"
   ]
  },
  {
   "cell_type": "code",
   "execution_count": 19,
   "id": "01c9f1f9",
   "metadata": {},
   "outputs": [
    {
     "ename": "ZeroDivisionError",
     "evalue": "division by zero",
     "output_type": "error",
     "traceback": [
      "\u001b[1;31m---------------------------------------------------------------------------\u001b[0m",
      "\u001b[1;31mZeroDivisionError\u001b[0m                         Traceback (most recent call last)",
      "Input \u001b[1;32mIn [19]\u001b[0m, in \u001b[0;36m<cell line: 1>\u001b[1;34m()\u001b[0m\n\u001b[0;32m      1\u001b[0m \u001b[38;5;28;01mtry\u001b[39;00m:\n\u001b[1;32m----> 2\u001b[0m     \u001b[38;5;241;43m5\u001b[39;49m\u001b[38;5;241;43m/\u001b[39;49m\u001b[38;5;241;43m0\u001b[39;49m\n\u001b[0;32m      3\u001b[0m \u001b[38;5;28;01mexcept\u001b[39;00m test \u001b[38;5;28;01mas\u001b[39;00m t:\n\u001b[0;32m      4\u001b[0m     \u001b[38;5;28mprint\u001b[39m(t)\n",
      "\u001b[1;31mZeroDivisionError\u001b[0m: division by zero"
     ]
    }
   ],
   "source": [
    "try:\n",
    "    5/0\n",
    "except test as t:\n",
    "    print(t)"
   ]
  },
  {
   "cell_type": "markdown",
   "id": "6f3ed1ba",
   "metadata": {},
   "source": [
    "---"
   ]
  },
  {
   "cell_type": "markdown",
   "id": "768782bd",
   "metadata": {},
   "source": [
    "____________________"
   ]
  },
  {
   "cell_type": "raw",
   "id": "bd2a5a3a",
   "metadata": {},
   "source": [
    "Create your own class to achieve miltiple, multi-level iinheritence\n",
    "\n",
    "create your own class to represent polymorphism\n",
    "\n",
    "create your own class for custom exception\n",
    "\n",
    "create your own class to achieve encapsulation\n",
    "\n",
    "create your own class to achieve method overloading and oveririding."
   ]
  },
  {
   "cell_type": "code",
   "execution_count": 26,
   "id": "cb768781",
   "metadata": {},
   "outputs": [],
   "source": [
    "class Dog:\n",
    "    def __init__(self, name, age):\n",
    "        self.name = name\n",
    "        self.age = age\n",
    "    def __str__(self):\n",
    "        return f\"{self.name} is {self.age} years old\"\n",
    "    \n",
    "class lab(Dog):\n",
    "    def bark(self):\n",
    "        print(f\" {self.name} barks Bhow Bhow\")\n",
    "        \n",
    "class als(Dog):\n",
    "    def bark(self):\n",
    "        print(f\" {self.name} barks Gheu gheu\")"
   ]
  },
  {
   "cell_type": "code",
   "execution_count": 25,
   "id": "6d39dc9d",
   "metadata": {},
   "outputs": [],
   "source": [
    "mike = lab(\"mike\", 4)"
   ]
  },
  {
   "cell_type": "code",
   "execution_count": 27,
   "id": "72c30bc6",
   "metadata": {},
   "outputs": [],
   "source": [
    "rosy = als(\"rosy\", 6)"
   ]
  },
  {
   "cell_type": "code",
   "execution_count": 28,
   "id": "4da897e8",
   "metadata": {},
   "outputs": [
    {
     "name": "stdout",
     "output_type": "stream",
     "text": [
      " mike barks Bhow Bhow\n"
     ]
    }
   ],
   "source": [
    "mike.bark()"
   ]
  },
  {
   "cell_type": "code",
   "execution_count": 29,
   "id": "2e4d89bd",
   "metadata": {},
   "outputs": [
    {
     "name": "stdout",
     "output_type": "stream",
     "text": [
      " rosy barks Gheu gheu\n"
     ]
    }
   ],
   "source": [
    "rosy.bark()"
   ]
  },
  {
   "cell_type": "code",
   "execution_count": 30,
   "id": "19dfcf86",
   "metadata": {},
   "outputs": [
    {
     "name": "stdout",
     "output_type": "stream",
     "text": [
      "mike is 4 years old\n",
      "rosy is 6 years old\n"
     ]
    }
   ],
   "source": [
    "print(mike)\n",
    "print(rosy)"
   ]
  },
  {
   "cell_type": "code",
   "execution_count": 31,
   "id": "407e1616",
   "metadata": {},
   "outputs": [],
   "source": [
    "class laptop:\n",
    "    def working(self):\n",
    "        print(\"laptop to do coding\")\n",
    "    def gaming(self):\n",
    "        print(\"laptop to play games\")\n",
    "        \n",
    "        \n",
    "def pav(laptop):\n",
    "    return laptop.working()\n",
    "\n",
    "def omen(laptop):\n",
    "    return laptop.gaming()\n",
    "    \n",
    "        "
   ]
  },
  {
   "cell_type": "code",
   "execution_count": 36,
   "id": "dae56475",
   "metadata": {},
   "outputs": [],
   "source": [
    "p = laptop()"
   ]
  },
  {
   "cell_type": "code",
   "execution_count": 37,
   "id": "5cc723f9",
   "metadata": {},
   "outputs": [
    {
     "name": "stdout",
     "output_type": "stream",
     "text": [
      "laptop to do coding\n"
     ]
    }
   ],
   "source": [
    "pav(p)"
   ]
  },
  {
   "cell_type": "code",
   "execution_count": 38,
   "id": "4a883422",
   "metadata": {},
   "outputs": [],
   "source": [
    "o = laptop()"
   ]
  },
  {
   "cell_type": "code",
   "execution_count": 39,
   "id": "7ddd5d7c",
   "metadata": {},
   "outputs": [
    {
     "name": "stdout",
     "output_type": "stream",
     "text": [
      "laptop to play games\n"
     ]
    }
   ],
   "source": [
    "omen(o)"
   ]
  },
  {
   "cell_type": "markdown",
   "id": "98fd6964",
   "metadata": {},
   "source": [
    "### Static keyword/variable and Static Function"
   ]
  },
  {
   "cell_type": "code",
   "execution_count": 59,
   "id": "58ce77bf",
   "metadata": {},
   "outputs": [],
   "source": [
    "class batch_number:\n",
    "    batchnumber = 'FSDS' #static keyword or class variable\n",
    "    \n",
    "    @staticmethod  #decorator to create static function\n",
    "    def batch(): #function without self. Hence it is not a object or instance method. It is a class method\n",
    "        print(\"this is a static method\")\n",
    "        \n",
    "    def batch1(self):\n",
    "        print(\"this is instance method\")\n",
    "    "
   ]
  },
  {
   "cell_type": "code",
   "execution_count": 53,
   "id": "fa61cbb9",
   "metadata": {},
   "outputs": [],
   "source": [
    "bn = batch_number()"
   ]
  },
  {
   "cell_type": "code",
   "execution_count": 54,
   "id": "c065d253",
   "metadata": {},
   "outputs": [
    {
     "name": "stdout",
     "output_type": "stream",
     "text": [
      "this is a static method\n"
     ]
    }
   ],
   "source": [
    "bn.batch()"
   ]
  },
  {
   "cell_type": "code",
   "execution_count": 55,
   "id": "4732502a",
   "metadata": {},
   "outputs": [
    {
     "data": {
      "text/plain": [
       "'FSDS'"
      ]
     },
     "execution_count": 55,
     "metadata": {},
     "output_type": "execute_result"
    }
   ],
   "source": [
    "bn.batchnumber"
   ]
  },
  {
   "cell_type": "code",
   "execution_count": 56,
   "id": "34fb9ace",
   "metadata": {},
   "outputs": [],
   "source": [
    "bn.batchnumber = 2"
   ]
  },
  {
   "cell_type": "code",
   "execution_count": 57,
   "id": "d89132a5",
   "metadata": {},
   "outputs": [
    {
     "data": {
      "text/plain": [
       "2"
      ]
     },
     "execution_count": 57,
     "metadata": {},
     "output_type": "execute_result"
    }
   ],
   "source": [
    "bn.batchnumber"
   ]
  },
  {
   "cell_type": "markdown",
   "id": "4bd6df15",
   "metadata": {},
   "source": [
    "We can also access the static/class variable without creating an object. And this is the main differece between a class variable and an instance/object variable.\n",
    "\n",
    "For Example,"
   ]
  },
  {
   "cell_type": "code",
   "execution_count": 58,
   "id": "e0cbec69",
   "metadata": {},
   "outputs": [
    {
     "data": {
      "text/plain": [
       "'FSDS'"
      ]
     },
     "execution_count": 58,
     "metadata": {},
     "output_type": "execute_result"
    }
   ],
   "source": [
    "batch_number.batchnumber"
   ]
  },
  {
   "cell_type": "markdown",
   "id": "478d749a",
   "metadata": {},
   "source": [
    "In the above exapmle, we simply call the batchnumber variable using the batch_number class; and without creating any object."
   ]
  },
  {
   "cell_type": "markdown",
   "id": "f75c8efe",
   "metadata": {},
   "source": [
    "### So, decorator is nothing but a special-designed function which is going to help other functions to behave as per the definition."
   ]
  },
  {
   "cell_type": "markdown",
   "id": "89bf5d87",
   "metadata": {},
   "source": [
    "Same thing is applicable for static/class function."
   ]
  },
  {
   "cell_type": "code",
   "execution_count": 60,
   "id": "b078aa1f",
   "metadata": {},
   "outputs": [
    {
     "name": "stdout",
     "output_type": "stream",
     "text": [
      "this is a static method\n"
     ]
    }
   ],
   "source": [
    "batch_number.batch()"
   ]
  },
  {
   "cell_type": "code",
   "execution_count": 61,
   "id": "7d8f1327",
   "metadata": {},
   "outputs": [
    {
     "ename": "TypeError",
     "evalue": "batch1() missing 1 required positional argument: 'self'",
     "output_type": "error",
     "traceback": [
      "\u001b[1;31m---------------------------------------------------------------------------\u001b[0m",
      "\u001b[1;31mTypeError\u001b[0m                                 Traceback (most recent call last)",
      "Input \u001b[1;32mIn [61]\u001b[0m, in \u001b[0;36m<cell line: 1>\u001b[1;34m()\u001b[0m\n\u001b[1;32m----> 1\u001b[0m \u001b[43mbatch_number\u001b[49m\u001b[38;5;241;43m.\u001b[39;49m\u001b[43mbatch1\u001b[49m\u001b[43m(\u001b[49m\u001b[43m)\u001b[49m\n",
      "\u001b[1;31mTypeError\u001b[0m: batch1() missing 1 required positional argument: 'self'"
     ]
    }
   ],
   "source": [
    "batch_number.batch1()"
   ]
  },
  {
   "cell_type": "markdown",
   "id": "3813800d",
   "metadata": {},
   "source": [
    "I am able to access the static function (batch method) without creating an object/instance. Just by the class name.\n",
    "\n",
    "Whereas, the instance method (batch1) cannot be accessible without creating an object."
   ]
  },
  {
   "cell_type": "code",
   "execution_count": 62,
   "id": "e916a1c2",
   "metadata": {},
   "outputs": [],
   "source": [
    "class accountdetail:\n",
    "    account_number = 5454545\n",
    "    def __init__(self, amount):\n",
    "        self.amount = amount\n",
    "        \n",
    "    def show_balance(self, deduction):\n",
    "        self.amount = self.amount - deduction\n",
    "        return self.amount, account_number\n",
    "    "
   ]
  },
  {
   "cell_type": "markdown",
   "id": "7249f34f",
   "metadata": {},
   "source": [
    "## Abstraction"
   ]
  },
  {
   "cell_type": "markdown",
   "id": "22ff43ad",
   "metadata": {},
   "source": [
    "Blueprint of entire project"
   ]
  },
  {
   "cell_type": "code",
   "execution_count": 63,
   "id": "415dba78",
   "metadata": {},
   "outputs": [],
   "source": [
    "class abc:\n",
    "    pass"
   ]
  },
  {
   "cell_type": "code",
   "execution_count": 66,
   "id": "3ed112dd",
   "metadata": {},
   "outputs": [],
   "source": [
    "class data_project:\n",
    "    \n",
    "    def read_file(self):\n",
    "        pass\n",
    "    \n",
    "    def validate_file_name(self):\n",
    "        pass\n",
    "    \n",
    "    def validate_data_type(self):\n",
    "        pass\n",
    "    \n",
    "    def validate_db_connection(self):\n",
    "        pass\n",
    "    \n",
    "    def create_connection_db(self):\n",
    "        pass\n",
    "    \n",
    "    def insert_data(self):\n",
    "        pass\n",
    "    \n",
    "    def delete_data(self):\n",
    "        pass\n",
    "    \n",
    "    def update_data(self):\n",
    "        pass\n",
    "    \n",
    "    def perform_stats(self):\n",
    "        pass\n",
    "    \n",
    "    def perform_eda(self):\n",
    "        pass"
   ]
  },
  {
   "cell_type": "markdown",
   "id": "7dbc6ce9",
   "metadata": {},
   "source": [
    "Just create a blueprint, abstract class or function"
   ]
  },
  {
   "cell_type": "code",
   "execution_count": 67,
   "id": "c554737d",
   "metadata": {},
   "outputs": [],
   "source": [
    "class db_ops(data_project):\n",
    "    pass"
   ]
  },
  {
   "cell_type": "code",
   "execution_count": 5,
   "id": "a3f50dff",
   "metadata": {},
   "outputs": [],
   "source": [
    "from abc import ABC,abstractmethod\n",
    "class BankApp(ABC):\n",
    "\n",
    "    def database(self):\n",
    "        print('connected to database')\n",
    "\n",
    "    @abstractmethod\n",
    "    def security(self):\n",
    "        pass\n",
    "\n",
    "    @abstractmethod\n",
    "    def display(self):\n",
    "        pass"
   ]
  },
  {
   "cell_type": "code",
   "execution_count": 6,
   "id": "d84fb4b9",
   "metadata": {},
   "outputs": [],
   "source": [
    "class MobileApp(BankApp):\n",
    "\n",
    "    def mobile_login(self):\n",
    "        print('login into mobile')\n",
    "\n",
    "    def security(self):\n",
    "        print('mobile security')\n",
    "\n",
    "    def display(self):\n",
    "        print('display')"
   ]
  },
  {
   "cell_type": "code",
   "execution_count": 7,
   "id": "657ba7c3",
   "metadata": {},
   "outputs": [],
   "source": [
    "mob = MobileApp()"
   ]
  },
  {
   "cell_type": "code",
   "execution_count": 8,
   "id": "8f38291a",
   "metadata": {},
   "outputs": [
    {
     "name": "stdout",
     "output_type": "stream",
     "text": [
      "mobile security\n"
     ]
    }
   ],
   "source": [
    "mob.security()"
   ]
  },
  {
   "cell_type": "code",
   "execution_count": 9,
   "id": "4f501ce5",
   "metadata": {},
   "outputs": [
    {
     "ename": "TypeError",
     "evalue": "Can't instantiate abstract class BankApp with abstract methods display, security",
     "output_type": "error",
     "traceback": [
      "\u001b[1;31m---------------------------------------------------------------------------\u001b[0m",
      "\u001b[1;31mTypeError\u001b[0m                                 Traceback (most recent call last)",
      "Input \u001b[1;32mIn [9]\u001b[0m, in \u001b[0;36m<cell line: 1>\u001b[1;34m()\u001b[0m\n\u001b[1;32m----> 1\u001b[0m obj \u001b[38;5;241m=\u001b[39m \u001b[43mBankApp\u001b[49m\u001b[43m(\u001b[49m\u001b[43m)\u001b[49m\n",
      "\u001b[1;31mTypeError\u001b[0m: Can't instantiate abstract class BankApp with abstract methods display, security"
     ]
    }
   ],
   "source": [
    "obj = BankApp()"
   ]
  },
  {
   "cell_type": "markdown",
   "id": "27d373b3",
   "metadata": {},
   "source": [
    "## Four Pillars of OOPS in Python\n",
    "\n",
    "### Inheritence\n",
    "\n",
    "### Polymorphism\n",
    "\n",
    "### Encapsulation\n",
    "\n",
    "### Abstraction"
   ]
  },
  {
   "cell_type": "markdown",
   "id": "44a97961",
   "metadata": {},
   "source": [
    "------------------------"
   ]
  },
  {
   "cell_type": "markdown",
   "id": "e8011bd9",
   "metadata": {},
   "source": [
    "------------------------"
   ]
  },
  {
   "cell_type": "markdown",
   "id": "f5eb21c5",
   "metadata": {},
   "source": [
    "### Overloading vs Over-riding"
   ]
  },
  {
   "cell_type": "code",
   "execution_count": 71,
   "id": "075debca",
   "metadata": {},
   "outputs": [],
   "source": [
    "class test:\n",
    "    \n",
    "    def fun(self):\n",
    "        print(\"this is my sample class\")\n",
    "        \n",
    "    def __str__(self):\n",
    "        return f\"this is a function called at a time of object print\""
   ]
  },
  {
   "cell_type": "code",
   "execution_count": 72,
   "id": "fc4f9099",
   "metadata": {},
   "outputs": [],
   "source": [
    "t = test()"
   ]
  },
  {
   "cell_type": "code",
   "execution_count": 73,
   "id": "8749ac7b",
   "metadata": {},
   "outputs": [
    {
     "name": "stdout",
     "output_type": "stream",
     "text": [
      "this is a function called at a time of object print\n"
     ]
    }
   ],
   "source": [
    "print(t)"
   ]
  },
  {
   "cell_type": "markdown",
   "id": "fed8059d",
   "metadata": {},
   "source": [
    "We are trying to overload a str method."
   ]
  },
  {
   "cell_type": "markdown",
   "id": "68a9f900",
   "metadata": {},
   "source": [
    "-----------"
   ]
  },
  {
   "cell_type": "markdown",
   "id": "e2d26390",
   "metadata": {},
   "source": [
    "----"
   ]
  },
  {
   "cell_type": "markdown",
   "id": "656ecda7",
   "metadata": {},
   "source": [
    "## Instance Variable vs Static Variable"
   ]
  },
  {
   "cell_type": "raw",
   "id": "02d16b96",
   "metadata": {},
   "source": [
    "instance variable belongs to objects. Static variable belongs to the class.\n",
    "\n",
    "Instance variables are declared inside the constructor. Static variables are declared outside of any method.\n",
    "\n",
    "Syntax of calling instance variables:- self.instance_variable_name (basically using object)\n",
    "\n",
    "Syntax of calling static variables:- classname.static_variable_name"
   ]
  },
  {
   "cell_type": "code",
   "execution_count": 15,
   "id": "85843a50",
   "metadata": {},
   "outputs": [],
   "source": [
    "class Atm:\n",
    "    \n",
    "    __counter = 0 #static variable which is also a private variable\n",
    "    \n",
    "    def __init__(self):\n",
    "        self.pin = ''\n",
    "        self.__balance = 0\n",
    "        self.customer_id = Atm.__counter\n",
    "        Atm.__counter = Atm.__counter + 1\n",
    "        print(\"Welcome to ATM\")\n",
    "    \n",
    "    @staticmethod\n",
    "    def get_counter(): #static method\n",
    "        return Atm.__counter\n",
    "        \n",
    "    def get_balance(self):\n",
    "        return self.__balance\n",
    "    \n",
    "    def set_balance(self, new_value):\n",
    "        if type(new_value) == int:\n",
    "            self.__balance = new_value\n",
    "        else:\n",
    "            return 'Enter Int values'\n",
    "        \n",
    "    def menu(self):\n",
    "        user_input = input(\"\"\"\n",
    "        1. press 1 to create pin\n",
    "        2. press 2 to change pin\n",
    "        3. press 3 to check balance\n",
    "        4. press 4 to withdraw\n",
    "        press any other key to exit\n",
    "        \"\"\")\n",
    "        \n",
    "        if user_input == '1':\n",
    "            self.create_pin()\n",
    "        elif user_input == '2':\n",
    "            self.change_pin()\n",
    "        elif user_input == '3':\n",
    "            self.check_balance()\n",
    "        elif user_input == '4':\n",
    "            self.withdraw()\n",
    "        else:\n",
    "            exit()\n",
    "\n",
    "    def create_pin(self):\n",
    "        user_pin = input(\"Enter your new pin: \")\n",
    "        self.pin = user_pin\n",
    "        \n",
    "        user_balance = int(input(\"Enter your bank balance: \"))\n",
    "        self.__balance = user_balance\n",
    "        \n",
    "        print(\"pin created successfully\")\n",
    "        self.menu()\n",
    "    \n",
    "    def change_pin(self):\n",
    "        old_pin = input(\"Enter your old pin: \")\n",
    "        if old_pin == self.pin:\n",
    "            new_pin = input(\"Enter your new pin: \")\n",
    "            self.pin = new_pin\n",
    "        else:\n",
    "            print(\"Sorry! Pin number does not match\")\n",
    "        self.menu()\n",
    "    \n",
    "    def check_balance(self):\n",
    "        pin_no = input(\"enter your pin: \")\n",
    "        if pin_no == self.pin:\n",
    "            print(\"Your balance is: \", self.__balance)\n",
    "        else:\n",
    "            print(\"Wrong pin!\")\n",
    "        self.menu()\n",
    "    \n",
    "    def withdraw(self):\n",
    "        pin_no = input(\"enter your pin: \")\n",
    "        if pin_no == self.pin:\n",
    "            amount = int(input(\"Enter withdrawal amount: \"))\n",
    "            if amount <= self.__balance:\n",
    "                self.balance = self.__balance - amount\n",
    "                print(\"Your updated balance: \", self.__balance)\n",
    "            else:\n",
    "                print(\"You don't have enough money!\")\n",
    "        else:\n",
    "            print(\"Wrong pin!\")\n",
    "        self.menu()"
   ]
  },
  {
   "cell_type": "code",
   "execution_count": 16,
   "id": "485ed253",
   "metadata": {},
   "outputs": [
    {
     "name": "stdout",
     "output_type": "stream",
     "text": [
      "Welcome to ATM\n"
     ]
    }
   ],
   "source": [
    "c1 = Atm()"
   ]
  },
  {
   "cell_type": "code",
   "execution_count": 17,
   "id": "829e551d",
   "metadata": {},
   "outputs": [
    {
     "data": {
      "text/plain": [
       "1"
      ]
     },
     "execution_count": 17,
     "metadata": {},
     "output_type": "execute_result"
    }
   ],
   "source": [
    "c1.get_counter()"
   ]
  },
  {
   "cell_type": "code",
   "execution_count": 18,
   "id": "d4587f40",
   "metadata": {},
   "outputs": [
    {
     "name": "stdout",
     "output_type": "stream",
     "text": [
      "Welcome to ATM\n"
     ]
    }
   ],
   "source": [
    "c2 = Atm()"
   ]
  },
  {
   "cell_type": "code",
   "execution_count": 19,
   "id": "5842bbd4",
   "metadata": {},
   "outputs": [
    {
     "data": {
      "text/plain": [
       "2"
      ]
     },
     "execution_count": 19,
     "metadata": {},
     "output_type": "execute_result"
    }
   ],
   "source": [
    "c2.get_counter()"
   ]
  },
  {
   "cell_type": "code",
   "execution_count": 20,
   "id": "0a3a6667",
   "metadata": {},
   "outputs": [
    {
     "name": "stdout",
     "output_type": "stream",
     "text": [
      "Welcome to ATM\n"
     ]
    }
   ],
   "source": [
    "c3 = Atm()"
   ]
  },
  {
   "cell_type": "code",
   "execution_count": 21,
   "id": "00b49242",
   "metadata": {},
   "outputs": [
    {
     "data": {
      "text/plain": [
       "3"
      ]
     },
     "execution_count": 21,
     "metadata": {},
     "output_type": "execute_result"
    }
   ],
   "source": [
    "c3.get_counter()"
   ]
  },
  {
   "cell_type": "markdown",
   "id": "ec921691",
   "metadata": {},
   "source": [
    "---------"
   ]
  },
  {
   "cell_type": "markdown",
   "id": "c49d0333",
   "metadata": {},
   "source": [
    "### Polymorphism\n",
    "\n",
    "Method Overloading"
   ]
  },
  {
   "cell_type": "code",
   "execution_count": 2,
   "id": "32a1e97d",
   "metadata": {},
   "outputs": [],
   "source": [
    "class Shape:\n",
    "    \n",
    "    def area(self, radius):\n",
    "        return 3.14*radius*radius\n",
    "    \n",
    "    def area(self, l, b):\n",
    "        return l*b"
   ]
  },
  {
   "cell_type": "markdown",
   "id": "c2303b60",
   "metadata": {},
   "source": [
    "Two methods with a same name in the same class. But, output is different based on input.\n",
    "\n",
    "The benefit of using Method overloading is that the code look clean."
   ]
  },
  {
   "cell_type": "code",
   "execution_count": 3,
   "id": "7487e9ec",
   "metadata": {},
   "outputs": [
    {
     "ename": "TypeError",
     "evalue": "area() missing 1 required positional argument: 'b'",
     "output_type": "error",
     "traceback": [
      "\u001b[1;31m---------------------------------------------------------------------------\u001b[0m",
      "\u001b[1;31mTypeError\u001b[0m                                 Traceback (most recent call last)",
      "Input \u001b[1;32mIn [3]\u001b[0m, in \u001b[0;36m<cell line: 3>\u001b[1;34m()\u001b[0m\n\u001b[0;32m      1\u001b[0m s \u001b[38;5;241m=\u001b[39m Shape()\n\u001b[1;32m----> 3\u001b[0m \u001b[43ms\u001b[49m\u001b[38;5;241;43m.\u001b[39;49m\u001b[43marea\u001b[49m\u001b[43m(\u001b[49m\u001b[38;5;241;43m2\u001b[39;49m\u001b[43m)\u001b[49m\n\u001b[0;32m      4\u001b[0m s\u001b[38;5;241m.\u001b[39marea(\u001b[38;5;241m9\u001b[39m,\u001b[38;5;241m4\u001b[39m)\n",
      "\u001b[1;31mTypeError\u001b[0m: area() missing 1 required positional argument: 'b'"
     ]
    }
   ],
   "source": [
    "s = Shape()\n",
    "\n",
    "s.area(2)\n",
    "s.area(9,4)"
   ]
  },
  {
   "cell_type": "markdown",
   "id": "fc8047b0",
   "metadata": {},
   "source": [
    "But, unfortunately Python does not support it."
   ]
  },
  {
   "cell_type": "code",
   "execution_count": null,
   "id": "54c1987f",
   "metadata": {},
   "outputs": [],
   "source": []
  }
 ],
 "metadata": {
  "kernelspec": {
   "display_name": "Python 3 (ipykernel)",
   "language": "python",
   "name": "python3"
  },
  "language_info": {
   "codemirror_mode": {
    "name": "ipython",
    "version": 3
   },
   "file_extension": ".py",
   "mimetype": "text/x-python",
   "name": "python",
   "nbconvert_exporter": "python",
   "pygments_lexer": "ipython3",
   "version": "3.9.13"
  }
 },
 "nbformat": 4,
 "nbformat_minor": 5
}
