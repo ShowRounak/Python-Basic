{
 "cells": [
  {
   "cell_type": "code",
   "execution_count": 2,
   "id": "d69f86bc",
   "metadata": {},
   "outputs": [],
   "source": [
    "def test():\n",
    "    pass"
   ]
  },
  {
   "cell_type": "code",
   "execution_count": 6,
   "id": "c3a5448a",
   "metadata": {},
   "outputs": [],
   "source": [
    "#create a function:\n",
    "\n",
    "def test1():\n",
    "    print(\"This is my first function\")"
   ]
  },
  {
   "cell_type": "code",
   "execution_count": 7,
   "id": "b2c745a0",
   "metadata": {},
   "outputs": [
    {
     "name": "stdout",
     "output_type": "stream",
     "text": [
      "This is my first function\n"
     ]
    }
   ],
   "source": [
    "test1() #calling of a function"
   ]
  },
  {
   "cell_type": "code",
   "execution_count": 8,
   "id": "ee477f35",
   "metadata": {},
   "outputs": [
    {
     "name": "stdout",
     "output_type": "stream",
     "text": [
      "This is my first function\n"
     ]
    }
   ],
   "source": [
    "a = test1()"
   ]
  },
  {
   "cell_type": "code",
   "execution_count": 9,
   "id": "62782f6f",
   "metadata": {},
   "outputs": [],
   "source": [
    "a"
   ]
  },
  {
   "cell_type": "code",
   "execution_count": 10,
   "id": "48369719",
   "metadata": {},
   "outputs": [
    {
     "ename": "TypeError",
     "evalue": "unsupported operand type(s) for +: 'NoneType' and 'str'",
     "output_type": "error",
     "traceback": [
      "\u001b[1;31m---------------------------------------------------------------------------\u001b[0m",
      "\u001b[1;31mTypeError\u001b[0m                                 Traceback (most recent call last)",
      "Input \u001b[1;32mIn [10]\u001b[0m, in \u001b[0;36m<cell line: 1>\u001b[1;34m()\u001b[0m\n\u001b[1;32m----> 1\u001b[0m \u001b[43ma\u001b[49m\u001b[43m \u001b[49m\u001b[38;5;241;43m+\u001b[39;49m\u001b[43m \u001b[49m\u001b[38;5;124;43m\"\u001b[39;49m\u001b[38;5;124;43msudh\u001b[39;49m\u001b[38;5;124;43m\"\u001b[39;49m\n",
      "\u001b[1;31mTypeError\u001b[0m: unsupported operand type(s) for +: 'NoneType' and 'str'"
     ]
    }
   ],
   "source": [
    "a + \"sudh\""
   ]
  },
  {
   "cell_type": "code",
   "execution_count": 11,
   "id": "c00435e7",
   "metadata": {},
   "outputs": [
    {
     "name": "stdout",
     "output_type": "stream",
     "text": [
      "This is my first function\n"
     ]
    },
    {
     "data": {
      "text/plain": [
       "NoneType"
      ]
     },
     "execution_count": 11,
     "metadata": {},
     "output_type": "execute_result"
    }
   ],
   "source": [
    "type(test1())"
   ]
  },
  {
   "cell_type": "code",
   "execution_count": 12,
   "id": "4bc0e714",
   "metadata": {},
   "outputs": [
    {
     "name": "stdout",
     "output_type": "stream",
     "text": [
      "This is my first function\n"
     ]
    }
   ],
   "source": [
    "a = test1()"
   ]
  },
  {
   "cell_type": "code",
   "execution_count": 13,
   "id": "bb452995",
   "metadata": {},
   "outputs": [
    {
     "data": {
      "text/plain": [
       "'None'"
      ]
     },
     "execution_count": 13,
     "metadata": {},
     "output_type": "execute_result"
    }
   ],
   "source": [
    "str(a)"
   ]
  },
  {
   "cell_type": "markdown",
   "id": "467eb7d3",
   "metadata": {},
   "source": [
    "Type-casting of a function gives 'none'"
   ]
  },
  {
   "cell_type": "markdown",
   "id": "d023e061",
   "metadata": {},
   "source": [
    "To solve this issue, we put return keyword."
   ]
  },
  {
   "cell_type": "code",
   "execution_count": 14,
   "id": "5c0a7341",
   "metadata": {},
   "outputs": [],
   "source": [
    "def test2():\n",
    "    return \"This is my funcTion\""
   ]
  },
  {
   "cell_type": "code",
   "execution_count": 15,
   "id": "2385db4e",
   "metadata": {},
   "outputs": [
    {
     "data": {
      "text/plain": [
       "'This is my funcTion'"
      ]
     },
     "execution_count": 15,
     "metadata": {},
     "output_type": "execute_result"
    }
   ],
   "source": [
    "test2()"
   ]
  },
  {
   "cell_type": "code",
   "execution_count": 19,
   "id": "fd5e5d43",
   "metadata": {},
   "outputs": [
    {
     "data": {
      "text/plain": [
       "str"
      ]
     },
     "execution_count": 19,
     "metadata": {},
     "output_type": "execute_result"
    }
   ],
   "source": [
    "type(test2()) #now it doesnot give Nonetype. \n"
   ]
  },
  {
   "cell_type": "code",
   "execution_count": 20,
   "id": "94dfe27b",
   "metadata": {},
   "outputs": [
    {
     "data": {
      "text/plain": [
       "'This is my funcTion Rounak'"
      ]
     },
     "execution_count": 20,
     "metadata": {},
     "output_type": "execute_result"
    }
   ],
   "source": [
    "test2() + \" Rounak\""
   ]
  },
  {
   "cell_type": "code",
   "execution_count": 21,
   "id": "1859ce9c",
   "metadata": {},
   "outputs": [],
   "source": [
    "def test3():\n",
    "    return 113331"
   ]
  },
  {
   "cell_type": "code",
   "execution_count": 22,
   "id": "3f40db12",
   "metadata": {},
   "outputs": [
    {
     "data": {
      "text/plain": [
       "int"
      ]
     },
     "execution_count": 22,
     "metadata": {},
     "output_type": "execute_result"
    }
   ],
   "source": [
    "type(test3())"
   ]
  },
  {
   "cell_type": "markdown",
   "id": "ff484d02",
   "metadata": {},
   "source": [
    "It is possible to return multiple data types in function\n"
   ]
  },
  {
   "cell_type": "code",
   "execution_count": 24,
   "id": "4282fe11",
   "metadata": {},
   "outputs": [],
   "source": [
    "def test4():\n",
    "    return 3,4,\"rik\", [11,55,66]"
   ]
  },
  {
   "cell_type": "code",
   "execution_count": 25,
   "id": "0715c28c",
   "metadata": {},
   "outputs": [
    {
     "data": {
      "text/plain": [
       "(3, 4, 'rik', [11, 55, 66])"
      ]
     },
     "execution_count": 25,
     "metadata": {},
     "output_type": "execute_result"
    }
   ],
   "source": [
    "test4()"
   ]
  },
  {
   "cell_type": "markdown",
   "id": "589a9785",
   "metadata": {},
   "source": [
    "It returns me a tuple"
   ]
  },
  {
   "cell_type": "code",
   "execution_count": 26,
   "id": "af6eaca2",
   "metadata": {},
   "outputs": [
    {
     "data": {
      "text/plain": [
       "tuple"
      ]
     },
     "execution_count": 26,
     "metadata": {},
     "output_type": "execute_result"
    }
   ],
   "source": [
    "type(test4())"
   ]
  },
  {
   "cell_type": "code",
   "execution_count": 27,
   "id": "005d1bee",
   "metadata": {},
   "outputs": [],
   "source": [
    "# We can store it in a variable\n",
    "\n",
    "b = test4()"
   ]
  },
  {
   "cell_type": "code",
   "execution_count": 28,
   "id": "0ac7ce28",
   "metadata": {},
   "outputs": [
    {
     "data": {
      "text/plain": [
       "(3, 4, 'rik', [11, 55, 66])"
      ]
     },
     "execution_count": 28,
     "metadata": {},
     "output_type": "execute_result"
    }
   ],
   "source": [
    "b"
   ]
  },
  {
   "cell_type": "code",
   "execution_count": 29,
   "id": "20cf0dc8",
   "metadata": {},
   "outputs": [
    {
     "data": {
      "text/plain": [
       "4"
      ]
     },
     "execution_count": 29,
     "metadata": {},
     "output_type": "execute_result"
    }
   ],
   "source": [
    "b[1]"
   ]
  },
  {
   "cell_type": "code",
   "execution_count": 30,
   "id": "b5f8f81f",
   "metadata": {},
   "outputs": [
    {
     "data": {
      "text/plain": [
       "11"
      ]
     },
     "execution_count": 30,
     "metadata": {},
     "output_type": "execute_result"
    }
   ],
   "source": [
    "b[3][0]"
   ]
  },
  {
   "cell_type": "code",
   "execution_count": 31,
   "id": "db4fbe1e",
   "metadata": {},
   "outputs": [
    {
     "data": {
      "text/plain": [
       "(3, 4, 'rik', [11, 55, 66])"
      ]
     },
     "execution_count": 31,
     "metadata": {},
     "output_type": "execute_result"
    }
   ],
   "source": [
    "test4()"
   ]
  },
  {
   "cell_type": "code",
   "execution_count": 32,
   "id": "ead69234",
   "metadata": {},
   "outputs": [],
   "source": [
    "A,B,C,D = test4()"
   ]
  },
  {
   "cell_type": "code",
   "execution_count": 33,
   "id": "d55e733e",
   "metadata": {},
   "outputs": [
    {
     "data": {
      "text/plain": [
       "3"
      ]
     },
     "execution_count": 33,
     "metadata": {},
     "output_type": "execute_result"
    }
   ],
   "source": [
    "A"
   ]
  },
  {
   "cell_type": "code",
   "execution_count": 34,
   "id": "c7ba03e7",
   "metadata": {},
   "outputs": [
    {
     "data": {
      "text/plain": [
       "4"
      ]
     },
     "execution_count": 34,
     "metadata": {},
     "output_type": "execute_result"
    }
   ],
   "source": [
    "B"
   ]
  },
  {
   "cell_type": "code",
   "execution_count": 35,
   "id": "e4d1f802",
   "metadata": {},
   "outputs": [
    {
     "data": {
      "text/plain": [
       "'rik'"
      ]
     },
     "execution_count": 35,
     "metadata": {},
     "output_type": "execute_result"
    }
   ],
   "source": [
    "C"
   ]
  },
  {
   "cell_type": "code",
   "execution_count": 36,
   "id": "d09ebd40",
   "metadata": {},
   "outputs": [
    {
     "data": {
      "text/plain": [
       "[11, 55, 66]"
      ]
     },
     "execution_count": 36,
     "metadata": {},
     "output_type": "execute_result"
    }
   ],
   "source": [
    "D"
   ]
  },
  {
   "cell_type": "code",
   "execution_count": 37,
   "id": "c21107c0",
   "metadata": {},
   "outputs": [],
   "source": [
    "def test5():\n",
    "    a = 6*7/6\n",
    "    return a "
   ]
  },
  {
   "cell_type": "code",
   "execution_count": 38,
   "id": "01b729d5",
   "metadata": {},
   "outputs": [
    {
     "data": {
      "text/plain": [
       "7.0"
      ]
     },
     "execution_count": 38,
     "metadata": {},
     "output_type": "execute_result"
    }
   ],
   "source": [
    "test5()"
   ]
  },
  {
   "cell_type": "code",
   "execution_count": 1,
   "id": "14b2efb2",
   "metadata": {},
   "outputs": [],
   "source": [
    "l = [1,2,3,4,5,88, \"Rik\", [44,55,978]]"
   ]
  },
  {
   "cell_type": "code",
   "execution_count": 2,
   "id": "e1edd027",
   "metadata": {},
   "outputs": [],
   "source": [
    "def test6(a):\n",
    "    if type(a) == list:\n",
    "        n = []\n",
    "        for i in a:\n",
    "            if type(i) == int:\n",
    "                n.append(i)\n",
    "    return n       "
   ]
  },
  {
   "cell_type": "code",
   "execution_count": 3,
   "id": "217336ae",
   "metadata": {},
   "outputs": [
    {
     "data": {
      "text/plain": [
       "[1, 2, 3, 4, 5, 88]"
      ]
     },
     "execution_count": 3,
     "metadata": {},
     "output_type": "execute_result"
    }
   ],
   "source": [
    "test6(l)"
   ]
  },
  {
   "cell_type": "code",
   "execution_count": 4,
   "id": "43c57830",
   "metadata": {},
   "outputs": [],
   "source": [
    "mm = \"STRING\""
   ]
  },
  {
   "cell_type": "code",
   "execution_count": 5,
   "id": "6e828fff",
   "metadata": {},
   "outputs": [
    {
     "ename": "UnboundLocalError",
     "evalue": "local variable 'n' referenced before assignment",
     "output_type": "error",
     "traceback": [
      "\u001b[1;31m---------------------------------------------------------------------------\u001b[0m",
      "\u001b[1;31mUnboundLocalError\u001b[0m                         Traceback (most recent call last)",
      "Input \u001b[1;32mIn [5]\u001b[0m, in \u001b[0;36m<cell line: 1>\u001b[1;34m()\u001b[0m\n\u001b[1;32m----> 1\u001b[0m \u001b[43mtest6\u001b[49m\u001b[43m(\u001b[49m\u001b[43mmm\u001b[49m\u001b[43m)\u001b[49m\n",
      "Input \u001b[1;32mIn [2]\u001b[0m, in \u001b[0;36mtest6\u001b[1;34m(a)\u001b[0m\n\u001b[0;32m      5\u001b[0m         \u001b[38;5;28;01mif\u001b[39;00m \u001b[38;5;28mtype\u001b[39m(i) \u001b[38;5;241m==\u001b[39m \u001b[38;5;28mint\u001b[39m:\n\u001b[0;32m      6\u001b[0m             n\u001b[38;5;241m.\u001b[39mappend(i)\n\u001b[1;32m----> 7\u001b[0m \u001b[38;5;28;01mreturn\u001b[39;00m \u001b[43mn\u001b[49m\n",
      "\u001b[1;31mUnboundLocalError\u001b[0m: local variable 'n' referenced before assignment"
     ]
    }
   ],
   "source": [
    "test6(mm)"
   ]
  },
  {
   "cell_type": "code",
   "execution_count": 7,
   "id": "7efb128b",
   "metadata": {},
   "outputs": [
    {
     "data": {
      "text/plain": [
       "[45, 1, 2, 556]"
      ]
     },
     "execution_count": 7,
     "metadata": {},
     "output_type": "execute_result"
    }
   ],
   "source": [
    "test6([45,1,2,556, \"hello\"])"
   ]
  },
  {
   "cell_type": "code",
   "execution_count": 12,
   "id": "cf257d6c",
   "metadata": {},
   "outputs": [],
   "source": [
    "def test7(c):\n",
    "    if type(c) == dict:\n",
    "        return c.keys()\n",
    "    else:\n",
    "        return \"You have not passed a dictionary\""
   ]
  },
  {
   "cell_type": "code",
   "execution_count": 13,
   "id": "3ab3d281",
   "metadata": {},
   "outputs": [],
   "source": [
    "di = {\"A\" : \"hello\",\n",
    "     \"B\" : \"Hi\",\n",
    "     \"C\": \"Hola\"}"
   ]
  },
  {
   "cell_type": "code",
   "execution_count": 14,
   "id": "0f7d17f8",
   "metadata": {},
   "outputs": [
    {
     "data": {
      "text/plain": [
       "dict_keys(['A', 'B', 'C'])"
      ]
     },
     "execution_count": 14,
     "metadata": {},
     "output_type": "execute_result"
    }
   ],
   "source": [
    "test7(di)"
   ]
  },
  {
   "cell_type": "code",
   "execution_count": 15,
   "id": "8ef9cec9",
   "metadata": {},
   "outputs": [
    {
     "data": {
      "text/plain": [
       "'You have not passed a dictionary'"
      ]
     },
     "execution_count": 15,
     "metadata": {},
     "output_type": "execute_result"
    }
   ],
   "source": [
    "test7(\"hkhkhhk\")"
   ]
  },
  {
   "cell_type": "code",
   "execution_count": 28,
   "id": "b4359224",
   "metadata": {},
   "outputs": [],
   "source": [
    "def test8(l1, l2):\n",
    "    if type(l1)== list and type(l2) == list:\n",
    "        l1.extend(l2)\n",
    "        return l1\n",
    "    else:\n",
    "        return \"You have not passed lists\"\n",
    "    "
   ]
  },
  {
   "cell_type": "code",
   "execution_count": 29,
   "id": "7a5165b0",
   "metadata": {},
   "outputs": [],
   "source": [
    "LL = [1,2,3,4,5,6]\n",
    "ll = [100,99,98,97,96,95]"
   ]
  },
  {
   "cell_type": "code",
   "execution_count": 30,
   "id": "d99ca74d",
   "metadata": {},
   "outputs": [
    {
     "data": {
      "text/plain": [
       "[1, 2, 3, 4, 5, 6, 100, 99, 98, 97, 96, 95]"
      ]
     },
     "execution_count": 30,
     "metadata": {},
     "output_type": "execute_result"
    }
   ],
   "source": [
    "test8(LL,ll)"
   ]
  },
  {
   "cell_type": "code",
   "execution_count": 48,
   "id": "ae469917",
   "metadata": {},
   "outputs": [],
   "source": [
    "def test9(n):\n",
    "    \"\"\" This is a function to print star triangle pattern.\"\"\"\n",
    "    # outer loop to handle number of rows\n",
    "    # n in this case\n",
    "    for i in range(0, n):\n",
    "     \n",
    "    # inner loop to handle number of columns\n",
    "    # values changing acc. to outer loop\n",
    "        for j in range(0, i+1):\n",
    "         \n",
    "            # printing stars\n",
    "            print(\"* \",end=\"\")\n",
    "      \n",
    "        # ending line after each row\n",
    "        print(\"\\r\")\n",
    " \n"
   ]
  },
  {
   "cell_type": "code",
   "execution_count": 49,
   "id": "fe2964f8",
   "metadata": {},
   "outputs": [
    {
     "name": "stdout",
     "output_type": "stream",
     "text": [
      "* \r\n",
      "* * \r\n",
      "* * * \r\n",
      "* * * * \r\n",
      "* * * * * \r\n"
     ]
    }
   ],
   "source": [
    "test9(5)"
   ]
  },
  {
   "cell_type": "code",
   "execution_count": 50,
   "id": "0535ba4b",
   "metadata": {},
   "outputs": [
    {
     "name": "stdout",
     "output_type": "stream",
     "text": [
      "Help on function test9 in module __main__:\n",
      "\n",
      "test9(n)\n",
      "    This is a function to print star triangle pattern.\n",
      "\n"
     ]
    }
   ],
   "source": [
    "  help(test9)"
   ]
  },
  {
   "cell_type": "code",
   "execution_count": null,
   "id": "5b319ed3",
   "metadata": {},
   "outputs": [],
   "source": []
  }
 ],
 "metadata": {
  "kernelspec": {
   "display_name": "Python 3 (ipykernel)",
   "language": "python",
   "name": "python3"
  },
  "language_info": {
   "codemirror_mode": {
    "name": "ipython",
    "version": 3
   },
   "file_extension": ".py",
   "mimetype": "text/x-python",
   "name": "python",
   "nbconvert_exporter": "python",
   "pygments_lexer": "ipython3",
   "version": "3.9.13"
  }
 },
 "nbformat": 4,
 "nbformat_minor": 5
}
