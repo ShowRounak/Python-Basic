{
 "cells": [
  {
   "cell_type": "code",
   "execution_count": 1,
   "id": "2e581a03",
   "metadata": {},
   "outputs": [],
   "source": [
    "def test(a,b,c,d,e):\n",
    "    return a,b,c,d,e"
   ]
  },
  {
   "cell_type": "code",
   "execution_count": 2,
   "id": "383d44c6",
   "metadata": {},
   "outputs": [
    {
     "data": {
      "text/plain": [
       "(1, 2, 3, 4, 5)"
      ]
     },
     "execution_count": 2,
     "metadata": {},
     "output_type": "execute_result"
    }
   ],
   "source": [
    "test(1,2,3,4,5)"
   ]
  },
  {
   "cell_type": "code",
   "execution_count": 3,
   "id": "0f34caf8",
   "metadata": {},
   "outputs": [],
   "source": [
    "def test1(*args):# * means any number of arguments you can pass\n",
    "    return args"
   ]
  },
  {
   "cell_type": "code",
   "execution_count": 4,
   "id": "9aec3b2b",
   "metadata": {},
   "outputs": [
    {
     "data": {
      "text/plain": [
       "(1, 2, 4, 5, 88, 78, 87, 6, 6, 54)"
      ]
     },
     "execution_count": 4,
     "metadata": {},
     "output_type": "execute_result"
    }
   ],
   "source": [
    "test1(1,2,4,5,88,78,87,6,6,54)"
   ]
  },
  {
   "cell_type": "code",
   "execution_count": 5,
   "id": "7bd06b1c",
   "metadata": {},
   "outputs": [
    {
     "data": {
      "text/plain": [
       "(100, 200)"
      ]
     },
     "execution_count": 5,
     "metadata": {},
     "output_type": "execute_result"
    }
   ],
   "source": [
    "test1(100,200)"
   ]
  },
  {
   "cell_type": "code",
   "execution_count": 6,
   "id": "b965fe17",
   "metadata": {},
   "outputs": [
    {
     "data": {
      "text/plain": [
       "([12, 12, 3, 4, 6], 'hello', (9, 8, 7, 4, 56))"
      ]
     },
     "execution_count": 6,
     "metadata": {},
     "output_type": "execute_result"
    }
   ],
   "source": [
    "test1([12,12,3,4,6], \"hello\", (9,8,7,4,56))"
   ]
  },
  {
   "cell_type": "code",
   "execution_count": 12,
   "id": "9a7fd776",
   "metadata": {},
   "outputs": [],
   "source": [
    "def test2(*name): \n",
    "    # It doesnot necessary to write args,\n",
    "    # we can write any word, name, variable name, etc.\n",
    "    #args is not a reserved keyword\n",
    "    # we just have to add * \n",
    "    return name"
   ]
  },
  {
   "cell_type": "code",
   "execution_count": 10,
   "id": "6cdc28e5",
   "metadata": {},
   "outputs": [
    {
     "data": {
      "text/plain": [
       "('rounak', 'sudh', 'nandi', 'rudra')"
      ]
     },
     "execution_count": 10,
     "metadata": {},
     "output_type": "execute_result"
    }
   ],
   "source": [
    "test2(\"rounak\", \"sudh\", \"nandi\",\"rudra\")"
   ]
  },
  {
   "cell_type": "code",
   "execution_count": 13,
   "id": "dcf18742",
   "metadata": {},
   "outputs": [],
   "source": [
    "def test3(*name, a):\n",
    "    return name, a"
   ]
  },
  {
   "cell_type": "code",
   "execution_count": 17,
   "id": "436c9dc8",
   "metadata": {},
   "outputs": [
    {
     "ename": "TypeError",
     "evalue": "test3() missing 1 required keyword-only argument: 'a'",
     "output_type": "error",
     "traceback": [
      "\u001b[1;31m---------------------------------------------------------------------------\u001b[0m",
      "\u001b[1;31mTypeError\u001b[0m                                 Traceback (most recent call last)",
      "Input \u001b[1;32mIn [17]\u001b[0m, in \u001b[0;36m<cell line: 1>\u001b[1;34m()\u001b[0m\n\u001b[1;32m----> 1\u001b[0m \u001b[43mtest3\u001b[49m\u001b[43m(\u001b[49m\u001b[38;5;241;43m1\u001b[39;49m\u001b[43m,\u001b[49m\u001b[38;5;241;43m2\u001b[39;49m\u001b[43m,\u001b[49m\u001b[38;5;241;43m3\u001b[39;49m\u001b[43m)\u001b[49m\n",
      "\u001b[1;31mTypeError\u001b[0m: test3() missing 1 required keyword-only argument: 'a'"
     ]
    }
   ],
   "source": [
    "test3(1,2,3)"
   ]
  },
  {
   "cell_type": "code",
   "execution_count": 19,
   "id": "ba06f7fe",
   "metadata": {},
   "outputs": [
    {
     "data": {
      "text/plain": [
       "((1, 2, 45, 55), 100)"
      ]
     },
     "execution_count": 19,
     "metadata": {},
     "output_type": "execute_result"
    }
   ],
   "source": [
    "test3(1,2,45,55, a = 100)"
   ]
  },
  {
   "cell_type": "code",
   "execution_count": 20,
   "id": "e6b22f29",
   "metadata": {},
   "outputs": [],
   "source": [
    "def test4(*name, a,b,c,d):\n",
    "    return name, a,b,c,d"
   ]
  },
  {
   "cell_type": "code",
   "execution_count": 21,
   "id": "59c28129",
   "metadata": {},
   "outputs": [
    {
     "data": {
      "text/plain": [
       "((325, 9, 44, 64, 8), 55, 88, 100, 89)"
      ]
     },
     "execution_count": 21,
     "metadata": {},
     "output_type": "execute_result"
    }
   ],
   "source": [
    "test4(325,9,44,64,8, a = 55, b = 88, c= 100, d= 89)"
   ]
  },
  {
   "cell_type": "code",
   "execution_count": 31,
   "id": "45604fa0",
   "metadata": {},
   "outputs": [],
   "source": [
    "def test3(a, *name):\n",
    "    return a, name"
   ]
  },
  {
   "cell_type": "code",
   "execution_count": 32,
   "id": "493322e1",
   "metadata": {},
   "outputs": [
    {
     "ename": "SyntaxError",
     "evalue": "positional argument follows keyword argument (2279359921.py, line 1)",
     "output_type": "error",
     "traceback": [
      "\u001b[1;36m  Input \u001b[1;32mIn [32]\u001b[1;36m\u001b[0m\n\u001b[1;33m    test3(a = \"hello\", \"world\", \"welcome\")\u001b[0m\n\u001b[1;37m                                         ^\u001b[0m\n\u001b[1;31mSyntaxError\u001b[0m\u001b[1;31m:\u001b[0m positional argument follows keyword argument\n"
     ]
    }
   ],
   "source": [
    "test3(a = \"hello\", \"world\", \"welcome\")"
   ]
  },
  {
   "cell_type": "code",
   "execution_count": 33,
   "id": "316218e2",
   "metadata": {},
   "outputs": [
    {
     "ename": "TypeError",
     "evalue": "test3() got multiple values for argument 'a'",
     "output_type": "error",
     "traceback": [
      "\u001b[1;31m---------------------------------------------------------------------------\u001b[0m",
      "\u001b[1;31mTypeError\u001b[0m                                 Traceback (most recent call last)",
      "Input \u001b[1;32mIn [33]\u001b[0m, in \u001b[0;36m<cell line: 1>\u001b[1;34m()\u001b[0m\n\u001b[1;32m----> 1\u001b[0m \u001b[43mtest3\u001b[49m\u001b[43m(\u001b[49m\u001b[38;5;124;43m\"\u001b[39;49m\u001b[38;5;124;43mworld\u001b[39;49m\u001b[38;5;124;43m\"\u001b[39;49m\u001b[43m,\u001b[49m\u001b[43m \u001b[49m\u001b[38;5;124;43m\"\u001b[39;49m\u001b[38;5;124;43mwelcome\u001b[39;49m\u001b[38;5;124;43m\"\u001b[39;49m\u001b[43m,\u001b[49m\u001b[43m \u001b[49m\u001b[43ma\u001b[49m\u001b[43m \u001b[49m\u001b[38;5;241;43m=\u001b[39;49m\u001b[43m \u001b[49m\u001b[38;5;124;43m\"\u001b[39;49m\u001b[38;5;124;43mhello\u001b[39;49m\u001b[38;5;124;43m\"\u001b[39;49m\u001b[43m)\u001b[49m\n",
      "\u001b[1;31mTypeError\u001b[0m: test3() got multiple values for argument 'a'"
     ]
    }
   ],
   "source": [
    "test3(\"world\", \"welcome\", a = \"hello\")"
   ]
  },
  {
   "cell_type": "code",
   "execution_count": 34,
   "id": "34e3c781",
   "metadata": {},
   "outputs": [
    {
     "data": {
      "text/plain": [
       "('world', ('welcome', 'hello'))"
      ]
     },
     "execution_count": 34,
     "metadata": {},
     "output_type": "execute_result"
    }
   ],
   "source": [
    "test3(\"world\", \"welcome\",\"hello\")"
   ]
  },
  {
   "cell_type": "code",
   "execution_count": 37,
   "id": "db04efab",
   "metadata": {},
   "outputs": [
    {
     "data": {
      "text/plain": [
       "('hello', ('world', 'welcome'))"
      ]
     },
     "execution_count": 37,
     "metadata": {},
     "output_type": "execute_result"
    }
   ],
   "source": [
    "test3(\"hello\", \"world\", \"welcome\")"
   ]
  },
  {
   "cell_type": "code",
   "execution_count": 38,
   "id": "e77f0df9",
   "metadata": {},
   "outputs": [],
   "source": [
    "def test5(a, *name, b, c):\n",
    "    return a , name, b, c"
   ]
  },
  {
   "cell_type": "code",
   "execution_count": 41,
   "id": "19405543",
   "metadata": {},
   "outputs": [
    {
     "data": {
      "text/plain": [
       "('sfds', ([1, 3, 4, 6, 5], 23, 'YOLO', 4, 6, 5), 9, 8)"
      ]
     },
     "execution_count": 41,
     "metadata": {},
     "output_type": "execute_result"
    }
   ],
   "source": [
    "test5(\"sfds\", [1,3,4,6,5], 23,\"YOLO\",4,6,5, b = 9, c = 8)"
   ]
  },
  {
   "cell_type": "code",
   "execution_count": 46,
   "id": "5e62dba8",
   "metadata": {},
   "outputs": [],
   "source": [
    "def test6(*args):\n",
    "    for i in args:\n",
    "        if type(i) == list:\n",
    "            a= print(i)\n",
    "    return a\n",
    "        "
   ]
  },
  {
   "cell_type": "code",
   "execution_count": 47,
   "id": "f58e9835",
   "metadata": {},
   "outputs": [
    {
     "name": "stdout",
     "output_type": "stream",
     "text": [
      "[1, 3, 4, 6, 5]\n"
     ]
    }
   ],
   "source": [
    "test6(\"sfds\", [1,3,4,6,5], 23,\"YOLO\",4,6,5)"
   ]
  },
  {
   "cell_type": "code",
   "execution_count": 48,
   "id": "60cdfc31",
   "metadata": {},
   "outputs": [
    {
     "name": "stdout",
     "output_type": "stream",
     "text": [
      "[1, 3, 4, 6, 5]\n",
      "[1, 2, 388, 9, 4, 5, 6]\n"
     ]
    }
   ],
   "source": [
    "test6(\"sfds\", [1,3,4,6,5], 23,\"YOLO\",4,6,5, [1,2,388,9,4,5,6])"
   ]
  },
  {
   "cell_type": "code",
   "execution_count": 49,
   "id": "209c40c0",
   "metadata": {},
   "outputs": [],
   "source": [
    "def test6(*args):\n",
    "    l =[]\n",
    "    for i in args:\n",
    "        if type(i) == list:\n",
    "            l.append(i)\n",
    "    return l"
   ]
  },
  {
   "cell_type": "code",
   "execution_count": 50,
   "id": "0e09c3e8",
   "metadata": {},
   "outputs": [
    {
     "data": {
      "text/plain": [
       "[[1, 3, 4, 6, 5], [1, 2, 388, 9, 4, 5, 6]]"
      ]
     },
     "execution_count": 50,
     "metadata": {},
     "output_type": "execute_result"
    }
   ],
   "source": [
    "test6(\"sfds\", [1,3,4,6,5], 23,\"YOLO\",4,6,5, [1,2,388,9,4,5,6])"
   ]
  },
  {
   "cell_type": "code",
   "execution_count": 51,
   "id": "febf328d",
   "metadata": {},
   "outputs": [],
   "source": [
    "d = {\"a\" : [1,2,3,4], \"b\": \"Hello\"}"
   ]
  },
  {
   "cell_type": "code",
   "execution_count": 52,
   "id": "9fe536ee",
   "metadata": {},
   "outputs": [
    {
     "data": {
      "text/plain": [
       "{'a': [1, 2, 3, 4], 'b': 'Hello'}"
      ]
     },
     "execution_count": 52,
     "metadata": {},
     "output_type": "execute_result"
    }
   ],
   "source": [
    "d"
   ]
  },
  {
   "cell_type": "code",
   "execution_count": 53,
   "id": "b169c5b3",
   "metadata": {},
   "outputs": [],
   "source": [
    "#** means keyword-arguments; key-value pair\n",
    "def test7(**kwargs):\n",
    "    return kwargs"
   ]
  },
  {
   "cell_type": "code",
   "execution_count": 54,
   "id": "3bf3d7b9",
   "metadata": {},
   "outputs": [
    {
     "ename": "TypeError",
     "evalue": "test7() takes 0 positional arguments but 8 were given",
     "output_type": "error",
     "traceback": [
      "\u001b[1;31m---------------------------------------------------------------------------\u001b[0m",
      "\u001b[1;31mTypeError\u001b[0m                                 Traceback (most recent call last)",
      "Input \u001b[1;32mIn [54]\u001b[0m, in \u001b[0;36m<cell line: 1>\u001b[1;34m()\u001b[0m\n\u001b[1;32m----> 1\u001b[0m \u001b[43mtest7\u001b[49m\u001b[43m(\u001b[49m\u001b[38;5;241;43m4\u001b[39;49m\u001b[43m,\u001b[49m\u001b[38;5;241;43m54\u001b[39;49m\u001b[43m,\u001b[49m\u001b[38;5;241;43m6\u001b[39;49m\u001b[43m,\u001b[49m\u001b[38;5;241;43m7\u001b[39;49m\u001b[43m,\u001b[49m\u001b[38;5;241;43m54\u001b[39;49m\u001b[43m,\u001b[49m\u001b[38;5;241;43m3\u001b[39;49m\u001b[43m,\u001b[49m\u001b[38;5;241;43m5\u001b[39;49m\u001b[43m,\u001b[49m\u001b[38;5;241;43m5\u001b[39;49m\u001b[43m)\u001b[49m\n",
      "\u001b[1;31mTypeError\u001b[0m: test7() takes 0 positional arguments but 8 were given"
     ]
    }
   ],
   "source": [
    "test7(4,54,6,7,54,3,5,5)"
   ]
  },
  {
   "cell_type": "code",
   "execution_count": 56,
   "id": "64a3e022",
   "metadata": {},
   "outputs": [
    {
     "data": {
      "text/plain": [
       "{'a': 345, 'b': 4566, 'c': 'hello'}"
      ]
     },
     "execution_count": 56,
     "metadata": {},
     "output_type": "execute_result"
    }
   ],
   "source": [
    "test7(a = 345, b = 4566, c= \"hello\") #key-value pair and returns a dictionary"
   ]
  },
  {
   "cell_type": "code",
   "execution_count": 57,
   "id": "ec28d237",
   "metadata": {},
   "outputs": [],
   "source": [
    "def test8(**name):\n",
    "    return name"
   ]
  },
  {
   "cell_type": "code",
   "execution_count": 58,
   "id": "b65ca540",
   "metadata": {},
   "outputs": [
    {
     "data": {
      "text/plain": [
       "{'A': 'hello', 'B': [12, 3, 4, 6], 'C': (100+3j)}"
      ]
     },
     "execution_count": 58,
     "metadata": {},
     "output_type": "execute_result"
    }
   ],
   "source": [
    "test8(A = \"hello\", B = [12,3,4,6], C = 100+3j)"
   ]
  },
  {
   "cell_type": "markdown",
   "id": "800bd7f5",
   "metadata": {},
   "source": [
    "you can not pass number as a key in this process"
   ]
  },
  {
   "cell_type": "code",
   "execution_count": 59,
   "id": "4bfcb8c3",
   "metadata": {},
   "outputs": [
    {
     "ename": "SyntaxError",
     "evalue": "expression cannot contain assignment, perhaps you meant \"==\"? (1313476806.py, line 1)",
     "output_type": "error",
     "traceback": [
      "\u001b[1;36m  Input \u001b[1;32mIn [59]\u001b[1;36m\u001b[0m\n\u001b[1;33m    test8(1 = \"hello\")\u001b[0m\n\u001b[1;37m          ^\u001b[0m\n\u001b[1;31mSyntaxError\u001b[0m\u001b[1;31m:\u001b[0m expression cannot contain assignment, perhaps you meant \"==\"?\n"
     ]
    }
   ],
   "source": [
    "test8(1 = \"hello\")"
   ]
  },
  {
   "cell_type": "code",
   "execution_count": 60,
   "id": "8fd3256f",
   "metadata": {},
   "outputs": [],
   "source": [
    "def test9(**name):\n",
    "    return name"
   ]
  },
  {
   "cell_type": "code",
   "execution_count": 61,
   "id": "67b0a45f",
   "metadata": {},
   "outputs": [
    {
     "data": {
      "text/plain": [
       "{'name': 'Rounak',\n",
       " 'age': 21,\n",
       " 'phone_numner': 9875561533,\n",
       " 'mail_id': 'rikbale@gmail.com'}"
      ]
     },
     "execution_count": 61,
     "metadata": {},
     "output_type": "execute_result"
    }
   ],
   "source": [
    "test9(name = \"Rounak\", age = 21, phone_numner = 9875561533, mail_id = \"rikbale@gmail.com\")"
   ]
  },
  {
   "cell_type": "code",
   "execution_count": 62,
   "id": "7ec79189",
   "metadata": {},
   "outputs": [],
   "source": [
    "def test10(a, **name):\n",
    "    return name, a"
   ]
  },
  {
   "cell_type": "code",
   "execution_count": 64,
   "id": "6a906b17",
   "metadata": {},
   "outputs": [
    {
     "data": {
      "text/plain": [
       "({'A': 'hello', 'B': [12, 3, 4, 6], 'C': (100+3j)}, 1000)"
      ]
     },
     "execution_count": 64,
     "metadata": {},
     "output_type": "execute_result"
    }
   ],
   "source": [
    "test10(1000, A = \"hello\", B = [12,3,4,6], C = 100+3j)"
   ]
  },
  {
   "cell_type": "code",
   "execution_count": 65,
   "id": "a663038a",
   "metadata": {},
   "outputs": [
    {
     "ename": "SyntaxError",
     "evalue": "invalid syntax (3704341839.py, line 1)",
     "output_type": "error",
     "traceback": [
      "\u001b[1;36m  Input \u001b[1;32mIn [65]\u001b[1;36m\u001b[0m\n\u001b[1;33m    def test11(a, **kwargs, *args):\u001b[0m\n\u001b[1;37m                            ^\u001b[0m\n\u001b[1;31mSyntaxError\u001b[0m\u001b[1;31m:\u001b[0m invalid syntax\n"
     ]
    }
   ],
   "source": [
    "def test11(a, **kwargs, *args):\n",
    "    return name, a"
   ]
  },
  {
   "cell_type": "code",
   "execution_count": 66,
   "id": "6760824e",
   "metadata": {},
   "outputs": [],
   "source": [
    "def test12(a, *args, **kwargs):\n",
    "    return a, args, kwargs"
   ]
  },
  {
   "cell_type": "code",
   "execution_count": 67,
   "id": "edb994d2",
   "metadata": {},
   "outputs": [
    {
     "data": {
      "text/plain": [
       "(1001, (1, 5, 5, 6, 3, 101), {'name': 'rik', 'mail_id': 'rikbale@gmail.com'})"
      ]
     },
     "execution_count": 67,
     "metadata": {},
     "output_type": "execute_result"
    }
   ],
   "source": [
    "test12(1001, 1,5,5,6,3,101, name = \"rik\", mail_id = \"rikbale@gmail.com\")"
   ]
  },
  {
   "cell_type": "markdown",
   "id": "df7dcf07",
   "metadata": {},
   "source": [
    "### Function without a name\n",
    "\n",
    "### Anonymous Function"
   ]
  },
  {
   "cell_type": "markdown",
   "id": "87114541",
   "metadata": {},
   "source": [
    "## Lambda function"
   ]
  },
  {
   "cell_type": "code",
   "execution_count": 68,
   "id": "92bba1bb",
   "metadata": {},
   "outputs": [],
   "source": [
    "def test13(a,b):\n",
    "    return a*b"
   ]
  },
  {
   "cell_type": "code",
   "execution_count": 69,
   "id": "e040a917",
   "metadata": {},
   "outputs": [
    {
     "data": {
      "text/plain": [
       "27"
      ]
     },
     "execution_count": 69,
     "metadata": {},
     "output_type": "execute_result"
    }
   ],
   "source": [
    "test13(9,3)"
   ]
  },
  {
   "cell_type": "code",
   "execution_count": 70,
   "id": "f56b6850",
   "metadata": {},
   "outputs": [
    {
     "data": {
      "text/plain": [
       "<function __main__.<lambda>(a, b)>"
      ]
     },
     "execution_count": 70,
     "metadata": {},
     "output_type": "execute_result"
    }
   ],
   "source": [
    "lambda a, b: a*b"
   ]
  },
  {
   "cell_type": "code",
   "execution_count": 71,
   "id": "b0820653",
   "metadata": {},
   "outputs": [],
   "source": [
    "x = lambda a, b: a*b"
   ]
  },
  {
   "cell_type": "code",
   "execution_count": 72,
   "id": "12e4a110",
   "metadata": {},
   "outputs": [
    {
     "data": {
      "text/plain": [
       "27"
      ]
     },
     "execution_count": 72,
     "metadata": {},
     "output_type": "execute_result"
    }
   ],
   "source": [
    "x(9,3)"
   ]
  },
  {
   "cell_type": "code",
   "execution_count": 73,
   "id": "a31a6b1a",
   "metadata": {},
   "outputs": [
    {
     "data": {
      "text/plain": [
       "88"
      ]
     },
     "execution_count": 73,
     "metadata": {},
     "output_type": "execute_result"
    }
   ],
   "source": [
    "x(22, 4)"
   ]
  },
  {
   "cell_type": "code",
   "execution_count": 74,
   "id": "81d8e5f2",
   "metadata": {},
   "outputs": [],
   "source": [
    "x = lambda a, b: (a*b , a+b)"
   ]
  },
  {
   "cell_type": "code",
   "execution_count": 75,
   "id": "54b6345a",
   "metadata": {},
   "outputs": [
    {
     "data": {
      "text/plain": [
       "(27, 12)"
      ]
     },
     "execution_count": 75,
     "metadata": {},
     "output_type": "execute_result"
    }
   ],
   "source": [
    "x(9,3)"
   ]
  },
  {
   "cell_type": "code",
   "execution_count": 76,
   "id": "0c2195bb",
   "metadata": {},
   "outputs": [],
   "source": [
    "x = lambda *a: a"
   ]
  },
  {
   "cell_type": "code",
   "execution_count": 77,
   "id": "a7cc8276",
   "metadata": {},
   "outputs": [
    {
     "data": {
      "text/plain": [
       "(2, 6, 5, 46, 54)"
      ]
     },
     "execution_count": 77,
     "metadata": {},
     "output_type": "execute_result"
    }
   ],
   "source": [
    "x(2,6,5,46,54)"
   ]
  },
  {
   "cell_type": "code",
   "execution_count": 78,
   "id": "e1fe315c",
   "metadata": {},
   "outputs": [],
   "source": [
    "x = lambda *a: a*a"
   ]
  },
  {
   "cell_type": "code",
   "execution_count": 79,
   "id": "11a99587",
   "metadata": {},
   "outputs": [
    {
     "ename": "TypeError",
     "evalue": "can't multiply sequence by non-int of type 'tuple'",
     "output_type": "error",
     "traceback": [
      "\u001b[1;31m---------------------------------------------------------------------------\u001b[0m",
      "\u001b[1;31mTypeError\u001b[0m                                 Traceback (most recent call last)",
      "Input \u001b[1;32mIn [79]\u001b[0m, in \u001b[0;36m<cell line: 1>\u001b[1;34m()\u001b[0m\n\u001b[1;32m----> 1\u001b[0m \u001b[43mx\u001b[49m\u001b[43m(\u001b[49m\u001b[38;5;241;43m2\u001b[39;49m\u001b[43m,\u001b[49m\u001b[38;5;241;43m6\u001b[39;49m\u001b[43m)\u001b[49m\n",
      "Input \u001b[1;32mIn [78]\u001b[0m, in \u001b[0;36m<lambda>\u001b[1;34m(*a)\u001b[0m\n\u001b[1;32m----> 1\u001b[0m x \u001b[38;5;241m=\u001b[39m \u001b[38;5;28;01mlambda\u001b[39;00m \u001b[38;5;241m*\u001b[39ma: \u001b[43ma\u001b[49m\u001b[38;5;241;43m*\u001b[39;49m\u001b[43ma\u001b[49m\n",
      "\u001b[1;31mTypeError\u001b[0m: can't multiply sequence by non-int of type 'tuple'"
     ]
    }
   ],
   "source": [
    "x(2,6)"
   ]
  },
  {
   "cell_type": "code",
   "execution_count": 92,
   "id": "8cea59d5",
   "metadata": {},
   "outputs": [],
   "source": [
    "x = lambda a: [i for i in a]"
   ]
  },
  {
   "cell_type": "code",
   "execution_count": 93,
   "id": "6d6e6f28",
   "metadata": {},
   "outputs": [
    {
     "data": {
      "text/plain": [
       "[1, 23, 88, 4, 6, 5]"
      ]
     },
     "execution_count": 93,
     "metadata": {},
     "output_type": "execute_result"
    }
   ],
   "source": [
    "x([1,23,88,4,6,5])"
   ]
  },
  {
   "cell_type": "code",
   "execution_count": 94,
   "id": "10d62536",
   "metadata": {},
   "outputs": [
    {
     "ename": "TypeError",
     "evalue": "'int' object is not iterable",
     "output_type": "error",
     "traceback": [
      "\u001b[1;31m---------------------------------------------------------------------------\u001b[0m",
      "\u001b[1;31mTypeError\u001b[0m                                 Traceback (most recent call last)",
      "Input \u001b[1;32mIn [94]\u001b[0m, in \u001b[0;36m<cell line: 1>\u001b[1;34m()\u001b[0m\n\u001b[1;32m----> 1\u001b[0m \u001b[43mx\u001b[49m\u001b[43m(\u001b[49m\u001b[38;5;241;43m45\u001b[39;49m\u001b[43m)\u001b[49m\n",
      "Input \u001b[1;32mIn [92]\u001b[0m, in \u001b[0;36m<lambda>\u001b[1;34m(a)\u001b[0m\n\u001b[1;32m----> 1\u001b[0m x \u001b[38;5;241m=\u001b[39m \u001b[38;5;28;01mlambda\u001b[39;00m a: [i \u001b[38;5;28;01mfor\u001b[39;00m i \u001b[38;5;129;01min\u001b[39;00m a]\n",
      "\u001b[1;31mTypeError\u001b[0m: 'int' object is not iterable"
     ]
    }
   ],
   "source": [
    "x(45)"
   ]
  },
  {
   "cell_type": "code",
   "execution_count": 95,
   "id": "2dc1c8da",
   "metadata": {},
   "outputs": [],
   "source": [
    "a = lambda **kwargs: kwargs"
   ]
  },
  {
   "cell_type": "code",
   "execution_count": 96,
   "id": "5c321ccc",
   "metadata": {
    "scrolled": true
   },
   "outputs": [
    {
     "data": {
      "text/plain": [
       "{'A': 'hello', 'B': 'World', 'C': 'Ubisoft'}"
      ]
     },
     "execution_count": 96,
     "metadata": {},
     "output_type": "execute_result"
    }
   ],
   "source": [
    "a(A = \"hello\", B = \"World\", C = \"Ubisoft\")"
   ]
  },
  {
   "cell_type": "markdown",
   "id": "5efc610b",
   "metadata": {},
   "source": [
    "--------------"
   ]
  },
  {
   "cell_type": "code",
   "execution_count": 101,
   "id": "f3f0b9ac",
   "metadata": {},
   "outputs": [],
   "source": [
    "a = 10\n",
    "def test16(c, d):\n",
    "    return c*d"
   ]
  },
  {
   "cell_type": "code",
   "execution_count": 102,
   "id": "830c43bd",
   "metadata": {},
   "outputs": [
    {
     "data": {
      "text/plain": [
       "500"
      ]
     },
     "execution_count": 102,
     "metadata": {},
     "output_type": "execute_result"
    }
   ],
   "source": [
    "test16(a, 50)"
   ]
  },
  {
   "cell_type": "code",
   "execution_count": 105,
   "id": "44b2ad5e",
   "metadata": {},
   "outputs": [],
   "source": [
    "a = 10\n",
    "def test16(c, d):\n",
    "    a = 5\n",
    "    return c*d"
   ]
  },
  {
   "cell_type": "code",
   "execution_count": 106,
   "id": "f5c927da",
   "metadata": {},
   "outputs": [
    {
     "data": {
      "text/plain": [
       "500"
      ]
     },
     "execution_count": 106,
     "metadata": {},
     "output_type": "execute_result"
    }
   ],
   "source": [
    "test16(a, 50)"
   ]
  },
  {
   "cell_type": "code",
   "execution_count": 107,
   "id": "ece2b715",
   "metadata": {},
   "outputs": [],
   "source": [
    "a = 10\n",
    "def test16(c, d):\n",
    "    c = 5\n",
    "    return c*d"
   ]
  },
  {
   "cell_type": "code",
   "execution_count": 109,
   "id": "0fbc8d99",
   "metadata": {},
   "outputs": [
    {
     "data": {
      "text/plain": [
       "250"
      ]
     },
     "execution_count": 109,
     "metadata": {},
     "output_type": "execute_result"
    }
   ],
   "source": [
    "test16(10, 50)"
   ]
  },
  {
   "cell_type": "code",
   "execution_count": 111,
   "id": "2722e8a7",
   "metadata": {},
   "outputs": [],
   "source": [
    "c = 10\n",
    "def test16(c, d):\n",
    "    c = 5\n",
    "    return c*d"
   ]
  },
  {
   "cell_type": "code",
   "execution_count": 112,
   "id": "c769c2a3",
   "metadata": {},
   "outputs": [
    {
     "data": {
      "text/plain": [
       "250"
      ]
     },
     "execution_count": 112,
     "metadata": {},
     "output_type": "execute_result"
    }
   ],
   "source": [
    "test16(10, 50)"
   ]
  },
  {
   "cell_type": "code",
   "execution_count": 113,
   "id": "0b8dac0a",
   "metadata": {},
   "outputs": [
    {
     "data": {
      "text/plain": [
       "10"
      ]
     },
     "execution_count": 113,
     "metadata": {},
     "output_type": "execute_result"
    }
   ],
   "source": [
    "c"
   ]
  },
  {
   "cell_type": "code",
   "execution_count": 114,
   "id": "094c0bff",
   "metadata": {},
   "outputs": [],
   "source": [
    "l = [1,23,4,5,6,7,8]\n",
    "\n",
    "l1 = []\n",
    "for i in l:\n",
    "    l1.append(i+2)\n"
   ]
  },
  {
   "cell_type": "code",
   "execution_count": 115,
   "id": "52348c87",
   "metadata": {},
   "outputs": [
    {
     "data": {
      "text/plain": [
       "[3, 25, 6, 7, 8, 9, 10]"
      ]
     },
     "execution_count": 115,
     "metadata": {},
     "output_type": "execute_result"
    }
   ],
   "source": [
    "l1"
   ]
  },
  {
   "cell_type": "code",
   "execution_count": 117,
   "id": "22146c18",
   "metadata": {},
   "outputs": [],
   "source": [
    "def test17(a):\n",
    "    l2 = []\n",
    "    for i in a:\n",
    "        l2.append(i+2)\n",
    "    return l2"
   ]
  },
  {
   "cell_type": "code",
   "execution_count": 118,
   "id": "7ea59ebe",
   "metadata": {},
   "outputs": [
    {
     "data": {
      "text/plain": [
       "[3, 25, 6, 7, 8, 9, 10]"
      ]
     },
     "execution_count": 118,
     "metadata": {},
     "output_type": "execute_result"
    }
   ],
   "source": [
    "test17(l)"
   ]
  },
  {
   "cell_type": "code",
   "execution_count": 119,
   "id": "d2f8bb59",
   "metadata": {},
   "outputs": [],
   "source": [
    "x = lambda a: [i+2 for i in a]"
   ]
  },
  {
   "cell_type": "code",
   "execution_count": 120,
   "id": "41ceb336",
   "metadata": {},
   "outputs": [
    {
     "data": {
      "text/plain": [
       "[3, 25, 6, 7, 8, 9, 10]"
      ]
     },
     "execution_count": 120,
     "metadata": {},
     "output_type": "execute_result"
    }
   ],
   "source": [
    "x(l)"
   ]
  },
  {
   "cell_type": "code",
   "execution_count": 121,
   "id": "a75e7432",
   "metadata": {},
   "outputs": [],
   "source": [
    "l2 = [i+2 for i in l]"
   ]
  },
  {
   "cell_type": "code",
   "execution_count": 122,
   "id": "2b3c98bc",
   "metadata": {},
   "outputs": [
    {
     "data": {
      "text/plain": [
       "[3, 25, 6, 7, 8, 9, 10]"
      ]
     },
     "execution_count": 122,
     "metadata": {},
     "output_type": "execute_result"
    }
   ],
   "source": [
    "l2"
   ]
  },
  {
   "cell_type": "code",
   "execution_count": 124,
   "id": "3db4548a",
   "metadata": {},
   "outputs": [
    {
     "data": {
      "text/plain": [
       "[(1, 1), (16, 64), (25, 125), (36, 216), (49, 343)]"
      ]
     },
     "execution_count": 124,
     "metadata": {},
     "output_type": "execute_result"
    }
   ],
   "source": [
    "[(i**2, i**3) for i in l if i < 8]"
   ]
  },
  {
   "cell_type": "code",
   "execution_count": 125,
   "id": "b5c30c94",
   "metadata": {},
   "outputs": [],
   "source": [
    "d = {i: i**2 for i in range(10)}"
   ]
  },
  {
   "cell_type": "code",
   "execution_count": 126,
   "id": "484d919e",
   "metadata": {},
   "outputs": [
    {
     "data": {
      "text/plain": [
       "{0: 0, 1: 1, 2: 4, 3: 9, 4: 16, 5: 25, 6: 36, 7: 49, 8: 64, 9: 81}"
      ]
     },
     "execution_count": 126,
     "metadata": {},
     "output_type": "execute_result"
    }
   ],
   "source": [
    "d"
   ]
  },
  {
   "cell_type": "code",
   "execution_count": 129,
   "id": "97aedf23",
   "metadata": {},
   "outputs": [],
   "source": [
    "d1 ={}\n",
    "for i in range(10):\n",
    "    d1[i] = i**2"
   ]
  },
  {
   "cell_type": "code",
   "execution_count": 130,
   "id": "bcb98646",
   "metadata": {},
   "outputs": [
    {
     "data": {
      "text/plain": [
       "{0: 0, 1: 1, 2: 4, 3: 9, 4: 16, 5: 25, 6: 36, 7: 49, 8: 64, 9: 81}"
      ]
     },
     "execution_count": 130,
     "metadata": {},
     "output_type": "execute_result"
    }
   ],
   "source": [
    "d1"
   ]
  },
  {
   "cell_type": "code",
   "execution_count": 131,
   "id": "6c6c19ee",
   "metadata": {},
   "outputs": [
    {
     "data": {
      "text/plain": [
       "<generator object <genexpr> at 0x000002396D64C430>"
      ]
     },
     "execution_count": 131,
     "metadata": {},
     "output_type": "execute_result"
    }
   ],
   "source": [
    "(i for i in range(10))"
   ]
  },
  {
   "cell_type": "code",
   "execution_count": 132,
   "id": "6df77fdc",
   "metadata": {},
   "outputs": [
    {
     "data": {
      "text/plain": [
       "(0, 1, 2, 3, 4, 5, 6, 7, 8, 9)"
      ]
     },
     "execution_count": 132,
     "metadata": {},
     "output_type": "execute_result"
    }
   ],
   "source": [
    "tuple(i for i in range(10))"
   ]
  },
  {
   "cell_type": "markdown",
   "id": "b09426c1",
   "metadata": {},
   "source": []
  }
 ],
 "metadata": {
  "kernelspec": {
   "display_name": "Python 3 (ipykernel)",
   "language": "python",
   "name": "python3"
  },
  "language_info": {
   "codemirror_mode": {
    "name": "ipython",
    "version": 3
   },
   "file_extension": ".py",
   "mimetype": "text/x-python",
   "name": "python",
   "nbconvert_exporter": "python",
   "pygments_lexer": "ipython3",
   "version": "3.9.13"
  }
 },
 "nbformat": 4,
 "nbformat_minor": 5
}
