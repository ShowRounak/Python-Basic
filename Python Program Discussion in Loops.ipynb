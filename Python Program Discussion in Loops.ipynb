{
 "cells": [
  {
   "cell_type": "code",
   "execution_count": null,
   "id": "679b121a",
   "metadata": {},
   "outputs": [],
   "source": [
    "cart = []\n",
    "\n",
    "while True:\n",
    "    user_input = input(\"What you want to purchase [watch, phone, laptop, shirt]: \").lower()\n",
    "    if user_input:\n",
    "        cart.append(user_input)\n",
    "    else:\n",
    "        break\n",
    " \n",
    "print(f\"Your shopping cart: {cart}\")\n",
    "\n",
    "amazon_website = [(\"watch\", 5000), (\"phone\", 10000), (\"laptop\", 50000), (\"shirt\", 1000)]\n",
    "total = 0\n",
    "\n",
    "for item in amazon_website:\n",
    "    for ele in cart:\n",
    "        if item[0] == ele:\n",
    "            total = total + item[1]\n",
    "            print(f\"After adding {item[0]} which costs: {item[1]}, total amount is: {total}\")\n",
    "\n",
    "print(f\"Your total bill is: {total}\")"
   ]
  },
  {
   "cell_type": "code",
   "execution_count": null,
   "id": "bff67dc7",
   "metadata": {},
   "outputs": [],
   "source": []
  },
  {
   "cell_type": "code",
   "execution_count": null,
   "id": "01e8e054",
   "metadata": {},
   "outputs": [],
   "source": [
    "l = [(10, 20, 40), (40, 50, 60), (70, 80, 90)]\n",
    "\n",
    "B = [i 500 for i in l if i[-1] != 500]\n"
   ]
  },
  {
   "cell_type": "code",
   "execution_count": null,
   "id": "88b0448a",
   "metadata": {},
   "outputs": [],
   "source": [
    "B"
   ]
  },
  {
   "cell_type": "markdown",
   "id": "56003269",
   "metadata": {},
   "source": [
    "--------"
   ]
  },
  {
   "cell_type": "code",
   "execution_count": null,
   "id": "0704f0e3",
   "metadata": {},
   "outputs": [],
   "source": [
    "s = \"Welcome to iNeuron\""
   ]
  },
  {
   "cell_type": "code",
   "execution_count": null,
   "id": "accc985c",
   "metadata": {},
   "outputs": [],
   "source": [
    "for i in range(len(s)-1, -1, -1):\n",
    "    print(s[i], i)"
   ]
  },
  {
   "cell_type": "code",
   "execution_count": null,
   "id": "aa4055f3",
   "metadata": {},
   "outputs": [],
   "source": [
    "for i in range(len(s), -1, -1):\n",
    "    print(i)"
   ]
  },
  {
   "cell_type": "code",
   "execution_count": null,
   "id": "8ca86a7a",
   "metadata": {},
   "outputs": [],
   "source": [
    "for i in range(17, -1, -1):\n",
    "    print(i)"
   ]
  },
  {
   "cell_type": "code",
   "execution_count": null,
   "id": "002370ec",
   "metadata": {},
   "outputs": [],
   "source": [
    "s[::-1]"
   ]
  },
  {
   "cell_type": "code",
   "execution_count": null,
   "id": "914a057e",
   "metadata": {},
   "outputs": [],
   "source": [
    "i = len(s) - 1\n",
    "\n",
    "while i >=0:\n",
    "    print(s[i])\n",
    "    i = i-1"
   ]
  },
  {
   "cell_type": "code",
   "execution_count": null,
   "id": "321f89ef",
   "metadata": {},
   "outputs": [],
   "source": [
    "s = \"ineuron\"\n",
    "v = \"AaEeIiOoUu\"\n",
    "\n",
    "for i in s:\n",
    "    if i in v:\n",
    "        print(f\"{i} is a vowel.\")\n",
    "    else:\n",
    "        print(f\"{i} is not a vowel.\")"
   ]
  },
  {
   "cell_type": "code",
   "execution_count": null,
   "id": "cb037ae7",
   "metadata": {},
   "outputs": [],
   "source": [
    "A = \"madam\"\n",
    "\n",
    "if A == A[::-1]:\n",
    "    print(\"It's a palindrome\")\n",
    "else:\n",
    "    print(\"It's not a palindrome\")"
   ]
  },
  {
   "cell_type": "code",
   "execution_count": null,
   "id": "f2830294",
   "metadata": {},
   "outputs": [],
   "source": [
    "B = \"madam\"\n",
    "\n",
    "for i in range(len(B)):\n",
    "    if B[i] != B[len(B)-i-1]:\n",
    "        print(\"not a palindrome\")\n",
    "        break\n",
    "else:\n",
    "    print(\"it's a palindrome\")\n",
    "        "
   ]
  },
  {
   "cell_type": "code",
   "execution_count": null,
   "id": "c5fbc823",
   "metadata": {},
   "outputs": [],
   "source": [
    "d = {\"india\": \"IN\",\n",
    "    \"canada\": \"CA\",\n",
    "     \"china\": \"CH\",\n",
    "     \"united states\": \"US\"\n",
    "    }"
   ]
  },
  {
   "cell_type": "code",
   "execution_count": null,
   "id": "d8111435",
   "metadata": {},
   "outputs": [],
   "source": [
    "\"india\" in d"
   ]
  },
  {
   "cell_type": "code",
   "execution_count": null,
   "id": "3d0846ab",
   "metadata": {},
   "outputs": [],
   "source": [
    "\"IN\" in d"
   ]
  },
  {
   "cell_type": "code",
   "execution_count": null,
   "id": "bdff36d6",
   "metadata": {},
   "outputs": [],
   "source": [
    "\"IN\" in d.values()"
   ]
  },
  {
   "cell_type": "code",
   "execution_count": null,
   "id": "2456d9b5",
   "metadata": {},
   "outputs": [],
   "source": [
    "d.keys()"
   ]
  },
  {
   "cell_type": "code",
   "execution_count": null,
   "id": "5fd7bb4d",
   "metadata": {},
   "outputs": [],
   "source": [
    "for k in d:\n",
    "    print(k)"
   ]
  },
  {
   "cell_type": "code",
   "execution_count": null,
   "id": "1ea6e794",
   "metadata": {},
   "outputs": [],
   "source": [
    "short = []\n",
    "long = []\n",
    "\n",
    "for k in d:\n",
    "    if len(k)<=5:\n",
    "        short.append(k)\n",
    "    else:\n",
    "        long.append(k)"
   ]
  },
  {
   "cell_type": "code",
   "execution_count": null,
   "id": "ce0730de",
   "metadata": {},
   "outputs": [],
   "source": [
    "print(short)\n",
    "print(long)"
   ]
  },
  {
   "cell_type": "code",
   "execution_count": null,
   "id": "02d335df",
   "metadata": {},
   "outputs": [],
   "source": [
    "def myfun(a):\n",
    "    a = a+2\n",
    "    a = a*2\n",
    "    return a\n",
    "\n",
    "print(myfun(2))"
   ]
  },
  {
   "cell_type": "code",
   "execution_count": null,
   "id": "d979d493",
   "metadata": {},
   "outputs": [],
   "source": [
    "d_1 = {\"ineuron\": {\n",
    "    \"a\" : 14,\n",
    "    \"b\": 10,\n",
    "    \"c\": 4\n",
    "},\n",
    "      \"course\": { \"d\": 45,\n",
    "       \"e\": 34,\n",
    "       \"f\": 1   }\n",
    "             \n",
    "}"
   ]
  },
  {
   "cell_type": "code",
   "execution_count": null,
   "id": "55c3d9b4",
   "metadata": {},
   "outputs": [],
   "source": [
    "for k in d_1.values():\n",
    "    print(k)\n",
    "    for l in k.values():\n",
    "        print(l)"
   ]
  },
  {
   "cell_type": "code",
   "execution_count": null,
   "id": "0b7bb75f",
   "metadata": {},
   "outputs": [],
   "source": [
    "B =[]\n",
    "for k in d_1.values():\n",
    "    for l in k.values():\n",
    "        B.append(l)\n",
    "    print(max(B))"
   ]
  },
  {
   "cell_type": "code",
   "execution_count": 10,
   "id": "2792841a",
   "metadata": {},
   "outputs": [
    {
     "name": "stdout",
     "output_type": "stream",
     "text": [
      "14\n",
      "45\n"
     ]
    }
   ],
   "source": [
    "d_1 = {\"ineuron\": {\n",
    "    \"a\" : 14,\n",
    "    \"b\": 10,\n",
    "    \"c\": 4\n",
    "},\n",
    "      \"course\": { \"d\": 45,\n",
    "       \"e\": 34,\n",
    "       \"f\": 1   }\n",
    "             \n",
    "}\n",
    "\n",
    "for i in d_1.values():\n",
    "    mx= 0\n",
    "    for k in i.values():\n",
    "        if k > mx:\n",
    "            mx= k\n",
    "    print(mx)"
   ]
  },
  {
   "cell_type": "code",
   "execution_count": 11,
   "id": "7d1ed894",
   "metadata": {},
   "outputs": [
    {
     "name": "stdout",
     "output_type": "stream",
     "text": [
      "14\n",
      "45\n"
     ]
    }
   ],
   "source": [
    "for i in d_1.values():\n",
    "    print(max(i.values()))"
   ]
  },
  {
   "cell_type": "code",
   "execution_count": 12,
   "id": "66b78f0d",
   "metadata": {},
   "outputs": [
    {
     "name": "stdout",
     "output_type": "stream",
     "text": [
      "ineuron\n",
      "14\n",
      "course\n",
      "45\n"
     ]
    }
   ],
   "source": [
    "for i in d_1.keys():\n",
    "    print(i)\n",
    "    print(max(d_1[i].values()))"
   ]
  },
  {
   "cell_type": "code",
   "execution_count": 13,
   "id": "a3d265c4",
   "metadata": {},
   "outputs": [],
   "source": [
    "d_1 = {\"ineuron\": {\n",
    "    \"a\" : 14,\n",
    "    \"b\": 10,\n",
    "    \"c\": 4\n",
    "},\n",
    "      \"course\": { \"d\": 45,\n",
    "       \"e\": 34,\n",
    "       \"f\": 1   },\n",
    "       \"g\": 34,\n",
    "       \"h\" : [45,6,7,8,9,3],\n",
    "       \"i\" : (45,34,2),\n",
    "       \"k\" : \"sudh\"\n",
    "             \n",
    "}"
   ]
  },
  {
   "cell_type": "code",
   "execution_count": 14,
   "id": "0f9a8d76",
   "metadata": {},
   "outputs": [
    {
     "data": {
      "text/plain": [
       "{'ineuron': {'a': 14, 'b': 10, 'c': 4},\n",
       " 'course': {'d': 45, 'e': 34, 'f': 1},\n",
       " 'g': 34,\n",
       " 'h': [45, 6, 7, 8, 9, 3],\n",
       " 'i': (45, 34, 2),\n",
       " 'k': 'sudh'}"
      ]
     },
     "execution_count": 14,
     "metadata": {},
     "output_type": "execute_result"
    }
   ],
   "source": [
    "d_1"
   ]
  },
  {
   "cell_type": "code",
   "execution_count": 15,
   "id": "53b0ca0d",
   "metadata": {},
   "outputs": [
    {
     "name": "stdout",
     "output_type": "stream",
     "text": [
      "45\n"
     ]
    }
   ],
   "source": [
    "l1 = []\n",
    "\n",
    "for i in d_1.values():\n",
    "    if type(i) == dict:\n",
    "        l1.append(max(i.values()))\n",
    "    elif type(i) == list:\n",
    "        l1.append(max(i))\n",
    "    elif type(i) == tuple:\n",
    "        l1.append(max(i))\n",
    "    elif type(i) == str:\n",
    "        pass\n",
    "    else:\n",
    "        l1.append(i)\n",
    "print(max(l1))"
   ]
  },
  {
   "cell_type": "code",
   "execution_count": null,
   "id": "e6b79a69",
   "metadata": {},
   "outputs": [],
   "source": []
  }
 ],
 "metadata": {
  "kernelspec": {
   "display_name": "Python 3 (ipykernel)",
   "language": "python",
   "name": "python3"
  },
  "language_info": {
   "codemirror_mode": {
    "name": "ipython",
    "version": 3
   },
   "file_extension": ".py",
   "mimetype": "text/x-python",
   "name": "python",
   "nbconvert_exporter": "python",
   "pygments_lexer": "ipython3",
   "version": "3.9.13"
  }
 },
 "nbformat": 4,
 "nbformat_minor": 5
}
